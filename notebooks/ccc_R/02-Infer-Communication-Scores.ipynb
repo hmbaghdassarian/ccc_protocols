{
 "cells": [
  {
   "cell_type": "markdown",
   "id": "f4ca731c",
   "metadata": {},
   "source": [
    "# Ligand-Receptor Inference\n",
    "\n",
    "As a result of the growing interest in cell-cell communication (CCC) inference, a number of computational tools in single-cell transcriptomics have emerged. Although, there many different categories and approaches to infer CCC events, in this tutorial we will focus on those that infer interactions between ligands and receptors, commonly referred to as ligand-receptor (LR) inference methods (e.g. ([Efremova et al., 2020](https://www.nature.com/articles/s41596-020-0292-x), [Hou et al., 2020](https://www.nature.com/articles/s41467-020-18873-z), [Jin et al., 2021](https://www.nature.com/articles/s41467-021-21246-9), [Raredon et al., 2022](https://www.nature.com/articles/s41598-022-07959-x)). These tools typically rely on gene expression information as a proxy of protein abundance, and they work downstream of data pre-processing and acquisition of biologically-meaningful cell groups. These CCC tools infer intercellular interactions in a hypothesis-free manner, meaning that they infer all possible interactions between cell clusters, relying on prior knowledge of the potential interactions. Here, one group of cells is considered the source of the communication signal, sending a ligand, and the other is the receiver of the signal via its receptors. CCC events are thus represented as interactions between LR pairs, expressed by any combination of source and receiver cell groups.\n",
    "\n",
    "The information about the interacting proteins is commonly extracted from prior knowledge resources. In the case of LR methods, the interactions can also be represented by heteromeric protein complexes ([Efremova et al., 2020](https://www.nature.com/articles/s41596-020-0292-x), [Jin et al., 2021](https://www.nature.com/articles/s41467-021-21246-9), [Noël et al., 2021](https://www.nature.com/articles/s41467-021-21244-x)). \n",
    "\n",
    "Here, we will use LIANA to obtain a consensus score for each LR interaction inferred by the different tools. Further, we will make use of LIANA's consensus resource, which combines a number of expert-curated LR resources."
   ]
  },
  {
   "cell_type": "markdown",
   "id": "a0a316b2",
   "metadata": {},
   "source": [
    "## Environment Setup"
   ]
  },
  {
   "cell_type": "code",
   "execution_count": null,
   "id": "c28005d4",
   "metadata": {
    "vscode": {
     "languageId": "r"
    }
   },
   "outputs": [],
   "source": [
    "library(liana, quietly = TRUE)\n",
    "\n",
    "library(Seurat, quietly = TRUE)\n",
    "\n",
    "library(dplyr, quietly = TRUE)\n",
    "library(reshape2, quietly = TRUE)\n",
    "library(ggplot2, quietly = TRUE)\n",
    "library(tidyr, quietly = TRUE)"
   ]
  },
  {
   "cell_type": "markdown",
   "id": "34acd7f0",
   "metadata": {},
   "source": [
    "## Directories"
   ]
  },
  {
   "cell_type": "code",
   "execution_count": null,
   "id": "930ed7df",
   "metadata": {
    "vscode": {
     "languageId": "r"
    }
   },
   "outputs": [],
   "source": [
    "data.path = '..//..//data'\n",
    "output_folder = file.path(data.path, 'liana-outputs/')"
   ]
  },
  {
   "cell_type": "markdown",
   "id": "06e6b5f0",
   "metadata": {},
   "source": [
    "## Data Reminder"
   ]
  },
  {
   "cell_type": "markdown",
   "id": "6fc99856",
   "metadata": {},
   "source": [
    "Here, we will re-load the processed data as processed in Tutorial 01.\n",
    "\n",
    "**Change this to reading directly from Seurat once tutorial 01 in R is fully completed**"
   ]
  },
  {
   "cell_type": "code",
   "execution_count": 3,
   "id": "22133dfd",
   "metadata": {
    "vscode": {
     "languageId": "r"
    }
   },
   "outputs": [],
   "source": [
    "covid_data <- readRDS(file.path(data.path, 'covid_balf_norm.rds'))"
   ]
  },
  {
   "cell_type": "markdown",
   "id": "5385ef4e",
   "metadata": {},
   "source": [
    "just as a quick reminder, let's visualize the cell types and samples in the data."
   ]
  },
  {
   "cell_type": "code",
   "execution_count": 4,
   "id": "9451befc",
   "metadata": {
    "vscode": {
     "languageId": "r"
    }
   },
   "outputs": [
    {
     "data": {
      "text/html": [
       "<table class=\"dataframe\">\n",
       "<caption>A data.frame: 6 × 12</caption>\n",
       "<thead>\n",
       "\t<tr><th></th><th scope=col>orig.ident</th><th scope=col>nCount_RNA</th><th scope=col>nFeature_RNA</th><th scope=col>sample</th><th scope=col>sample_new</th><th scope=col>group</th><th scope=col>disease</th><th scope=col>hasnCoV</th><th scope=col>cluster</th><th scope=col>celltype</th><th scope=col>condition</th><th scope=col>percent.mt</th></tr>\n",
       "\t<tr><th></th><th scope=col>&lt;fct&gt;</th><th scope=col>&lt;dbl&gt;</th><th scope=col>&lt;int&gt;</th><th scope=col>&lt;fct&gt;</th><th scope=col>&lt;fct&gt;</th><th scope=col>&lt;fct&gt;</th><th scope=col>&lt;fct&gt;</th><th scope=col>&lt;fct&gt;</th><th scope=col>&lt;dbl&gt;</th><th scope=col>&lt;fct&gt;</th><th scope=col>&lt;fct&gt;</th><th scope=col>&lt;dbl&gt;</th></tr>\n",
       "</thead>\n",
       "<tbody>\n",
       "\t<tr><th scope=row>AAACCCACAGCTACAT_3</th><td>balf.covid</td><td> 3123</td><td>1376</td><td>C100</td><td>HC3</td><td>HC</td><td>N</td><td>N</td><td>27</td><td>B          </td><td>Control</td><td>9.1898815</td></tr>\n",
       "\t<tr><th scope=row>AAACCCATCCACGGGT_3</th><td>balf.covid</td><td> 1429</td><td> 835</td><td>C100</td><td>HC3</td><td>HC</td><td>N</td><td>N</td><td>23</td><td>Macrophages</td><td>Control</td><td>0.9097271</td></tr>\n",
       "\t<tr><th scope=row>AAACCCATCCCATTCG_3</th><td>balf.covid</td><td> 2342</td><td>1105</td><td>C100</td><td>HC3</td><td>HC</td><td>N</td><td>N</td><td> 6</td><td>T          </td><td>Control</td><td>6.3193851</td></tr>\n",
       "\t<tr><th scope=row>AAACGAACAAACAGGC_3</th><td>balf.covid</td><td>31378</td><td>4530</td><td>C100</td><td>HC3</td><td>HC</td><td>N</td><td>N</td><td>10</td><td>Macrophages</td><td>Control</td><td>9.9815157</td></tr>\n",
       "\t<tr><th scope=row>AAACGAAGTCGCACAC_3</th><td>balf.covid</td><td>12767</td><td>3409</td><td>C100</td><td>HC3</td><td>HC</td><td>N</td><td>N</td><td>10</td><td>Macrophages</td><td>Control</td><td>5.1617451</td></tr>\n",
       "\t<tr><th scope=row>AAACGAAGTCTATGAC_3</th><td>balf.covid</td><td> 2198</td><td>1094</td><td>C100</td><td>HC3</td><td>HC</td><td>N</td><td>N</td><td> 9</td><td>T          </td><td>Control</td><td>8.8717015</td></tr>\n",
       "</tbody>\n",
       "</table>\n"
      ],
      "text/latex": [
       "A data.frame: 6 × 12\n",
       "\\begin{tabular}{r|llllllllllll}\n",
       "  & orig.ident & nCount\\_RNA & nFeature\\_RNA & sample & sample\\_new & group & disease & hasnCoV & cluster & celltype & condition & percent.mt\\\\\n",
       "  & <fct> & <dbl> & <int> & <fct> & <fct> & <fct> & <fct> & <fct> & <dbl> & <fct> & <fct> & <dbl>\\\\\n",
       "\\hline\n",
       "\tAAACCCACAGCTACAT\\_3 & balf.covid &  3123 & 1376 & C100 & HC3 & HC & N & N & 27 & B           & Control & 9.1898815\\\\\n",
       "\tAAACCCATCCACGGGT\\_3 & balf.covid &  1429 &  835 & C100 & HC3 & HC & N & N & 23 & Macrophages & Control & 0.9097271\\\\\n",
       "\tAAACCCATCCCATTCG\\_3 & balf.covid &  2342 & 1105 & C100 & HC3 & HC & N & N &  6 & T           & Control & 6.3193851\\\\\n",
       "\tAAACGAACAAACAGGC\\_3 & balf.covid & 31378 & 4530 & C100 & HC3 & HC & N & N & 10 & Macrophages & Control & 9.9815157\\\\\n",
       "\tAAACGAAGTCGCACAC\\_3 & balf.covid & 12767 & 3409 & C100 & HC3 & HC & N & N & 10 & Macrophages & Control & 5.1617451\\\\\n",
       "\tAAACGAAGTCTATGAC\\_3 & balf.covid &  2198 & 1094 & C100 & HC3 & HC & N & N &  9 & T           & Control & 8.8717015\\\\\n",
       "\\end{tabular}\n"
      ],
      "text/markdown": [
       "\n",
       "A data.frame: 6 × 12\n",
       "\n",
       "| <!--/--> | orig.ident &lt;fct&gt; | nCount_RNA &lt;dbl&gt; | nFeature_RNA &lt;int&gt; | sample &lt;fct&gt; | sample_new &lt;fct&gt; | group &lt;fct&gt; | disease &lt;fct&gt; | hasnCoV &lt;fct&gt; | cluster &lt;dbl&gt; | celltype &lt;fct&gt; | condition &lt;fct&gt; | percent.mt &lt;dbl&gt; |\n",
       "|---|---|---|---|---|---|---|---|---|---|---|---|---|\n",
       "| AAACCCACAGCTACAT_3 | balf.covid |  3123 | 1376 | C100 | HC3 | HC | N | N | 27 | B           | Control | 9.1898815 |\n",
       "| AAACCCATCCACGGGT_3 | balf.covid |  1429 |  835 | C100 | HC3 | HC | N | N | 23 | Macrophages | Control | 0.9097271 |\n",
       "| AAACCCATCCCATTCG_3 | balf.covid |  2342 | 1105 | C100 | HC3 | HC | N | N |  6 | T           | Control | 6.3193851 |\n",
       "| AAACGAACAAACAGGC_3 | balf.covid | 31378 | 4530 | C100 | HC3 | HC | N | N | 10 | Macrophages | Control | 9.9815157 |\n",
       "| AAACGAAGTCGCACAC_3 | balf.covid | 12767 | 3409 | C100 | HC3 | HC | N | N | 10 | Macrophages | Control | 5.1617451 |\n",
       "| AAACGAAGTCTATGAC_3 | balf.covid |  2198 | 1094 | C100 | HC3 | HC | N | N |  9 | T           | Control | 8.8717015 |\n",
       "\n"
      ],
      "text/plain": [
       "                   orig.ident nCount_RNA nFeature_RNA sample sample_new group\n",
       "AAACCCACAGCTACAT_3 balf.covid  3123      1376         C100   HC3        HC   \n",
       "AAACCCATCCACGGGT_3 balf.covid  1429       835         C100   HC3        HC   \n",
       "AAACCCATCCCATTCG_3 balf.covid  2342      1105         C100   HC3        HC   \n",
       "AAACGAACAAACAGGC_3 balf.covid 31378      4530         C100   HC3        HC   \n",
       "AAACGAAGTCGCACAC_3 balf.covid 12767      3409         C100   HC3        HC   \n",
       "AAACGAAGTCTATGAC_3 balf.covid  2198      1094         C100   HC3        HC   \n",
       "                   disease hasnCoV cluster celltype    condition percent.mt\n",
       "AAACCCACAGCTACAT_3 N       N       27      B           Control   9.1898815 \n",
       "AAACCCATCCACGGGT_3 N       N       23      Macrophages Control   0.9097271 \n",
       "AAACCCATCCCATTCG_3 N       N        6      T           Control   6.3193851 \n",
       "AAACGAACAAACAGGC_3 N       N       10      Macrophages Control   9.9815157 \n",
       "AAACGAAGTCGCACAC_3 N       N       10      Macrophages Control   5.1617451 \n",
       "AAACGAAGTCTATGAC_3 N       N        9      T           Control   8.8717015 "
      ]
     },
     "metadata": {},
     "output_type": "display_data"
    }
   ],
   "source": [
    "head(covid_data@meta.data)"
   ]
  },
  {
   "cell_type": "code",
   "execution_count": null,
   "id": "601c16a0",
   "metadata": {
    "vscode": {
     "languageId": "r"
    }
   },
   "outputs": [],
   "source": [
    "# plot pre-annotated cell types\n",
    "h_ = 5\n",
    "w_ = 14\n",
    "options(repr.plot.height=h_, repr.plot.width=w_)\n",
    "\n",
    "Idents(covid_data)<-'celltype'\n",
    "plot1<-DimPlot(covid_data, reduction = \"umap\", group.by = 'cell.type')\n",
    "plot2<-DimPlot(covid_data, reduction = \"umap\", group.by = 'sample_new')\n",
    "\n",
    "plot1 + plot2"
   ]
  },
  {
   "cell_type": "markdown",
   "id": "29d1c41c",
   "metadata": {},
   "source": [
    "## Predicting CCC events with LIANA\n"
   ]
  },
  {
   "cell_type": "markdown",
   "id": "74a30525",
   "metadata": {},
   "source": [
    "<img src=\"https://github.com/saezlab/liana/blob/master/vignettes/ligrec_pipe.png?raw=true\" width=\"900\"/>"
   ]
  },
  {
   "cell_type": "markdown",
   "id": "4d541bcf",
   "metadata": {},
   "source": [
    "\n",
    "Now that we have the preprocessed data loaded, we will use liana to score the interactions inferred by the different tools.\n",
    "\n",
    "`liana` is highly modularized and it implements a number of methods to score LR interactions, we can list those with the following command: "
   ]
  },
  {
   "cell_type": "code",
   "execution_count": 5,
   "id": "04020101",
   "metadata": {
    "vscode": {
     "languageId": "r"
    }
   },
   "outputs": [
    {
     "data": {
      "text/html": [
       "<style>\n",
       ".list-inline {list-style: none; margin:0; padding: 0}\n",
       ".list-inline>li {display: inline-block}\n",
       ".list-inline>li:not(:last-child)::after {content: \"\\00b7\"; padding: 0 .5ex}\n",
       "</style>\n",
       "<ol class=list-inline><li>'connectome'</li><li>'logfc'</li><li>'natmi'</li><li>'sca'</li><li>'cellphonedb'</li><li>'cytotalk'</li><li>'call_squidpy'</li><li>'call_cellchat'</li><li>'call_connectome'</li><li>'call_sca'</li><li>'call_italk'</li><li>'call_natmi'</li></ol>\n"
      ],
      "text/latex": [
       "\\begin{enumerate*}\n",
       "\\item 'connectome'\n",
       "\\item 'logfc'\n",
       "\\item 'natmi'\n",
       "\\item 'sca'\n",
       "\\item 'cellphonedb'\n",
       "\\item 'cytotalk'\n",
       "\\item 'call\\_squidpy'\n",
       "\\item 'call\\_cellchat'\n",
       "\\item 'call\\_connectome'\n",
       "\\item 'call\\_sca'\n",
       "\\item 'call\\_italk'\n",
       "\\item 'call\\_natmi'\n",
       "\\end{enumerate*}\n"
      ],
      "text/markdown": [
       "1. 'connectome'\n",
       "2. 'logfc'\n",
       "3. 'natmi'\n",
       "4. 'sca'\n",
       "5. 'cellphonedb'\n",
       "6. 'cytotalk'\n",
       "7. 'call_squidpy'\n",
       "8. 'call_cellchat'\n",
       "9. 'call_connectome'\n",
       "10. 'call_sca'\n",
       "11. 'call_italk'\n",
       "12. 'call_natmi'\n",
       "\n",
       "\n"
      ],
      "text/plain": [
       " [1] \"connectome\"      \"logfc\"           \"natmi\"           \"sca\"            \n",
       " [5] \"cellphonedb\"     \"cytotalk\"        \"call_squidpy\"    \"call_cellchat\"  \n",
       " [9] \"call_connectome\" \"call_sca\"        \"call_italk\"      \"call_natmi\"     "
      ]
     },
     "metadata": {},
     "output_type": "display_data"
    }
   ],
   "source": [
    "liana::show_methods()"
   ]
  },
  {
   "cell_type": "markdown",
   "id": "ae5d28fc",
   "metadata": {},
   "source": [
    "liana classifies interaction scores into two categories: those that infer the **Magnitude** and **Specificity** of interactions. The **Magnitude** of an interactions is a measure of the strength of the interaction's expression, and the **Specificity** of an interaction is a measure of how specific is an interaction to a given pair of clusters. Generally, these categories are complementary, and the magnitude of the interaction is a proxy of the specificity of the interaction. For example, a ligand-receptor interaction with a high magnitude score is likely to be specific, and vice versa. "
   ]
  },
  {
   "cell_type": "markdown",
   "id": "0ba4b3fc",
   "metadata": {},
   "source": [
    "## Scoring Functions\n",
    "\n",
    "We will now describe the mathematical formulation of the magnitude and specificity scores we will use in this tutorial:\n",
    "\n",
    "### Shared Notations\n",
    "\n",
    "\n",
    "`k` is the k-th ligand-receptor interaction \n",
    "\n",
    "`L` - expression of ligand L\n",
    "\n",
    "`R` - expression of receptor R\n",
    "\n",
    "`C` - cell cluster\n",
    "\n",
    "`i` - cell group i\n",
    "\n",
    "`j` - cell group j\n",
    "\n",
    "`M` - the library-size normalized and log1p-transformed gene expression matrix\n",
    "\n",
    "`X` - normalized gene expression vector\n",
    "\n",
    "\n",
    "### CellPhoneDBv2\n",
    "**Magnitude**: $$ LRmean_{k,i,j} = \\frac{L_{C_{i}} + R_{C_{j}}}{2}$$\n",
    "\n",
    "**Specificity**: CellPhoneDBv2 introduced a **permutation approach** also adapted by other methods, see permutation formulation below.\n",
    "\n",
    "\n",
    "**Specificity**: CellPhoneDBv2 introduced a **permutation approach** also adapted by other methods, see permutation formulation below.\n",
    "\n",
    "\n",
    "\n",
    "### Geometric Mean\n",
    "**Magnitude**: $$ LRgeometric.mean_{k,i,j} = \\sqrt{L_{C_{i}} \\cdot R_{C_{j}}}$$\n",
    "\n",
    "**Specificity**:\n",
    "An adaptation of CellPhoneDBv2's permutation approach.\n",
    "\n",
    "\n",
    "### CellChat (a resource-agnostic adaptation)\n",
    "\n",
    "**Magnitude**:\n",
    "\n",
    "$$ LRprob_{k,i,j} = \\frac{TriMean(L_{C_{i}}) \\cdot\n",
    "\n",
    "TriMean(R_{C_{j}})}{Kh + TriMean(L_{C_{i}}) \\cdot\n",
    "\n",
    "TriMean(R_{C_{j}})} $$\n",
    "\n",
    "where Kh = 0.5 by default and `TriMean` represents Tuckey's Trimean function:\n",
    "\n",
    "$$TriMean(X) = \\frac{Q_{0.25}(X) + 2 \\cdot Q_{0.5}(X) + Q_{0.75}(X)}{4}$$\n",
    "\n",
    "Note that the original CellChat implementation also uses information of mediator proteins, which is specific to the CellChat resource.\n",
    "Since we can use any resource with liana, by default liana's consensus resource, we will not use this information, and hence the implementation of CellChat's `LR_probability` in LIANA was simplified to be resource-agnostic.\n",
    "\n",
    "**Specificity**:\n",
    "An adaptation of CellPhoneDBv2's permutation approach.\n",
    "\n",
    "\n",
    "\n",
    "##### The specificity scores of these three method is calculated as follows:\n",
    "\n",
    "$$p\\text{-value}_{k,i,j} = \\frac{1}{P} \\sum_{p=1}^{P} [fun_{permuted}(L^*_{C_{i}}, R^*_{C_{j}}) \\geq fun_{observed}(L^*_{C_{i}}, R^*_{C_{j}})]$$\n",
    "\n",
    "where `P` is the number of permutations, and `L*` and `R*` are ligand and receptor expression summarized according by each method, i.e. `arithmetic mean` for CellPhoneDB and Geometric Mean, and `TriMean` for CellChat.\n",
    "\n",
    "\n",
    "### SingleCellSignalR\n",
    "\n",
    "**Magnitude**:\n",
    "\n",
    "$$LRscore_{k,i,j} = \\frac{\\sqrt{L_{C_{i}} R_{C_{j}}}}{\\sqrt{L_{C_{i}} R_{C_{j}}} + \\mu}$$\n",
    "\n",
    "where `mu` is the mean of the expression matrix `M`\n",
    "\n",
    "\n",
    "### NATMI\n",
    "\n",
    "**Magnitude**: $$LRproduct_{k,i,j} = L_{C_{i}} R_{C_{j}}$$\n",
    "\n",
    "**Specificity**: $$SpecificityWeight_{k,i,j} = \\frac{L_{C_{i}}}{\\sum^{n} L_{C_{i}}} \\cdot \\frac{R_{C_{j}}}{\\sum^{n} R_{C_{j}}}$$\n",
    "\n",
    "\n",
    "### Connectome\n",
    "\n",
    "**Magnitude**: $$LRproduct_{k,i,j} = L_{C_{i}} R_{C_{j}}$$\n",
    "\n",
    "**Specificity**:  $$ LRz.mean_{k,i,j} = \\frac{z_{L_{C_{i}}} + z_{R_{C_{j}}}}{2} $$\n",
    "\n",
    "where `z` is the z-score of the expression matrix `M`:\n",
    "\n",
    "$$ X_{z} = (X - mean(X)) / std(X) $$\n",
    "\n",
    "\n",
    "### log2FC\n",
    "\n",
    "**Specificity**: $$ LRlog2FC_{k,i,j} = \\frac{\\text{Log2FC}_{C_i,L} + \\text{Log2FC}_{C_j,R}}{2} $$\n",
    "\n",
    "\n",
    "where log2FC for each gene is calculated as: $$ log2FC = \\log_2\\left(\\text{mean}(X_i)\\right) - \\log_2\\left(\\text{mean}(X_{\\text{not}_i})\\right) $$\n",
    "\n",
    "\n",
    "\n",
    "What the above equations show is that there are many commonalities between the different methods, yet there are also many variations in the way the magnitude and specificity scores are calculated. \n",
    "\n",
    "$$ I \\left\\{ L_{C_j}^{expr.prop} \\geq 0.1 \\text{ and } R_{C_j}^{expr.prop} \\geq 0.1 \\right\\} $$\n",
    "\n",
    "where liana considers interactions as occurring only if the ligand and receptor, and **all** of their subunits, are expressed by default in at least 0.1 of the cells (`>= expr_prop`) in cell clusters `i`, `j`.\n",
    "Any interactions that don't pass these criteria are not returned by default, to return them the user can check the `return_all_lrs` parameter."
   ]
  },
  {
   "cell_type": "markdown",
   "id": "a5b128bd",
   "metadata": {},
   "source": [
    "### Score Distributions"
   ]
  },
  {
   "cell_type": "code",
   "execution_count": null,
   "id": "64a48c4e",
   "metadata": {
    "vscode": {
     "languageId": "r"
    }
   },
   "outputs": [],
   "source": [
    "# pick a sample to infer the communication scores for\n",
    "sdata = subset(x = covid_data, subset = sample == 'C100')\n",
    "sdata"
   ]
  },
  {
   "cell_type": "markdown",
   "id": "78b2d3bc",
   "metadata": {},
   "source": [
    "While LIANA can work with Seurat objects, it has more functionality with SingleCellExperiment objects. We can easily convert a Seurat object to a SingleCellObject:"
   ]
  },
  {
   "cell_type": "code",
   "execution_count": null,
   "id": "08ef6e89",
   "metadata": {
    "vscode": {
     "languageId": "r"
    }
   },
   "outputs": [],
   "source": [
    "sdata <- Seurat::as.SingleCellExperiment(sdata)\n",
    "sdata"
   ]
  },
  {
   "attachments": {},
   "cell_type": "markdown",
   "id": "73592534",
   "metadata": {},
   "source": [
    "The parameters that we will use are the following:\n",
    "- `idents_col` is the column in the `meta` dataframe that contains the cell groups\n",
    "- `assay` is a string that indicates which Seurat assay to use (typically `RNA`, unless having done a batch correction step)\n",
    "- `assay.type` is a string that indicates whether to use the raw (`counts`) or log- and library-normalized (`logcounts`) counts attribute of the Seurat object assay. Since most CCC tools expect library- and log-normalized data, we will use that. \n",
    "- `expr_prop` is the proportion of cells that need to express a ligand-receptor pair for it to be considered as a ligand-receptor pair\n",
    "- `min_cells` is the minimum number of cells per cell type required for a cell type to be considered in the analysis\n",
    "- `verbose` is a boolean that indicates whether to print the progress of the function\n",
    "\n",
    "(Other parameters are described in the documentation of the function, as well as in more detail below)"
   ]
  },
  {
   "cell_type": "code",
   "execution_count": null,
   "id": "f750e19d",
   "metadata": {
    "vscode": {
     "languageId": "r"
    }
   },
   "outputs": [],
   "source": [
    "liana_res <- liana_wrap(sce = sdata, idents_col='celltype', assay.type = 'logcounts', min_cells=5,                      \n",
    "                        expr_prop=0.1, verbose=TRUE # , parallelize = TRUE, workers = 30 # not everyone would have 30 workers :)\n",
    "                      )"
   ]
  },
  {
   "cell_type": "markdown",
   "id": "305699b0",
   "metadata": {},
   "source": [
    "liana returns a list of results, each element of which corresponds to a method"
   ]
  },
  {
   "cell_type": "code",
   "execution_count": 6,
   "id": "574e601d",
   "metadata": {
    "vscode": {
     "languageId": "r"
    }
   },
   "outputs": [
    {
     "ename": "ERROR",
     "evalue": "Error in dplyr::glimpse(.): object 'liana_res' not found\n",
     "output_type": "error",
     "traceback": [
      "Error in dplyr::glimpse(.): object 'liana_res' not found\nTraceback:\n",
      "1. liana_res %>% dplyr::glimpse()",
      "2. dplyr::glimpse(.)"
     ]
    }
   ],
   "source": [
    "liana_res %>% dplyr::glimpse()"
   ]
  },
  {
   "cell_type": "markdown",
   "id": "e07cd95a",
   "metadata": {},
   "source": [
    "### LIANA's Rank Aggregate\n",
    "\n",
    "LIANA can calculate an aggregate rank for both `magnitude` and `specificity` as defined above. The `rank_aggregate` function of liana uses a re-implementation of the RobustRankAggregate method by [Kolde et al., 2012](https://pubmed.ncbi.nlm.nih.gov/22247279/), and generates a probability distribution for ligand-receptors that are ranked consistently better than expected under a null hypothesis. It thus provides a consensus of the rank of the ligand-receptor interactions across methods, that can also be treated as a p-value.\n",
    "\n",
    "In more detail, a rank aggregate is calculated for the `magnitude` and `specificity` scores from the methods in LIANA as follows:\n",
    "\n",
    "First, a normalized rank matrix[0,1] is generated separately for magnitude and specificity as: $$ r_{i,j} = \\frac{rank_{i,j}}{\\max(rank_i)} \\quad (1 \\leq i \\leq m, 1 \\leq j \\leq n) $$\n",
    "\n",
    "\n",
    "where `m` is the number of score rank vectors, `n` is the length of each score vector (number of interactions), **rank<sub>i,j</sub>** is the rank of the `j-th` element (interaction) in the `i-th` score rank vector, and **max(rank<sub>i</sub>)** is the maximum rank in the `i-th` rank vector.\n",
    "\n",
    "For each normalized rank vector `r`, we then ask how probable is it to obtain **r<sup>null</sup><sub>(k)</sub> <= r<sub>(k)</sub>**, where **r<sup>null</sup><sub>(k)</sub>** is a rank vector generated under the null hypothesis. The RobustRankAggregate method expresses [Kolde et al., 2012](https://pubmed.ncbi.nlm.nih.gov/22247279/) the probability **r<sup>null</sup><sub>(k)</sub> <= r<sub>(k)</sub>** as **β<sub>k,n</sub>(r)**, through a beta distribution. \n",
    "This entails that we obtain probabilities for each score vector `r` as: $$ p(r) = \\underset{1, ..., n}{min} \\beta_k,_n(r) * n $$\n",
    "\n",
    "\n",
    "\n",
    "where we take the minimum probability `ρ` for each interaction across the score vectors, and we apply a Bonferroni correction to the p-values by multiplying them by `n` to account for multiple testing.\n",
    "\n",
    "Aggregate scores are also non-negative, which is beneficial for decomposition with Tensor-cell2cell."
   ]
  },
  {
   "cell_type": "markdown",
   "id": "221d77e5",
   "metadata": {},
   "source": [
    "Calculate both the magnitude and specificity consensus rank scores:"
   ]
  },
  {
   "cell_type": "code",
   "execution_count": null,
   "id": "611a1423",
   "metadata": {
    "vscode": {
     "languageId": "r"
    }
   },
   "outputs": [],
   "source": [
    "liana_agg <- rank_aggregate(liana_res = liana_res)"
   ]
  },
  {
   "cell_type": "markdown",
   "id": "75fa2dd1",
   "metadata": {},
   "source": [
    "Here, for each scoring type of specificity and magnitude, we can see the different scores for each method as well as the consensus scores. Consensus scores are delineated by the `specificity_rank` and `magnitude_rank` columns."
   ]
  },
  {
   "cell_type": "code",
   "execution_count": null,
   "id": "a16444d5",
   "metadata": {
    "vscode": {
     "languageId": "r"
    }
   },
   "outputs": [],
   "source": [
    "head(liana_agg)"
   ]
  },
  {
   "cell_type": "code",
   "execution_count": null,
   "id": "1cd7ff47",
   "metadata": {
    "vscode": {
     "languageId": "r"
    }
   },
   "outputs": [],
   "source": [
    "# Pivot to a long format\n",
    "scores_long <- liana_agg %>%\n",
    "    pivot_longer(cols = -c('source', 'target', 'ligand.complex', 'receptor.complex'),\n",
    "    names_to = 'score', values_to = 'value')"
   ]
  },
  {
   "cell_type": "code",
   "execution_count": null,
   "id": "6f2c8a38",
   "metadata": {
    "vscode": {
     "languageId": "r"
    }
   },
   "outputs": [],
   "source": [
    "head(scores_long)"
   ]
  },
  {
   "cell_type": "markdown",
   "id": "55ffe439",
   "metadata": {},
   "source": [
    "For clarity, here we map each output score (column names in the above dataframe) to the scoring method and scoring type:\n",
    "\n",
    "| Method Name | Magnitude Score | Specificity Score |\n",
    "| :- | -: | :-: |\n",
    "| CellPhoneDB | lr.mean | cellphonedb.pvalue\n",
    "| Connectome | prod_weight | weight_sc\n",
    "| log2FC | None | logfc_comb\n",
    "| NATMI | prod_weight | edge_specificity\n",
    "| SingleCellSignalR (sca) | LRscore | None"
   ]
  },
  {
   "cell_type": "markdown",
   "id": "0802098c",
   "metadata": {},
   "source": [
    "### Score Distributions"
   ]
  },
  {
   "cell_type": "markdown",
   "id": "d096c3e0",
   "metadata": {},
   "source": [
    "To provide a better illustration of the different scores, we will now plot the distribution of scores for each of the methods."
   ]
  },
  {
   "cell_type": "code",
   "execution_count": null,
   "id": "c00cce55",
   "metadata": {
    "vscode": {
     "languageId": "r"
    }
   },
   "outputs": [],
   "source": [
    "h_ = 7\n",
    "w_ = 14\n",
    "options(repr.plot.height=h_, repr.plot.width=w_)\n",
    "\n",
    "# keep only method scores\n",
    "scores_long <- scores_long %>% filter(!stringr::str_detect(score, \"_rank\"))\n",
    "\n",
    "ggplot(scores_long, aes(x = value, fill = score)) +\n",
    "    geom_density(alpha = 0.5) + \n",
    "    facet_wrap('~score', scales='free', ncol = 4) +\n",
    "    theme_bw()"
   ]
  },
  {
   "cell_type": "markdown",
   "id": "e7037031",
   "metadata": {},
   "source": [
    "This show the extent to which  each of the scoring functions differ from each other. Unsurprisingly, independent evaluations have shown that the choice of method and/or resource leads to limited consensus in inferred predictions when using different tools ([Dimitrov et al., 2022](https://www.nature.com/articles/s41467-022-30755-0), [Liu et al., 2022](https://genomebiology.biomedcentral.com/articles/10.1186/s13059-022-02783-y), [Wang et al., 2022](https://academic.oup.com/bfg/article/21/5/339/6640320)). This is why we have implemented a consensus score that is a rank aggregate of the scores obtained by the different methods, and for the sake of these tutorials we will use this consensus score to rank the interactions, specifically the one that aggregates the magnitude scores from different functions. Aggregate scores are also non-negative, which is beneficial for decomposition with Tensor-cell2cell."
   ]
  },
  {
   "attachments": {},
   "cell_type": "markdown",
   "id": "3426cd86",
   "metadata": {},
   "source": [
    "### Single-Sample Dotplot\n",
    "\n",
    "Let's generate a basic dotplot with the most highly-ranked ligand-receptor interactions for this sample from LIANA's aggregate scores. "
   ]
  },
  {
   "cell_type": "code",
   "execution_count": null,
   "id": "f4af9804",
   "metadata": {
    "vscode": {
     "languageId": "r"
    }
   },
   "outputs": [],
   "source": [
    "liana_agg_int <- liana_agg %>%\n",
    "  # only keep interactions with p-val <= 0.05\n",
    "  filter(specificity_rank <= 0.05) %>% \n",
    "  distinct_at(c(\"ligand.complex\", \"receptor.complex\")) "
   ]
  },
  {
   "cell_type": "code",
   "execution_count": null,
   "id": "52a3e7b2",
   "metadata": {
    "vscode": {
     "languageId": "r"
    }
   },
   "outputs": [],
   "source": [
    "\n",
    "# keep only those interactions that are significant in at least one cell pair, and rank to magnitude\n",
    "liana_agg <- liana_agg %>%\n",
    "  # keep only the interactions of interest\n",
    "  inner_join(liana_agg_int, \n",
    "             by = c(\"ligand.complex\", \"receptor.complex\")) %>%\n",
    "  # then rank according to `magnitude`\n",
    "  arrange(magnitude_rank)"
   ]
  },
  {
   "cell_type": "markdown",
   "id": "97663db3",
   "metadata": {},
   "source": [
    "Since both lower specificity and lower magnitude consensus rank scores have higher communication importance, we set the invert parameters to TRUE:"
   ]
  },
  {
   "cell_type": "code",
   "execution_count": null,
   "id": "c2f8d3a0",
   "metadata": {
    "vscode": {
     "languageId": "r"
    }
   },
   "outputs": [],
   "source": [
    "h_ = 10\n",
    "w_ = 17\n",
    "options(repr.plot.height=h_, repr.plot.width=w_)\n",
    "\n",
    "liana_dotplot(\n",
    "  liana_agg,\n",
    "  source_groups = c('B', 'Macrophages', 'pDC'),\n",
    "  target_groups = c('Mast', 'NK', 'T', 'pDC'),\n",
    "  ntop = 20,\n",
    "  specificity = \"specificity_rank\",\n",
    "  magnitude = \"magnitude_rank\",\n",
    "  invert_magnitude = TRUE, \n",
    "  invert_specificity = TRUE\n",
    ")"
   ]
  },
  {
   "cell_type": "markdown",
   "id": "1aaa08fb",
   "metadata": {},
   "source": [
    "Great! We have now obtained ligand-receptor predictions for a single sample. What we see here is that interactions are predicted across cell types and are typically specific to pairs of cell types.\n",
    "\n",
    "Note that missing dots here would represent interactions for which the ligand and receptor are not expressed above the `expr_prop`."
   ]
  },
  {
   "cell_type": "markdown",
   "id": "42f43f2f",
   "metadata": {},
   "source": [
    "## Run LIANA by Sample"
   ]
  },
  {
   "cell_type": "markdown",
   "id": "534008b7",
   "metadata": {},
   "source": [
    "Now that we have familiarized ourselves with how ligand-receptor methods in LIANA work and how the results look by sample, let's run LIANA on all of the samples in the dataset. These results will be used to generate a tensor of ligand-receptor interactions across contexts that will be decomposed into CCC patterns by `Tensor-Cell2cell`.\n",
    "\n",
    "This is easily done with liana with the `liana_bysample` function. This function takes the same inputs was `liana_wrap`, but it will also iterate across samples as specified in the metadata. It also automatically aggregates the scores by specifying `aggregate_how`.\n",
    "\n",
    "We relax the `expr_prop` parameter to have more consistent presence of LR interactions across contexts. See further discussions on the `how` parameter in Tutorial 03. \n",
    "\n",
    "Results are stored in the SCE object as `sce@metadata$liana_res`"
   ]
  },
  {
   "cell_type": "code",
   "execution_count": null,
   "id": "5c3ea1a5",
   "metadata": {
    "scrolled": true,
    "vscode": {
     "languageId": "r"
    }
   },
   "outputs": [],
   "source": [
    "covid_data <- Seurat::as.SingleCellExperiment(covid_data)"
   ]
  },
  {
   "cell_type": "code",
   "execution_count": null,
   "id": "da9b0264",
   "metadata": {
    "vscode": {
     "languageId": "r"
    }
   },
   "outputs": [],
   "source": [
    "covid_data <- liana_bysample(sce = covid_data,\n",
    "                      sample_col = \"sample_new\", # context dimension column from SCE metadata\n",
    "                      idents_col = \"celltype\", # cell types column from SCE metadata\n",
    "                      expr_prop = 0.1, \n",
    "                      assay.type = 'logcounts',\n",
    "                      aggregate_how = 'both',\n",
    "                      verbose = TRUE,\n",
    "                      permutation.params=list(nperm=3)\n",
    "                      # parallelize = TRUE, workers = 30\n",
    "                      )"
   ]
  },
  {
   "cell_type": "markdown",
   "id": "4be115d7",
   "metadata": {},
   "source": [
    "### Check the results\n",
    "\n",
    "Here, we can combine the results and see that they look very similar as before with the exception that we have an additional column for the sample name, and the results are now by sample."
   ]
  },
  {
   "cell_type": "code",
   "execution_count": null,
   "id": "06298f8f",
   "metadata": {
    "vscode": {
     "languageId": "r"
    }
   },
   "outputs": [],
   "source": [
    "liana_res <- covid_data@metadata$liana_res %>% \n",
    "            bind_rows(.id = \"sample_new\")"
   ]
  },
  {
   "cell_type": "markdown",
   "id": "0acddac8",
   "metadata": {},
   "source": [
    "We can also generate a DotPlot for each sample.\n",
    "Let's pick the first two distinct interaction in the list, and see what they look like."
   ]
  },
  {
   "cell_type": "code",
   "execution_count": null,
   "id": "86c9cf4b",
   "metadata": {
    "vscode": {
     "languageId": "r"
    }
   },
   "outputs": [],
   "source": [
    "ligand_complex <- 'B2M'\n",
    "receptor_complex <- c('CD3D', 'KLRD1')\n",
    "source_labels <- c(\"B\", \"pDC\", \"Macrophages\")\n",
    "target_labels <- c(\"T\", \"Mast\", \"pDC\", \"NK\")\n",
    "sample_key <- 'sample_new'\n",
    "colour <- 'magnitude_rank'\n",
    "size <- \"specificity_rank\""
   ]
  },
  {
   "attachments": {},
   "cell_type": "markdown",
   "id": "2c0d7f6e",
   "metadata": {},
   "source": [
    "Filter to interactions of interest, and invert the specificity and magnitude ranks to have higher scores indicate higher communication importance."
   ]
  },
  {
   "cell_type": "code",
   "execution_count": null,
   "id": "a6c2eacf",
   "metadata": {
    "vscode": {
     "languageId": "r"
    }
   },
   "outputs": [],
   "source": [
    "liana_res <- liana_res %>% \n",
    "    filter(source %in% source_labels) %>%\n",
    "    filter(target %in% target_labels) %>%\n",
    "    filter(ligand.complex == ligand_complex) %>%\n",
    "    filter(receptor.complex %in% receptor_complex) %>%\n",
    "    unite(lr.pairs, ligand.complex, receptor.complex, sep = ' -> ') %>%\n",
    "    # inverse ranks\n",
    "    mutate_at(vars(specificity_rank, magnitude_rank), ~-log10(. + 1e-10))"
   ]
  },
  {
   "cell_type": "code",
   "execution_count": null,
   "id": "2b0f45a5",
   "metadata": {
    "vscode": {
     "languageId": "r"
    }
   },
   "outputs": [],
   "source": [
    "ggplot(lv, aes(x = target, y = source, color = .data[[colour]], size=.data[[size]])) + geom_point() + \n",
    "facet_wrap(lr.pairs ~ sample_new , ncol = 12) + \n",
    "theme_bw()"
   ]
  },
  {
   "cell_type": "markdown",
   "id": "8d9638e4",
   "metadata": {},
   "source": [
    "Here, we can already see that the ligand-receptor interactions are not only specific to cell types, but also to samples or contexts (see **B2M -> KLRD1** in samples *M1*, *M2*, *M3*). However, we can also see that this plot, even with just two LR interactions visualized, starts to get a bit overwhelming. To this end, to make the most use of the hypothesis-free nature of the ligand-receptor interactions, in the next chapter we will use `Tensor-Cell2cell` to decompose the ligand-receptor interactions into interpretable CCC patterns across contexts."
   ]
  },
  {
   "cell_type": "markdown",
   "id": "35a00862",
   "metadata": {},
   "source": [
    "Save Results for Tensor-Cell2cell."
   ]
  },
  {
   "cell_type": "code",
   "execution_count": null,
   "id": "6946cdb1",
   "metadata": {
    "vscode": {
     "languageId": "r"
    }
   },
   "outputs": [],
   "source": [
    "saveRDS(covid_data.sce@metadata$liana_res, file.path(output_folder, 'LIANA_by_sample_R.rds'))"
   ]
  },
  {
   "cell_type": "markdown",
   "id": "eb29fb33",
   "metadata": {},
   "source": [
    "## Supplementary Information about LIANA"
   ]
  },
  {
   "cell_type": "markdown",
   "id": "461d44ec",
   "metadata": {},
   "source": [
    "### Key Parameters\n",
    "\n",
    "We already covered some of the parameters in LIANA, that can be used to customize the results. Here, we will go in more detail over some of the most important ones.\n",
    "\n",
    "\n",
    "- `resource` and `resource_name` enable the user to select the resource that they want to use for CCC inference. By default, liana will use the 'consensus' resource which combines a number of expert-curated ligand-receptor resources. However, one can also use the 'cellphonedb' resource, any of the resources that are available within liana by passing their `resource_name` (See below). Additionally, the user can pass their own resource via the `resource` parameter, which expects a pandas DataFrame.\n"
   ]
  },
  {
   "cell_type": "code",
   "execution_count": null,
   "id": "02a04230",
   "metadata": {
    "vscode": {
     "languageId": "r"
    }
   },
   "outputs": [],
   "source": [
    "show_resources()"
   ]
  },
  {
   "cell_type": "markdown",
   "id": "c473e1ef",
   "metadata": {},
   "source": [
    "\n",
    "- `expr_prop` which we also used before is the proportion of cells that need to express a ligand-receptor pair for it to be considered as a potential ligand-receptor pair. This is a parameter that can be used to filter out lowly-expressed ligand-receptor pairs. This is common practice in CCC inference at the cluster level, as we make the assumption that the event occurs for all cells within that clusters.\n",
    "\n",
    "- `return_all_lrs` is related to the `expr_prop` parameter. If `return_all_lrs` is set to `True`, then all ligand-receptor pairs will be returned, regardless of whether they are expressed above the `expr_prop` threshold. This is useful if one wants to use the `expr_prop` parameter to filter out lowly-expressed ligand-receptor pairs, but still wants to see the scores for all ligand-receptor pairs."
   ]
  },
  {
   "cell_type": "markdown",
   "id": "bf7c8865",
   "metadata": {},
   "source": [
    "In addition to those parameters liana provides a number of other utility parameters as well as some method-specific ones, please refer to the documentation for more information."
   ]
  },
  {
   "attachments": {},
   "cell_type": "markdown",
   "id": "b1cfdb11",
   "metadata": {},
   "source": [
    "## Working with Seurat objects directly"
   ]
  },
  {
   "attachments": {},
   "cell_type": "markdown",
   "id": "7537f6ab",
   "metadata": {},
   "source": [
    "####  <span style='color:red'> ^Daniel's Note: we can just import a seurat object and run liana on it. (and do the rest in SingleCellExperiment)"
   ]
  },
  {
   "cell_type": "markdown",
   "id": "72eb62bf",
   "metadata": {},
   "source": [
    "To run on one sample is the same syntax as using a SCE object:"
   ]
  },
  {
   "cell_type": "code",
   "execution_count": null,
   "id": "fc313ce2",
   "metadata": {
    "vscode": {
     "languageId": "r"
    }
   },
   "outputs": [],
   "source": [
    "liana_res <- liana_wrap(sce = sdata.so, \n",
    "                        idents_col='cell.type', \n",
    "                        assay='RNA', # specify the Seurat assay\n",
    "                        assay.type = 'logcounts', \n",
    "                        expr_prop=0.1, \n",
    "                        verbose=T, \n",
    "                        parallelize = T, \n",
    "                        workers = 30)"
   ]
  },
  {
   "cell_type": "markdown",
   "id": "bc4c0177",
   "metadata": {},
   "source": [
    "Note, by default, LIANA runs all the available scoring methods. You can select only certain methods to run by specifiying the `method` argument. For example, if I only wanted to run CellPhoneDB and NATMI, I could specify it has follows:"
   ]
  },
  {
   "cell_type": "code",
   "execution_count": null,
   "id": "b6d14a62",
   "metadata": {
    "vscode": {
     "languageId": "r"
    }
   },
   "outputs": [],
   "source": [
    "liana_res <- liana_wrap(sce = sdata.so, \n",
    "                        idents_col='cell.type', \n",
    "                        assay='RNA', # specify the Seurat assay\n",
    "                        assay.type = 'logcounts', \n",
    "                        expr_prop=0.1,\n",
    "                        method = c('cellphonedb', 'natmi') # only two scoring methods\n",
    "                        verbose=T, \n",
    "                        parallelize = T, \n",
    "                        workers = 30)"
   ]
  },
  {
   "cell_type": "markdown",
   "id": "eedf6963",
   "metadata": {},
   "source": [
    "Additionally, if you want to just rank by the magnitude or the specificity, rather than both, you can use the following. Here, since we filtered for only CellPhoneDB and NATMI in the cell above, this will only calculate a consensus score for those two methods. Since both these methods return a magnitude and specifity score, a consensus score can be calculated for each score type. "
   ]
  },
  {
   "cell_type": "code",
   "execution_count": null,
   "id": "385b124b",
   "metadata": {
    "vscode": {
     "languageId": "r"
    }
   },
   "outputs": [],
   "source": [
    "liana_aggregate.magnitude <- liana_aggregate(liana_res = liana_res, aggregate_how='magnitude', verbose = F)\n",
    "liana_aggregate.specificity <- liana_aggregate(liana_res = liana_res, aggregate_how='specificity', verbose = F)"
   ]
  },
  {
   "cell_type": "markdown",
   "id": "14b309be",
   "metadata": {},
   "source": [
    "`liana_bysample` does not work directly on Seurat objects. However, we can manually iterate through samples to create a `context_df_dict` dictionary (named list) which can be used as input to the `liana_tensor_c2c` function used to build the tensor in Tutorial 03:"
   ]
  },
  {
   "cell_type": "code",
   "execution_count": null,
   "id": "ef51fd7d",
   "metadata": {
    "vscode": {
     "languageId": "r"
    }
   },
   "outputs": [],
   "source": [
    "context_df_dict<-list()\n",
    "for (sample.name in sort(unique(covid_data$sample_new))){\n",
    "    sdata_ = subset(x = covid_data, subset = sample_new == sample.name)\n",
    "    liana_res_ <- liana_wrap(sce = sdata_, idents_col='cell.type', assay='RNA', assay.type = 'logcounts', \n",
    "                          expr_prop=0.05, verbose=F, parallelize = T, workers = 30)\n",
    "\n",
    "    liana_aggregate.magnitude_ <- liana_aggregate(liana_res = liana_res_, aggregate_how='magnitude', verbose = F)\n",
    "    \n",
    "    # retain only the aggregate magnitude rank score\n",
    "    # and format for input to liana_tensor_c2c function\n",
    "    liana_aggregate.magnitude_<-liana_aggregate.magnitude_[1:5]\n",
    "    colnames(liana_aggregate.magnitude_)<-c('source', 'target', 'ligand.complex', 'receptor.complex', 'magnitude_rank')\n",
    "    liana_aggregate.magnitude_[['sample_new']]<-sample.name\n",
    "    \n",
    "    context_df_dict[[sample.name]]<-liana_aggregate.magnitude_\n",
    "}"
   ]
  },
  {
   "cell_type": "markdown",
   "id": "a0b2c664",
   "metadata": {},
   "source": [
    "The output of this function can directly be input to the `liana_tensor_c2c` function used in Tutorial 03. For more details, see liana's tensor-cell2cell [tutorial](https://saezlab.github.io/liana/articles/liana_cc2tensor.html). "
   ]
  },
  {
   "cell_type": "markdown",
   "id": "9fcbc32e",
   "metadata": {},
   "source": [
    "### Rank Comparisons\n",
    "\n",
    "**Probably want to remove this**\n",
    "Let's see how the specificty and magnitude aggregate scores compare using a Spearman correlation:"
   ]
  },
  {
   "cell_type": "code",
   "execution_count": null,
   "id": "eceed37a",
   "metadata": {
    "vscode": {
     "languageId": "r"
    }
   },
   "outputs": [],
   "source": [
    "cor.test(lav$magnitude_rank, lav$specificity_rank, method = c('spearman'))$estimate[['rho']]"
   ]
  },
  {
   "cell_type": "markdown",
   "id": "c6baad9f",
   "metadata": {},
   "source": [
    "#### Comparison with Python output:\n",
    "\n",
    "There are minor differences with the LIANA implementation in python that lead to outputs not being identical\n",
    "\n",
    "- SingleCellSignalR Magnitude (LRscore): slightly different after 3rd decimal place\n",
    "- LogFC Specificity (logfc_comb): similar relative differences but different exact values\n",
    "- CellPhoneDB Specificity (pvalue): similar relative differences but different exact values\n",
    "- CellChat: not run by default in R\n",
    "\n",
    "To have more consistency with Python between, for example, the magnitude aggregate rank score, we can run LIANA using the two methods that are 100% consistent between the two languages (CellPhoneDB and NATMI) and re-calculate our magnitude score from just those two. "
   ]
  },
  {
   "cell_type": "code",
   "execution_count": null,
   "id": "cc8e2afd",
   "metadata": {
    "vscode": {
     "languageId": "r"
    }
   },
   "outputs": [],
   "source": [
    "liana_res_partial <- liana_wrap(sce = sdata, idents_col='cell.type', assay='RNA', assay.type = 'logcounts', \n",
    "                      expr_prop=0.1, verbose=T, parallelize = T, workers = 30, \n",
    "                      method = c(\"natmi\", \"cellphonedb\"))\n",
    "liana_aggregate_partial <- liana_aggregate(liana_res = liana_res_partial, \n",
    "                                           aggregate_how='magnitude', verbose = F)\n",
    "liana_aggregate_partial<-liana_aggregate_partial[c('source', 'target', 'ligand.complex', 'receptor.complex', 'aggregate_rank')]\n",
    "\n",
    "head(liana_aggregate_partial)"
   ]
  },
  {
   "cell_type": "markdown",
   "id": "38b098ca",
   "metadata": {},
   "source": [
    "Because the rank aggregation **insert explanation here**, the aggregated magnitude rank scores slightly differ in absolute value. However, they agree highly in terms of relative values, as seen by the Spearman correlation:"
   ]
  },
  {
   "cell_type": "code",
   "execution_count": null,
   "id": "3e49008a",
   "metadata": {
    "vscode": {
     "languageId": "r"
    }
   },
   "outputs": [],
   "source": [
    "liana_aggregate_partial <- plyr::arrange(liana_aggregate_partial, source, target, ligand.complex, receptor.complex)\n",
    "write.csv(liana_aggregate_partial, paste0(output_folder, 'magnitude_ranks_R.csv'))\n",
    "\n",
    "# read and format python aggregate rank\n",
    "lap_python<-read.csv(paste0(output_folder, 'magnitude_ranks_python.csv'))\n",
    "clp<-colnames(lap_python)\n",
    "clp[4]<-'ligand.complex'\n",
    "clp[5]<-'receptor.complex'\n",
    "colnames(lap_python)<-clp\n",
    "lap_python<-lap_python[colnames(lap_python) != 'X']\n",
    "\n",
    "# merge the two scores\n",
    "la<-dplyr::inner_join(liana_aggregate_partial, lap_python)\n",
    "\n",
    "spearmanr<-cor.test(la$aggregate_rank, \n",
    "         la$magnitude_rank, method = c('spearman'))$estimate[['rho']]\n",
    "print(paste0('The spearman correlation is: ', spearmanr))"
   ]
  },
  {
   "cell_type": "code",
   "execution_count": null,
   "id": "17d318c1",
   "metadata": {
    "vscode": {
     "languageId": "r"
    }
   },
   "outputs": [],
   "source": [
    "liana_aggregate.magnitude <- plyr::arrange(liana_aggregate.magnitude, source, target, ligand.complex, receptor.complex)\n",
    "write.csv(liana_aggregate.magnitude, file.path(output_folder, 'magnitude_ranks_all_R.csv'))\n"
   ]
  }
 ],
 "metadata": {
  "kernelspec": {
   "display_name": "R",
   "language": "R",
   "name": "ir"
  },
  "language_info": {
   "codemirror_mode": "r",
   "file_extension": ".r",
   "mimetype": "text/x-r-source",
   "name": "R",
   "pygments_lexer": "r",
   "version": "4.1.2"
  }
 },
 "nbformat": 4,
 "nbformat_minor": 5
}
