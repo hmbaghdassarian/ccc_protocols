{
 "cells": [
  {
   "cell_type": "markdown",
   "id": "73521bac",
   "metadata": {},
   "source": [
    "# Generating a 4D-Communication Tensor from computed communication scores\n",
    "\n",
    "After inferring communication scores for combinations of ligand-receptor and sender-receiver cell pairs, we can use that information to identify context-dependent CCC patterns across multiple samples simultaneously by generating a 4D-Communication Tensor. LIANA handily outputs these score as a dataframe that is easy to use for building our tensor.\n",
    "\n",
    "In this tutorial we will show you how to use the dataframe saved from LIANA to generate a 4D-Communication Tensor that could be later used with Tensor-cell2cell."
   ]
  },
  {
   "cell_type": "markdown",
   "id": "739c7ec9",
   "metadata": {},
   "source": [
    "## Initial Setup\n",
    "\n",
    "**Before running this notebook** \n",
    "\n",
    "GPUs can substantially speed-up the downstream decomposition. If you are planning to use a NVIDIA GPU, make sure to have a proper NVIDIA GPU driver (https://www.nvidia.com/Download/index.aspx) as well as the CUDA toolkit (https://developer.nvidia.com/cuda-toolkit) installed.\n",
    "\n",
    "Then, make sure to create an environment with PyTorch version >= v1.8.1 following these instructions to enable CUDA.\n",
    "\n",
    "https://pytorch.org/get-started/locally/\n",
    "\n",
    "### Enabling GPU use\n",
    "\n",
    "If you are using a NVIDIA GPU, after installing PyTorch with CUDA enabled, specify `gpu_use = True`. Otherwise, `gpu_use = False`. In R, this must be specified during tensor building. "
   ]
  },
  {
   "cell_type": "code",
   "execution_count": 1,
   "id": "88f2b541",
   "metadata": {
    "vscode": {
     "languageId": "r"
    }
   },
   "outputs": [],
   "source": [
    "gpu_use = TRUE\n",
    "\n",
    "if (gpu_use){\n",
    "    device<-'cuda:0'\n",
    "    tensorly <- reticulate::import('tensorly')\n",
    "    tensorly$set_backend('pytorch')\n",
    "}else{\n",
    "    device<-NULL\n",
    "}"
   ]
  },
  {
   "cell_type": "markdown",
   "id": "9cefd77f",
   "metadata": {},
   "source": [
    "**First, load the necessary libraries**"
   ]
  },
  {
   "cell_type": "code",
   "execution_count": 2,
   "id": "50007cc4",
   "metadata": {
    "vscode": {
     "languageId": "r"
    }
   },
   "outputs": [],
   "source": [
    "library(liana, quietly = T)\n",
    "library(reticulate, quietly = T)"
   ]
  },
  {
   "cell_type": "code",
   "execution_count": 3,
   "id": "9b58b2c9",
   "metadata": {
    "vscode": {
     "languageId": "r"
    }
   },
   "outputs": [],
   "source": [
    "data_folder = '/data/hratch/ccc_protocols/interim/liana-outputs/'#'../../data/liana-outputs/'  # <--replace in final version\n",
    "output_folder = '../../data/tc2c-outputs/'\n",
    "\n",
    "env_name = 'ccc_protocols' # conda environemnt created by ../../env_setup/setup_env.sh"
   ]
  },
  {
   "cell_type": "markdown",
   "id": "c7e02ce4",
   "metadata": {},
   "source": [
    "## Load Data\n",
    "\n",
    "Open the list containing LIANA results for each sample/context. These results contain the communication scores of the combinations of ligand-receptor pairs and sender-receiver pairs."
   ]
  },
  {
   "cell_type": "code",
   "execution_count": 4,
   "id": "58d5fd23",
   "metadata": {
    "vscode": {
     "languageId": "r"
    }
   },
   "outputs": [],
   "source": [
    "context_df_dict<-readRDS(paste0(data_folder, 'LIANA_by_sample_R.rds'))"
   ]
  },
  {
   "cell_type": "markdown",
   "id": "81e96bd1",
   "metadata": {},
   "source": [
    "## Create 4D-Communication Tensor\n",
    "\n",
    "### Specify the order of the samples/contexts\n",
    "\n",
    "Here, we will specify an order of the samples/contexts given the condition they belong to (HC or *Control*, M or *Moderate COVID-19*, S or *Severe COVID-19*)."
   ]
  },
  {
   "cell_type": "code",
   "execution_count": 5,
   "id": "d89ce3fa",
   "metadata": {
    "vscode": {
     "languageId": "r"
    }
   },
   "outputs": [],
   "source": [
    "sorted_names = sort(names(context_df_dict))"
   ]
  },
  {
   "cell_type": "code",
   "execution_count": 6,
   "id": "dcff0d18",
   "metadata": {
    "vscode": {
     "languageId": "r"
    }
   },
   "outputs": [
    {
     "data": {
      "text/html": [
       "<style>\n",
       ".list-inline {list-style: none; margin:0; padding: 0}\n",
       ".list-inline>li {display: inline-block}\n",
       ".list-inline>li:not(:last-child)::after {content: \"\\00b7\"; padding: 0 .5ex}\n",
       "</style>\n",
       "<ol class=list-inline><li>'HC1'</li><li>'HC2'</li><li>'HC3'</li><li>'M1'</li><li>'M2'</li><li>'M3'</li><li>'S1'</li><li>'S2'</li><li>'S3'</li><li>'S4'</li><li>'S5'</li><li>'S6'</li></ol>\n"
      ],
      "text/latex": [
       "\\begin{enumerate*}\n",
       "\\item 'HC1'\n",
       "\\item 'HC2'\n",
       "\\item 'HC3'\n",
       "\\item 'M1'\n",
       "\\item 'M2'\n",
       "\\item 'M3'\n",
       "\\item 'S1'\n",
       "\\item 'S2'\n",
       "\\item 'S3'\n",
       "\\item 'S4'\n",
       "\\item 'S5'\n",
       "\\item 'S6'\n",
       "\\end{enumerate*}\n"
      ],
      "text/markdown": [
       "1. 'HC1'\n",
       "2. 'HC2'\n",
       "3. 'HC3'\n",
       "4. 'M1'\n",
       "5. 'M2'\n",
       "6. 'M3'\n",
       "7. 'S1'\n",
       "8. 'S2'\n",
       "9. 'S3'\n",
       "10. 'S4'\n",
       "11. 'S5'\n",
       "12. 'S6'\n",
       "\n",
       "\n"
      ],
      "text/plain": [
       " [1] \"HC1\" \"HC2\" \"HC3\" \"M1\"  \"M2\"  \"M3\"  \"S1\"  \"S2\"  \"S3\"  \"S4\"  \"S5\"  \"S6\" "
      ]
     },
     "metadata": {},
     "output_type": "display_data"
    }
   ],
   "source": [
    "sorted_names"
   ]
  },
  {
   "cell_type": "code",
   "execution_count": 7,
   "id": "bd3d191e",
   "metadata": {
    "vscode": {
     "languageId": "r"
    }
   },
   "outputs": [
    {
     "data": {
      "text/html": [
       "<table class=\"dataframe\">\n",
       "<caption>A tibble: 6 × 13</caption>\n",
       "<thead>\n",
       "\t<tr><th scope=col>source</th><th scope=col>target</th><th scope=col>ligand.complex</th><th scope=col>receptor.complex</th><th scope=col>magnitude_rank</th><th scope=col>specificity_rank</th><th scope=col>mean_rank</th><th scope=col>natmi.prod_weight</th><th scope=col>natmi.rank</th><th scope=col>sca.LRscore</th><th scope=col>sca.rank</th><th scope=col>cellphonedb.lr.mean</th><th scope=col>cellphonedb.rank</th></tr>\n",
       "\t<tr><th scope=col>&lt;chr&gt;</th><th scope=col>&lt;chr&gt;</th><th scope=col>&lt;chr&gt;</th><th scope=col>&lt;chr&gt;</th><th scope=col>&lt;dbl&gt;</th><th scope=col>&lt;dbl&gt;</th><th scope=col>&lt;dbl&gt;</th><th scope=col>&lt;dbl&gt;</th><th scope=col>&lt;dbl&gt;</th><th scope=col>&lt;dbl&gt;</th><th scope=col>&lt;dbl&gt;</th><th scope=col>&lt;dbl&gt;</th><th scope=col>&lt;dbl&gt;</th></tr>\n",
       "</thead>\n",
       "<tbody>\n",
       "\t<tr><td>T          </td><td>NK</td><td>B2M</td><td>CD3D </td><td>7.051711e-12</td><td>0.0199622189</td><td>1.000000</td><td>8.059861</td><td>1</td><td>0.9610254</td><td>1</td><td>3.410586</td><td>1</td></tr>\n",
       "\t<tr><td>Macrophages</td><td>NK</td><td>B2M</td><td>CD3D </td><td>5.641369e-11</td><td>0.0200021933</td><td>2.000000</td><td>8.059599</td><td>2</td><td>0.9610248</td><td>2</td><td>3.410500</td><td>2</td></tr>\n",
       "\t<tr><td>NK         </td><td>NK</td><td>B2M</td><td>CD3D </td><td>8.814638e-10</td><td>0.0258774250</td><td>3.666667</td><td>7.614378</td><td>3</td><td>0.9599465</td><td>3</td><td>3.264099</td><td>5</td></tr>\n",
       "\t<tr><td>T          </td><td>NK</td><td>B2M</td><td>KLRD1</td><td>2.418737e-09</td><td>0.0002704551</td><td>5.666667</td><td>6.865250</td><td>7</td><td>0.9579074</td><td>7</td><td>3.297900</td><td>3</td></tr>\n",
       "\t<tr><td>B          </td><td>NK</td><td>B2M</td><td>CD3D </td><td>3.610476e-09</td><td>0.0274656094</td><td>5.333333</td><td>7.518543</td><td>4</td><td>0.9597023</td><td>4</td><td>3.232586</td><td>8</td></tr>\n",
       "\t<tr><td>Macrophages</td><td>NK</td><td>B2M</td><td>KLRD1</td><td>3.610476e-09</td><td>0.0002720448</td><td>6.666667</td><td>6.865027</td><td>8</td><td>0.9579067</td><td>8</td><td>3.297814</td><td>4</td></tr>\n",
       "</tbody>\n",
       "</table>\n"
      ],
      "text/latex": [
       "A tibble: 6 × 13\n",
       "\\begin{tabular}{lllllllllllll}\n",
       " source & target & ligand.complex & receptor.complex & magnitude\\_rank & specificity\\_rank & mean\\_rank & natmi.prod\\_weight & natmi.rank & sca.LRscore & sca.rank & cellphonedb.lr.mean & cellphonedb.rank\\\\\n",
       " <chr> & <chr> & <chr> & <chr> & <dbl> & <dbl> & <dbl> & <dbl> & <dbl> & <dbl> & <dbl> & <dbl> & <dbl>\\\\\n",
       "\\hline\n",
       "\t T           & NK & B2M & CD3D  & 7.051711e-12 & 0.0199622189 & 1.000000 & 8.059861 & 1 & 0.9610254 & 1 & 3.410586 & 1\\\\\n",
       "\t Macrophages & NK & B2M & CD3D  & 5.641369e-11 & 0.0200021933 & 2.000000 & 8.059599 & 2 & 0.9610248 & 2 & 3.410500 & 2\\\\\n",
       "\t NK          & NK & B2M & CD3D  & 8.814638e-10 & 0.0258774250 & 3.666667 & 7.614378 & 3 & 0.9599465 & 3 & 3.264099 & 5\\\\\n",
       "\t T           & NK & B2M & KLRD1 & 2.418737e-09 & 0.0002704551 & 5.666667 & 6.865250 & 7 & 0.9579074 & 7 & 3.297900 & 3\\\\\n",
       "\t B           & NK & B2M & CD3D  & 3.610476e-09 & 0.0274656094 & 5.333333 & 7.518543 & 4 & 0.9597023 & 4 & 3.232586 & 8\\\\\n",
       "\t Macrophages & NK & B2M & KLRD1 & 3.610476e-09 & 0.0002720448 & 6.666667 & 6.865027 & 8 & 0.9579067 & 8 & 3.297814 & 4\\\\\n",
       "\\end{tabular}\n"
      ],
      "text/markdown": [
       "\n",
       "A tibble: 6 × 13\n",
       "\n",
       "| source &lt;chr&gt; | target &lt;chr&gt; | ligand.complex &lt;chr&gt; | receptor.complex &lt;chr&gt; | magnitude_rank &lt;dbl&gt; | specificity_rank &lt;dbl&gt; | mean_rank &lt;dbl&gt; | natmi.prod_weight &lt;dbl&gt; | natmi.rank &lt;dbl&gt; | sca.LRscore &lt;dbl&gt; | sca.rank &lt;dbl&gt; | cellphonedb.lr.mean &lt;dbl&gt; | cellphonedb.rank &lt;dbl&gt; |\n",
       "|---|---|---|---|---|---|---|---|---|---|---|---|---|\n",
       "| T           | NK | B2M | CD3D  | 7.051711e-12 | 0.0199622189 | 1.000000 | 8.059861 | 1 | 0.9610254 | 1 | 3.410586 | 1 |\n",
       "| Macrophages | NK | B2M | CD3D  | 5.641369e-11 | 0.0200021933 | 2.000000 | 8.059599 | 2 | 0.9610248 | 2 | 3.410500 | 2 |\n",
       "| NK          | NK | B2M | CD3D  | 8.814638e-10 | 0.0258774250 | 3.666667 | 7.614378 | 3 | 0.9599465 | 3 | 3.264099 | 5 |\n",
       "| T           | NK | B2M | KLRD1 | 2.418737e-09 | 0.0002704551 | 5.666667 | 6.865250 | 7 | 0.9579074 | 7 | 3.297900 | 3 |\n",
       "| B           | NK | B2M | CD3D  | 3.610476e-09 | 0.0274656094 | 5.333333 | 7.518543 | 4 | 0.9597023 | 4 | 3.232586 | 8 |\n",
       "| Macrophages | NK | B2M | KLRD1 | 3.610476e-09 | 0.0002720448 | 6.666667 | 6.865027 | 8 | 0.9579067 | 8 | 3.297814 | 4 |\n",
       "\n"
      ],
      "text/plain": [
       "  source      target ligand.complex receptor.complex magnitude_rank\n",
       "1 T           NK     B2M            CD3D             7.051711e-12  \n",
       "2 Macrophages NK     B2M            CD3D             5.641369e-11  \n",
       "3 NK          NK     B2M            CD3D             8.814638e-10  \n",
       "4 T           NK     B2M            KLRD1            2.418737e-09  \n",
       "5 B           NK     B2M            CD3D             3.610476e-09  \n",
       "6 Macrophages NK     B2M            KLRD1            3.610476e-09  \n",
       "  specificity_rank mean_rank natmi.prod_weight natmi.rank sca.LRscore sca.rank\n",
       "1 0.0199622189     1.000000  8.059861          1          0.9610254   1       \n",
       "2 0.0200021933     2.000000  8.059599          2          0.9610248   2       \n",
       "3 0.0258774250     3.666667  7.614378          3          0.9599465   3       \n",
       "4 0.0002704551     5.666667  6.865250          7          0.9579074   7       \n",
       "5 0.0274656094     5.333333  7.518543          4          0.9597023   4       \n",
       "6 0.0002720448     6.666667  6.865027          8          0.9579067   8       \n",
       "  cellphonedb.lr.mean cellphonedb.rank\n",
       "1 3.410586            1               \n",
       "2 3.410500            2               \n",
       "3 3.264099            5               \n",
       "4 3.297900            3               \n",
       "5 3.232586            8               \n",
       "6 3.297814            4               "
      ]
     },
     "metadata": {},
     "output_type": "display_data"
    }
   ],
   "source": [
    "head(context_df_dict$HC1)"
   ]
  },
  {
   "cell_type": "markdown",
   "id": "f4a27f73",
   "metadata": {},
   "source": [
    "## Generate tensor\n",
    "\n",
    "To generate the 4D-communication tensor, we will to create matrices with the communication scores for each of the ligand-receptor pairs within the same sample, then generate a 3D tensor for each sample, and finally concatenate them to form the 4D tensor.\n",
    "\n",
    "Briefly, we use the LIANA dataframe and communication scores to organize them as follows:\n",
    "\n",
    "![ccc-scores](https://github.com/earmingol/cell2cell/blob/master/docs/tutorials/ASD/figures/4d-tensor.png?raw=true)"
   ]
  },
  {
   "cell_type": "markdown",
   "id": "6e0e5670",
   "metadata": {},
   "source": [
    "Next we will apply some additional preprocessing (transformations/filtering) to the communication scores. Important parameters include:\n",
    "\n",
    "- `non_negative` and `non_negative_fill` as Tensor-cell2cell by default expects non-negative values, any values below 0 will be set to 0 (e.g. this is relevant if one wants to use e.g. the `LRlog2FC` score function). If you used a pipeline that generated negative scores, we suggest replacing these with 0. Otherwise, by default, Tensor-cell2cell will treat these as NaN. Since we used the magnitude rank score, which is non-negative, these parameters won't affect our results. \n",
    "\n",
    "- `invert` and `invert_fun` can pass a function to transform the communication score before using it to build the tensor. In this case, the `'magnitude_rank'` score generated by LIANA considers low values as the most important ones, ranging from 0 to 1. However, Tensor-cell2cell requires higher values to be the most important scores, so here we pass a function (`function (x) 1 - x`) to adapt LIANA's magnitude-rank scores (substracts the LIANA's score from 1).\n",
    "\n",
    "- `outer_fraction` is important to control the elements to include in the union scenario of the downstream `how` option (see next cell for more information). Only elements (cells/LRs) that are present at least this fraction of samples/contexts will be included. When this value is 0, considers all elements across the samples. When this value is 1, it is the same as setting `how='inner'`."
   ]
  },
  {
   "cell_type": "code",
   "execution_count": 8,
   "id": "51d82570",
   "metadata": {},
   "outputs": [
    {
     "name": "stderr",
     "output_type": "stream",
     "text": [
      "Inverting `magnitude_rank`!\n",
      "\n",
      "Inverting `magnitude_rank`!\n",
      "\n",
      "Inverting `magnitude_rank`!\n",
      "\n",
      "Inverting `magnitude_rank`!\n",
      "\n",
      "Inverting `magnitude_rank`!\n",
      "\n",
      "Inverting `magnitude_rank`!\n",
      "\n",
      "Inverting `magnitude_rank`!\n",
      "\n",
      "Inverting `magnitude_rank`!\n",
      "\n",
      "Inverting `magnitude_rank`!\n",
      "\n",
      "Inverting `magnitude_rank`!\n",
      "\n",
      "Inverting `magnitude_rank`!\n",
      "\n",
      "Inverting `magnitude_rank`!\n",
      "\n"
     ]
    }
   ],
   "source": [
    "context_df_dict<-liana:::preprocess_scores(context_df_dict = context_df_dict, \n",
    "                         outer_frac = 1/3, # Fraction of samples as threshold to include cells and LR pairs.\n",
    "                         invert = TRUE, # transform the scores\n",
    "                         invert_fun = function(x) 1-x, # Transformation function\n",
    "                          non_negative = TRUE, # fills negative values\n",
    "                          non_negative_fill = 0 # set negative values to 0\n",
    "                         )"
   ]
  },
  {
   "cell_type": "markdown",
   "id": "cd74ee96",
   "metadata": {},
   "source": [
    "Next, we will transform the structure of the communication scores from a set of 2D-matrices for each sample into a 3D Tensor where the third dimension is sample/context. **The key parameters when building a tensor are:**\n",
    "\n",
    "- `how` controls what ligand-receptor pairs and cell types to include when building the tensor. This decision is dependent on the number of samples including scores for their combinations of ligand-receptor and sender-receiver cell pairs. Options are:\n",
    "    - `'inner'` is the more strict option since it only considers only cell types and LR pairs that are present in all contexts (intersection).\n",
    "    - `'outer'` considers all cell types and LR pairs that are present across contexts (union).\n",
    "    - `'outer_lrs'` considers only cell types that are present in all contexts (intersection), while all LR pairs that are present across contexts (union).\n",
    "    - `'outer_cells'` considers only LR pairs that are present in all contexts (intersection), while all cell types that are present across contexts (union).\n",
    "\n",
    "- `fill` indicates what value to assign missing scores when `how` is set to `'outer'`, i.e., those cells or LR pairs that are not present in all contexts. During tensor component analysis, NaN values are masked such that they are not considered by the decomposition objective. This results in behavior of NaNs being imputed as missing values that are potentially communicating, whereas if missing LRs are filled with a value such as 0, they are treated as biological zeroes (i.e., not communicating). For additional details and discussion regarding this parameter, please see the [missing indices benchmarking](../../tc2c_benchmark/scripts/missing_indices_consistency.ipynb).\n",
    "    - `'lf_fill'`: value to fill missing (across contexts) LR pairs with\n",
    "    - `'cell_fill'`: value to fill missing (across contexts OR LR pairs) cell types with"
   ]
  },
  {
   "cell_type": "code",
   "execution_count": 10,
   "id": "f2217458",
   "metadata": {
    "vscode": {
     "languageId": "r"
    }
   },
   "outputs": [],
   "source": [
    "tensor <- liana_tensor_c2c(context_df_dict = context_df_dict,\n",
    "                          sender_col = \"source\", # Column name of the sender cells\n",
    "                          receiver_col = \"target\", # Column name of the receiver cells\n",
    "                          ligand_col = \"ligand.complex\", # Column name of the ligands\n",
    "                          receptor_col = \"receptor.complex\", # Column name of the receptors\n",
    "                        score_col = 'LRscore', # Column name of the communication scores to use\n",
    "                        how='outer',  # What to include across all samples\n",
    "                        lr_fill = NaN, # What to fill missing LRs with \n",
    "                        cell_fill = NaN, # What to fill missing cell types with \n",
    "                        lr_sep='^', # How to separate ligand and receptor names to name LR pair\n",
    "                        context_order=sorted_names, # Order to store the contexts in the tensor\n",
    "                        sort_elements = TRUE, # Whether sorting alphabetically element names of each tensor dim. Does not apply for context order if context_order is passed.\n",
    "                        conda_env = env_name, # used to pass an existing conda env with cell2cell\n",
    "                        build_only = TRUE, # set this to FALSE to combine the downstream rank selection and decomposition steps all here \n",
    "                        device = device # Device to use when backend is pytorch.\n",
    "                            )"
   ]
  },
  {
   "cell_type": "markdown",
   "id": "745d7311",
   "metadata": {},
   "source": [
    "## Evaluate some tensor properties\n",
    "\n",
    "### Tensor shape\n",
    "This indicates the number of elements in each tensor dimension: (Contexts, LR pairs, Sender cells, Receiver cells)"
   ]
  },
  {
   "cell_type": "code",
   "execution_count": 16,
   "id": "bfa209d6",
   "metadata": {
    "vscode": {
     "languageId": "r"
    }
   },
   "outputs": [
    {
     "data": {
      "text/plain": [
       "torch.Size([12, 1419, 10, 10])"
      ]
     },
     "metadata": {},
     "output_type": "display_data"
    }
   ],
   "source": [
    "tensor$tensor$shape"
   ]
  },
  {
   "cell_type": "markdown",
   "id": "8b8038ce",
   "metadata": {},
   "source": [
    "### Missing values\n",
    "This represents the fraction of values that are missing. In this case, missing values are combinations of contexts x LR pairs x Sender cells x Receiver cells that did not have a communication score or were missing in the dataframes."
   ]
  },
  {
   "cell_type": "code",
   "execution_count": 13,
   "id": "3b8df693",
   "metadata": {
    "vscode": {
     "languageId": "r"
    }
   },
   "outputs": [
    {
     "data": {
      "text/html": [
       "0.889944195747375"
      ],
      "text/latex": [
       "0.889944195747375"
      ],
      "text/markdown": [
       "0.889944195747375"
      ],
      "text/plain": [
       "[1] 0.8899442"
      ]
     },
     "metadata": {},
     "output_type": "display_data"
    }
   ],
   "source": [
    "tensor$missing_fraction()"
   ]
  },
  {
   "cell_type": "markdown",
   "id": "021b564d",
   "metadata": {},
   "source": [
    "### Sparsity\n",
    "This represents the fraction of values that are a real zero (excluding the missing values)"
   ]
  },
  {
   "cell_type": "code",
   "execution_count": 14,
   "id": "4abcc690",
   "metadata": {
    "vscode": {
     "languageId": "r"
    }
   },
   "outputs": [
    {
     "data": {
      "text/html": [
       "0.0368980504572392"
      ],
      "text/latex": [
       "0.0368980504572392"
      ],
      "text/markdown": [
       "0.0368980504572392"
      ],
      "text/plain": [
       "[1] 0.03689805"
      ]
     },
     "metadata": {},
     "output_type": "display_data"
    }
   ],
   "source": [
    "tensor$sparsity_fraction()"
   ]
  },
  {
   "cell_type": "markdown",
   "id": "b1a3c7de",
   "metadata": {},
   "source": [
    "### Fraction of excluded elements\n",
    "This represents the fraction of values that are ignored (masked) in the analysis. In this case it coincides with the missing values because we did not generate a new `tensor.mask` to manually ignore specific values. Instead, it automatically excluded the missing values."
   ]
  },
  {
   "cell_type": "code",
   "execution_count": 15,
   "id": "3aed0f75",
   "metadata": {
    "vscode": {
     "languageId": "r"
    }
   },
   "outputs": [
    {
     "data": {
      "text/html": [
       "0.889944210648537"
      ],
      "text/latex": [
       "0.889944210648537"
      ],
      "text/markdown": [
       "0.889944210648537"
      ],
      "text/plain": [
       "[1] 0.8899442"
      ]
     },
     "metadata": {},
     "output_type": "display_data"
    }
   ],
   "source": [
    "tensor$excluded_value_fraction() # Percentage of values in the tensor that are masked/missing"
   ]
  },
  {
   "cell_type": "markdown",
   "id": "def0d439",
   "metadata": {},
   "source": [
    "## Export Tensor\n",
    "\n",
    "Here we will save the `tensor` so we can use it later with other analyses."
   ]
  },
  {
   "cell_type": "code",
   "execution_count": 15,
   "id": "bbc76f90",
   "metadata": {
    "vscode": {
     "languageId": "r"
    }
   },
   "outputs": [],
   "source": [
    "reticulate::py_save_object(object = tensor, \n",
    "                           filename = paste0(output_folder, 'BALF-Tensor-R.pkl'))"
   ]
  }
 ],
 "metadata": {
  "kernelspec": {
   "display_name": "R [conda env:norcross_abc]",
   "language": "R",
   "name": "conda-env-norcross_abc-r"
  },
  "language_info": {
   "codemirror_mode": "r",
   "file_extension": ".r",
   "mimetype": "text/x-r-source",
   "name": "R",
   "pygments_lexer": "r",
   "version": "4.2.2"
  }
 },
 "nbformat": 4,
 "nbformat_minor": 5
}
