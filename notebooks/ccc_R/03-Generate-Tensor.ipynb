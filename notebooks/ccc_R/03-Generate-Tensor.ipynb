{
 "cells": [
  {
   "cell_type": "markdown",
   "id": "73521bac",
   "metadata": {},
   "source": [
    "# Generating a 4D-Communication Tensor from computed communication scores\n",
    "\n",
    "After inferring communication scores for combinations of ligand-receptor and sender-receiver cell pairs, we can use that information to identify context-dependent CCC patterns across multiple samples simultaneously by generating a 4D-Communication Tensor. LIANA handily outputs these score as a dataframe that is easy to use for building our tensor.\n",
    "\n",
    "In this tutorial we will show you how to use the dataframe saved from LIANA to generate a 4D-Communication Tensor that could be later used with Tensor-cell2cell."
   ]
  },
  {
   "cell_type": "markdown",
   "id": "739c7ec9",
   "metadata": {},
   "source": [
    "## Initial Setup\n",
    "\n",
    "**Before running this notebook** \n",
    "\n",
    "GPUs can substantially speed-up the downstream decomposition. If you are planning to use a NVIDIA GPU, make sure to have a proper NVIDIA GPU driver (https://www.nvidia.com/Download/index.aspx) as well as the CUDA toolkit (https://developer.nvidia.com/cuda-toolkit) installed.\n",
    "\n",
    "Then, make sure to create an environment with PyTorch version >= v1.8.1 following these instructions to enable CUDA.\n",
    "\n",
    "https://pytorch.org/get-started/locally/\n",
    "\n",
    "### Enabling GPU use\n",
    "\n",
    "If you are using a NVIDIA GPU, after installing PyTorch with CUDA enabled, specify `gpu_use = True`. Otherwise, `gpu_use = False`. In R, this must be specified during tensor building. "
   ]
  },
  {
   "cell_type": "code",
   "execution_count": 16,
   "id": "88f2b541",
   "metadata": {},
   "outputs": [],
   "source": [
    "gpu_use = TRUE\n",
    "\n",
    "if (gpu_use){\n",
    "    device<-'cuda:0'\n",
    "    tensorly <- reticulate::import('tensorly')\n",
    "    tensorly$set_backend('pytorch')\n",
    "}else{\n",
    "    device<-NULL\n",
    "}"
   ]
  },
  {
   "cell_type": "markdown",
   "id": "9cefd77f",
   "metadata": {},
   "source": [
    "**First, load the necessary libraries**"
   ]
  },
  {
   "cell_type": "code",
   "execution_count": 1,
   "id": "50007cc4",
   "metadata": {},
   "outputs": [],
   "source": [
    "library(liana, quietly = T)\n",
    "library(reticulate, quietly = T)"
   ]
  },
  {
   "cell_type": "code",
   "execution_count": 2,
   "id": "9b58b2c9",
   "metadata": {},
   "outputs": [],
   "source": [
    "data_folder = '/data/hratch/ccc_protocols/interim/liana-outputs/'#'../../data/liana-outputs/'  # <--replace in final version\n",
    "output_folder = '../../data/tc2c-outputs/'\n",
    "\n",
    "env_name = 'ccc_protocols' # conda environemnt created by ../../env_setup/setup_env.sh"
   ]
  },
  {
   "cell_type": "markdown",
   "id": "c7e02ce4",
   "metadata": {},
   "source": [
    "## Load Data\n",
    "\n",
    "Open the list containing LIANA results for each sample/context. These results contain the communication scores of the combinations of ligand-receptor pairs and sender-receiver pairs."
   ]
  },
  {
   "cell_type": "code",
   "execution_count": 4,
   "id": "58d5fd23",
   "metadata": {},
   "outputs": [],
   "source": [
    "context_df_dict<-readRDS(paste0(data_folder, 'LIANA_by_sample_R.rds'))"
   ]
  },
  {
   "cell_type": "markdown",
   "id": "81e96bd1",
   "metadata": {},
   "source": [
    "## Create 4D-Communication Tensor\n",
    "\n",
    "### Specify the order of the samples/contexts\n",
    "\n",
    "Here, we will specify an order of the samples/contexts given the condition they belong to (HC or *Control*, M or *Moderate COVID-19*, S or *Severe COVID-19*)."
   ]
  },
  {
   "cell_type": "code",
   "execution_count": 5,
   "id": "d89ce3fa",
   "metadata": {},
   "outputs": [],
   "source": [
    "sorted_names = sort(names(context_df_dict))"
   ]
  },
  {
   "cell_type": "code",
   "execution_count": 6,
   "id": "dcff0d18",
   "metadata": {},
   "outputs": [
    {
     "data": {
      "text/html": [
       "<style>\n",
       ".list-inline {list-style: none; margin:0; padding: 0}\n",
       ".list-inline>li {display: inline-block}\n",
       ".list-inline>li:not(:last-child)::after {content: \"\\00b7\"; padding: 0 .5ex}\n",
       "</style>\n",
       "<ol class=list-inline><li>'HC1'</li><li>'HC2'</li><li>'HC3'</li><li>'M1'</li><li>'M2'</li><li>'M3'</li><li>'S1'</li><li>'S2'</li><li>'S3'</li><li>'S4'</li><li>'S5'</li><li>'S6'</li></ol>\n"
      ],
      "text/latex": [
       "\\begin{enumerate*}\n",
       "\\item 'HC1'\n",
       "\\item 'HC2'\n",
       "\\item 'HC3'\n",
       "\\item 'M1'\n",
       "\\item 'M2'\n",
       "\\item 'M3'\n",
       "\\item 'S1'\n",
       "\\item 'S2'\n",
       "\\item 'S3'\n",
       "\\item 'S4'\n",
       "\\item 'S5'\n",
       "\\item 'S6'\n",
       "\\end{enumerate*}\n"
      ],
      "text/markdown": [
       "1. 'HC1'\n",
       "2. 'HC2'\n",
       "3. 'HC3'\n",
       "4. 'M1'\n",
       "5. 'M2'\n",
       "6. 'M3'\n",
       "7. 'S1'\n",
       "8. 'S2'\n",
       "9. 'S3'\n",
       "10. 'S4'\n",
       "11. 'S5'\n",
       "12. 'S6'\n",
       "\n",
       "\n"
      ],
      "text/plain": [
       " [1] \"HC1\" \"HC2\" \"HC3\" \"M1\"  \"M2\"  \"M3\"  \"S1\"  \"S2\"  \"S3\"  \"S4\"  \"S5\"  \"S6\" "
      ]
     },
     "metadata": {},
     "output_type": "display_data"
    }
   ],
   "source": [
    "sorted_names"
   ]
  },
  {
   "cell_type": "code",
   "execution_count": 7,
   "id": "bd3d191e",
   "metadata": {},
   "outputs": [
    {
     "data": {
      "text/html": [
       "<table class=\"dataframe\">\n",
       "<caption>A tibble: 6 × 6</caption>\n",
       "<thead>\n",
       "\t<tr><th scope=col>source</th><th scope=col>target</th><th scope=col>ligand.complex</th><th scope=col>receptor.complex</th><th scope=col>LRscore</th><th scope=col>sample_new</th></tr>\n",
       "\t<tr><th scope=col>&lt;chr&gt;</th><th scope=col>&lt;chr&gt;</th><th scope=col>&lt;chr&gt;</th><th scope=col>&lt;chr&gt;</th><th scope=col>&lt;dbl&gt;</th><th scope=col>&lt;chr&gt;</th></tr>\n",
       "</thead>\n",
       "<tbody>\n",
       "\t<tr><td>T          </td><td>NK</td><td>B2M</td><td>CD3D </td><td>7.051711e-12</td><td>HC1</td></tr>\n",
       "\t<tr><td>Macrophages</td><td>NK</td><td>B2M</td><td>CD3D </td><td>5.641369e-11</td><td>HC1</td></tr>\n",
       "\t<tr><td>NK         </td><td>NK</td><td>B2M</td><td>CD3D </td><td>8.814638e-10</td><td>HC1</td></tr>\n",
       "\t<tr><td>T          </td><td>NK</td><td>B2M</td><td>KLRD1</td><td>2.418737e-09</td><td>HC1</td></tr>\n",
       "\t<tr><td>B          </td><td>NK</td><td>B2M</td><td>CD3D </td><td>3.610476e-09</td><td>HC1</td></tr>\n",
       "\t<tr><td>Macrophages</td><td>NK</td><td>B2M</td><td>KLRD1</td><td>3.610476e-09</td><td>HC1</td></tr>\n",
       "</tbody>\n",
       "</table>\n"
      ],
      "text/latex": [
       "A tibble: 6 × 6\n",
       "\\begin{tabular}{llllll}\n",
       " source & target & ligand.complex & receptor.complex & LRscore & sample\\_new\\\\\n",
       " <chr> & <chr> & <chr> & <chr> & <dbl> & <chr>\\\\\n",
       "\\hline\n",
       "\t T           & NK & B2M & CD3D  & 7.051711e-12 & HC1\\\\\n",
       "\t Macrophages & NK & B2M & CD3D  & 5.641369e-11 & HC1\\\\\n",
       "\t NK          & NK & B2M & CD3D  & 8.814638e-10 & HC1\\\\\n",
       "\t T           & NK & B2M & KLRD1 & 2.418737e-09 & HC1\\\\\n",
       "\t B           & NK & B2M & CD3D  & 3.610476e-09 & HC1\\\\\n",
       "\t Macrophages & NK & B2M & KLRD1 & 3.610476e-09 & HC1\\\\\n",
       "\\end{tabular}\n"
      ],
      "text/markdown": [
       "\n",
       "A tibble: 6 × 6\n",
       "\n",
       "| source &lt;chr&gt; | target &lt;chr&gt; | ligand.complex &lt;chr&gt; | receptor.complex &lt;chr&gt; | LRscore &lt;dbl&gt; | sample_new &lt;chr&gt; |\n",
       "|---|---|---|---|---|---|\n",
       "| T           | NK | B2M | CD3D  | 7.051711e-12 | HC1 |\n",
       "| Macrophages | NK | B2M | CD3D  | 5.641369e-11 | HC1 |\n",
       "| NK          | NK | B2M | CD3D  | 8.814638e-10 | HC1 |\n",
       "| T           | NK | B2M | KLRD1 | 2.418737e-09 | HC1 |\n",
       "| B           | NK | B2M | CD3D  | 3.610476e-09 | HC1 |\n",
       "| Macrophages | NK | B2M | KLRD1 | 3.610476e-09 | HC1 |\n",
       "\n"
      ],
      "text/plain": [
       "  source      target ligand.complex receptor.complex LRscore      sample_new\n",
       "1 T           NK     B2M            CD3D             7.051711e-12 HC1       \n",
       "2 Macrophages NK     B2M            CD3D             5.641369e-11 HC1       \n",
       "3 NK          NK     B2M            CD3D             8.814638e-10 HC1       \n",
       "4 T           NK     B2M            KLRD1            2.418737e-09 HC1       \n",
       "5 B           NK     B2M            CD3D             3.610476e-09 HC1       \n",
       "6 Macrophages NK     B2M            KLRD1            3.610476e-09 HC1       "
      ]
     },
     "metadata": {},
     "output_type": "display_data"
    }
   ],
   "source": [
    "head(context_df_dict$HC1)"
   ]
  },
  {
   "cell_type": "markdown",
   "id": "f4a27f73",
   "metadata": {},
   "source": [
    "## Generate tensor\n",
    "\n",
    "To generate the 4D-communication tensor, we will to create matrices with the communication scores for each of the ligand-receptor pairs within the same sample, then generate a 3D tensor for each sample, and finally concatenate them to form the 4D tensor.\n",
    "\n",
    "Briefly, we use the LIANA dataframe and communication scores to organize them as follows:\n",
    "\n",
    "![ccc-scores](https://github.com/earmingol/cell2cell/blob/master/docs/tutorials/ASD/figures/4d-tensor.png?raw=true)"
   ]
  },
  {
   "cell_type": "markdown",
   "id": "6e0e5670",
   "metadata": {},
   "source": [
    "Score pre-processing:\n",
    "\n",
    "In the previous [tutorial](./02-Infer-Communication-Scores.ipynb), we calculated the aggregate magnitude rank as the communication score. This score considers low values as the most important ones, ranging from 0 to 1. However, Tensor-cell2cell requires higher values to be the most important scores. So, prior to running Tensor-cell2cell, we subtract the rank score from 1 to adapt it. \n",
    "\n",
    "Additionally, Tensor-cell2cell expects non-negative scores. If you used a pipeline that generated negative scores, we suggest replacing these either with 0. Otherwise, by default, Tensor-cell2cell will treat these as NaN. Since we used the magnitude rank score, which is non-negative, that line of code will not change our scores.\n",
    "\n",
    "Finally, since we will be setting `how` = 'outer' with `fill` set to 0, to decrease the number of indices the decomposition must disregard, we will drop cells or LRs that are not present in atleast 1/3 of the samples. \n",
    "\n",
    "<span style='color:red'>**These are the parameters in python missing from R, wrote a function in case want to adapt and incorporate**</span>"
   ]
  },
  {
   "cell_type": "code",
   "execution_count": 8,
   "id": "22d8657c",
   "metadata": {},
   "outputs": [],
   "source": [
    "preprocess.scores<-function(context_df_dict, \n",
    "                            score_col = \"LRscore\", \n",
    "                            sender_col = \"source\", receiver_col = \"target\", \n",
    "                            ligand_col = \"ligand.complex\", receptor_col = \"receptor.complex\", \n",
    "                            outer_fraction = 0, invert = TRUE, non_negative = TRUE, non_negative_fill = 0\n",
    "                           ){\n",
    "    source.cells<-sapply(context_df_dict, function(x) x[[sender_col]])\n",
    "    target.cells<-sapply(context_df_dict, function(x) x[[receiver_col]])\n",
    "    all.cells.persample<-sapply(names(source.cells), \n",
    "                                function(sample.name) union(source.cells[[sample.name]], target.cells[[sample.name]]))\n",
    "    all.cells<-Reduce(union, unname(unlist(all.cells.persample)))\n",
    "    cell.counts.persample<- sapply(all.cells, \n",
    "                                   function(ct) length(which(sapply(all.cells.persample, function(x) ct %in% x))))\n",
    "    cells.todrop<-names(which(cell.counts.persample < (outer_fraction*length(context_df_dict))))\n",
    "\n",
    "\n",
    "    lrs.persample<-sapply(context_df_dict, function(x) paste(x[[ligand_col]], x[[receptor_col]], \n",
    "                                                             sep = '^'))\n",
    "    all.lrs<- Reduce(union, unname(unlist(lrs.persample)))\n",
    "    lr.counts.persample<-sapply(all.lrs, function (lr) length(which(sapply(lrs.persample, function(x) lr %in% x))))\n",
    "    lrs.todrop<-names(which(lr.counts.persample < (outer_fraction*length(context_df_dict))))\n",
    "\n",
    "    for (sample.name in names(context_df_dict)){\n",
    "        ccc.sample<-context_df_dict[[sample.name]]\n",
    "\n",
    "        if (invert){ccc.sample[[score_col]]=(1- ccc.sample[[score_col]])}# invert score\n",
    "        if (non_negative){ccc.sample[[score_col]][ccc.sample[[score_col]] < 0] = non_negative_fill} # make non-negative\n",
    "\n",
    "        # apply the outer_frac parameter\n",
    "        ccc.sample[(!(ccc.sample[[sender_col]] %in% cells.todrop)) &\n",
    "                   (!(ccc.sample[[receiver_col]] %in% cells.todrop)),]\n",
    "        ccc.sample<-ccc.sample[!(paste(ccc.sample[[ligand_col]], ccc.sample[[receptor_col]], \n",
    "                                   sep = '^') %in% lrs.todrop),]\n",
    "\n",
    "        context_df_dict[[sample.name]]<-ccc.sample\n",
    "    }\n",
    "    return(context_df_dict)\n",
    "}"
   ]
  },
  {
   "cell_type": "code",
   "execution_count": 9,
   "id": "5cde2f2f",
   "metadata": {},
   "outputs": [],
   "source": [
    "context_df_dict<-preprocess.scores(context_df_dict, outer_frac = 1/3, \n",
    "                                   invert = TRUE, non_negative = TRUE, non_negative_fill = 0)"
   ]
  },
  {
   "cell_type": "markdown",
   "id": "cd74ee96",
   "metadata": {},
   "source": [
    "**The key parameters when building a tensor are:**\n",
    "\n",
    "- `how` controls what ligand-receptor pairs and cell types to include when building the tensor. This decision is dependent on the number of samples including scores for their combinations of ligand-receptor and sender-receiver cell pairs. Options are:\n",
    "    - `'inner'` is the more strict option since it only considers only cell types and LR pairs that are present in all contexts (intersection).\n",
    "    - `'outer'` considers all cell types and LR pairs that are present across contexts (union).\n",
    "    - `'outer_lrs'` considers only cell types that are present in all contexts (intersection), while all LR pairs that are present across contexts (union).\n",
    "    - `'outer_cells'` considers only LR pairs that are present in all contexts (intersection), while all cell types that are present across contexts (union).\n",
    "\n",
    "- `fill` indicates what value to assign missing scores when `how` is set to `'outer'`, i.e., those cells or LR pairs that are not present in all contexts. During tensor component analysis, NaN values are masked such that they are not considered by the decomposition objective. This results in behavior of NaNs being imputed as missing values that are potentially communicating, whereas if missing LRs are filled with a value such as 0, they are treated as biological zeroes (i.e., not communicating). For additional details and discussion regarding this parameter, please see the [missing indices benchmarking](../../tc2c_benchmark/scripts/missing_indices_consistency.ipynb).\n",
    "    - `'lf_fill'`: value to fill missing (across contexts) LR pairs with\n",
    "    - `'cell_fill'`: value to fill missing (across contexts OR LR pairs) cell types with"
   ]
  },
  {
   "cell_type": "markdown",
   "id": "e2ed09d4",
   "metadata": {},
   "source": [
    "**Commented out the arguments that are available in li.multi.to_tensor_c2c but not liana::liana_tensor_c2c**"
   ]
  },
  {
   "cell_type": "code",
   "execution_count": 10,
   "id": "f2217458",
   "metadata": {},
   "outputs": [
    {
     "name": "stdout",
     "output_type": "stream",
     "text": [
      "[1] 0\n"
     ]
    },
    {
     "name": "stderr",
     "output_type": "stream",
     "text": [
      "Loading `ccc_protocols` Conda Environment\n",
      "\n",
      "Building the tensor...\n",
      "\n"
     ]
    }
   ],
   "source": [
    "tensor <- liana_tensor_c2c(context_df_dict = context_df_dict,\n",
    "                          sender_col = \"source\", # Column name of the sender cells\n",
    "                          receiver_col = \"target\", # Column name of the receiver cells\n",
    "                          ligand_col = \"ligand.complex\", # Column name of the ligands\n",
    "                          receptor_col = \"receptor.complex\", # Column name of the receptors\n",
    "                        score_col = 'LRscore', # Column name of the communication scores to use\n",
    "#                         inverse_fun=lambda x: 1 - x, # Transformation function\n",
    "#                         non_expressed_fill=None, # Value to replace missing values with \n",
    "                        how='outer',  # What to include across all samples\n",
    "                        lr_fill = NaN, # What to fill missing LRs with \n",
    "                        cell_fill = NaN, # What to fill missing cell types with \n",
    "#                         outer_fraction=1/3., # Fraction of samples as threshold to include cells and LR pairs.\n",
    "                        lr_sep='^', # How to separate ligand and receptor names to name LR pair\n",
    "                        context_order=sorted_names, # Order to store the contexts in the tensor\n",
    "                        sort_elements = TRUE, # Whether sorting alphabetically element names of each tensor dim. Does not apply for context order if context_order is passed.\n",
    "                        conda_env = env_name, # used to pass an existing conda env with cell2cell\n",
    "                        build_only = TRUE, # set this to FALSE to combine the downstream rank selection and decomposition steps all here \n",
    "                        device = device # Device to use when backend is pytorch.\n",
    "                            )"
   ]
  },
  {
   "cell_type": "markdown",
   "id": "745d7311",
   "metadata": {},
   "source": [
    "## Evaluate some tensor properties\n",
    "\n",
    "### Tensor shape\n",
    "This indicates the number of elements in each tensor dimension: (Contexts, LR pairs, Sender cells, Receiver cells)"
   ]
  },
  {
   "cell_type": "code",
   "execution_count": 11,
   "id": "bfa209d6",
   "metadata": {},
   "outputs": [
    {
     "data": {
      "text/plain": [
       "NULL"
      ]
     },
     "metadata": {},
     "output_type": "display_data"
    }
   ],
   "source": [
    "dim(tensor$tensor)"
   ]
  },
  {
   "cell_type": "markdown",
   "id": "8b8038ce",
   "metadata": {},
   "source": [
    "### Missing values\n",
    "This represents the fraction of values that are missing. In this case, missing values are combinations of contexts x LR pairs x Sender cells x Receiver cells that did not have a communication score or were missing in the dataframes."
   ]
  },
  {
   "cell_type": "code",
   "execution_count": 12,
   "id": "3b8df693",
   "metadata": {},
   "outputs": [
    {
     "data": {
      "text/html": [
       "0.889944195747375"
      ],
      "text/latex": [
       "0.889944195747375"
      ],
      "text/markdown": [
       "0.889944195747375"
      ],
      "text/plain": [
       "[1] 0.8899442"
      ]
     },
     "metadata": {},
     "output_type": "display_data"
    }
   ],
   "source": [
    "tensor$missing_fraction()"
   ]
  },
  {
   "cell_type": "markdown",
   "id": "021b564d",
   "metadata": {},
   "source": [
    "### Sparsity\n",
    "This represents the fraction of values that are a real zero (excluding the missing values)"
   ]
  },
  {
   "cell_type": "code",
   "execution_count": 13,
   "id": "4abcc690",
   "metadata": {},
   "outputs": [
    {
     "data": {
      "text/html": [
       "0.0368980504572392"
      ],
      "text/latex": [
       "0.0368980504572392"
      ],
      "text/markdown": [
       "0.0368980504572392"
      ],
      "text/plain": [
       "[1] 0.03689805"
      ]
     },
     "metadata": {},
     "output_type": "display_data"
    }
   ],
   "source": [
    "tensor$sparsity_fraction()"
   ]
  },
  {
   "cell_type": "markdown",
   "id": "b1a3c7de",
   "metadata": {},
   "source": [
    "### Fraction of excluded elements\n",
    "This represents the fraction of values that are ignored (masked) in the analysis. In this case it coincides with the missing values because we did not generate a new `tensor.mask` to manually ignore specific values. Instead, it automatically excluded the missing values."
   ]
  },
  {
   "cell_type": "code",
   "execution_count": 14,
   "id": "3aed0f75",
   "metadata": {},
   "outputs": [
    {
     "data": {
      "text/html": [
       "0.889944210648537"
      ],
      "text/latex": [
       "0.889944210648537"
      ],
      "text/markdown": [
       "0.889944210648537"
      ],
      "text/plain": [
       "[1] 0.8899442"
      ]
     },
     "metadata": {},
     "output_type": "display_data"
    }
   ],
   "source": [
    "tensor$excluded_value_fraction() # Percentage of values in the tensor that are masked/missing"
   ]
  },
  {
   "cell_type": "markdown",
   "id": "def0d439",
   "metadata": {},
   "source": [
    "## Export Tensor\n",
    "\n",
    "Here we will save the `tensor` so we can use it later with other analyses."
   ]
  },
  {
   "cell_type": "code",
   "execution_count": 15,
   "id": "bbc76f90",
   "metadata": {},
   "outputs": [],
   "source": [
    "reticulate::py_save_object(object = tensor, \n",
    "                           filename = paste0(output_folder, 'BALF-Tensor-R.pkl'))"
   ]
  }
 ],
 "metadata": {
  "kernelspec": {
   "display_name": "R [conda env:ccc_protocols]",
   "language": "R",
   "name": "conda-env-ccc_protocols-r"
  },
  "language_info": {
   "codemirror_mode": "r",
   "file_extension": ".r",
   "mimetype": "text/x-r-source",
   "name": "R",
   "pygments_lexer": "r",
   "version": "4.1.3"
  }
 },
 "nbformat": 4,
 "nbformat_minor": 5
}
