{
 "cells": [
  {
   "cell_type": "markdown",
   "id": "6d3b3320",
   "metadata": {},
   "source": [
    "### Discussion\n",
    "\n",
    "Here, we discuss the intricacies of batch correction with regards to CCC scoring and Tensor-cell2cell.\n",
    "\n",
    "For use with Tensor-cell2cell, we want a dataset that represents >2 contexts. When considering 2 or more contexts, these are typically derived from different samples and/or measurments, and thus introduce batch effects.  \n",
    "\n",
    "#### Replicates\n",
    "Our dataset should contain [replicates](https://www.nature.com/articles/nmeth.3091). Replicates will allow us to ensure that the output factors are not simply due to technical effects (i.e., a factor with high loadings for just one replicate in the context dimension). We will use a [BALF COVID dataset](https://doi.org/10.1038/s41591-020-0901-9), which contains 12 samples associated with \"Healthy Control\", \"Moderate\", or \"Severe\" COVID contexts. This dataset does not contain technical replicates since each sample was taken from a different patient, but each sample associated with a context is a biological replicate. \n",
    "\n",
    "\n",
    "#### Batch correction\n",
    "[Batch correction](https://www.nature.com/articles/s41592-018-0254-1) removes technical variation while preserving biological variation between samples. We can reasonably assume that the biological variation in samples between contexts will be greater than that of those within contexts after using appropriate batch correction to remove technical variation. Thus, we expect Tensor-cell2cell to capture overall communication trends differing between contexts and can then assess that output factors aren't simply due to technical effects by checking that the output factors have similar loadings for biological replicates and do not have  high loadings for just one sample in the context dimension. \n",
    "\n",
    "#### Benchmarking Batch Effects\n",
    "\n",
    "Using simulated data and metrics of batch severity (kBET and NMI), we saw that Tensor-cell2cell is robust to batch effects approaching **XXX** severity (see benchmarking/batch_correction for details). Applying these metrics to your own dataset should help you determine whether batch correction is necessary prior to running Tensor-cell2cell.\n",
    "\n",
    "***add png here**\n",
    "\n",
    "#### Introduction of Negative Counts\n",
    "\n",
    "Since CCC uses gene expression values to infer communication, a pre-requesite on selection of batch effect correction method is that it returns a corrected counts matrix rather than a latent/reduced space representation (see [Table 1](https://doi.org/10.1093/nargab/lqac022) for examples). \n",
    "\n",
    "Secondly, most batch correction methods that return a counts matrix introduce negative counts. Below, we show a simple example with a batch correction method that 1) returns a corrected counts matrix, and 2) returns non-negative counts. Here, we discuss further the problems with negative counts in CCC. \n",
    "\n",
    "* Problem 1: Negative expression values can distort scoring functions that include multiplicative functions of ligands and receptors. Take the scenario in which a ligand has a negative count and a receptor has a negative count, this will yield a positive communication score, assumed to be strong. \n",
    "* Problem 2: Negative expression values can yield negative communication scores, which the non-negative tensor decomposition algorithm used by Tensor-cell2cell disregards in its optimization. \n",
    "\n",
    "Regardless, we show that Tensor-cell2cell can robustly identify communication patterns even in the presence of negative counts introduced during batch correction (see benchmarking/batch_correction for details). This is likely due to the key fact: negative counts and communication scores represent lower strength interactions that do not have a strong influence on the overall communication. If using a preferred batch correction method that introduces negative counts, to address the above problems, follow these recommendations: \n",
    "* Recommendation 1: Try using methods that have additive rather than multiplicative functions for scoring of ligand-receptor pairs. \n",
    "* Recommendation 2a: If the scoring method cannot handle negative values, replace these with NaN. These are genes that are more lowly expressed anyways, so disregarding their communication score is ok. \n",
    "* Recommendation 2b: If the scoring method can handle negative values, the final tensor will contain negative values. Use a mask to have Tensor-cell2cell disregard these values when running the decomposition. Assuming an additive scoring function was used, these are communication scores that are lower strength anyways, so disregarding them is ok. \n",
    "\n"
   ]
  },
  {
   "cell_type": "markdown",
   "id": "b5c71f1e",
   "metadata": {},
   "source": [
    "### Application "
   ]
  },
  {
   "cell_type": "code",
   "execution_count": 5,
   "id": "c6f4c93d",
   "metadata": {},
   "outputs": [],
   "source": [
    "library(Seurat, quietly = T)\n",
    "\n",
    "seed<-888\n",
    "set.seed(seed)\n",
    "data.path<-'/data3/hratch/ccc_protocols/'"
   ]
  },
  {
   "cell_type": "markdown",
   "id": "9f30a5af",
   "metadata": {},
   "source": [
    "First, let's load our normalized expression data from Tutorial 1:"
   ]
  },
  {
   "cell_type": "code",
   "execution_count": 6,
   "id": "aaa72164",
   "metadata": {},
   "outputs": [],
   "source": [
    "balf.samples<-readRDS(paste0(data.path, 'interim/covid_balf_norm.rds'))"
   ]
  },
  {
   "cell_type": "markdown",
   "id": "f20f6cf9",
   "metadata": {},
   "source": [
    "## Simple Example: Batch corrected counts with only non-negative values\n",
    "\n",
    "[scVI](https://doi.org/10.1038/s41592-018-0229-2) implements a batch correction method that can return non-negative corrected counts, and it also [benchmarked](https://doi.org/10.1038/s41592-021-01336-8) to work well. \n",
    "\n",
    "We format our list by [merging](https://satijalab.org/seurat/articles/merge_vignette.html) it into a single Seurat Object:"
   ]
  },
  {
   "cell_type": "code",
   "execution_count": 7,
   "id": "368ff8d3",
   "metadata": {},
   "outputs": [],
   "source": [
    "library(RCurl)\n",
    "\n",
    "library(sceasy)\n",
    "library(reticulate)\n",
    "scvi <- import(\"scvi\", convert = FALSE)"
   ]
  },
  {
   "cell_type": "code",
   "execution_count": 8,
   "id": "ae626cb0",
   "metadata": {},
   "outputs": [],
   "source": [
    "balf.combined<- merge(balf.samples[[1]], y = balf.samples[2:length(balf.samples)], add.cell.ids = names(balf.samples))"
   ]
  },
  {
   "cell_type": "markdown",
   "id": "e9303d82",
   "metadata": {},
   "source": [
    "Since CCC inference tools only consider a subset of the genes (those present in ligand-receptor databases), we do not filter for highly variable genes as this would exclude too many LRs and decrease the power of communication inference. \n",
    "\n",
    "However, if runtime with scVI is a concern, we can conduct the following optional step prior to batch correction: filtering for only genes present in the LR database that you will use for communication scoring. Here, we use the [CellChat](https://doi.org/10.1038/s41467-021-21246-9) database as an example. \n",
    "\n",
    "**ToDO**: can we change this to be from LIANA directly?"
   ]
  },
  {
   "cell_type": "code",
   "execution_count": 9,
   "id": "e02b6fd9",
   "metadata": {},
   "outputs": [],
   "source": [
    "# optional step: \n",
    "\n",
    "# get the CellChatDB\n",
    "hl <- RCurl::getURL('https://raw.githubusercontent.com/LewisLabUCSD/Ligand-Receptor-Pairs/master/Human/Human-2020-Jin-LR-pairs.csv')\n",
    "lr.pairs <- read.csv(text = hl)\n",
    "\n",
    "# separate complexes and join LRs\n",
    "receptors = lr.pairs$receptor_symbol\n",
    "receptors<-unname(unlist(sapply(receptors, function(x) strsplit(x, '&'))))                           \n",
    "ligands = lr.pairs$ligand_symbol\n",
    "ligands<-unname(unlist(sapply(ligands, function(x) strsplit(x, '&'))))\n",
    "lrs<-sort(unique(c(receptors, ligands)))\n",
    " \n",
    "# subset to present lrs                            \n",
    "balf.combined<-subset(balf.combined, features = lrs[lrs %in% rownames(balf.combined)])"
   ]
  },
  {
   "cell_type": "code",
   "execution_count": 10,
   "id": "fa9c6268",
   "metadata": {},
   "outputs": [
    {
     "data": {
      "text/plain": [
       "An object of class Seurat \n",
       "765 features across 63103 samples within 1 assay \n",
       "Active assay: RNA (765 features, 0 variable features)"
      ]
     },
     "metadata": {},
     "output_type": "display_data"
    }
   ],
   "source": [
    "balf.combined"
   ]
  },
  {
   "cell_type": "code",
   "execution_count": 11,
   "id": "026c9375",
   "metadata": {},
   "outputs": [
    {
     "name": "stderr",
     "output_type": "stream",
     "text": [
      "   [[ suppressing 34 column names ‘C100_AAACCCACAGCTACAT-1’, ‘C100_AAACCCATCCACGGGT-1’, ‘C100_AAACCCATCCCATTCG-1’ ... ]]\n",
      "\n"
     ]
    },
    {
     "data": {
      "text/plain": [
       "6 x 63103 sparse Matrix of class \"dgCMatrix\"\n",
       "                                                                          \n",
       "ACKR2  . . . . . . . . . . . . . . . . . . . . . . . . . . . . . . . . . .\n",
       "ACKR3  . . . 5 . . . . . 6 . . . . . . . 1 5 1 . . . . 2 . . 1 . 1 . . . .\n",
       "ACKR4  . . . . . . . . . . . . . . . . . . . . . . . . . . . . . . . . . .\n",
       "ACVR1  1 . . . . . . 1 . 2 1 . . . . . . . . 1 1 . . . . . . 1 . . . . 1 .\n",
       "ACVR1B . . . . . . . . . . . . . . . . . . . . . 1 . . . . 1 . . . . . . .\n",
       "ACVR1C . . . . . . . . . . . . . . . . . . . . . . . . . . . . . . . . . .\n",
       "             \n",
       "ACKR2  ......\n",
       "ACKR3  ......\n",
       "ACKR4  ......\n",
       "ACVR1  ......\n",
       "ACVR1B ......\n",
       "ACVR1C ......\n",
       "\n",
       " .....suppressing 63069 columns in show(); maybe adjust 'options(max.print= *, width = *)'\n",
       " .............................."
      ]
     },
     "metadata": {},
     "output_type": "display_data"
    }
   ],
   "source": [
    "head(balf.combined@assays$RNA@counts)"
   ]
  },
  {
   "cell_type": "markdown",
   "id": "7c019b2c",
   "metadata": {},
   "source": [
    "Next, we can run scVI according to the [tutorial](https://docs.scvi-tools.org/en/stable/tutorials/notebooks/scvi_in_R.html):"
   ]
  },
  {
   "cell_type": "code",
   "execution_count": 12,
   "id": "56897f32",
   "metadata": {},
   "outputs": [],
   "source": [
    "balf.combined<-sceasy::convertFormat(balf.combined, from =\"seurat\", to=\"anndata\", main_layer=\"counts\", \n",
    "                                     drop_single_values=FALSE)"
   ]
  },
  {
   "cell_type": "code",
   "execution_count": 8,
   "id": "9879fce5",
   "metadata": {},
   "outputs": [
    {
     "data": {
      "text/plain": [
       "None"
      ]
     },
     "metadata": {},
     "output_type": "display_data"
    },
    {
     "data": {
      "text/plain": [
       "None"
      ]
     },
     "metadata": {},
     "output_type": "display_data"
    }
   ],
   "source": [
    "set.seed(0)\n",
    "scvi$model$SCVI$setup_anndata(balf.combined, batch_key = 'Sample.ID')\n",
    "model = scvi$model$SCVI(balf.combined, n_layers = 2L, n_latent = 30L, gene_likelihood= \"nb\") # non-default args - \n",
    "model$train()"
   ]
  },
  {
   "cell_type": "markdown",
   "id": "ef509f7f",
   "metadata": {},
   "source": [
    "scVI's batch corrected matrix has the added benefit of being formatted like a depth-normalized matrix. Transforming this with log1p will put it in a similar format as log(1+CPM)."
   ]
  },
  {
   "cell_type": "code",
   "execution_count": 9,
   "id": "c23ea9f2",
   "metadata": {},
   "outputs": [
    {
     "data": {
      "text/html": [
       "<table class=\"dataframe\">\n",
       "<caption>A matrix: 6 × 63103 of type dbl</caption>\n",
       "<thead>\n",
       "\t<tr><th></th><th scope=col>C100_AAACCCACAGCTACAT-1</th><th scope=col>C100_AAACCCATCCACGGGT-1</th><th scope=col>C100_AAACCCATCCCATTCG-1</th><th scope=col>C100_AAACGAACAAACAGGC-1</th><th scope=col>C100_AAACGAAGTCGCACAC-1</th><th scope=col>C100_AAACGAAGTCTATGAC-1</th><th scope=col>C100_AAACGAAGTGTAGTGG-1</th><th scope=col>C100_AAACGCTGTCACGTGC-1</th><th scope=col>C100_AAACGCTGTTGGAGGT-1</th><th scope=col>C100_AAAGAACTCTAGAACC-1</th><th scope=col>⋯</th><th scope=col>C52_TTTGTCAGTGTCAATC-1</th><th scope=col>C52_TTTGTCAGTGTGAAAT-1</th><th scope=col>C52_TTTGTCATCAGTTAGC-1</th><th scope=col>C52_TTTGTCATCCAGTATG-1</th><th scope=col>C52_TTTGTCATCCCTAATT-1</th><th scope=col>C52_TTTGTCATCGATAGAA-1</th><th scope=col>C52_TTTGTCATCGGAAATA-1</th><th scope=col>C52_TTTGTCATCGGTCCGA-1</th><th scope=col>C52_TTTGTCATCTCACATT-1</th><th scope=col>C52_TTTGTCATCTCCAACC-1</th></tr>\n",
       "</thead>\n",
       "<tbody>\n",
       "\t<tr><th scope=row>ACKR2</th><td>1.283241</td><td>2.014318</td><td>1.1279008</td><td>0.2590926</td><td>0.3994529</td><td>1.923254</td><td>0.4924334</td><td>1.420789</td><td>0.7050416</td><td>0.2992088</td><td>⋯</td><td>0.9756578</td><td>0.7842626</td><td>1.252644</td><td>1.275348</td><td>0.7998077</td><td>1.336386</td><td>1.938972</td><td>0.7883438</td><td>0.8397672</td><td>0.4684761</td></tr>\n",
       "\t<tr><th scope=row>ACKR3</th><td>5.225464</td><td>5.081991</td><td>3.2819411</td><td>6.4156503</td><td>5.4199048</td><td>2.955636</td><td>4.4852005</td><td>3.531504</td><td>5.8149713</td><td>6.9652176</td><td>⋯</td><td>3.9997808</td><td>4.1867009</td><td>4.507971</td><td>3.874483</td><td>3.5567510</td><td>4.037932</td><td>3.595410</td><td>3.6328400</td><td>5.1635154</td><td>6.2748763</td></tr>\n",
       "\t<tr><th scope=row>ACKR4</th><td>1.270339</td><td>3.800042</td><td>0.9486992</td><td>0.5444351</td><td>1.7746790</td><td>2.982699</td><td>0.9904066</td><td>2.485552</td><td>1.8266945</td><td>1.7041898</td><td>⋯</td><td>1.5416760</td><td>1.1495080</td><td>2.011045</td><td>1.164759</td><td>2.4805874</td><td>3.039310</td><td>1.793038</td><td>1.6229188</td><td>1.0483807</td><td>1.1437640</td></tr>\n",
       "\t<tr><th scope=row>ACVR1</th><td>6.221755</td><td>6.519434</td><td>5.9303213</td><td>5.2539786</td><td>5.4150169</td><td>5.154817</td><td>5.8265839</td><td>5.560836</td><td>5.4222423</td><td>5.7798103</td><td>⋯</td><td>5.2057511</td><td>4.9446762</td><td>5.995573</td><td>5.401917</td><td>5.4384499</td><td>5.121652</td><td>5.443285</td><td>5.1498417</td><td>5.7672026</td><td>5.3364292</td></tr>\n",
       "\t<tr><th scope=row>ACVR1B</th><td>4.020944</td><td>6.719118</td><td>4.7649436</td><td>5.3688274</td><td>6.2614555</td><td>4.467631</td><td>6.0154724</td><td>4.592467</td><td>6.2905916</td><td>5.7646415</td><td>⋯</td><td>5.3702008</td><td>5.0188030</td><td>5.825969</td><td>6.594711</td><td>5.6006534</td><td>5.515707</td><td>5.754275</td><td>5.7002365</td><td>5.2424440</td><td>5.8293260</td></tr>\n",
       "\t<tr><th scope=row>ACVR1C</th><td>3.447239</td><td>4.362259</td><td>4.7644632</td><td>1.5080620</td><td>1.1731801</td><td>2.356233</td><td>1.0052726</td><td>2.494201</td><td>2.0532030</td><td>1.6715363</td><td>⋯</td><td>1.5956861</td><td>1.1101224</td><td>2.032625</td><td>1.644986</td><td>2.1685080</td><td>1.383590</td><td>1.155425</td><td>0.9965123</td><td>2.8551377</td><td>1.4848984</td></tr>\n",
       "</tbody>\n",
       "</table>\n"
      ],
      "text/latex": [
       "A matrix: 6 × 63103 of type dbl\n",
       "\\begin{tabular}{r|lllllllllllllllllllll}\n",
       "  & C100\\_AAACCCACAGCTACAT-1 & C100\\_AAACCCATCCACGGGT-1 & C100\\_AAACCCATCCCATTCG-1 & C100\\_AAACGAACAAACAGGC-1 & C100\\_AAACGAAGTCGCACAC-1 & C100\\_AAACGAAGTCTATGAC-1 & C100\\_AAACGAAGTGTAGTGG-1 & C100\\_AAACGCTGTCACGTGC-1 & C100\\_AAACGCTGTTGGAGGT-1 & C100\\_AAAGAACTCTAGAACC-1 & ⋯ & C52\\_TTTGTCAGTGTCAATC-1 & C52\\_TTTGTCAGTGTGAAAT-1 & C52\\_TTTGTCATCAGTTAGC-1 & C52\\_TTTGTCATCCAGTATG-1 & C52\\_TTTGTCATCCCTAATT-1 & C52\\_TTTGTCATCGATAGAA-1 & C52\\_TTTGTCATCGGAAATA-1 & C52\\_TTTGTCATCGGTCCGA-1 & C52\\_TTTGTCATCTCACATT-1 & C52\\_TTTGTCATCTCCAACC-1\\\\\n",
       "\\hline\n",
       "\tACKR2 & 1.283241 & 2.014318 & 1.1279008 & 0.2590926 & 0.3994529 & 1.923254 & 0.4924334 & 1.420789 & 0.7050416 & 0.2992088 & ⋯ & 0.9756578 & 0.7842626 & 1.252644 & 1.275348 & 0.7998077 & 1.336386 & 1.938972 & 0.7883438 & 0.8397672 & 0.4684761\\\\\n",
       "\tACKR3 & 5.225464 & 5.081991 & 3.2819411 & 6.4156503 & 5.4199048 & 2.955636 & 4.4852005 & 3.531504 & 5.8149713 & 6.9652176 & ⋯ & 3.9997808 & 4.1867009 & 4.507971 & 3.874483 & 3.5567510 & 4.037932 & 3.595410 & 3.6328400 & 5.1635154 & 6.2748763\\\\\n",
       "\tACKR4 & 1.270339 & 3.800042 & 0.9486992 & 0.5444351 & 1.7746790 & 2.982699 & 0.9904066 & 2.485552 & 1.8266945 & 1.7041898 & ⋯ & 1.5416760 & 1.1495080 & 2.011045 & 1.164759 & 2.4805874 & 3.039310 & 1.793038 & 1.6229188 & 1.0483807 & 1.1437640\\\\\n",
       "\tACVR1 & 6.221755 & 6.519434 & 5.9303213 & 5.2539786 & 5.4150169 & 5.154817 & 5.8265839 & 5.560836 & 5.4222423 & 5.7798103 & ⋯ & 5.2057511 & 4.9446762 & 5.995573 & 5.401917 & 5.4384499 & 5.121652 & 5.443285 & 5.1498417 & 5.7672026 & 5.3364292\\\\\n",
       "\tACVR1B & 4.020944 & 6.719118 & 4.7649436 & 5.3688274 & 6.2614555 & 4.467631 & 6.0154724 & 4.592467 & 6.2905916 & 5.7646415 & ⋯ & 5.3702008 & 5.0188030 & 5.825969 & 6.594711 & 5.6006534 & 5.515707 & 5.754275 & 5.7002365 & 5.2424440 & 5.8293260\\\\\n",
       "\tACVR1C & 3.447239 & 4.362259 & 4.7644632 & 1.5080620 & 1.1731801 & 2.356233 & 1.0052726 & 2.494201 & 2.0532030 & 1.6715363 & ⋯ & 1.5956861 & 1.1101224 & 2.032625 & 1.644986 & 2.1685080 & 1.383590 & 1.155425 & 0.9965123 & 2.8551377 & 1.4848984\\\\\n",
       "\\end{tabular}\n"
      ],
      "text/markdown": [
       "\n",
       "A matrix: 6 × 63103 of type dbl\n",
       "\n",
       "| <!--/--> | C100_AAACCCACAGCTACAT-1 | C100_AAACCCATCCACGGGT-1 | C100_AAACCCATCCCATTCG-1 | C100_AAACGAACAAACAGGC-1 | C100_AAACGAAGTCGCACAC-1 | C100_AAACGAAGTCTATGAC-1 | C100_AAACGAAGTGTAGTGG-1 | C100_AAACGCTGTCACGTGC-1 | C100_AAACGCTGTTGGAGGT-1 | C100_AAAGAACTCTAGAACC-1 | ⋯ | C52_TTTGTCAGTGTCAATC-1 | C52_TTTGTCAGTGTGAAAT-1 | C52_TTTGTCATCAGTTAGC-1 | C52_TTTGTCATCCAGTATG-1 | C52_TTTGTCATCCCTAATT-1 | C52_TTTGTCATCGATAGAA-1 | C52_TTTGTCATCGGAAATA-1 | C52_TTTGTCATCGGTCCGA-1 | C52_TTTGTCATCTCACATT-1 | C52_TTTGTCATCTCCAACC-1 |\n",
       "|---|---|---|---|---|---|---|---|---|---|---|---|---|---|---|---|---|---|---|---|---|---|\n",
       "| ACKR2 | 1.283241 | 2.014318 | 1.1279008 | 0.2590926 | 0.3994529 | 1.923254 | 0.4924334 | 1.420789 | 0.7050416 | 0.2992088 | ⋯ | 0.9756578 | 0.7842626 | 1.252644 | 1.275348 | 0.7998077 | 1.336386 | 1.938972 | 0.7883438 | 0.8397672 | 0.4684761 |\n",
       "| ACKR3 | 5.225464 | 5.081991 | 3.2819411 | 6.4156503 | 5.4199048 | 2.955636 | 4.4852005 | 3.531504 | 5.8149713 | 6.9652176 | ⋯ | 3.9997808 | 4.1867009 | 4.507971 | 3.874483 | 3.5567510 | 4.037932 | 3.595410 | 3.6328400 | 5.1635154 | 6.2748763 |\n",
       "| ACKR4 | 1.270339 | 3.800042 | 0.9486992 | 0.5444351 | 1.7746790 | 2.982699 | 0.9904066 | 2.485552 | 1.8266945 | 1.7041898 | ⋯ | 1.5416760 | 1.1495080 | 2.011045 | 1.164759 | 2.4805874 | 3.039310 | 1.793038 | 1.6229188 | 1.0483807 | 1.1437640 |\n",
       "| ACVR1 | 6.221755 | 6.519434 | 5.9303213 | 5.2539786 | 5.4150169 | 5.154817 | 5.8265839 | 5.560836 | 5.4222423 | 5.7798103 | ⋯ | 5.2057511 | 4.9446762 | 5.995573 | 5.401917 | 5.4384499 | 5.121652 | 5.443285 | 5.1498417 | 5.7672026 | 5.3364292 |\n",
       "| ACVR1B | 4.020944 | 6.719118 | 4.7649436 | 5.3688274 | 6.2614555 | 4.467631 | 6.0154724 | 4.592467 | 6.2905916 | 5.7646415 | ⋯ | 5.3702008 | 5.0188030 | 5.825969 | 6.594711 | 5.6006534 | 5.515707 | 5.754275 | 5.7002365 | 5.2424440 | 5.8293260 |\n",
       "| ACVR1C | 3.447239 | 4.362259 | 4.7644632 | 1.5080620 | 1.1731801 | 2.356233 | 1.0052726 | 2.494201 | 2.0532030 | 1.6715363 | ⋯ | 1.5956861 | 1.1101224 | 2.032625 | 1.644986 | 2.1685080 | 1.383590 | 1.155425 | 0.9965123 | 2.8551377 | 1.4848984 |\n",
       "\n"
      ],
      "text/plain": [
       "       C100_AAACCCACAGCTACAT-1 C100_AAACCCATCCACGGGT-1 C100_AAACCCATCCCATTCG-1\n",
       "ACKR2  1.283241                2.014318                1.1279008              \n",
       "ACKR3  5.225464                5.081991                3.2819411              \n",
       "ACKR4  1.270339                3.800042                0.9486992              \n",
       "ACVR1  6.221755                6.519434                5.9303213              \n",
       "ACVR1B 4.020944                6.719118                4.7649436              \n",
       "ACVR1C 3.447239                4.362259                4.7644632              \n",
       "       C100_AAACGAACAAACAGGC-1 C100_AAACGAAGTCGCACAC-1 C100_AAACGAAGTCTATGAC-1\n",
       "ACKR2  0.2590926               0.3994529               1.923254               \n",
       "ACKR3  6.4156503               5.4199048               2.955636               \n",
       "ACKR4  0.5444351               1.7746790               2.982699               \n",
       "ACVR1  5.2539786               5.4150169               5.154817               \n",
       "ACVR1B 5.3688274               6.2614555               4.467631               \n",
       "ACVR1C 1.5080620               1.1731801               2.356233               \n",
       "       C100_AAACGAAGTGTAGTGG-1 C100_AAACGCTGTCACGTGC-1 C100_AAACGCTGTTGGAGGT-1\n",
       "ACKR2  0.4924334               1.420789                0.7050416              \n",
       "ACKR3  4.4852005               3.531504                5.8149713              \n",
       "ACKR4  0.9904066               2.485552                1.8266945              \n",
       "ACVR1  5.8265839               5.560836                5.4222423              \n",
       "ACVR1B 6.0154724               4.592467                6.2905916              \n",
       "ACVR1C 1.0052726               2.494201                2.0532030              \n",
       "       C100_AAAGAACTCTAGAACC-1 ⋯ C52_TTTGTCAGTGTCAATC-1 C52_TTTGTCAGTGTGAAAT-1\n",
       "ACKR2  0.2992088               ⋯ 0.9756578              0.7842626             \n",
       "ACKR3  6.9652176               ⋯ 3.9997808              4.1867009             \n",
       "ACKR4  1.7041898               ⋯ 1.5416760              1.1495080             \n",
       "ACVR1  5.7798103               ⋯ 5.2057511              4.9446762             \n",
       "ACVR1B 5.7646415               ⋯ 5.3702008              5.0188030             \n",
       "ACVR1C 1.6715363               ⋯ 1.5956861              1.1101224             \n",
       "       C52_TTTGTCATCAGTTAGC-1 C52_TTTGTCATCCAGTATG-1 C52_TTTGTCATCCCTAATT-1\n",
       "ACKR2  1.252644               1.275348               0.7998077             \n",
       "ACKR3  4.507971               3.874483               3.5567510             \n",
       "ACKR4  2.011045               1.164759               2.4805874             \n",
       "ACVR1  5.995573               5.401917               5.4384499             \n",
       "ACVR1B 5.825969               6.594711               5.6006534             \n",
       "ACVR1C 2.032625               1.644986               2.1685080             \n",
       "       C52_TTTGTCATCGATAGAA-1 C52_TTTGTCATCGGAAATA-1 C52_TTTGTCATCGGTCCGA-1\n",
       "ACKR2  1.336386               1.938972               0.7883438             \n",
       "ACKR3  4.037932               3.595410               3.6328400             \n",
       "ACKR4  3.039310               1.793038               1.6229188             \n",
       "ACVR1  5.121652               5.443285               5.1498417             \n",
       "ACVR1B 5.515707               5.754275               5.7002365             \n",
       "ACVR1C 1.383590               1.155425               0.9965123             \n",
       "       C52_TTTGTCATCTCACATT-1 C52_TTTGTCATCTCCAACC-1\n",
       "ACKR2  0.8397672              0.4684761             \n",
       "ACKR3  5.1635154              6.2748763             \n",
       "ACKR4  1.0483807              1.1437640             \n",
       "ACVR1  5.7672026              5.3364292             \n",
       "ACVR1B 5.2424440              5.8293260             \n",
       "ACVR1C 2.8551377              1.4848984             "
      ]
     },
     "metadata": {},
     "output_type": "display_data"
    }
   ],
   "source": [
    "# library size and log1p make it similar to log(1+CPM) normalization, but with batch correction\n",
    "# batch corrected counts: https://discourse.scverse.org/t/how-to-extract-batch-corrected-expression-matrix-from-trained-scvi-vae-model/151\n",
    "\n",
    "contexts<-sort(unlist(unname(unique(reticulate::py_to_r(balf.combined$obs$orig.ident)))))\n",
    "corrected.data = model$get_normalized_expression(transform_batch = contexts,\n",
    "                                                library_size = 1e6) # depth normalization\n",
    "corrected.data<-t(log1p(reticulate::py_to_r(corrected.data))) # log1p transformation\n",
    "write.csv(corrected.data, paste0(data_path, 'interim/R_scvi_corrected_counts.csv'))\n",
    "head(corrected.data)"
   ]
  },
  {
   "cell_type": "markdown",
   "id": "38d7cee8",
   "metadata": {},
   "source": [
    "This corrected data matrix can replace the log(1+CPM) matrix used in tutorials 02 onwards for downstream analyses, if desired. Note, outputs won't be identical to companion Python tutorial in this case due to stochastic steps in scVI. \n",
    "\n",
    "**To do: should I show how to replace this in the actual Seurat object?**"
   ]
  },
  {
   "cell_type": "markdown",
   "id": "bc14ceeb",
   "metadata": {},
   "source": [
    "## Complex Example: Batch corrected counts containing negative values"
   ]
  }
 ],
 "metadata": {
  "kernelspec": {
   "display_name": "R [conda env:ccc_protocols]",
   "language": "R",
   "name": "conda-env-ccc_protocols-r"
  },
  "language_info": {
   "codemirror_mode": "r",
   "file_extension": ".r",
   "mimetype": "text/x-r-source",
   "name": "R",
   "pygments_lexer": "r",
   "version": "4.1.3"
  }
 },
 "nbformat": 4,
 "nbformat_minor": 5
}
