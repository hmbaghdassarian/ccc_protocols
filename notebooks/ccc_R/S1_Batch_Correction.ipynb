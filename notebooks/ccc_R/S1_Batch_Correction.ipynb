{
 "cells": [
  {
   "cell_type": "markdown",
   "id": "d94b8e4a",
   "metadata": {},
   "source": [
    "# S1. Batch Correction"
   ]
  },
  {
   "cell_type": "markdown",
   "id": "3fbfcfc4",
   "metadata": {},
   "source": [
    "[Batch correction](https://www.nature.com/articles/s41592-018-0254-1) removes technical variation while preserving biological variation between samples. This is a processing step that can be applied to our dataset after normalization (see [Tutorial 01](./01-Preprocess-Expression.ipynb) for processing steps up to normalization). Additional considerations for expression data to be compatible with CCC inference and Tensor-cell2cell is that counts should  be non-negative.  \n",
    "\n",
    "Here, we demonstrate batch correction with [scVI](https://docs.scvi-tools.org/en/stable/tutorials/notebooks/harmonization.html), a method that yield non-negative corrected counts and also has been [benchmarked](https://www.nature.com/articles/s41592-021-01336-8) to work well."
   ]
  },
  {
   "cell_type": "code",
   "execution_count": 1,
   "id": "c3f00e7c",
   "metadata": {},
   "outputs": [],
   "source": [
    "suppressMessages({\n",
    "    library(SingleCellExperiment, quietly = T)\n",
    "    library(zellkonverter, quietly = TRUE)\n",
    "\n",
    "    library(reticulate, quietly = T)\n",
    "    scvi <- import(\"scvi\", convert = FALSE)\n",
    "})"
   ]
  },
  {
   "cell_type": "code",
   "execution_count": 2,
   "id": "c913eb28",
   "metadata": {},
   "outputs": [],
   "source": [
    "data.path <- file.path('..', '..', 'data')\n",
    "\n",
    "seed<-888\n",
    "scvi$settings$seed = as.integer(seed)\n",
    "\n",
    "use_gpu<-TRUE\n",
    "if (!use_gpu){\n",
    "    n.cores<-1\n",
    "    scvi$settings$num_threads = as.integer(1)\n",
    "    scvi$settings$dl_num_workers = as.integer(n.cores)\n",
    "}"
   ]
  },
  {
   "cell_type": "markdown",
   "id": "3c5b2586",
   "metadata": {},
   "source": [
    "Load and prepare the data:"
   ]
  },
  {
   "cell_type": "code",
   "execution_count": 3,
   "id": "fb87101b",
   "metadata": {},
   "outputs": [],
   "source": [
    "covid_data <- readRDS(file.path(data.path, 'covid_balf_norm.rds'))\n",
    "adata.batch<-zellkonverter::SCE2AnnData(covid_data, \n",
    "                                        X_name = 'logcounts' # specifying this stores raw UMI counts in \"counts\" layer\n",
    "                                       )"
   ]
  },
  {
   "cell_type": "markdown",
   "id": "adf764ff",
   "metadata": {},
   "source": [
    "According to the [scVI tutorial](https://docs.scvi-tools.org/en/stable/tutorials/notebooks/api_overview.html), scVI models expect raw UMI counts rather than log-normalized counts as input. Keep in mind this is tool specific, and the version of the expression dataset you input will depending on the batch correction method you employ. \n",
    "\n",
    "From the above cell, we stored this in the `\"counts\"` layer. Let's set up the batch correction model:"
   ]
  },
  {
   "cell_type": "code",
   "execution_count": 4,
   "id": "2596c52f",
   "metadata": {},
   "outputs": [
    {
     "data": {
      "text/plain": [
       "None"
      ]
     },
     "metadata": {},
     "output_type": "display_data"
    }
   ],
   "source": [
    "reticulate::py_set_seed(as.integer(seed))\n",
    "raw_counts_layer = 'counts' # raw UMI counts layer\n",
    "batch_col = 'sample' # metadata colum specifying batches\n",
    "scvi$model$SCVI$setup_anndata(adata.batch, layer = raw_counts_layer, batch_key = batch_col)\n",
    "model = scvi$model$SCVI(adata.batch, n_layers = 2L, n_latent = 30L, gene_likelihood= \"nb\") "
   ]
  },
  {
   "cell_type": "markdown",
   "id": "40c106db",
   "metadata": {},
   "source": [
    "Now, we can run teh batch correction and transform it similar to how we did the normalization. Note, this is slightly different than the typical latent representation that is output by scVI. Many batch correction tools output the counts in a reduced latent space. However, for CCC analysis, we need tools that can output corrected counts for each gene in order to score the communication between ligands and receptors. "
   ]
  },
  {
   "cell_type": "code",
   "execution_count": 5,
   "id": "5f0071dd",
   "metadata": {},
   "outputs": [
    {
     "data": {
      "text/plain": [
       "None"
      ]
     },
     "metadata": {},
     "output_type": "display_data"
    }
   ],
   "source": [
    "model$train()\n",
    "corrected.data = model$get_normalized_expression(transform_batch = sort(unique(colData(covid_data)[[batch_col]])),\n",
    "                                                 library_size = 1e4)\n",
    "corrected.data<-t(log1p(reticulate::py_to_r(corrected.data)))\n",
    "assays(covid_data)[['batch.corrected.counts']] <- corrected.data # store the corrected data in the SCE object"
   ]
  }
 ],
 "metadata": {
  "kernelspec": {
   "display_name": "R [conda env:ccc_protocols]",
   "language": "R",
   "name": "conda-env-ccc_protocols-r"
  },
  "language_info": {
   "codemirror_mode": "r",
   "file_extension": ".r",
   "mimetype": "text/x-r-source",
   "name": "R",
   "pygments_lexer": "r",
   "version": "4.2.3"
  },
  "vscode": {
   "interpreter": {
    "hash": "a89d9df9e41c144bbb86b791904f32fb0efeb7b488a88d676a8bce57017c9696"
   }
  }
 },
 "nbformat": 4,
 "nbformat_minor": 5
}
