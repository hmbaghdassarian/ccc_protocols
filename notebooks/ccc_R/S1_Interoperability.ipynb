{
 "cells": [
  {
   "attachments": {},
   "cell_type": "markdown",
   "id": "f9a5e963",
   "metadata": {},
   "source": [
    "# Interoperability"
   ]
  },
  {
   "cell_type": "markdown",
   "id": "d213899d",
   "metadata": {},
   "source": [
    "Here, we briefly demonstrate how the single-cell objects may be converted between R and python to run CCC analyses in either language:"
   ]
  },
  {
   "cell_type": "code",
   "execution_count": null,
   "id": "38d05c93",
   "metadata": {
    "vscode": {
     "languageId": "r"
    }
   },
   "outputs": [],
   "source": [
    "library(Seurat, quietly = TRUE)\n",
    "library(SeuratDisk, quietly = T)\n",
    "library(zellkonverter, quietly = TRUE)\n",
    "library(reticulate, quietly = TRUE)\n",
    "library('Matrix', quietly = T)\n",
    "anndata<-import('anndata')\n",
    "\n",
    "data.path <- file.path(\"..\", \"..\", \"data\")"
   ]
  },
  {
   "attachments": {},
   "cell_type": "markdown",
   "id": "8ba578d4",
   "metadata": {},
   "source": [
    "## to Python\n",
    "\n",
    "For use in Python, we can convert the SingleCellExperiment object generated in [Tutorial 1](./01-Preprocess-Expression.ipynb) to an Anndata object using zellkonverter. See the [companion supplementary R tutorial](../ccc_python/S1_Interoperability.ipynb) for loading these saved files."
   ]
  },
  {
   "cell_type": "code",
   "execution_count": null,
   "id": "c8bfc138",
   "metadata": {
    "vscode": {
     "languageId": "r"
    }
   },
   "outputs": [],
   "source": [
    "covid_data<-readRDS(file.path(data.path, 'covid_balf_norm.rds'))\n",
    "\n",
    "data.path<-'/data/hratch/ccc_protocols/interim/'\n",
    "zellkonverter::writeH5AD(covid_data, \n",
    "                         X_name = 'logcounts', \n",
    "                         paste0(data.path, 'processed_fromR_toPython.h5ad'))"
   ]
  },
  {
   "cell_type": "code",
   "execution_count": null,
   "id": "277b9351",
   "metadata": {
    "vscode": {
     "languageId": "r"
    }
   },
   "outputs": [],
   "source": [
    "file.name<-paste0(data.path, 'interim/', 'processed_fromR_toPython_Seurat.h5Seurat')\n",
    "suppressMessages({\n",
    "    SaveH5Seurat(covid_data, filename = file.name)\n",
    "    Convert(file.name, dest = \"h5ad\", overwrite = TRUE)\n",
    "})"
   ]
  },
  {
   "attachments": {},
   "cell_type": "markdown",
   "id": "b6a5ddad",
   "metadata": {},
   "source": [
    "## from Python\n",
    "\n",
    "Here, we can load the expression matrices that were generated in the companion python script using AnnData and saved as h5ad files into Seurat:\n",
    "\n",
    "Here, we can load the data that was generated in the [python version of Tutorial l](../ccc_python/01-Preprocess-Expression.ipynb) using scanpy into a SCE object:"
   ]
  },
  {
   "cell_type": "code",
   "execution_count": null,
   "id": "7f21e9aa",
   "metadata": {
    "vscode": {
     "languageId": "r"
    }
   },
   "outputs": [],
   "source": [
    "data_path = file.path(\"..\", \"..\", \"data\")\n",
    "sce_frompython<-zellkonverter::readH5AD(paste0(data_path, 'processed.h5ad'))"
   ]
  },
  {
   "cell_type": "markdown",
   "id": "e1c52d9f",
   "metadata": {},
   "source": [
    "We can also do the same into a Seurat object:"
   ]
  },
  {
   "cell_type": "code",
   "execution_count": null,
   "id": "963da3b5",
   "metadata": {
    "vscode": {
     "languageId": "r"
    }
   },
   "outputs": [],
   "source": [
    "adata_to_seurat<-function(adata){\n",
    "    raw<-adata$raw$to_adata()\n",
    "    raw.counts<-t(as.matrix(raw$X))\n",
    "    rownames(raw.counts)<-rownames(raw$var)\n",
    "    colnames(raw.counts)<-rownames(raw$obs)\n",
    "\n",
    "    so<-CreateSeuratObject(counts=raw.counts, assay = 'RNA', meta.data = adata$obs)\n",
    "\n",
    "    norm.counts<-t(as.matrix(adata$X))\n",
    "\n",
    "    # whether HVGs were filtered for\n",
    "    if (length(rownames(so)) == dim(norm.counts)[[1]]){\n",
    "        rownames(norm.counts)<-rownames(so)\n",
    "    }else{\n",
    "        rownames(norm.counts)<-rownames(adata$var[adata$var$highly_variable,])\n",
    "    }\n",
    "    colnames(norm.counts)<-colnames(so)\n",
    "\n",
    "    so@assays$RNA@data<-as(norm.counts, \"dgCMatrix\")\n",
    "    so@assays$RNA@meta.features<-adata$var\n",
    "    \n",
    "    return(so)\n",
    "}"
   ]
  },
  {
   "cell_type": "code",
   "execution_count": null,
   "id": "0e628a4f",
   "metadata": {
    "vscode": {
     "languageId": "r"
    }
   },
   "outputs": [],
   "source": [
    "adata <- anndata$read_h5ad(paste0(data_path, 'processed.h5ad'))\n",
    "covid_data_fromPython <- adata_to_seurat(adata)"
   ]
  }
 ],
 "metadata": {
  "kernelspec": {
   "display_name": "R [conda env:ccc_protocols]",
   "language": "R",
   "name": "conda-env-ccc_protocols-r"
  },
  "language_info": {
   "codemirror_mode": "r",
   "file_extension": ".r",
   "mimetype": "text/x-r-source",
   "name": "R",
   "pygments_lexer": "r",
   "version": "4.2.3"
  }
 },
 "nbformat": 4,
 "nbformat_minor": 5
}
