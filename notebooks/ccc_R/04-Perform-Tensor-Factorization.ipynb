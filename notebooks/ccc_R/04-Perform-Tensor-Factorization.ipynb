{
 "cells": [
  {
   "cell_type": "markdown",
   "id": "73521bac",
   "metadata": {},
   "source": [
    "# Running Tensor-cell2cell to perform a tensor factorization\n",
    "\n",
    "After generating a 4D-Communication Tensor, we can run Tensor-cell2cell to perform a tensor factorization and obtain the context-driven patterns of cell-cell communication (factors).\n",
    "\n",
    "This tutorial will show you how to load a previously exported 4D-Communication Tensor and run Tensor-cell2cell on this tensor. "
   ]
  },
  {
   "cell_type": "markdown",
   "id": "c35be495",
   "metadata": {},
   "source": [
    "## Initial Setup\n",
    "\n",
    "Enable GPU use as discussed in [Tutorial 03](./03-Generate-Tensor.ipynb)"
   ]
  },
  {
   "cell_type": "code",
   "execution_count": 1,
   "id": "11b617f2",
   "metadata": {},
   "outputs": [],
   "source": [
    "gpu_use = TRUE\n",
    "\n",
    "if (gpu_use){\n",
    "    device<-'cuda:0'\n",
    "    tensorly <- reticulate::import('tensorly')\n",
    "    tensorly$set_backend('pytorch')\n",
    "}else{\n",
    "    device<-NULL\n",
    "}"
   ]
  },
  {
   "cell_type": "markdown",
   "id": "b711a306",
   "metadata": {},
   "source": [
    "###  Import Libraries\n",
    "\n",
    "We will use reticulate to run Tensor-cell2cell in R"
   ]
  },
  {
   "cell_type": "code",
   "execution_count": 2,
   "id": "946cd4e4",
   "metadata": {},
   "outputs": [],
   "source": [
    "library(reticulate, quietly = T)\n",
    "c2c <- reticulate::import(module = \"cell2cell\", as=\"c2c\")"
   ]
  },
  {
   "cell_type": "markdown",
   "id": "db21f79d",
   "metadata": {},
   "source": [
    "## Directories"
   ]
  },
  {
   "cell_type": "code",
   "execution_count": 3,
   "id": "d6b96d65",
   "metadata": {},
   "outputs": [],
   "source": [
    "output_folder = '../../data/tc2c-outputs/'"
   ]
  },
  {
   "cell_type": "markdown",
   "id": "64bcc42f",
   "metadata": {},
   "source": [
    "## Load Tensor\n",
    "\n",
    "Now, we can load our 4D-Communication Tensor."
   ]
  },
  {
   "cell_type": "code",
   "execution_count": 4,
   "id": "64a6e4c6",
   "metadata": {},
   "outputs": [],
   "source": [
    "tensor<-reticulate::py_load_object(filename = paste0(output_folder, 'BALF-Tensor-R.pkl'))"
   ]
  },
  {
   "cell_type": "markdown",
   "id": "d492d83e",
   "metadata": {},
   "source": [
    "## Perform Tensor Factorization\n",
    "\n",
    "First, we have to write a wrapper function that can run Tensor-cell2cell using reticulate. To do so, we simply modify the [`liana::liana_tensor_c2c`](https://rdrr.io/github/saezlab/liana/src/R/liana_tensor.R) function to take our prebuilt tensor as input:"
   ]
  },
  {
   "cell_type": "code",
   "execution_count": 5,
   "id": "5d7d219f",
   "metadata": {},
   "outputs": [],
   "source": [
    "library(rlang)\n",
    "library(stringr)\n",
    "\n",
    "#' LIANA message/warning helper function to allow for verbosity\n",
    "#'\n",
    "#' @inheritParams base::stop\n",
    "#' @param output type of output - message, warning, or stop\n",
    "#' @param verbose logical for verbosity\n",
    "liana_message <- function(...,\n",
    "                          output = \"message\",\n",
    "                          verbose = TRUE){\n",
    "    if(verbose){\n",
    "        exec(output, ...)\n",
    "    }\n",
    "}\n",
    "\n",
    "#' Wrapper function to run `cell2cell_tensor`. Adapted from liana_tensor_c2c to take a prebuilt tensor as input. \n",
    "#'\n",
    "#' @details This function servers as a one-liner wrapper to the tensor factorisation\n",
    "#' method described in \\href{https://www.nature.com/articles/s41467-022-31369-2}{tensor_cell2cell}.\n",
    "#' We refer the user to the publication and \\href{https://earmingol.github.io/cell2cell/tutorials/ASD/01-Tensor-Factorization-ASD/}{tensor_cell2cell tutorial page}\n",
    "#' made by the authors. Logically, one should cite cell2cell's paper if their\n",
    "#' method was used via LIANA.\n",
    "#'\n",
    "#' @param rank Ranks for the Tensor Factorization (number of factors to deconvolve the original tensor).\n",
    "#'  If NULL, then rank selection is performed using the `elbow_rank_selection` function.\n",
    "#'\n",
    "#' @param seed Random seed integer\n",
    "#'\n",
    "#' @param upper_rank Upper bound of ranks to explore with the elbow analysis.\n",
    "#'\n",
    "#' @param runs Number of tensor factorization performed for a given rank.\n",
    "#' Each factorization varies in the seed of initialization. Consider increasing\n",
    "#' the number of runs, in order to obtain a more robust rank estimate.\n",
    "#'\n",
    "#' @param init Initialization method for computing the Tensor Factorization.\n",
    "#' {‘svd’, ‘random’}\n",
    "#'\n",
    "#' @param factors_only whether to return only the factors after factorization\n",
    "#'\n",
    "#' @param verbose verbosity logical\n",
    "#'\n",
    "#' @param ... Dictionary containing keyword arguments for the c2c.compute_tensor_factorization function.\n",
    "#' The function deals with `random_state` (seed) and `rank` internally.\n",
    "#'\n",
    "#' @returns an instance of the cell2cell.tensor.BaseTensor class (via reticulate).\n",
    "#' If build_only is TRUE, then no rank selection or tensor decomposition is returned.\n",
    "#' Otherwise, returns a tensor with factorization results.\n",
    "#'\n",
    "#' @export\n",
    "#'\n",
    "decompose_tensor <- function(tensor,\n",
    "                             rank=NULL,\n",
    "                             seed = 1337,\n",
    "                             upper_rank = 25,\n",
    "                             runs = 3,\n",
    "                             init = 'svd',\n",
    "                             factors_only = TRUE,\n",
    "                             verbose = TRUE,\n",
    "                             ...){\n",
    "\n",
    "    # Deal with rank\n",
    "    rank <- if(is.null(rank)){ NULL } else {as.integer(rank)}\n",
    "\n",
    "    reticulate::py_set_seed(seed)\n",
    "\n",
    "    # estimate factor rank\n",
    "    elbow_metric_raw <- NULL\n",
    "    if(is.null(rank)){\n",
    "        liana_message(str_glue(\"Estimating ranks...\"),\n",
    "                      verbose = verbose,\n",
    "                      output = \"message\")\n",
    "        py$temp <- tensor$elbow_rank_selection(upper_rank=as.integer(upper_rank),\n",
    "                                               runs=as.integer(runs),\n",
    "                                               init=init,\n",
    "                                               automatic_elbow=TRUE,\n",
    "                                               random_state=as.integer(seed))\n",
    "\n",
    "        elbow_metric_raw <- tensor$elbow_metric_raw\n",
    "\n",
    "        rank <- as.integer(tensor$rank)\n",
    "    }\n",
    "\n",
    "    # Compute tensor factorization\n",
    "    liana_message(str_glue(\"Decomposing the tensor...\"),\n",
    "                  verbose = verbose,\n",
    "                  output = \"message\")\n",
    "    tensor$compute_tensor_factorization(rank = as.integer(rank),\n",
    "                                        random_state=as.integer(seed),\n",
    "                                        ...)\n",
    "\n",
    "    if(factors_only){\n",
    "        res <- format_c2c_factors(tensor$factors)\n",
    "\n",
    "        if(!is.null(elbow_metric_raw)){\n",
    "            res$elbow_metric_raw <- elbow_metric_raw\n",
    "        }\n",
    "\n",
    "    } else{\n",
    "         res <- tensor\n",
    "        }\n",
    "    \n",
    "    return(res)\n",
    "}"
   ]
  },
  {
   "cell_type": "code",
   "execution_count": 6,
   "id": "6b43f5a2",
   "metadata": {},
   "outputs": [
    {
     "name": "stderr",
     "output_type": "stream",
     "text": [
      "Decomposing the tensor...\n",
      "\n"
     ]
    }
   ],
   "source": [
    "tensor<-decompose_tensor(tensor, factors_only = FALSE, rank = 10)"
   ]
  },
  {
   "cell_type": "markdown",
   "id": "c1adf16f",
   "metadata": {},
   "source": [
    "Tensor-cell2cell can be run with a simple pipeline command that executes all important steps to perform the tensor factorization.\n",
    "\n",
    "\n",
    "**Key parameters are:**\n",
    "\n",
    "- `copy_tensor` indicates whether modifying the original tensor passed as input to report the results or return a new version including the results.\n",
    "\n",
    "\n",
    "- `rank` is the number of factors or latent patterns we want to obtain from the analysis. You can either indicate a specific number or leave it as `None` to obtain a suggested number through an elbow analysis.\n",
    "\n",
    "\n",
    "- `tf_optimization` indicates whether running the analysis in the `'regular'` or the `'robust'` way. The regular way means that the tensor decomposition is run 10 times per rank evaluated in the elbow analysis, and 1 time in the final decomposition. Additionally, the optimization algorithm has less number of iterations in the regular than the robust case (100 vs 500) and less precision (tolerance of 1e-7 vs 1e-8). The robust case runs the tensor decomposition 20 times per rank evaluated in the elbow analysis, and 100 times in the final decomposition. Here we could use the ```tf_optimization='regular'```, which is faster but generates less robust results. We recommend using ```tf_optimization='robust```, which takes longer to run (more iteractions and more precise too). It is important to notice that multiple runs of a tensor decomposition differ in the initialization values (regardless of using `tf_init='random'` or `tf_init='svd'`).\n",
    "\n",
    "\n",
    "- `random_state` is the seed for randomization. It controls the randomization used when initializing the optimization algorithm that performs the tensor decomposition. It is useful for reproducing the same result every time that the analysis is run. If `None`, a different randomization will be used each time.\n",
    "\n",
    "\n",
    "- `device` indicates whether we are using the `'cpu'` or a GPU with `'cuda'` cores. See the beginning of this notebooks to enable using a GPU.\n",
    "\n",
    "\n",
    "- `'elbow_metric'` is the metric to perform the elbow analysis to obtain a suggested number of factors. Options are `'error'` and `'similarity'`, indicating respectively the error of tensor reconstruction, and the similarity of tensor factorization across multiple runs for a given rank. The similarity metric may result in non-smooth curves given the highly variability especially at higher ranks. If so, we recommend using the parameter `smooth_elbow=True`.\n",
    "\n",
    "\n",
    "- `uppper_rank` is the max number of ranks to try in the elbow analysis.\n",
    "\n",
    "\n",
    "- `tf_init` is the initialization of the tensor decomposition algorithm. If your tensor contains a mask (`tensor.mask`), it will automatically use `tf_init='random'`. Options are `'random'` and `'svd'`. The latter helps to obtain results that are more close to a global optima from the optimization method behind the algorithm.\n",
    "\n",
    "\n",
    "- `tf_svd` is the method to perform the SVD to initialize the tensor factorization. This is only considered whe `tf_init='svd'`. \n",
    "\n",
    "\n",
    "- `output_folder` is the full path to the folder where the results will be saved. Make sure that this folder exists before passing it here."
   ]
  },
  {
   "cell_type": "code",
   "execution_count": null,
   "id": "86551110",
   "metadata": {},
   "outputs": [],
   "source": []
  },
  {
   "cell_type": "code",
   "execution_count": null,
   "id": "b48f7961",
   "metadata": {},
   "outputs": [],
   "source": []
  },
  {
   "cell_type": "code",
   "execution_count": null,
   "id": "d00a55dd",
   "metadata": {},
   "outputs": [],
   "source": []
  },
  {
   "cell_type": "code",
   "execution_count": null,
   "id": "0657fcc0",
   "metadata": {},
   "outputs": [],
   "source": []
  }
 ],
 "metadata": {
  "kernelspec": {
   "display_name": "R [conda env:ccc_protocols]",
   "language": "R",
   "name": "conda-env-ccc_protocols-r"
  },
  "language_info": {
   "codemirror_mode": "r",
   "file_extension": ".r",
   "mimetype": "text/x-r-source",
   "name": "R",
   "pygments_lexer": "r",
   "version": "4.1.3"
  }
 },
 "nbformat": 4,
 "nbformat_minor": 5
}
