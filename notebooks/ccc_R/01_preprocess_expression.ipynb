{
 "cells": [
  {
   "cell_type": "markdown",
   "id": "4cc6acb5",
   "metadata": {},
   "source": [
    "This tutorial will demonstrate how to pre-process single-cell raw UMI counts to generate expression matrices that can be used as input to cell-cell communication tools. We will assume appropriate quality-control (QC) has already been applied to the dataset (e.g., exclusion of low-quality cells and doublets). We recommend the tutorial by [Luecken & Theis](https://doi.org/10.15252/msb.20188746) as a starting point for a detailed overview of QC and single-cell RNAseq analysis pipelines in general. \n",
    "\n",
    "Here we will focus on:\n",
    "1. Normalization\n",
    "2. Inter-operability between R and python. \n",
    "\n",
    "We demonstrate a typical workflow using the popular single-cell analysis [Seurat](https://satijalab.org/seurat/index.html). We will use a [BALF COVID dataset](https://doi.org/10.1038/s41591-020-0901-9), which contains 12 samples associated with \"Healthy Control\", \"Moderate\", or \"Severe\" COVID contexts.\n",
    "\n",
    "Details and caveats regarding [batch correction](https://www.nature.com/articles/s41592-018-0254-1), which removes technical variation while preserving biological variation between samples, can be viewed in the additional examples tutorial entitled \"S1_Batch_Correction\"."
   ]
  },
  {
   "cell_type": "code",
   "execution_count": 1,
   "id": "106218d1",
   "metadata": {},
   "outputs": [
    {
     "name": "stderr",
     "output_type": "stream",
     "text": [
      "Attaching SeuratObject\n",
      "\n",
      "Attaching sp\n",
      "\n",
      "Registered S3 method overwritten by 'SeuratDisk':\n",
      "  method            from  \n",
      "  as.sparse.H5Group Seurat\n",
      "\n"
     ]
    }
   ],
   "source": [
    "library(Seurat)\n",
    "\n",
    "# paths\n",
    "data.path<-'/data3/hratch/ccc_protocols/'"
   ]
  },
  {
   "cell_type": "markdown",
   "id": "2b0e5a63",
   "metadata": {},
   "source": [
    "The 12 samples can be downloaded as .h5 files from [here](https://www.ncbi.nlm.nih.gov/geo/query/acc.cgi?acc=GSE145926). You can also download the cell metadata from [here](https://raw.githubusercontent.com/zhangzlab/covid_balf/master/all.cell.annotation.meta.txt)\n",
    "\n",
    "We download these files directly in the proceeding cell:"
   ]
  },
  {
   "cell_type": "code",
   "execution_count": 4,
   "id": "80279064",
   "metadata": {},
   "outputs": [],
   "source": [
    "covid.input.path<-paste0(data.path, 'raw/covid_balf/')\n",
    "\n",
    "# download the metadata\n",
    "metadata.link <- 'https://raw.githubusercontent.com/zhangzlab/covid_balf/master/all.cell.annotation.meta.txt'\n",
    "cmd <- paste0('wget ', metadata.link, ' -O ', covid.input.path, 'metadata.txt')\n",
    "system(cmd, ignore.stdout = T, ignore.stderr = T)\n",
    "\n",
    "# download the expression data\n",
    "sample.links <- c(\n",
    "    'https://ftp.ncbi.nlm.nih.gov/geo/samples/GSM4339nnn/GSM4339769/suppl/GSM4339769%5FC141%5Ffiltered%5Ffeature%5Fbc%5Fmatrix%2Eh5',\n",
    "    'https://ftp.ncbi.nlm.nih.gov/geo/samples/GSM4339nnn/GSM4339770/suppl/GSM4339770%5FC142%5Ffiltered%5Ffeature%5Fbc%5Fmatrix%2Eh5',\n",
    "    'https://ftp.ncbi.nlm.nih.gov/geo/samples/GSM4339nnn/GSM4339771/suppl/GSM4339771%5FC143%5Ffiltered%5Ffeature%5Fbc%5Fmatrix%2Eh5', \n",
    "    'https://ftp.ncbi.nlm.nih.gov/geo/samples/GSM4339nnn/GSM4339772/suppl/GSM4339772%5FC144%5Ffiltered%5Ffeature%5Fbc%5Fmatrix%2Eh5', \n",
    "    'https://ftp.ncbi.nlm.nih.gov/geo/samples/GSM4339nnn/GSM4339773/suppl/GSM4339773%5FC145%5Ffiltered%5Ffeature%5Fbc%5Fmatrix%2Eh5',\n",
    "    'https://ftp.ncbi.nlm.nih.gov/geo/samples/GSM4339nnn/GSM4339774/suppl/GSM4339774%5FC146%5Ffiltered%5Ffeature%5Fbc%5Fmatrix%2Eh5', \n",
    "    'https://ftp.ncbi.nlm.nih.gov/geo/samples/GSM4475nnn/GSM4475048/suppl/GSM4475048%5FC51%5Ffiltered%5Ffeature%5Fbc%5Fmatrix%2Eh5', \n",
    "    'https://ftp.ncbi.nlm.nih.gov/geo/samples/GSM4475nnn/GSM4475049/suppl/GSM4475049%5FC52%5Ffiltered%5Ffeature%5Fbc%5Fmatrix%2Eh5', \n",
    "    'https://ftp.ncbi.nlm.nih.gov/geo/samples/GSM4475nnn/GSM4475050/suppl/GSM4475050%5FC100%5Ffiltered%5Ffeature%5Fbc%5Fmatrix%2Eh5', \n",
    "    'https://ftp.ncbi.nlm.nih.gov/geo/samples/GSM4475nnn/GSM4475051/suppl/GSM4475051%5FC148%5Ffiltered%5Ffeature%5Fbc%5Fmatrix%2Eh5', \n",
    "    'https://ftp.ncbi.nlm.nih.gov/geo/samples/GSM4475nnn/GSM4475052/suppl/GSM4475052%5FC149%5Ffiltered%5Ffeature%5Fbc%5Fmatrix%2Eh5',\n",
    "    'https://ftp.ncbi.nlm.nih.gov/geo/samples/GSM4475nnn/GSM4475053/suppl/GSM4475053%5FC152%5Ffiltered%5Ffeature%5Fbc%5Fmatrix%2Eh5'\n",
    "    )\n",
    "\n",
    "for (sl in sample.links){\n",
    "    cmd <- paste0('wget ', sl, ' -P ', covid.input.path)\n",
    "    system(cmd, ignore.stdout = T, ignore.stderr = T)\n",
    "}"
   ]
  },
  {
   "cell_type": "markdown",
   "id": "680948dd",
   "metadata": {},
   "source": [
    "We can then format the downloaded files:"
   ]
  },
  {
   "cell_type": "code",
   "execution_count": 5,
   "id": "a84f6d6a",
   "metadata": {},
   "outputs": [
    {
     "data": {
      "text/html": [
       "<table class=\"dataframe\">\n",
       "<caption>A data.frame: 6 × 7</caption>\n",
       "<thead>\n",
       "\t<tr><th></th><th scope=col>Sample.ID</th><th scope=col>sample_new</th><th scope=col>Context</th><th scope=col>disease</th><th scope=col>hasnCoV</th><th scope=col>cluster</th><th scope=col>cell.type</th></tr>\n",
       "\t<tr><th></th><th scope=col>&lt;chr&gt;</th><th scope=col>&lt;chr&gt;</th><th scope=col>&lt;fct&gt;</th><th scope=col>&lt;chr&gt;</th><th scope=col>&lt;chr&gt;</th><th scope=col>&lt;int&gt;</th><th scope=col>&lt;chr&gt;</th></tr>\n",
       "</thead>\n",
       "<tbody>\n",
       "\t<tr><th scope=row>AAACCCACAGCTACAT_3</th><td>C100</td><td>HC3</td><td>Healthy.Control</td><td>N</td><td>N</td><td>27</td><td>B          </td></tr>\n",
       "\t<tr><th scope=row>AAACCCATCCACGGGT_3</th><td>C100</td><td>HC3</td><td>Healthy.Control</td><td>N</td><td>N</td><td>23</td><td>Macrophages</td></tr>\n",
       "\t<tr><th scope=row>AAACCCATCCCATTCG_3</th><td>C100</td><td>HC3</td><td>Healthy.Control</td><td>N</td><td>N</td><td> 6</td><td>T          </td></tr>\n",
       "\t<tr><th scope=row>AAACGAACAAACAGGC_3</th><td>C100</td><td>HC3</td><td>Healthy.Control</td><td>N</td><td>N</td><td>10</td><td>Macrophages</td></tr>\n",
       "\t<tr><th scope=row>AAACGAAGTCGCACAC_3</th><td>C100</td><td>HC3</td><td>Healthy.Control</td><td>N</td><td>N</td><td>10</td><td>Macrophages</td></tr>\n",
       "\t<tr><th scope=row>AAACGAAGTCTATGAC_3</th><td>C100</td><td>HC3</td><td>Healthy.Control</td><td>N</td><td>N</td><td> 9</td><td>T          </td></tr>\n",
       "</tbody>\n",
       "</table>\n"
      ],
      "text/latex": [
       "A data.frame: 6 × 7\n",
       "\\begin{tabular}{r|lllllll}\n",
       "  & Sample.ID & sample\\_new & Context & disease & hasnCoV & cluster & cell.type\\\\\n",
       "  & <chr> & <chr> & <fct> & <chr> & <chr> & <int> & <chr>\\\\\n",
       "\\hline\n",
       "\tAAACCCACAGCTACAT\\_3 & C100 & HC3 & Healthy.Control & N & N & 27 & B          \\\\\n",
       "\tAAACCCATCCACGGGT\\_3 & C100 & HC3 & Healthy.Control & N & N & 23 & Macrophages\\\\\n",
       "\tAAACCCATCCCATTCG\\_3 & C100 & HC3 & Healthy.Control & N & N &  6 & T          \\\\\n",
       "\tAAACGAACAAACAGGC\\_3 & C100 & HC3 & Healthy.Control & N & N & 10 & Macrophages\\\\\n",
       "\tAAACGAAGTCGCACAC\\_3 & C100 & HC3 & Healthy.Control & N & N & 10 & Macrophages\\\\\n",
       "\tAAACGAAGTCTATGAC\\_3 & C100 & HC3 & Healthy.Control & N & N &  9 & T          \\\\\n",
       "\\end{tabular}\n"
      ],
      "text/markdown": [
       "\n",
       "A data.frame: 6 × 7\n",
       "\n",
       "| <!--/--> | Sample.ID &lt;chr&gt; | sample_new &lt;chr&gt; | Context &lt;fct&gt; | disease &lt;chr&gt; | hasnCoV &lt;chr&gt; | cluster &lt;int&gt; | cell.type &lt;chr&gt; |\n",
       "|---|---|---|---|---|---|---|---|\n",
       "| AAACCCACAGCTACAT_3 | C100 | HC3 | Healthy.Control | N | N | 27 | B           |\n",
       "| AAACCCATCCACGGGT_3 | C100 | HC3 | Healthy.Control | N | N | 23 | Macrophages |\n",
       "| AAACCCATCCCATTCG_3 | C100 | HC3 | Healthy.Control | N | N |  6 | T           |\n",
       "| AAACGAACAAACAGGC_3 | C100 | HC3 | Healthy.Control | N | N | 10 | Macrophages |\n",
       "| AAACGAAGTCGCACAC_3 | C100 | HC3 | Healthy.Control | N | N | 10 | Macrophages |\n",
       "| AAACGAAGTCTATGAC_3 | C100 | HC3 | Healthy.Control | N | N |  9 | T           |\n",
       "\n"
      ],
      "text/plain": [
       "                   Sample.ID sample_new Context         disease hasnCoV cluster\n",
       "AAACCCACAGCTACAT_3 C100      HC3        Healthy.Control N       N       27     \n",
       "AAACCCATCCACGGGT_3 C100      HC3        Healthy.Control N       N       23     \n",
       "AAACCCATCCCATTCG_3 C100      HC3        Healthy.Control N       N        6     \n",
       "AAACGAACAAACAGGC_3 C100      HC3        Healthy.Control N       N       10     \n",
       "AAACGAAGTCGCACAC_3 C100      HC3        Healthy.Control N       N       10     \n",
       "AAACGAAGTCTATGAC_3 C100      HC3        Healthy.Control N       N        9     \n",
       "                   cell.type  \n",
       "AAACCCACAGCTACAT_3 B          \n",
       "AAACCCATCCACGGGT_3 Macrophages\n",
       "AAACCCATCCCATTCG_3 T          \n",
       "AAACGAACAAACAGGC_3 Macrophages\n",
       "AAACGAAGTCGCACAC_3 Macrophages\n",
       "AAACGAAGTCTATGAC_3 T          "
      ]
     },
     "metadata": {},
     "output_type": "display_data"
    }
   ],
   "source": [
    "# format the metadata\n",
    "md <- read.table(paste0(covid.input.path, 'metadata.txt'), header = T, row.names = 'ID')\n",
    "colnames(md) = c('Sample.ID', 'sample_new', 'Context', 'disease', 'hasnCoV', 'cluster', 'cell.type')\n",
    "\n",
    "context.map = c('Healthy.Control', 'Moderate.Covid', 'Severe.Covid')\n",
    "names(context.map) <- c('HC', 'M', 'S')\n",
    "md['Context'] <- unname(context.map[md$Context])\n",
    "md$Context <- factor(md$Context, levels = c('Healthy.Control', 'Moderate.Covid', 'Severe.Covid'))\n",
    "\n",
    "md<-md[md$Sample.ID != 'GSM3660650', ] # drop the non-scRNAseq dataset included in this file\n",
    "\n",
    "md<-md[with(md, order(Context, Sample.ID)), ]\n",
    "head(md)"
   ]
  },
  {
   "cell_type": "code",
   "execution_count": 7,
   "id": "5a327438",
   "metadata": {},
   "outputs": [],
   "source": [
    "balf.samples<-list()\n",
    "\n",
    "suppressMessages({\n",
    "    suppressWarnings({\n",
    "        for (filename in list.files(covid.input.path)){\n",
    "            if (endsWith(filename, '.h5')){\n",
    "                sample<-unlist(strsplit(filename, '_'))[[2]]\n",
    "\n",
    "                # subset and format metadata\n",
    "                md.sample<-md[md$Sample.ID == sample,]\n",
    "                rownames(md.sample) <- unname(sapply(rownames(md.sample), \n",
    "                                                   function(x) paste0(unlist(strsplit(x, '_'))[[1]], '-1')))\n",
    "                # load the counts\n",
    "                so <- Seurat::Read10X_h5(filename=paste0(covid.input.path, filename), unique.features=T)\n",
    "                so <- so[, rownames(md.sample)] # only include cells present in the metadata\n",
    "\n",
    "                # preprocess\n",
    "                so <- CreateSeuratObject(counts=so, project=sample, meta.data=md.sample[c('Sample.ID', 'Context', 'cell.type')], \n",
    "                                          min.cells=3)        \n",
    "                balf.samples[[sample]] <- so\n",
    "            }\n",
    "        }        \n",
    "    })\n",
    "})"
   ]
  },
  {
   "cell_type": "markdown",
   "id": "c7254e38",
   "metadata": {},
   "source": [
    "balf.samples is a list with names as each sample and values as a Seurat object storing the raw UMI counts for that sample"
   ]
  },
  {
   "cell_type": "code",
   "execution_count": 8,
   "id": "2d2d8ec3",
   "metadata": {},
   "outputs": [
    {
     "data": {
      "text/html": [
       "<style>\n",
       ".list-inline {list-style: none; margin:0; padding: 0}\n",
       ".list-inline>li {display: inline-block}\n",
       ".list-inline>li:not(:last-child)::after {content: \"\\00b7\"; padding: 0 .5ex}\n",
       "</style>\n",
       "<ol class=list-inline><li>'C141'</li><li>'C142'</li><li>'C143'</li><li>'C144'</li><li>'C145'</li><li>'C146'</li><li>'C51'</li><li>'C52'</li><li>'C100'</li><li>'C148'</li><li>'C149'</li><li>'C152'</li></ol>\n"
      ],
      "text/latex": [
       "\\begin{enumerate*}\n",
       "\\item 'C141'\n",
       "\\item 'C142'\n",
       "\\item 'C143'\n",
       "\\item 'C144'\n",
       "\\item 'C145'\n",
       "\\item 'C146'\n",
       "\\item 'C51'\n",
       "\\item 'C52'\n",
       "\\item 'C100'\n",
       "\\item 'C148'\n",
       "\\item 'C149'\n",
       "\\item 'C152'\n",
       "\\end{enumerate*}\n"
      ],
      "text/markdown": [
       "1. 'C141'\n",
       "2. 'C142'\n",
       "3. 'C143'\n",
       "4. 'C144'\n",
       "5. 'C145'\n",
       "6. 'C146'\n",
       "7. 'C51'\n",
       "8. 'C52'\n",
       "9. 'C100'\n",
       "10. 'C148'\n",
       "11. 'C149'\n",
       "12. 'C152'\n",
       "\n",
       "\n"
      ],
      "text/plain": [
       " [1] \"C141\" \"C142\" \"C143\" \"C144\" \"C145\" \"C146\" \"C51\"  \"C52\"  \"C100\" \"C148\"\n",
       "[11] \"C149\" \"C152\""
      ]
     },
     "metadata": {},
     "output_type": "display_data"
    }
   ],
   "source": [
    "names(balf.samples)"
   ]
  },
  {
   "cell_type": "code",
   "execution_count": 9,
   "id": "f402452a",
   "metadata": {},
   "outputs": [
    {
     "data": {
      "text/plain": [
       "An object of class Seurat \n",
       "16566 features across 2566 samples within 1 assay \n",
       "Active assay: RNA (16566 features, 0 variable features)"
      ]
     },
     "metadata": {},
     "output_type": "display_data"
    }
   ],
   "source": [
    "balf.samples$C100"
   ]
  },
  {
   "cell_type": "markdown",
   "id": "bbf64480",
   "metadata": {},
   "source": [
    "To normalize the raw UMI counts, we recommend log(1+CPM) normalization, as this maintains non-negative counts and is the input for many communication scoring functions"
   ]
  },
  {
   "cell_type": "code",
   "execution_count": 10,
   "id": "83b48da0",
   "metadata": {},
   "outputs": [],
   "source": [
    "balf.samples <- lapply(balf.samples, \n",
    "                    function(so) NormalizeData(so, normalization.method = \"LogNormalize\", scale.factor = 1e6))"
   ]
  },
  {
   "cell_type": "code",
   "execution_count": 156,
   "id": "feb9dac4",
   "metadata": {},
   "outputs": [
    {
     "data": {
      "text/plain": [
       "An object of class Seurat \n",
       "16566 features across 2566 samples within 1 assay \n",
       "Active assay: RNA (16566 features, 0 variable features)"
      ]
     },
     "metadata": {},
     "output_type": "display_data"
    }
   ],
   "source": [
    "balf.samples$C100"
   ]
  },
  {
   "cell_type": "code",
   "execution_count": 11,
   "id": "8974d926",
   "metadata": {},
   "outputs": [
    {
     "data": {
      "text/html": [
       "<table class=\"dataframe\">\n",
       "<caption>A data.frame: 6 × 2566</caption>\n",
       "<thead>\n",
       "\t<tr><th></th><th scope=col>AAACCCACAGCTACAT-1</th><th scope=col>AAACCCATCCACGGGT-1</th><th scope=col>AAACCCATCCCATTCG-1</th><th scope=col>AAACGAACAAACAGGC-1</th><th scope=col>AAACGAAGTCGCACAC-1</th><th scope=col>AAACGAAGTCTATGAC-1</th><th scope=col>AAACGAAGTGTAGTGG-1</th><th scope=col>AAACGCTGTCACGTGC-1</th><th scope=col>AAACGCTGTTGGAGGT-1</th><th scope=col>AAAGAACTCTAGAACC-1</th><th scope=col>⋯</th><th scope=col>TTTGATCTCCCGAAAT-1</th><th scope=col>TTTGGAGCAATACAGA-1</th><th scope=col>TTTGGAGTCACCATAG-1</th><th scope=col>TTTGGAGTCTCACCCA-1</th><th scope=col>TTTGGTTAGATGGCGT-1</th><th scope=col>TTTGGTTGTACCCAGC-1</th><th scope=col>TTTGGTTGTTACTCAG-1</th><th scope=col>TTTGTTGAGCTAGAGC-1</th><th scope=col>TTTGTTGCAATGAAAC-1</th><th scope=col>TTTGTTGCAGAGGGTT-1</th></tr>\n",
       "\t<tr><th></th><th scope=col>&lt;dbl&gt;</th><th scope=col>&lt;dbl&gt;</th><th scope=col>&lt;dbl&gt;</th><th scope=col>&lt;dbl&gt;</th><th scope=col>&lt;dbl&gt;</th><th scope=col>&lt;dbl&gt;</th><th scope=col>&lt;dbl&gt;</th><th scope=col>&lt;dbl&gt;</th><th scope=col>&lt;dbl&gt;</th><th scope=col>&lt;dbl&gt;</th><th scope=col>⋯</th><th scope=col>&lt;dbl&gt;</th><th scope=col>&lt;dbl&gt;</th><th scope=col>&lt;dbl&gt;</th><th scope=col>&lt;dbl&gt;</th><th scope=col>&lt;dbl&gt;</th><th scope=col>&lt;dbl&gt;</th><th scope=col>&lt;dbl&gt;</th><th scope=col>&lt;dbl&gt;</th><th scope=col>&lt;dbl&gt;</th><th scope=col>&lt;dbl&gt;</th></tr>\n",
       "</thead>\n",
       "<tbody>\n",
       "\t<tr><th scope=row>A1BG</th><td>0</td><td>0</td><td>0</td><td>3.492637</td><td>4.373578</td><td>0</td><td>0</td><td>0</td><td>4.111976</td><td>0.000000</td><td>⋯</td><td>0</td><td>0</td><td>5.413881</td><td>0</td><td>0</td><td>0.000000</td><td>0</td><td>0</td><td>0</td><td>0.000000</td></tr>\n",
       "\t<tr><th scope=row>A1BG-AS1</th><td>0</td><td>0</td><td>0</td><td>0.000000</td><td>0.000000</td><td>0</td><td>0</td><td>0</td><td>0.000000</td><td>0.000000</td><td>⋯</td><td>0</td><td>0</td><td>0.000000</td><td>0</td><td>0</td><td>0.000000</td><td>0</td><td>0</td><td>0</td><td>0.000000</td></tr>\n",
       "\t<tr><th scope=row>A2M</th><td>0</td><td>0</td><td>0</td><td>4.855851</td><td>0.000000</td><td>0</td><td>0</td><td>0</td><td>0.000000</td><td>6.001009</td><td>⋯</td><td>0</td><td>0</td><td>5.127682</td><td>0</td><td>0</td><td>5.041668</td><td>0</td><td>0</td><td>0</td><td>5.305098</td></tr>\n",
       "\t<tr><th scope=row>A2M-AS1</th><td>0</td><td>0</td><td>0</td><td>0.000000</td><td>0.000000</td><td>0</td><td>0</td><td>0</td><td>0.000000</td><td>0.000000</td><td>⋯</td><td>0</td><td>0</td><td>0.000000</td><td>0</td><td>0</td><td>0.000000</td><td>0</td><td>0</td><td>0</td><td>0.000000</td></tr>\n",
       "\t<tr><th scope=row>A2ML1</th><td>0</td><td>0</td><td>0</td><td>0.000000</td><td>0.000000</td><td>0</td><td>0</td><td>0</td><td>0.000000</td><td>0.000000</td><td>⋯</td><td>0</td><td>0</td><td>0.000000</td><td>0</td><td>0</td><td>0.000000</td><td>0</td><td>0</td><td>0</td><td>0.000000</td></tr>\n",
       "\t<tr><th scope=row>A4GALT</th><td>0</td><td>0</td><td>0</td><td>0.000000</td><td>0.000000</td><td>0</td><td>0</td><td>0</td><td>0.000000</td><td>0.000000</td><td>⋯</td><td>0</td><td>0</td><td>0.000000</td><td>0</td><td>0</td><td>0.000000</td><td>0</td><td>0</td><td>0</td><td>0.000000</td></tr>\n",
       "</tbody>\n",
       "</table>\n"
      ],
      "text/latex": [
       "A data.frame: 6 × 2566\n",
       "\\begin{tabular}{r|lllllllllllllllllllll}\n",
       "  & AAACCCACAGCTACAT-1 & AAACCCATCCACGGGT-1 & AAACCCATCCCATTCG-1 & AAACGAACAAACAGGC-1 & AAACGAAGTCGCACAC-1 & AAACGAAGTCTATGAC-1 & AAACGAAGTGTAGTGG-1 & AAACGCTGTCACGTGC-1 & AAACGCTGTTGGAGGT-1 & AAAGAACTCTAGAACC-1 & ⋯ & TTTGATCTCCCGAAAT-1 & TTTGGAGCAATACAGA-1 & TTTGGAGTCACCATAG-1 & TTTGGAGTCTCACCCA-1 & TTTGGTTAGATGGCGT-1 & TTTGGTTGTACCCAGC-1 & TTTGGTTGTTACTCAG-1 & TTTGTTGAGCTAGAGC-1 & TTTGTTGCAATGAAAC-1 & TTTGTTGCAGAGGGTT-1\\\\\n",
       "  & <dbl> & <dbl> & <dbl> & <dbl> & <dbl> & <dbl> & <dbl> & <dbl> & <dbl> & <dbl> & ⋯ & <dbl> & <dbl> & <dbl> & <dbl> & <dbl> & <dbl> & <dbl> & <dbl> & <dbl> & <dbl>\\\\\n",
       "\\hline\n",
       "\tA1BG & 0 & 0 & 0 & 3.492637 & 4.373578 & 0 & 0 & 0 & 4.111976 & 0.000000 & ⋯ & 0 & 0 & 5.413881 & 0 & 0 & 0.000000 & 0 & 0 & 0 & 0.000000\\\\\n",
       "\tA1BG-AS1 & 0 & 0 & 0 & 0.000000 & 0.000000 & 0 & 0 & 0 & 0.000000 & 0.000000 & ⋯ & 0 & 0 & 0.000000 & 0 & 0 & 0.000000 & 0 & 0 & 0 & 0.000000\\\\\n",
       "\tA2M & 0 & 0 & 0 & 4.855851 & 0.000000 & 0 & 0 & 0 & 0.000000 & 6.001009 & ⋯ & 0 & 0 & 5.127682 & 0 & 0 & 5.041668 & 0 & 0 & 0 & 5.305098\\\\\n",
       "\tA2M-AS1 & 0 & 0 & 0 & 0.000000 & 0.000000 & 0 & 0 & 0 & 0.000000 & 0.000000 & ⋯ & 0 & 0 & 0.000000 & 0 & 0 & 0.000000 & 0 & 0 & 0 & 0.000000\\\\\n",
       "\tA2ML1 & 0 & 0 & 0 & 0.000000 & 0.000000 & 0 & 0 & 0 & 0.000000 & 0.000000 & ⋯ & 0 & 0 & 0.000000 & 0 & 0 & 0.000000 & 0 & 0 & 0 & 0.000000\\\\\n",
       "\tA4GALT & 0 & 0 & 0 & 0.000000 & 0.000000 & 0 & 0 & 0 & 0.000000 & 0.000000 & ⋯ & 0 & 0 & 0.000000 & 0 & 0 & 0.000000 & 0 & 0 & 0 & 0.000000\\\\\n",
       "\\end{tabular}\n"
      ],
      "text/markdown": [
       "\n",
       "A data.frame: 6 × 2566\n",
       "\n",
       "| <!--/--> | AAACCCACAGCTACAT-1 &lt;dbl&gt; | AAACCCATCCACGGGT-1 &lt;dbl&gt; | AAACCCATCCCATTCG-1 &lt;dbl&gt; | AAACGAACAAACAGGC-1 &lt;dbl&gt; | AAACGAAGTCGCACAC-1 &lt;dbl&gt; | AAACGAAGTCTATGAC-1 &lt;dbl&gt; | AAACGAAGTGTAGTGG-1 &lt;dbl&gt; | AAACGCTGTCACGTGC-1 &lt;dbl&gt; | AAACGCTGTTGGAGGT-1 &lt;dbl&gt; | AAAGAACTCTAGAACC-1 &lt;dbl&gt; | ⋯ ⋯ | TTTGATCTCCCGAAAT-1 &lt;dbl&gt; | TTTGGAGCAATACAGA-1 &lt;dbl&gt; | TTTGGAGTCACCATAG-1 &lt;dbl&gt; | TTTGGAGTCTCACCCA-1 &lt;dbl&gt; | TTTGGTTAGATGGCGT-1 &lt;dbl&gt; | TTTGGTTGTACCCAGC-1 &lt;dbl&gt; | TTTGGTTGTTACTCAG-1 &lt;dbl&gt; | TTTGTTGAGCTAGAGC-1 &lt;dbl&gt; | TTTGTTGCAATGAAAC-1 &lt;dbl&gt; | TTTGTTGCAGAGGGTT-1 &lt;dbl&gt; |\n",
       "|---|---|---|---|---|---|---|---|---|---|---|---|---|---|---|---|---|---|---|---|---|---|\n",
       "| A1BG | 0 | 0 | 0 | 3.492637 | 4.373578 | 0 | 0 | 0 | 4.111976 | 0.000000 | ⋯ | 0 | 0 | 5.413881 | 0 | 0 | 0.000000 | 0 | 0 | 0 | 0.000000 |\n",
       "| A1BG-AS1 | 0 | 0 | 0 | 0.000000 | 0.000000 | 0 | 0 | 0 | 0.000000 | 0.000000 | ⋯ | 0 | 0 | 0.000000 | 0 | 0 | 0.000000 | 0 | 0 | 0 | 0.000000 |\n",
       "| A2M | 0 | 0 | 0 | 4.855851 | 0.000000 | 0 | 0 | 0 | 0.000000 | 6.001009 | ⋯ | 0 | 0 | 5.127682 | 0 | 0 | 5.041668 | 0 | 0 | 0 | 5.305098 |\n",
       "| A2M-AS1 | 0 | 0 | 0 | 0.000000 | 0.000000 | 0 | 0 | 0 | 0.000000 | 0.000000 | ⋯ | 0 | 0 | 0.000000 | 0 | 0 | 0.000000 | 0 | 0 | 0 | 0.000000 |\n",
       "| A2ML1 | 0 | 0 | 0 | 0.000000 | 0.000000 | 0 | 0 | 0 | 0.000000 | 0.000000 | ⋯ | 0 | 0 | 0.000000 | 0 | 0 | 0.000000 | 0 | 0 | 0 | 0.000000 |\n",
       "| A4GALT | 0 | 0 | 0 | 0.000000 | 0.000000 | 0 | 0 | 0 | 0.000000 | 0.000000 | ⋯ | 0 | 0 | 0.000000 | 0 | 0 | 0.000000 | 0 | 0 | 0 | 0.000000 |\n",
       "\n"
      ],
      "text/plain": [
       "         AAACCCACAGCTACAT-1 AAACCCATCCACGGGT-1 AAACCCATCCCATTCG-1\n",
       "A1BG     0                  0                  0                 \n",
       "A1BG-AS1 0                  0                  0                 \n",
       "A2M      0                  0                  0                 \n",
       "A2M-AS1  0                  0                  0                 \n",
       "A2ML1    0                  0                  0                 \n",
       "A4GALT   0                  0                  0                 \n",
       "         AAACGAACAAACAGGC-1 AAACGAAGTCGCACAC-1 AAACGAAGTCTATGAC-1\n",
       "A1BG     3.492637           4.373578           0                 \n",
       "A1BG-AS1 0.000000           0.000000           0                 \n",
       "A2M      4.855851           0.000000           0                 \n",
       "A2M-AS1  0.000000           0.000000           0                 \n",
       "A2ML1    0.000000           0.000000           0                 \n",
       "A4GALT   0.000000           0.000000           0                 \n",
       "         AAACGAAGTGTAGTGG-1 AAACGCTGTCACGTGC-1 AAACGCTGTTGGAGGT-1\n",
       "A1BG     0                  0                  4.111976          \n",
       "A1BG-AS1 0                  0                  0.000000          \n",
       "A2M      0                  0                  0.000000          \n",
       "A2M-AS1  0                  0                  0.000000          \n",
       "A2ML1    0                  0                  0.000000          \n",
       "A4GALT   0                  0                  0.000000          \n",
       "         AAAGAACTCTAGAACC-1 ⋯ TTTGATCTCCCGAAAT-1 TTTGGAGCAATACAGA-1\n",
       "A1BG     0.000000           ⋯ 0                  0                 \n",
       "A1BG-AS1 0.000000           ⋯ 0                  0                 \n",
       "A2M      6.001009           ⋯ 0                  0                 \n",
       "A2M-AS1  0.000000           ⋯ 0                  0                 \n",
       "A2ML1    0.000000           ⋯ 0                  0                 \n",
       "A4GALT   0.000000           ⋯ 0                  0                 \n",
       "         TTTGGAGTCACCATAG-1 TTTGGAGTCTCACCCA-1 TTTGGTTAGATGGCGT-1\n",
       "A1BG     5.413881           0                  0                 \n",
       "A1BG-AS1 0.000000           0                  0                 \n",
       "A2M      5.127682           0                  0                 \n",
       "A2M-AS1  0.000000           0                  0                 \n",
       "A2ML1    0.000000           0                  0                 \n",
       "A4GALT   0.000000           0                  0                 \n",
       "         TTTGGTTGTACCCAGC-1 TTTGGTTGTTACTCAG-1 TTTGTTGAGCTAGAGC-1\n",
       "A1BG     0.000000           0                  0                 \n",
       "A1BG-AS1 0.000000           0                  0                 \n",
       "A2M      5.041668           0                  0                 \n",
       "A2M-AS1  0.000000           0                  0                 \n",
       "A2ML1    0.000000           0                  0                 \n",
       "A4GALT   0.000000           0                  0                 \n",
       "         TTTGTTGCAATGAAAC-1 TTTGTTGCAGAGGGTT-1\n",
       "A1BG     0                  0.000000          \n",
       "A1BG-AS1 0                  0.000000          \n",
       "A2M      0                  5.305098          \n",
       "A2M-AS1  0                  0.000000          \n",
       "A2ML1    0                  0.000000          \n",
       "A4GALT   0                  0.000000          "
      ]
     },
     "metadata": {},
     "output_type": "display_data"
    }
   ],
   "source": [
    "ordered.genes<-sort(rownames(balf.samples$C100))\n",
    "head(as.data.frame(balf.samples[['C100']]@assays$RNA@data)[ordered.genes,])"
   ]
  },
  {
   "cell_type": "markdown",
   "id": "75c308be",
   "metadata": {},
   "source": [
    "We can save this list of Suerat object for future use in other scripts:"
   ]
  },
  {
   "cell_type": "code",
   "execution_count": 15,
   "id": "3115ec90",
   "metadata": {},
   "outputs": [],
   "source": [
    "saveRDS(balf.samples, \n",
    "       paste0(data.path, 'interim/covid_balf_norm.rds'))"
   ]
  },
  {
   "cell_type": "markdown",
   "id": "25ef4e58",
   "metadata": {},
   "source": [
    "# Interoperability"
   ]
  },
  {
   "cell_type": "code",
   "execution_count": null,
   "id": "3eba0fd2",
   "metadata": {},
   "outputs": [],
   "source": [
    "# interoperability\n",
    "library(SeuratDisk, quietly = T)\n",
    "library('reticulate')\n",
    "anndata<-import('anndata')\n",
    "library('Matrix')"
   ]
  },
  {
   "cell_type": "markdown",
   "id": "e03de3ff",
   "metadata": {},
   "source": [
    "## to Python"
   ]
  },
  {
   "cell_type": "markdown",
   "id": "d71570ba",
   "metadata": {},
   "source": [
    "For use in Python, we can convert each Seurat object to an Anndata object using [SeuratDisk](https://mojaveazure.github.io/seurat-disk/articles/convert-anndata.html). The resultant h5ad file contains the same information as the AnnData object generated in the companion Python tutorial. See that tutorial for loading these saved files. "
   ]
  },
  {
   "cell_type": "code",
   "execution_count": 12,
   "id": "0c5f926f",
   "metadata": {},
   "outputs": [],
   "source": [
    "suppressMessages({\n",
    "    for (sample in names(balf.samples)){\n",
    "        file.name<-paste0(data.path, 'interim/covid_R_to_python/', sample, '.h5Seurat')\n",
    "#         file.name<-paste0(sample, '.h5Seurat') # permission issues\n",
    "        SaveH5Seurat(balf.samples[[sample]], filename = file.name)\n",
    "        Convert(file.name, dest = \"h5ad\", overwrite = TRUE)\n",
    "    }\n",
    "})"
   ]
  },
  {
   "cell_type": "markdown",
   "id": "705480bd",
   "metadata": {},
   "source": [
    "## from Python\n",
    "\n",
    "Here, we can load the expression matrices that were generated in the companion python script using AnnData and saved as h5ad files into Seurat:"
   ]
  },
  {
   "cell_type": "code",
   "execution_count": 22,
   "id": "9cfbbc12",
   "metadata": {},
   "outputs": [],
   "source": [
    "adata_to_seurat<-function(adata){\n",
    "    raw<-adata$raw$to_adata()\n",
    "    raw.counts<-t(as.matrix(raw$X))\n",
    "    rownames(raw.counts)<-rownames(raw$var)\n",
    "    colnames(raw.counts)<-rownames(raw$obs)\n",
    "\n",
    "    so<-CreateSeuratObject(counts=raw.counts, assay = 'RNA', meta.data = adata$obs)\n",
    "\n",
    "    norm.counts<-t(as.matrix(adata$X))\n",
    "    rownames(norm.counts)<-rownames(so)\n",
    "    colnames(norm.counts)<-colnames(so)\n",
    "\n",
    "    so@assays$RNA@data<-as(norm.counts, \"dgCMatrix\")\n",
    "    so@assays$RNA@meta.features<-adata$var\n",
    "    \n",
    "    return(so)\n",
    "}"
   ]
  },
  {
   "cell_type": "code",
   "execution_count": 79,
   "id": "17eef80d",
   "metadata": {},
   "outputs": [],
   "source": [
    "balf.samples.python<-list()\n",
    "for (sample in names(balf.samples)){\n",
    "    file.name<-paste0(data.path, 'interim/covid_python_to_R/', sample, '.h5ad')\n",
    "    adata<-anndata$read_h5ad(file.name)\n",
    "    balf.samples.python[[sample]]<-adata_to_seurat(adata)\n",
    "}"
   ]
  },
  {
   "cell_type": "markdown",
   "id": "386424e6",
   "metadata": {},
   "source": [
    "While this Seurat object is not completely identical to the one generated in this script, it stores all the same information. Counts are stored in the 'RNA' assay, with raw UMI counts are stored in the counts slot, the log(1+CPM) matrix is stored in data slot, and relevant metadata is available. We can see that the expression matrix is the same:"
   ]
  },
  {
   "cell_type": "code",
   "execution_count": 154,
   "id": "83775f2d",
   "metadata": {},
   "outputs": [
    {
     "data": {
      "text/plain": [
       "An object of class Seurat \n",
       "16566 features across 2566 samples within 1 assay \n",
       "Active assay: RNA (16566 features, 0 variable features)"
      ]
     },
     "metadata": {},
     "output_type": "display_data"
    }
   ],
   "source": [
    "balf.samples.python$C100"
   ]
  },
  {
   "cell_type": "code",
   "execution_count": 155,
   "id": "6954503d",
   "metadata": {},
   "outputs": [
    {
     "data": {
      "text/html": [
       "<table class=\"dataframe\">\n",
       "<caption>A data.frame: 6 × 2566</caption>\n",
       "<thead>\n",
       "\t<tr><th></th><th scope=col>AAACCCACAGCTACAT-1</th><th scope=col>AAACCCATCCACGGGT-1</th><th scope=col>AAACCCATCCCATTCG-1</th><th scope=col>AAACGAACAAACAGGC-1</th><th scope=col>AAACGAAGTCGCACAC-1</th><th scope=col>AAACGAAGTCTATGAC-1</th><th scope=col>AAACGAAGTGTAGTGG-1</th><th scope=col>AAACGCTGTCACGTGC-1</th><th scope=col>AAACGCTGTTGGAGGT-1</th><th scope=col>AAAGAACTCTAGAACC-1</th><th scope=col>⋯</th><th scope=col>TTTGATCTCCCGAAAT-1</th><th scope=col>TTTGGAGCAATACAGA-1</th><th scope=col>TTTGGAGTCACCATAG-1</th><th scope=col>TTTGGAGTCTCACCCA-1</th><th scope=col>TTTGGTTAGATGGCGT-1</th><th scope=col>TTTGGTTGTACCCAGC-1</th><th scope=col>TTTGGTTGTTACTCAG-1</th><th scope=col>TTTGTTGAGCTAGAGC-1</th><th scope=col>TTTGTTGCAATGAAAC-1</th><th scope=col>TTTGTTGCAGAGGGTT-1</th></tr>\n",
       "\t<tr><th></th><th scope=col>&lt;dbl&gt;</th><th scope=col>&lt;dbl&gt;</th><th scope=col>&lt;dbl&gt;</th><th scope=col>&lt;dbl&gt;</th><th scope=col>&lt;dbl&gt;</th><th scope=col>&lt;dbl&gt;</th><th scope=col>&lt;dbl&gt;</th><th scope=col>&lt;dbl&gt;</th><th scope=col>&lt;dbl&gt;</th><th scope=col>&lt;dbl&gt;</th><th scope=col>⋯</th><th scope=col>&lt;dbl&gt;</th><th scope=col>&lt;dbl&gt;</th><th scope=col>&lt;dbl&gt;</th><th scope=col>&lt;dbl&gt;</th><th scope=col>&lt;dbl&gt;</th><th scope=col>&lt;dbl&gt;</th><th scope=col>&lt;dbl&gt;</th><th scope=col>&lt;dbl&gt;</th><th scope=col>&lt;dbl&gt;</th><th scope=col>&lt;dbl&gt;</th></tr>\n",
       "</thead>\n",
       "<tbody>\n",
       "\t<tr><th scope=row>A1BG</th><td>0</td><td>0</td><td>0</td><td>3.492637</td><td>4.373578</td><td>0</td><td>0</td><td>0</td><td>4.111976</td><td>0.000000</td><td>⋯</td><td>0</td><td>0</td><td>5.413881</td><td>0</td><td>0</td><td>0.000000</td><td>0</td><td>0</td><td>0</td><td>0.000000</td></tr>\n",
       "\t<tr><th scope=row>A1BG-AS1</th><td>0</td><td>0</td><td>0</td><td>0.000000</td><td>0.000000</td><td>0</td><td>0</td><td>0</td><td>0.000000</td><td>0.000000</td><td>⋯</td><td>0</td><td>0</td><td>0.000000</td><td>0</td><td>0</td><td>0.000000</td><td>0</td><td>0</td><td>0</td><td>0.000000</td></tr>\n",
       "\t<tr><th scope=row>A2M</th><td>0</td><td>0</td><td>0</td><td>4.855852</td><td>0.000000</td><td>0</td><td>0</td><td>0</td><td>0.000000</td><td>6.001009</td><td>⋯</td><td>0</td><td>0</td><td>5.127682</td><td>0</td><td>0</td><td>5.041668</td><td>0</td><td>0</td><td>0</td><td>5.305098</td></tr>\n",
       "\t<tr><th scope=row>A2M-AS1</th><td>0</td><td>0</td><td>0</td><td>0.000000</td><td>0.000000</td><td>0</td><td>0</td><td>0</td><td>0.000000</td><td>0.000000</td><td>⋯</td><td>0</td><td>0</td><td>0.000000</td><td>0</td><td>0</td><td>0.000000</td><td>0</td><td>0</td><td>0</td><td>0.000000</td></tr>\n",
       "\t<tr><th scope=row>A2ML1</th><td>0</td><td>0</td><td>0</td><td>0.000000</td><td>0.000000</td><td>0</td><td>0</td><td>0</td><td>0.000000</td><td>0.000000</td><td>⋯</td><td>0</td><td>0</td><td>0.000000</td><td>0</td><td>0</td><td>0.000000</td><td>0</td><td>0</td><td>0</td><td>0.000000</td></tr>\n",
       "\t<tr><th scope=row>A4GALT</th><td>0</td><td>0</td><td>0</td><td>0.000000</td><td>0.000000</td><td>0</td><td>0</td><td>0</td><td>0.000000</td><td>0.000000</td><td>⋯</td><td>0</td><td>0</td><td>0.000000</td><td>0</td><td>0</td><td>0.000000</td><td>0</td><td>0</td><td>0</td><td>0.000000</td></tr>\n",
       "</tbody>\n",
       "</table>\n"
      ],
      "text/latex": [
       "A data.frame: 6 × 2566\n",
       "\\begin{tabular}{r|lllllllllllllllllllll}\n",
       "  & AAACCCACAGCTACAT-1 & AAACCCATCCACGGGT-1 & AAACCCATCCCATTCG-1 & AAACGAACAAACAGGC-1 & AAACGAAGTCGCACAC-1 & AAACGAAGTCTATGAC-1 & AAACGAAGTGTAGTGG-1 & AAACGCTGTCACGTGC-1 & AAACGCTGTTGGAGGT-1 & AAAGAACTCTAGAACC-1 & ⋯ & TTTGATCTCCCGAAAT-1 & TTTGGAGCAATACAGA-1 & TTTGGAGTCACCATAG-1 & TTTGGAGTCTCACCCA-1 & TTTGGTTAGATGGCGT-1 & TTTGGTTGTACCCAGC-1 & TTTGGTTGTTACTCAG-1 & TTTGTTGAGCTAGAGC-1 & TTTGTTGCAATGAAAC-1 & TTTGTTGCAGAGGGTT-1\\\\\n",
       "  & <dbl> & <dbl> & <dbl> & <dbl> & <dbl> & <dbl> & <dbl> & <dbl> & <dbl> & <dbl> & ⋯ & <dbl> & <dbl> & <dbl> & <dbl> & <dbl> & <dbl> & <dbl> & <dbl> & <dbl> & <dbl>\\\\\n",
       "\\hline\n",
       "\tA1BG & 0 & 0 & 0 & 3.492637 & 4.373578 & 0 & 0 & 0 & 4.111976 & 0.000000 & ⋯ & 0 & 0 & 5.413881 & 0 & 0 & 0.000000 & 0 & 0 & 0 & 0.000000\\\\\n",
       "\tA1BG-AS1 & 0 & 0 & 0 & 0.000000 & 0.000000 & 0 & 0 & 0 & 0.000000 & 0.000000 & ⋯ & 0 & 0 & 0.000000 & 0 & 0 & 0.000000 & 0 & 0 & 0 & 0.000000\\\\\n",
       "\tA2M & 0 & 0 & 0 & 4.855852 & 0.000000 & 0 & 0 & 0 & 0.000000 & 6.001009 & ⋯ & 0 & 0 & 5.127682 & 0 & 0 & 5.041668 & 0 & 0 & 0 & 5.305098\\\\\n",
       "\tA2M-AS1 & 0 & 0 & 0 & 0.000000 & 0.000000 & 0 & 0 & 0 & 0.000000 & 0.000000 & ⋯ & 0 & 0 & 0.000000 & 0 & 0 & 0.000000 & 0 & 0 & 0 & 0.000000\\\\\n",
       "\tA2ML1 & 0 & 0 & 0 & 0.000000 & 0.000000 & 0 & 0 & 0 & 0.000000 & 0.000000 & ⋯ & 0 & 0 & 0.000000 & 0 & 0 & 0.000000 & 0 & 0 & 0 & 0.000000\\\\\n",
       "\tA4GALT & 0 & 0 & 0 & 0.000000 & 0.000000 & 0 & 0 & 0 & 0.000000 & 0.000000 & ⋯ & 0 & 0 & 0.000000 & 0 & 0 & 0.000000 & 0 & 0 & 0 & 0.000000\\\\\n",
       "\\end{tabular}\n"
      ],
      "text/markdown": [
       "\n",
       "A data.frame: 6 × 2566\n",
       "\n",
       "| <!--/--> | AAACCCACAGCTACAT-1 &lt;dbl&gt; | AAACCCATCCACGGGT-1 &lt;dbl&gt; | AAACCCATCCCATTCG-1 &lt;dbl&gt; | AAACGAACAAACAGGC-1 &lt;dbl&gt; | AAACGAAGTCGCACAC-1 &lt;dbl&gt; | AAACGAAGTCTATGAC-1 &lt;dbl&gt; | AAACGAAGTGTAGTGG-1 &lt;dbl&gt; | AAACGCTGTCACGTGC-1 &lt;dbl&gt; | AAACGCTGTTGGAGGT-1 &lt;dbl&gt; | AAAGAACTCTAGAACC-1 &lt;dbl&gt; | ⋯ ⋯ | TTTGATCTCCCGAAAT-1 &lt;dbl&gt; | TTTGGAGCAATACAGA-1 &lt;dbl&gt; | TTTGGAGTCACCATAG-1 &lt;dbl&gt; | TTTGGAGTCTCACCCA-1 &lt;dbl&gt; | TTTGGTTAGATGGCGT-1 &lt;dbl&gt; | TTTGGTTGTACCCAGC-1 &lt;dbl&gt; | TTTGGTTGTTACTCAG-1 &lt;dbl&gt; | TTTGTTGAGCTAGAGC-1 &lt;dbl&gt; | TTTGTTGCAATGAAAC-1 &lt;dbl&gt; | TTTGTTGCAGAGGGTT-1 &lt;dbl&gt; |\n",
       "|---|---|---|---|---|---|---|---|---|---|---|---|---|---|---|---|---|---|---|---|---|---|\n",
       "| A1BG | 0 | 0 | 0 | 3.492637 | 4.373578 | 0 | 0 | 0 | 4.111976 | 0.000000 | ⋯ | 0 | 0 | 5.413881 | 0 | 0 | 0.000000 | 0 | 0 | 0 | 0.000000 |\n",
       "| A1BG-AS1 | 0 | 0 | 0 | 0.000000 | 0.000000 | 0 | 0 | 0 | 0.000000 | 0.000000 | ⋯ | 0 | 0 | 0.000000 | 0 | 0 | 0.000000 | 0 | 0 | 0 | 0.000000 |\n",
       "| A2M | 0 | 0 | 0 | 4.855852 | 0.000000 | 0 | 0 | 0 | 0.000000 | 6.001009 | ⋯ | 0 | 0 | 5.127682 | 0 | 0 | 5.041668 | 0 | 0 | 0 | 5.305098 |\n",
       "| A2M-AS1 | 0 | 0 | 0 | 0.000000 | 0.000000 | 0 | 0 | 0 | 0.000000 | 0.000000 | ⋯ | 0 | 0 | 0.000000 | 0 | 0 | 0.000000 | 0 | 0 | 0 | 0.000000 |\n",
       "| A2ML1 | 0 | 0 | 0 | 0.000000 | 0.000000 | 0 | 0 | 0 | 0.000000 | 0.000000 | ⋯ | 0 | 0 | 0.000000 | 0 | 0 | 0.000000 | 0 | 0 | 0 | 0.000000 |\n",
       "| A4GALT | 0 | 0 | 0 | 0.000000 | 0.000000 | 0 | 0 | 0 | 0.000000 | 0.000000 | ⋯ | 0 | 0 | 0.000000 | 0 | 0 | 0.000000 | 0 | 0 | 0 | 0.000000 |\n",
       "\n"
      ],
      "text/plain": [
       "         AAACCCACAGCTACAT-1 AAACCCATCCACGGGT-1 AAACCCATCCCATTCG-1\n",
       "A1BG     0                  0                  0                 \n",
       "A1BG-AS1 0                  0                  0                 \n",
       "A2M      0                  0                  0                 \n",
       "A2M-AS1  0                  0                  0                 \n",
       "A2ML1    0                  0                  0                 \n",
       "A4GALT   0                  0                  0                 \n",
       "         AAACGAACAAACAGGC-1 AAACGAAGTCGCACAC-1 AAACGAAGTCTATGAC-1\n",
       "A1BG     3.492637           4.373578           0                 \n",
       "A1BG-AS1 0.000000           0.000000           0                 \n",
       "A2M      4.855852           0.000000           0                 \n",
       "A2M-AS1  0.000000           0.000000           0                 \n",
       "A2ML1    0.000000           0.000000           0                 \n",
       "A4GALT   0.000000           0.000000           0                 \n",
       "         AAACGAAGTGTAGTGG-1 AAACGCTGTCACGTGC-1 AAACGCTGTTGGAGGT-1\n",
       "A1BG     0                  0                  4.111976          \n",
       "A1BG-AS1 0                  0                  0.000000          \n",
       "A2M      0                  0                  0.000000          \n",
       "A2M-AS1  0                  0                  0.000000          \n",
       "A2ML1    0                  0                  0.000000          \n",
       "A4GALT   0                  0                  0.000000          \n",
       "         AAAGAACTCTAGAACC-1 ⋯ TTTGATCTCCCGAAAT-1 TTTGGAGCAATACAGA-1\n",
       "A1BG     0.000000           ⋯ 0                  0                 \n",
       "A1BG-AS1 0.000000           ⋯ 0                  0                 \n",
       "A2M      6.001009           ⋯ 0                  0                 \n",
       "A2M-AS1  0.000000           ⋯ 0                  0                 \n",
       "A2ML1    0.000000           ⋯ 0                  0                 \n",
       "A4GALT   0.000000           ⋯ 0                  0                 \n",
       "         TTTGGAGTCACCATAG-1 TTTGGAGTCTCACCCA-1 TTTGGTTAGATGGCGT-1\n",
       "A1BG     5.413881           0                  0                 \n",
       "A1BG-AS1 0.000000           0                  0                 \n",
       "A2M      5.127682           0                  0                 \n",
       "A2M-AS1  0.000000           0                  0                 \n",
       "A2ML1    0.000000           0                  0                 \n",
       "A4GALT   0.000000           0                  0                 \n",
       "         TTTGGTTGTACCCAGC-1 TTTGGTTGTTACTCAG-1 TTTGTTGAGCTAGAGC-1\n",
       "A1BG     0.000000           0                  0                 \n",
       "A1BG-AS1 0.000000           0                  0                 \n",
       "A2M      5.041668           0                  0                 \n",
       "A2M-AS1  0.000000           0                  0                 \n",
       "A2ML1    0.000000           0                  0                 \n",
       "A4GALT   0.000000           0                  0                 \n",
       "         TTTGTTGCAATGAAAC-1 TTTGTTGCAGAGGGTT-1\n",
       "A1BG     0                  0.000000          \n",
       "A1BG-AS1 0                  0.000000          \n",
       "A2M      0                  5.305098          \n",
       "A2M-AS1  0                  0.000000          \n",
       "A2ML1    0                  0.000000          \n",
       "A4GALT   0                  0.000000          "
      ]
     },
     "metadata": {},
     "output_type": "display_data"
    }
   ],
   "source": [
    "ordered.genes<-sort(rownames(balf.samples.python$C100))\n",
    "head(as.data.frame(balf.samples.python[['C100']]@assays$RNA@data)[ordered.genes,])"
   ]
  }
 ],
 "metadata": {
  "kernelspec": {
   "display_name": "R [conda env:ccc_protocols]",
   "language": "R",
   "name": "conda-env-ccc_protocols-r"
  },
  "language_info": {
   "codemirror_mode": "r",
   "file_extension": ".r",
   "mimetype": "text/x-r-source",
   "name": "R",
   "pygments_lexer": "r",
   "version": "4.1.3"
  }
 },
 "nbformat": 4,
 "nbformat_minor": 5
}
