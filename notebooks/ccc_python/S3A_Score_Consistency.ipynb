{
 "cells": [
  {
   "cell_type": "markdown",
   "id": "9c945170",
   "metadata": {},
   "source": [
    "# S3. Score Consistency\n",
    "\n",
    "Here, we briefly demonstrate the similarities and discrepancies in the pipeline outputs."
   ]
  },
  {
   "cell_type": "code",
   "execution_count": 1,
   "id": "c122940a",
   "metadata": {},
   "outputs": [
    {
     "name": "stdout",
     "output_type": "stream",
     "text": [
      "../../data/liana-outputs/ already exists.\n"
     ]
    }
   ],
   "source": [
    "import os\n",
    "import functools\n",
    "\n",
    "import pandas as pd\n",
    "import scipy\n",
    "\n",
    "import scanpy as sc\n",
    "\n",
    "import cell2cell as c2c\n",
    "from liana.method.sc._rank_aggregate import AggregateClass, _rank_aggregate_meta\n",
    "from liana.method.sc import cellphonedb, natmi, singlecellsignalr\n",
    "\n",
    "data_path = '../../data/'\n",
    "output_folder = os.path.join(data_path, 'liana-outputs/')\n",
    "c2c.io.directories.create_directory(output_folder)"
   ]
  },
  {
   "cell_type": "markdown",
   "id": "517e0ca9",
   "metadata": {},
   "source": [
    "## S3-A1. Comparison with R output:\n",
    "\n",
    "There are minor differences with the LIANA implementation in R that lead to outputs not being identical\n",
    "\n",
    "- SingleCellSignalR Magnitude (lrscore): precision - slightly different after 3rd decimal place\n",
    "- LogFC Specificity (lr_logfc): similar relative differences but different exact values\n",
    "- CellPhoneDB Specificity (cellphone_pvals): similar relative differences but different exact values\n",
    "- CellChat: not run by default in R\n",
    "\n",
    "Let's check the consistency in the magnitude aggregate rank score when running the different methods that report magnitude (excluding CellChat, which is not present by default in R). "
   ]
  },
  {
   "cell_type": "code",
   "execution_count": 2,
   "id": "e7d48386",
   "metadata": {},
   "outputs": [],
   "source": [
    "adata = sc.read_h5ad(os.path.join(data_path, 'processed.h5ad'))\n",
    "sadata = adata[adata.obs['sample']=='C100']"
   ]
  },
  {
   "cell_type": "code",
   "execution_count": 3,
   "id": "0d512811",
   "metadata": {},
   "outputs": [
    {
     "name": "stderr",
     "output_type": "stream",
     "text": [
      "Using `.X`!\n",
      "/home/hratch/miniconda3/envs/ccc_protocols/lib/python3.10/site-packages/anndata/_core/anndata.py:522: FutureWarning: The dtype argument is deprecated and will be removed in late 2024.\n",
      "5580 features of mat are empty, they will be removed.\n",
      "/home/hratch/miniconda3/envs/ccc_protocols/lib/python3.10/site-packages/pandas/core/indexing.py:1819: ImplicitModificationWarning: Trying to modify attribute `.obs` of view, initializing view as actual.\n",
      "/home/hratch/miniconda3/envs/ccc_protocols/lib/python3.10/site-packages/liana/method/_pipe_utils/_pre.py:142: FutureWarning: The default of observed=False is deprecated and will be changed to True in a future version of pandas. Pass observed=False to retain current behavior or observed=True to adopt the future default and silence this warning.\n",
      "The following cell identities were excluded: Plasma\n",
      "Using resource `consensus`.\n",
      "0.33 of entities in the resource are missing from the data.\n"
     ]
    },
    {
     "name": "stdout",
     "output_type": "stream",
     "text": [
      "Generating ligand-receptor stats for 2548 samples and 19218 features\n",
      "Running CellPhoneDB\n"
     ]
    },
    {
     "name": "stderr",
     "output_type": "stream",
     "text": [
      "100%|██████████████████████████████████████| 1000/1000 [00:04<00:00, 249.89it/s]\n"
     ]
    },
    {
     "name": "stdout",
     "output_type": "stream",
     "text": [
      "Running NATMI\n",
      "Running SingleCellSignalR\n"
     ]
    },
    {
     "name": "stderr",
     "output_type": "stream",
     "text": [
      "/home/hratch/miniconda3/envs/ccc_protocols/lib/python3.10/site-packages/liana/method/sc/_rank_aggregate.py:144: ImplicitModificationWarning: Trying to modify attribute `._uns` of view, initializing view as actual.\n"
     ]
    }
   ],
   "source": [
    "# make rank_aggregate function that only runs on methods of choice and only for Magnitude\n",
    "rank_aggregate_partial = AggregateClass(_rank_aggregate_meta, methods=[cellphonedb, natmi, singlecellsignalr])\n",
    "rank_aggregate_partial(adata = sadata, \n",
    "                       groupby='celltype', \n",
    "                       use_raw = False, # run on log- and library-normalized counts\n",
    "                       verbose = True, \n",
    "                       inplace = True\n",
    "                      )"
   ]
  },
  {
   "cell_type": "code",
   "execution_count": 4,
   "id": "07975809",
   "metadata": {},
   "outputs": [
    {
     "data": {
      "text/html": [
       "<div>\n",
       "<style scoped>\n",
       "    .dataframe tbody tr th:only-of-type {\n",
       "        vertical-align: middle;\n",
       "    }\n",
       "\n",
       "    .dataframe tbody tr th {\n",
       "        vertical-align: top;\n",
       "    }\n",
       "\n",
       "    .dataframe thead th {\n",
       "        text-align: right;\n",
       "    }\n",
       "</style>\n",
       "<table border=\"1\" class=\"dataframe\">\n",
       "  <thead>\n",
       "    <tr style=\"text-align: right;\">\n",
       "      <th></th>\n",
       "      <th>source</th>\n",
       "      <th>target</th>\n",
       "      <th>ligand_complex</th>\n",
       "      <th>receptor_complex</th>\n",
       "      <th>magnitude_rank</th>\n",
       "    </tr>\n",
       "  </thead>\n",
       "  <tbody>\n",
       "    <tr>\n",
       "      <th>67</th>\n",
       "      <td>B</td>\n",
       "      <td>B</td>\n",
       "      <td>ACTR2</td>\n",
       "      <td>ADRB2</td>\n",
       "      <td>0.405892</td>\n",
       "    </tr>\n",
       "    <tr>\n",
       "      <th>17</th>\n",
       "      <td>B</td>\n",
       "      <td>B</td>\n",
       "      <td>ADAM17</td>\n",
       "      <td>ITGB1</td>\n",
       "      <td>0.081878</td>\n",
       "    </tr>\n",
       "    <tr>\n",
       "      <th>54</th>\n",
       "      <td>B</td>\n",
       "      <td>B</td>\n",
       "      <td>ADAM17</td>\n",
       "      <td>RHBDF2</td>\n",
       "      <td>0.334024</td>\n",
       "    </tr>\n",
       "    <tr>\n",
       "      <th>23</th>\n",
       "      <td>B</td>\n",
       "      <td>B</td>\n",
       "      <td>ADAM28</td>\n",
       "      <td>ITGA4</td>\n",
       "      <td>0.403503</td>\n",
       "    </tr>\n",
       "    <tr>\n",
       "      <th>8</th>\n",
       "      <td>B</td>\n",
       "      <td>B</td>\n",
       "      <td>APOC2</td>\n",
       "      <td>LRP1</td>\n",
       "      <td>1.000000</td>\n",
       "    </tr>\n",
       "  </tbody>\n",
       "</table>\n",
       "</div>"
      ],
      "text/plain": [
       "   source target ligand_complex receptor_complex  magnitude_rank\n",
       "67      B      B          ACTR2            ADRB2        0.405892\n",
       "17      B      B         ADAM17            ITGB1        0.081878\n",
       "54      B      B         ADAM17           RHBDF2        0.334024\n",
       "23      B      B         ADAM28            ITGA4        0.403503\n",
       "8       B      B          APOC2             LRP1        1.000000"
      ]
     },
     "execution_count": 4,
     "metadata": {},
     "output_type": "execute_result"
    }
   ],
   "source": [
    "rel_cols = ['source', 'target', 'ligand_complex', 'receptor_complex', 'magnitude_rank']\n",
    "liana_aggregate_partial = sadata.uns['liana_res'].loc[:,rel_cols]\n",
    "liana_aggregate_partial.sort_values(by = ['source', 'target', 'ligand_complex', 'receptor_complex'], inplace = True)\n",
    "liana_aggregate_partial.to_csv(os.path.join(output_folder, 'magnitude_ranks_python.csv'))\n",
    "liana_aggregate_partial.head()"
   ]
  },
  {
   "cell_type": "markdown",
   "id": "6c41528f",
   "metadata": {},
   "source": [
    "Note, to run the correlation, make sure to have run the [companion Python tutorial](../ccc_R/S3_Score_Consistency.ipynb) up to the point where you save the csv named \"magnitude_ranks_R.csv\". "
   ]
  },
  {
   "cell_type": "code",
   "execution_count": 5,
   "id": "8ec472a2",
   "metadata": {},
   "outputs": [
    {
     "name": "stdout",
     "output_type": "stream",
     "text": [
      "The spearman correlation bewteen R and python aggregate magnitude scores is: 0.98\n"
     ]
    }
   ],
   "source": [
    "# read and format R aggregate rank\n",
    "lap_R = pd.read_csv(os.path.join(output_folder, 'magnitude_ranks_R.csv'), index_col = 0)\n",
    "lap_R.columns = ['source', 'target', 'ligand_complex', 'receptor_complex', 'aggregate_rank']\n",
    "\n",
    "# merge the two scores\n",
    "la = pd.merge(liana_aggregate_partial, lap_R, on = ['source', 'target', 'ligand_complex', 'receptor_complex'], \n",
    "                                                how = 'inner')\n",
    "sr = scipy.stats.spearmanr(la.magnitude_rank, la.aggregate_rank).statistic\n",
    "print('The spearman correlation bewteen R and python aggregate magnitude scores is: {:.2f}'.format(sr))"
   ]
  },
  {
   "cell_type": "markdown",
   "id": "a9c246be",
   "metadata": {},
   "source": [
    "## S3-A2. Sensitivity of Consensus to Scoring Methods\n",
    "\n",
    "We can check the extent to which the consensus score is influenced by individual scoring method types. To do so, we can re-run the scoring pipeline on one sample (sample C100) as in [Tutorial 02](./02-Infer-Communication-Scores.ipynb), but see how the consensus score changes as we exclude each of one scoring method type. "
   ]
  },
  {
   "cell_type": "code",
   "execution_count": 6,
   "id": "a908323a",
   "metadata": {},
   "outputs": [],
   "source": [
    "from functools import reduce\n",
    "\n",
    "import matplotlib\n",
    "\n",
    "import liana\n",
    "from liana.method import cellphonedb, connectome, logfc, natmi, singlecellsignalr, cellchat\n",
    "from liana.method.sc._rank_aggregate import AggregateClass, _rank_aggregate_meta as aggregate_meta"
   ]
  },
  {
   "cell_type": "markdown",
   "id": "613395cf",
   "metadata": {},
   "source": [
    "First, let's load the sample data from Tutorial 02:"
   ]
  },
  {
   "cell_type": "code",
   "execution_count": 7,
   "id": "729346c9",
   "metadata": {},
   "outputs": [],
   "source": [
    "adata = sc.read_h5ad(os.path.join(data_path, 'processed.h5ad'))\n",
    "sample_name = 'C100'\n",
    "sadata = adata[adata.obs['sample']==sample_name]"
   ]
  },
  {
   "cell_type": "markdown",
   "id": "d03294a9",
   "metadata": {},
   "source": [
    "Now, we can run the rank_aggregate function as in Tutorial 02. However, in this case, we must first specify the subset of methods we want to calculate a consensus score on."
   ]
  },
  {
   "cell_type": "code",
   "execution_count": 8,
   "id": "d7b492ad",
   "metadata": {},
   "outputs": [],
   "source": [
    "method_names = ['cellphonedb', 'connectome', 'logfc', 'natmi', 'singlecellsignalr', 'cellchat']\n",
    "all_methods = [cellphonedb, connectome, logfc, natmi, singlecellsignalr, cellchat]\n",
    "all_methods = dict(zip(method_names, all_methods))"
   ]
  },
  {
   "cell_type": "code",
   "execution_count": 9,
   "id": "7d336912",
   "metadata": {},
   "outputs": [],
   "source": [
    "def calculate_consensus(method_subset, n_perms = 1000):\n",
    "    # re-generate the rank aggregate instance for only a subset of methods\n",
    "    rank_aggregate_subset = AggregateClass(aggregate_meta, methods=method_subset)\n",
    "    \n",
    "    # get the consensus score as in tutorial 02\n",
    "    liana_res = rank_aggregate_subset(sadata.copy(),\n",
    "                                               groupby='celltype',\n",
    "                                               resource_name = 'consensus',\n",
    "                                               expr_prop=0.1, # must be expressed in expr_prop fraction of cells\n",
    "                                               min_cells = 5,\n",
    "                                               n_perms = n_perms,\n",
    "                                               use_raw = False, # run on log- and library-normalized counts\n",
    "                                               verbose = False,\n",
    "                                               inplace = False\n",
    "                              )\n",
    "\n",
    "    return liana_res"
   ]
  },
  {
   "cell_type": "code",
   "execution_count": 10,
   "id": "699ce47a",
   "metadata": {},
   "outputs": [
    {
     "name": "stderr",
     "output_type": "stream",
     "text": [
      "/home/hratch/miniconda3/envs/ccc_protocols/lib/python3.10/site-packages/anndata/_core/anndata.py:522: FutureWarning: The dtype argument is deprecated and will be removed in late 2024.\n",
      "/home/hratch/miniconda3/envs/ccc_protocols/lib/python3.10/site-packages/pandas/core/indexing.py:1819: ImplicitModificationWarning: Trying to modify attribute `.obs` of view, initializing view as actual.\n",
      "/home/hratch/miniconda3/envs/ccc_protocols/lib/python3.10/site-packages/liana/method/_pipe_utils/_pre.py:142: FutureWarning: The default of observed=False is deprecated and will be changed to True in a future version of pandas. Pass observed=False to retain current behavior or observed=True to adopt the future default and silence this warning.\n",
      "/home/hratch/miniconda3/envs/ccc_protocols/lib/python3.10/site-packages/liana/method/sc/_liana_pipe.py:246: ImplicitModificationWarning: Setting element `.layers['scaled']` of view, initializing view as actual.\n",
      "/home/hratch/miniconda3/envs/ccc_protocols/lib/python3.10/site-packages/anndata/_core/anndata.py:522: FutureWarning: The dtype argument is deprecated and will be removed in late 2024.\n",
      "/home/hratch/miniconda3/envs/ccc_protocols/lib/python3.10/site-packages/pandas/core/indexing.py:1819: ImplicitModificationWarning: Trying to modify attribute `.obs` of view, initializing view as actual.\n",
      "/home/hratch/miniconda3/envs/ccc_protocols/lib/python3.10/site-packages/liana/method/_pipe_utils/_pre.py:142: FutureWarning: The default of observed=False is deprecated and will be changed to True in a future version of pandas. Pass observed=False to retain current behavior or observed=True to adopt the future default and silence this warning.\n",
      "/home/hratch/miniconda3/envs/ccc_protocols/lib/python3.10/site-packages/liana/method/sc/_liana_pipe.py:256: ImplicitModificationWarning: Setting element `.layers['normcounts']` of view, initializing view as actual.\n",
      "/home/hratch/miniconda3/envs/ccc_protocols/lib/python3.10/site-packages/anndata/_core/anndata.py:522: FutureWarning: The dtype argument is deprecated and will be removed in late 2024.\n",
      "/home/hratch/miniconda3/envs/ccc_protocols/lib/python3.10/site-packages/pandas/core/indexing.py:1819: ImplicitModificationWarning: Trying to modify attribute `.obs` of view, initializing view as actual.\n",
      "/home/hratch/miniconda3/envs/ccc_protocols/lib/python3.10/site-packages/liana/method/_pipe_utils/_pre.py:142: FutureWarning: The default of observed=False is deprecated and will be changed to True in a future version of pandas. Pass observed=False to retain current behavior or observed=True to adopt the future default and silence this warning.\n",
      "/home/hratch/miniconda3/envs/ccc_protocols/lib/python3.10/site-packages/liana/method/sc/_liana_pipe.py:246: ImplicitModificationWarning: Setting element `.layers['scaled']` of view, initializing view as actual.\n",
      "/home/hratch/miniconda3/envs/ccc_protocols/lib/python3.10/site-packages/anndata/_core/anndata.py:522: FutureWarning: The dtype argument is deprecated and will be removed in late 2024.\n",
      "/home/hratch/miniconda3/envs/ccc_protocols/lib/python3.10/site-packages/pandas/core/indexing.py:1819: ImplicitModificationWarning: Trying to modify attribute `.obs` of view, initializing view as actual.\n",
      "/home/hratch/miniconda3/envs/ccc_protocols/lib/python3.10/site-packages/liana/method/_pipe_utils/_pre.py:142: FutureWarning: The default of observed=False is deprecated and will be changed to True in a future version of pandas. Pass observed=False to retain current behavior or observed=True to adopt the future default and silence this warning.\n",
      "/home/hratch/miniconda3/envs/ccc_protocols/lib/python3.10/site-packages/liana/method/sc/_liana_pipe.py:246: ImplicitModificationWarning: Setting element `.layers['scaled']` of view, initializing view as actual.\n",
      "/home/hratch/miniconda3/envs/ccc_protocols/lib/python3.10/site-packages/anndata/_core/anndata.py:522: FutureWarning: The dtype argument is deprecated and will be removed in late 2024.\n",
      "/home/hratch/miniconda3/envs/ccc_protocols/lib/python3.10/site-packages/pandas/core/indexing.py:1819: ImplicitModificationWarning: Trying to modify attribute `.obs` of view, initializing view as actual.\n",
      "/home/hratch/miniconda3/envs/ccc_protocols/lib/python3.10/site-packages/liana/method/_pipe_utils/_pre.py:142: FutureWarning: The default of observed=False is deprecated and will be changed to True in a future version of pandas. Pass observed=False to retain current behavior or observed=True to adopt the future default and silence this warning.\n",
      "/home/hratch/miniconda3/envs/ccc_protocols/lib/python3.10/site-packages/liana/method/sc/_liana_pipe.py:246: ImplicitModificationWarning: Setting element `.layers['scaled']` of view, initializing view as actual.\n",
      "/home/hratch/miniconda3/envs/ccc_protocols/lib/python3.10/site-packages/anndata/_core/anndata.py:522: FutureWarning: The dtype argument is deprecated and will be removed in late 2024.\n",
      "/home/hratch/miniconda3/envs/ccc_protocols/lib/python3.10/site-packages/pandas/core/indexing.py:1819: ImplicitModificationWarning: Trying to modify attribute `.obs` of view, initializing view as actual.\n",
      "/home/hratch/miniconda3/envs/ccc_protocols/lib/python3.10/site-packages/liana/method/_pipe_utils/_pre.py:142: FutureWarning: The default of observed=False is deprecated and will be changed to True in a future version of pandas. Pass observed=False to retain current behavior or observed=True to adopt the future default and silence this warning.\n",
      "/home/hratch/miniconda3/envs/ccc_protocols/lib/python3.10/site-packages/liana/method/sc/_liana_pipe.py:246: ImplicitModificationWarning: Setting element `.layers['scaled']` of view, initializing view as actual.\n"
     ]
    },
    {
     "name": "stdout",
     "output_type": "stream",
     "text": [
      "../../data/liana-outputs//LOO_consensus_scores.pkl  was correctly saved.\n"
     ]
    }
   ],
   "source": [
    "subset_res = dict()\n",
    "for method_name in method_names: \n",
    "    #leave one method out\n",
    "    method_subset = [method_v for method_k, method_v in all_methods.items() if method_k != method_name]\n",
    "    \n",
    "    liana_res = calculate_consensus(method_subset)\n",
    "    liana_res.rename(columns = {'specificity_rank': '_'.join([method_name, 'specificity']), \n",
    "                               'magnitude_rank': '_'.join([method_name, 'magnitude'])}, inplace = True)\n",
    "    subset_res[method_name] = liana_res\n",
    "    \n",
    "c2c.io.export_variable_with_pickle(subset_res, output_folder + '/LOO_consensus_scores.pkl')\n",
    "\n",
    "subset_res = c2c.io.read_data.load_variable_with_pickle(output_folder + '/LOO_consensus_scores.pkl')"
   ]
  },
  {
   "cell_type": "markdown",
   "id": "c924efc3",
   "metadata": {},
   "source": [
    "Next, let's incorporate the scores from running all methods together. This was done in Tutorial 02, and we can load the results here:"
   ]
  },
  {
   "cell_type": "code",
   "execution_count": 11,
   "id": "e39becf0",
   "metadata": {},
   "outputs": [],
   "source": [
    "sample_name = 'C100'\n",
    "liana_res = pd.read_csv(os.path.join(output_folder, sample_name + '_aggregate_scores.csv'), index_col = 0)\n",
    "liana_res.rename(columns = {'specificity_rank': 'all_specificity', \n",
    "                           'magnitude_rank': 'all_magnitude'}, inplace = True)\n",
    "subset_res['all'] = liana_res"
   ]
  },
  {
   "cell_type": "markdown",
   "id": "96410858",
   "metadata": {},
   "source": [
    "Let's merge and format these scores:"
   ]
  },
  {
   "cell_type": "code",
   "execution_count": 12,
   "id": "7cad0a49",
   "metadata": {},
   "outputs": [],
   "source": [
    "# merge scores across each iteration\n",
    "merge_cols = ['source', 'target', 'ligand_complex', 'receptor_complex']\n",
    "subset_res = {k: v[['source', 'target', 'ligand_complex', 'receptor_complex', k + '_specificity', \n",
    "                     k + '_magnitude']] for k,v in subset_res.items()}\n",
    "subset_res_df = functools.reduce(lambda x, y: pd.merge(x, y, how = 'inner', \n",
    "                                             on = merge_cols), \n",
    "                       list(subset_res.values()))\n",
    "\n",
    "# get specificify consensus scores\n",
    "specificity_df = subset_res_df[[col_name for col_name in subset_res_df.columns if col_name.endswith('_specificity')]]\n",
    "specificity_df.columns = [''.join(col_name.split('_specificity')[:-1]) for col_name in specificity_df.columns]"
   ]
  },
  {
   "cell_type": "markdown",
   "id": "28161fc0",
   "metadata": {},
   "source": [
    "Remember that the Connectome and NATMI magnitude score are the same calculation. So, in this case, we should  be leaving both out. Let's re-run our scoring for this one exception:"
   ]
  },
  {
   "cell_type": "code",
   "execution_count": 13,
   "id": "2d9107e2",
   "metadata": {},
   "outputs": [
    {
     "name": "stderr",
     "output_type": "stream",
     "text": [
      "/home/hratch/miniconda3/envs/ccc_protocols/lib/python3.10/site-packages/anndata/_core/anndata.py:522: FutureWarning: The dtype argument is deprecated and will be removed in late 2024.\n",
      "/home/hratch/miniconda3/envs/ccc_protocols/lib/python3.10/site-packages/pandas/core/indexing.py:1819: ImplicitModificationWarning: Trying to modify attribute `.obs` of view, initializing view as actual.\n",
      "/home/hratch/miniconda3/envs/ccc_protocols/lib/python3.10/site-packages/liana/method/_pipe_utils/_pre.py:142: FutureWarning: The default of observed=False is deprecated and will be changed to True in a future version of pandas. Pass observed=False to retain current behavior or observed=True to adopt the future default and silence this warning.\n",
      "/home/hratch/miniconda3/envs/ccc_protocols/lib/python3.10/site-packages/liana/method/sc/_liana_pipe.py:256: ImplicitModificationWarning: Setting element `.layers['normcounts']` of view, initializing view as actual.\n"
     ]
    }
   ],
   "source": [
    "# re-run scoring to leave out both Connectome and NATMI\n",
    "method_subset = [method_v for method_k, method_v in all_methods.items() if method_k != 'connectome' and method_k != 'natmi']\n",
    "liana_res = calculate_consensus(method_subset, \n",
    "                                n_perms = 1 # speedup, permutations not necessary for magnitude calculations\n",
    "                               )\n",
    "\n",
    "# Format\n",
    "magnitude_df = subset_res_df[merge_cols + [col_name for col_name in subset_res_df.columns if col_name.endswith('_magnitude')]]\n",
    "liana_res.rename(columns = {'magnitude_rank': 'expr_prod_magnitude'}, inplace = True)\n",
    "magnitude_df = pd.merge(right = magnitude_df, left = liana_res, how = 'inner', on = merge_cols)\n",
    "magnitude_df = magnitude_df[[col_name for col_name in magnitude_df.columns if col_name.endswith('_magnitude')]]\n",
    "magnitude_df.columns = [''.join(col_name.split('_magnitude')[:-1]) for col_name in magnitude_df.columns]\n",
    "magnitude_df.drop(columns = ['natmi', 'connectome'], inplace = True)"
   ]
  },
  {
   "cell_type": "markdown",
   "id": "a77aa338",
   "metadata": {},
   "source": [
    "Now that we have consensus scores leaving each of one scoring method out, we can assess the sensitivity of the conesnsus score to each scoring method type. Since these scores are ranks, we will use the Spearman correlation to assess the effect. "
   ]
  },
  {
   "cell_type": "code",
   "execution_count": 14,
   "id": "6b293bfb",
   "metadata": {},
   "outputs": [],
   "source": [
    "specificity_corr = specificity_df.corr(method = 'spearman')\n",
    "magnitude_corr = magnitude_df.corr(method = 'spearman')"
   ]
  },
  {
   "cell_type": "code",
   "execution_count": 15,
   "id": "fb4d1947",
   "metadata": {},
   "outputs": [
    {
     "name": "stdout",
     "output_type": "stream",
     "text": [
      "Interaction space detected as a distance matrix\n"
     ]
    },
    {
     "data": {
      "text/plain": [
       "''"
      ]
     },
     "execution_count": 15,
     "metadata": {},
     "output_type": "execute_result"
    },
    {
     "data": {
      "image/png": "[encoded data removed]",
      "text/plain": [
       "<Figure size 400x500 with 4 Axes>"
      ]
     },
     "metadata": {},
     "output_type": "display_data"
    }
   ],
   "source": [
    "cm = c2c.plotting.clustermap_cci(magnitude_corr,\n",
    "                                 method='ward',\n",
    "                                 optimal_leaf=True,\n",
    "                                 metadata=None,\n",
    "                                 title='',\n",
    "                                 cbar_title='Spearman', \n",
    "                                 cmap='Blues_r',\n",
    "                                 vmax=1.,\n",
    "#                                  vmin=0.,\n",
    "                                 annot=True, \n",
    "                                 dendrogram_ratio=0.15,\n",
    "                                figsize=(4,5))\n",
    "\n",
    "font = matplotlib.font_manager.FontProperties(weight='bold', size=7)\n",
    "for ax in [cm.ax_heatmap, cm.ax_cbar]:\n",
    "    for tick in ax.get_xticklabels():\n",
    "        tick.set_fontproperties(font)\n",
    "    for tick in ax.get_yticklabels():\n",
    "        tick.set_fontproperties(font)\n",
    "\n",
    "    text = ax.yaxis.label\n",
    "    text.set_font_properties(font)\n",
    "cm.ax_col_dendrogram.set_title('Magnitude Consensus')\n",
    ";"
   ]
  },
  {
   "cell_type": "markdown",
   "id": "6a850ca0",
   "metadata": {},
   "source": [
    "We are particularly interested in differences with all scores (top row). We can see that, for the magnitude, CellChat has the largest effect on the consensus score. This is line with results from Tutorial 02 indicated that the CellChat score was the most dissimilar (see the `liana_corr`variable from that notebook). Let's see what this looks like for the specificity consensus scores as well:"
   ]
  },
  {
   "cell_type": "code",
   "execution_count": 16,
   "id": "41814537",
   "metadata": {},
   "outputs": [
    {
     "name": "stdout",
     "output_type": "stream",
     "text": [
      "Interaction space detected as a distance matrix\n"
     ]
    },
    {
     "data": {
      "text/plain": [
       "''"
      ]
     },
     "execution_count": 16,
     "metadata": {},
     "output_type": "execute_result"
    },
    {
     "data": {
      "image/png": "[encoded data removed]",
      "text/plain": [
       "<Figure size 400x500 with 4 Axes>"
      ]
     },
     "metadata": {},
     "output_type": "display_data"
    }
   ],
   "source": [
    "cm = c2c.plotting.clustermap_cci(specificity_corr,\n",
    "                                 method='ward',\n",
    "                                 optimal_leaf=True,\n",
    "                                 metadata=None,\n",
    "                                 title='',\n",
    "                                 cbar_title='Spearman', \n",
    "                                 cmap='Blues_r',\n",
    "                                 vmax=1.,\n",
    "#                                  vmin=0.,\n",
    "                                 annot=True, \n",
    "                                 dendrogram_ratio=0.15,\n",
    "                                figsize=(4,5))\n",
    "\n",
    "font = matplotlib.font_manager.FontProperties(weight='bold', size=7)\n",
    "for ax in [cm.ax_heatmap, cm.ax_cbar]:\n",
    "    for tick in ax.get_xticklabels():\n",
    "        tick.set_fontproperties(font)\n",
    "    for tick in ax.get_yticklabels():\n",
    "        tick.set_fontproperties(font)\n",
    "\n",
    "    text = ax.yaxis.label\n",
    "    text.set_font_properties(font)\n",
    "cm.ax_col_dendrogram.set_title('Specificity Consensus')\n",
    ";"
   ]
  },
  {
   "cell_type": "markdown",
   "id": "589a9b3e",
   "metadata": {},
   "source": [
    "Specificity consensus scores are even less sensitive to individual scoring methods than magnitude consensus scores. While the consensus score leaving CellChat out still has the lowest consistency as compared to including all scoring methods, it still has a large Spearman correlation (0.91). Overall, these results indicate that aggregating across scoring methods yields robust results that are not sensitive to any individual method.  "
   ]
  },
  {
   "cell_type": "markdown",
   "id": "c71f40dc",
   "metadata": {},
   "source": [
    "Given the high overall similarity between score types, we see that Tensor-cell2cell's decomposition tends to capture consistent patterns across samples, smoothing over some of the inconsistencies in communication scores that we saw at the individual sample level in [Tutorial 02](./02-Infer-Communication-Scores.ipynb) "
   ]
  }
 ],
 "metadata": {
  "kernelspec": {
   "display_name": "Python [conda env:ccc_protocols]",
   "language": "python",
   "name": "conda-env-ccc_protocols-py"
  },
  "language_info": {
   "codemirror_mode": {
    "name": "ipython",
    "version": 3
   },
   "file_extension": ".py",
   "mimetype": "text/x-python",
   "name": "python",
   "nbconvert_exporter": "python",
   "pygments_lexer": "ipython3",
   "version": "3.10.0"
  },
  "vscode": {
   "interpreter": {
    "hash": "a89d9df9e41c144bbb86b791904f32fb0efeb7b488a88d676a8bce57017c9696"
   }
  }
 },
 "nbformat": 4,
 "nbformat_minor": 5
}
