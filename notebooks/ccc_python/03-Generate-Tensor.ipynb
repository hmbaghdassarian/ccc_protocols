{
 "cells": [
  {
   "cell_type": "markdown",
   "id": "b141efa8",
   "metadata": {},
   "source": [
    "# Generating a 4D-Communication Tensor from computed communication scores\n",
    "\n",
    "After inferring communication scores for combinations of ligand-receptor and sender-receiver cell pairs, we can use that information to generate a 4D-Communication Tensor.\n",
    "\n",
    "This tutorial will guide users to load dataframes saved from LIANA's output for each sample/context separately and use them to generate a 4D-Communication Tensor that could be later used with Tensor-cell2cell."
   ]
  },
  {
   "cell_type": "markdown",
   "id": "326b8af3",
   "metadata": {},
   "source": [
    "**First, import the necessary libraries**"
   ]
  },
  {
   "cell_type": "code",
   "execution_count": 1,
   "id": "465067f9",
   "metadata": {},
   "outputs": [],
   "source": [
    "import cell2cell as c2c\n",
    "import liana as li\n",
    "\n",
    "import numpy as np\n",
    "import pandas as pd"
   ]
  },
  {
   "cell_type": "markdown",
   "id": "fcd8c7e6",
   "metadata": {},
   "source": [
    "## Directories"
   ]
  },
  {
   "cell_type": "code",
   "execution_count": 2,
   "id": "ce6752aa",
   "metadata": {},
   "outputs": [],
   "source": [
    "data_folder = '../../data/liana-outputs/'"
   ]
  },
  {
   "cell_type": "code",
   "execution_count": 3,
   "id": "049a39ea",
   "metadata": {},
   "outputs": [
    {
     "name": "stdout",
     "output_type": "stream",
     "text": [
      "../../data/tc2c-outputs/ already exists.\n"
     ]
    }
   ],
   "source": [
    "output_folder = '../../data/tc2c-outputs/'\n",
    "c2c.io.directories.create_directory(output_folder)"
   ]
  },
  {
   "cell_type": "markdown",
   "id": "a4a65ac6",
   "metadata": {},
   "source": [
    "## Load Data\n",
    "\n",
    "Open the dataframe containing LIANA results for every sample/context. These results contain the communication scores of the combinations of ligand-receptor pairs and sender-receiver pairs."
   ]
  },
  {
   "cell_type": "code",
   "execution_count": 4,
   "id": "7927cffb",
   "metadata": {},
   "outputs": [],
   "source": [
    "liana_df = pd.read_csv(data_folder + 'LIANA_by_sample.csv')"
   ]
  },
  {
   "cell_type": "code",
   "execution_count": 5,
   "id": "1c1ee549",
   "metadata": {},
   "outputs": [],
   "source": [
    "liana_df['one_minus_magnitude_rank'] = liana_df['magnitude_rank'].apply(lambda x: 1.-x)"
   ]
  },
  {
   "cell_type": "markdown",
   "id": "43bdd280",
   "metadata": {},
   "source": [
    "Once the dataframe is opened, it can be grouped by samples and converted to a dictionary containing individual dataframes for each sample/context."
   ]
  },
  {
   "cell_type": "code",
   "execution_count": 6,
   "id": "f5361583",
   "metadata": {},
   "outputs": [],
   "source": [
    "data = dict(list(liana_df.groupby('sample_new')))"
   ]
  },
  {
   "cell_type": "code",
   "execution_count": 7,
   "id": "327b7f4d",
   "metadata": {},
   "outputs": [
    {
     "data": {
      "text/plain": [
       "dict_keys(['HC1', 'HC2', 'HC3', 'M1', 'M2', 'M3', 'S1', 'S2', 'S3', 'S4', 'S5', 'S6'])"
      ]
     },
     "execution_count": 7,
     "metadata": {},
     "output_type": "execute_result"
    }
   ],
   "source": [
    "data.keys()"
   ]
  },
  {
   "cell_type": "markdown",
   "id": "844bd54a",
   "metadata": {},
   "source": [
    "## Create 4D-Communication Tensor"
   ]
  },
  {
   "cell_type": "markdown",
   "id": "8756f614",
   "metadata": {},
   "source": [
    "### Specify the order of the samples/contexts\n",
    "\n",
    "Here, we will specify an order of the samples/contexts given the condition they belong to (HC or *Control*, M or *Moderate COVID-19*, S or *Severe COVID-19*)."
   ]
  },
  {
   "cell_type": "code",
   "execution_count": 8,
   "id": "50ace1d2",
   "metadata": {},
   "outputs": [],
   "source": [
    "sorted_names = sorted(data.keys())"
   ]
  },
  {
   "cell_type": "code",
   "execution_count": 9,
   "id": "3b0d6e91",
   "metadata": {},
   "outputs": [
    {
     "data": {
      "text/plain": [
       "['HC1', 'HC2', 'HC3', 'M1', 'M2', 'M3', 'S1', 'S2', 'S3', 'S4', 'S5', 'S6']"
      ]
     },
     "execution_count": 9,
     "metadata": {},
     "output_type": "execute_result"
    }
   ],
   "source": [
    "sorted_names"
   ]
  },
  {
   "cell_type": "markdown",
   "id": "ce8ec903",
   "metadata": {},
   "source": [
    "## Generate tensor\n",
    "\n",
    "To generate the tensor, we will need the dictionary storing the dataframes, and the names of columns containing the useful information across all dataframes.\n",
    "\n",
    "To consider which elements to include (that is cells and ligand-receptor pairs) we can specify whether including only those present in all samples/contexts `how='inner'` or include even those that are not present across all samples/contexts `how='outer'`. We can also decide whether including cells that are not present in all samples/contexts while including only LR pairs that are present across all of them `how='outer_cells'`, or viceversa `how='outer_lrs'`.\n",
    "\n",
    "To include cells and/or LR pairs that in some of the samples/contexts, we can also control the minimum fraction of samples/contexts that must include the cells and/or LR pairs. For example, if we have 16 samples/contexts, and we would like to include cells and/or LR pairs present in at least 8 samples/contexts, we can specify `outer_fraction=8./16.`. If `outer_fraction=0.0`, all cells and/or LR pairs present across the dataframes will be included."
   ]
  },
  {
   "cell_type": "code",
   "execution_count": 10,
   "id": "fd101435",
   "metadata": {},
   "outputs": [],
   "source": [
    "# Use this once LIANA does not have the issue of duplicated rows\n",
    "\n",
    "# li.multi.to_tensor_c2c(liana_res=liana_df,\n",
    "#                        sample_key='sample_new', # Column name of the samples\n",
    "#                        source_key='source', # Column name of the sender cells\n",
    "#                        target_key='target', # Column name of the receiver cells\n",
    "#                        ligand_key='ligand_complex', # Column name of the ligands\n",
    "#                        receptor_key='receptor_complex', # Column name of the receptors\n",
    "#                        score_key='magnitude_rank', # Column name of the communication scores\n",
    "#                        non_expressed_fill=None, # Value to replace missing values with \n",
    "#                        how='outer', # What to include across all samples\n",
    "#                        outer_fraction=0.5, # Fraction of samples as threshold to include cells and LR pairs.\n",
    "#                        lr_sep='^', # How to separate ligand and receptor names to name LR pair\n",
    "#                        context_order=sorted_names, # Order to store the contexts in the tensor\n",
    "#                        sort_elements=True # Whether sorting element names of each tensor dim. Does not apply for context order if context_order is passed.\n",
    "#                       )"
   ]
  },
  {
   "cell_type": "code",
   "execution_count": 11,
   "id": "7afc0936",
   "metadata": {},
   "outputs": [
    {
     "data": {
      "application/vnd.jupyter.widget-view+json": {
       "model_id": "6102a453562c4751a64a02041e901730",
       "version_major": 2,
       "version_minor": 0
      },
      "text/plain": [
       "  0%|          | 0/12 [00:00<?, ?it/s]"
      ]
     },
     "metadata": {},
     "output_type": "display_data"
    }
   ],
   "source": [
    "tensor = c2c.tensor.dataframes_to_tensor(context_df_dict=data,\n",
    "                                         sender_col='source', # Column name of the sender cells\n",
    "                                         receiver_col='target', # Column name of the receiver cells\n",
    "                                         ligand_col='ligand_complex', # Column name of the ligands\n",
    "                                         receptor_col='receptor_complex', # Column name of the receptors\n",
    "                                         score_col='one_minus_magnitude_rank', # Column name of the communication scores\n",
    "                                         how='outer', # What to include across all samples\n",
    "                                         outer_fraction=1/3., # Fraction of samples as threshold to include cells and LR pairs.\n",
    "                                         lr_sep='^', # How to separate ligand and receptor names to name LR pair\n",
    "                                         context_order=sorted_names, # Order to store the contexts in the tensor\n",
    "                                         sort_elements=True # Whether sorting element names of each tensor dim. Does not apply for context order if context_order is passed.\n",
    "                                        )"
   ]
  },
  {
   "cell_type": "markdown",
   "id": "39578913",
   "metadata": {},
   "source": [
    "## Evaluate some tensor properties"
   ]
  },
  {
   "cell_type": "markdown",
   "id": "e0e7b706",
   "metadata": {},
   "source": [
    "### Tensor shape\n",
    "This indicates the number of elements in each tensor dimension: (Contexts, LR pairs, Sender cells, Receiver cells)"
   ]
  },
  {
   "cell_type": "code",
   "execution_count": 12,
   "id": "57b1a6eb",
   "metadata": {},
   "outputs": [
    {
     "data": {
      "text/plain": [
       "(12, 1410, 10, 10)"
      ]
     },
     "execution_count": 12,
     "metadata": {},
     "output_type": "execute_result"
    }
   ],
   "source": [
    "tensor.tensor.shape"
   ]
  },
  {
   "cell_type": "markdown",
   "id": "c1e7b87a",
   "metadata": {},
   "source": [
    "### Missing values\n",
    "This represents the fraction of values that are missing. In this case, missing values are combinations of contexts x LR pairs x Sender cells x Receiver cells that did not have a communication score or were missing in the dataframes."
   ]
  },
  {
   "cell_type": "code",
   "execution_count": 13,
   "id": "23f025e8",
   "metadata": {},
   "outputs": [
    {
     "data": {
      "text/plain": [
       "0.8896790780141844"
      ]
     },
     "execution_count": 13,
     "metadata": {},
     "output_type": "execute_result"
    }
   ],
   "source": [
    "tensor.missing_fraction()"
   ]
  },
  {
   "cell_type": "markdown",
   "id": "9c87b373",
   "metadata": {},
   "source": [
    "### Sparsity\n",
    "This represents the fraction of values that are a real zero (excluding the missing values)"
   ]
  },
  {
   "cell_type": "code",
   "execution_count": 14,
   "id": "a4d357f1",
   "metadata": {},
   "outputs": [
    {
     "data": {
      "text/plain": [
       "0.0693161938534279"
      ]
     },
     "execution_count": 14,
     "metadata": {},
     "output_type": "execute_result"
    }
   ],
   "source": [
    "tensor.sparsity_fraction()"
   ]
  },
  {
   "cell_type": "markdown",
   "id": "9e2e04e2",
   "metadata": {},
   "source": [
    "### Fraction of excluded elements\n",
    "This represents the fraction of values that are ignored (masked) in the analysis. In this case it coincides with the missing values because we did not generate a new `tensor.mask` to manually ignore specific values. Instead, it automatically excluded the missing values."
   ]
  },
  {
   "cell_type": "code",
   "execution_count": 15,
   "id": "8781aaaa",
   "metadata": {},
   "outputs": [
    {
     "data": {
      "text/plain": [
       "0.8896790780141844"
      ]
     },
     "execution_count": 15,
     "metadata": {},
     "output_type": "execute_result"
    }
   ],
   "source": [
    "tensor.excluded_value_fraction() # Percentage of values in the tensor that are masked/missing"
   ]
  },
  {
   "cell_type": "markdown",
   "id": "5f828991",
   "metadata": {},
   "source": [
    "## Prepare Tensor Metadata\n",
    "\n",
    "To interpret analysis on the tensor, we can assign groups to each sample/context, and to every elements in the other dimensions (LR pairs and cells).\n",
    "\n",
    "We can generate respective dictionaries manually or automatically from DBs."
   ]
  },
  {
   "cell_type": "markdown",
   "id": "66983c9f",
   "metadata": {},
   "source": [
    "**Default dict to return Unknown if major groups are not present for a given element**"
   ]
  },
  {
   "cell_type": "code",
   "execution_count": 16,
   "id": "5fd47a86",
   "metadata": {},
   "outputs": [],
   "source": [
    "from collections import defaultdict\n",
    "\n",
    "element_dict = defaultdict(lambda: 'Unknown')"
   ]
  },
  {
   "cell_type": "markdown",
   "id": "228006e2",
   "metadata": {},
   "source": [
    "**Major groups of the samples/contexts**\n",
    "\n",
    "Please note that this `context_dict` could be directly generated from the `adata` object in the [Notebook for Inferring the Communication Scores](./02-Infer-Communication-Scores.ipynb) by using the command:\n",
    "\n",
    "```context_dict = adata.obs.set_index('sample_new')['condition'].sort_values().to_dict()```"
   ]
  },
  {
   "cell_type": "code",
   "execution_count": 17,
   "id": "c2f83dde",
   "metadata": {},
   "outputs": [],
   "source": [
    "context_dict = element_dict.copy()\n",
    "\n",
    "context_dict.update({'HC1' : 'Control',\n",
    "                     'HC2' : 'Control',\n",
    "                     'HC3' : 'Control',\n",
    "                     'M1' : 'Moderate COVID-19',\n",
    "                     'M2' : 'Moderate COVID-19',\n",
    "                     'M3' : 'Moderate COVID-19',\n",
    "                     'S1' : 'Severe COVID-19',\n",
    "                     'S2' : 'Severe COVID-19',\n",
    "                     'S3' : 'Severe COVID-19',\n",
    "                     'S4' : 'Severe COVID-19',\n",
    "                     'S5' : 'Severe COVID-19',\n",
    "                     'S6' : 'Severe COVID-19',\n",
    "                    })"
   ]
  },
  {
   "cell_type": "markdown",
   "id": "6bb84983",
   "metadata": {},
   "source": [
    "**Generate a list containing metadata for each tensor order/dimension - Later used for coloring factor plots**"
   ]
  },
  {
   "cell_type": "code",
   "execution_count": 18,
   "id": "7c6dbf77",
   "metadata": {},
   "outputs": [],
   "source": [
    "meta_tf = c2c.tensor.generate_tensor_metadata(interaction_tensor=tensor,\n",
    "                                              metadata_dicts=[context_dict, None, None, None],\n",
    "                                              fill_with_order_elements=True\n",
    "                                             )"
   ]
  },
  {
   "cell_type": "markdown",
   "id": "ba86c361",
   "metadata": {},
   "source": [
    "If you want to color the elements of another dimension by major groups, just replace the corresponding `None` in `metadata_dicts=[context_dict, None, None, None]` by a dictionary whose keys are the element names of the dimension  and the values are the major groups.  For example, if you want to color LR pairs, you should create a dictionary whose keys are the names from `tensor.order_names[1]`, and put that new dictionary (e.g. `lr_dict`) in `metadata_dicts=[context_dict, lr_dict, None, None]`. For sender and receiver cells, the same could be done."
   ]
  },
  {
   "cell_type": "markdown",
   "id": "7b7a0659",
   "metadata": {},
   "source": [
    "## Export Tensor\n",
    "\n",
    "Here we will save the `tensor` as a pickle object with `cell2cell`, so we can use it later with other analyses."
   ]
  },
  {
   "cell_type": "code",
   "execution_count": 19,
   "id": "d9d1701f",
   "metadata": {},
   "outputs": [
    {
     "name": "stdout",
     "output_type": "stream",
     "text": [
      "../../data/tc2c-outputs//BALF-Tensor.pkl  was correctly saved.\n"
     ]
    }
   ],
   "source": [
    "c2c.io.export_variable_with_pickle(tensor, output_folder + '/BALF-Tensor.pkl')"
   ]
  },
  {
   "cell_type": "markdown",
   "id": "ef47baac",
   "metadata": {},
   "source": [
    "## Export Tensor Metadata"
   ]
  },
  {
   "cell_type": "code",
   "execution_count": 20,
   "id": "9d635441",
   "metadata": {},
   "outputs": [
    {
     "name": "stdout",
     "output_type": "stream",
     "text": [
      "../../data/tc2c-outputs//BALF-Tensor-Metadata.pkl  was correctly saved.\n"
     ]
    }
   ],
   "source": [
    "c2c.io.export_variable_with_pickle(meta_tf, output_folder + '/BALF-Tensor-Metadata.pkl')"
   ]
  },
  {
   "cell_type": "markdown",
   "id": "898ff029",
   "metadata": {},
   "source": [
    "**Make sure to use this pandas version to load the metadata in the future to avoid errors**"
   ]
  },
  {
   "cell_type": "code",
   "execution_count": 21,
   "id": "48677744",
   "metadata": {},
   "outputs": [
    {
     "data": {
      "text/plain": [
       "'1.4.2'"
      ]
     },
     "execution_count": 21,
     "metadata": {},
     "output_type": "execute_result"
    }
   ],
   "source": [
    "pd.__version__"
   ]
  },
  {
   "cell_type": "code",
   "execution_count": null,
   "id": "7f4b3e58",
   "metadata": {},
   "outputs": [],
   "source": []
  }
 ],
 "metadata": {
  "kernelspec": {
   "display_name": "Python 3 (ipykernel)",
   "language": "python",
   "name": "python3"
  },
  "language_info": {
   "codemirror_mode": {
    "name": "ipython",
    "version": 3
   },
   "file_extension": ".py",
   "mimetype": "text/x-python",
   "name": "python",
   "nbconvert_exporter": "python",
   "pygments_lexer": "ipython3",
   "version": "3.9.12"
  },
  "vscode": {
   "interpreter": {
    "hash": "a89d9df9e41c144bbb86b791904f32fb0efeb7b488a88d676a8bce57017c9696"
   }
  }
 },
 "nbformat": 4,
 "nbformat_minor": 5
}
