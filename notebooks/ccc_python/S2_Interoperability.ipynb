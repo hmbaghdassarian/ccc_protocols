{
 "cells": [
  {
   "attachments": {},
   "cell_type": "markdown",
   "id": "f9a5e963",
   "metadata": {},
   "source": [
    "# S2. Interoperability"
   ]
  },
  {
   "cell_type": "markdown",
   "id": "a0420f40",
   "metadata": {},
   "source": [
    "Here, we briefly demonstrate how the single-cell objects may be converted between R and python to run CCC analyses in either language:"
   ]
  },
  {
   "cell_type": "code",
   "execution_count": 1,
   "id": "5fc40519",
   "metadata": {},
   "outputs": [],
   "source": [
    "import scanpy as sc\n",
    "\n",
    "data_path = '/data/hratch/ccc_protocols/interim/'"
   ]
  },
  {
   "attachments": {},
   "cell_type": "markdown",
   "id": "881e5514",
   "metadata": {},
   "source": [
    "## to R\n",
    "\n",
    "For use in R, the .h5ad file saved in [Tutorial 1](./01-Preprocess-Expression.ipynb) can be loaded in R as a SeuratObject using SeuratDisk. See the [companion supplementary R tutorial](../ccc_R/S1_Interoperability.ipynb) for loading these saved files.\n",
    "\n",
    "## from R\n",
    "\n",
    "### SCE\n",
    "Here, we can load the data that was generated in the [R version of Tutorial l](../ccc_R/01-Preprocess-Expression.ipynb) using SingleCellExperiment:"
   ]
  },
  {
   "cell_type": "code",
   "execution_count": null,
   "id": "b4bf8e56",
   "metadata": {},
   "outputs": [],
   "source": [
    "file_name = os.path.join(data_path, 'processed_fromR_toPython.h5ad')\n",
    "adata_fromR_sce = sc.read_h5ad(file_name)"
   ]
  },
  {
   "attachments": {},
   "cell_type": "markdown",
   "id": "93014a25",
   "metadata": {},
   "source": [
    "### Seurat\n",
    "We can also load the Seurat data we generated in the [supplementary R Tutorial](../ccc_R/SX_Preprocess_Expression_Seurat.ipynb):"
   ]
  },
  {
   "cell_type": "code",
   "execution_count": null,
   "id": "7b381ded",
   "metadata": {},
   "outputs": [],
   "source": [
    "file_name = os.path.join(data_path, 'processed_fromR_toPython_Seurat.h5ad')\n",
    "adata_fromR_seurat = sc.read_h5ad(file_name)"
   ]
  }
 ],
 "metadata": {
  "kernelspec": {
   "display_name": "Python [conda env:ccc_protocols]",
   "language": "python",
   "name": "conda-env-ccc_protocols-py"
  },
  "language_info": {
   "codemirror_mode": {
    "name": "ipython",
    "version": 3
   },
   "file_extension": ".py",
   "mimetype": "text/x-python",
   "name": "python",
   "nbconvert_exporter": "python",
   "pygments_lexer": "ipython3",
   "version": "3.10.9"
  }
 },
 "nbformat": 4,
 "nbformat_minor": 5
}
