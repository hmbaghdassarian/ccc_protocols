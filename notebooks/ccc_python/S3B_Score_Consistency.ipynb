{
 "cells": [
  {
   "cell_type": "markdown",
   "id": "b1a18e6a",
   "metadata": {},
   "source": [
    "## S3B. Decomposition Consistency between Score Types\n",
    "\n",
    "We can also check how consistent each score type is after running the full Tensor-cell2cell pipeline. The [CorrIndex](https://doi.org/10.1016/j.sigpro.2022.108457) provides a dissimilarity metric that can compare decompositions of the same rank. "
   ]
  },
  {
   "cell_type": "code",
   "execution_count": 1,
   "id": "7ff9779d",
   "metadata": {},
   "outputs": [],
   "source": [
    "from collections import defaultdict\n",
    "import itertools\n",
    "import os\n",
    "\n",
    "import matplotlib\n",
    "\n",
    "import numpy as np\n",
    "import pandas as pd\n",
    "import torch\n",
    "\n",
    "import liana as li\n",
    "import cell2cell as c2c\n",
    "from cell2cell.tensor.metrics import correlation_index"
   ]
  },
  {
   "cell_type": "code",
   "execution_count": 2,
   "id": "371effc8",
   "metadata": {},
   "outputs": [],
   "source": [
    "if torch.cuda.is_available():\n",
    "    import tensorly as tl\n",
    "    tl.set_backend('pytorch')\n",
    "    device = 'cuda:0'\n",
    "else:\n",
    "    device = 'cpu'"
   ]
  },
  {
   "cell_type": "code",
   "execution_count": 3,
   "id": "3a63b36d",
   "metadata": {},
   "outputs": [
    {
     "name": "stdout",
     "output_type": "stream",
     "text": [
      "../../data/tc2c-outputs/ already exists.\n"
     ]
    }
   ],
   "source": [
    "data_folder = '../../data/liana-outputs/'\n",
    "output_folder = '../../data/tc2c-outputs/'\n",
    "c2c.io.directories.create_directory(output_folder)"
   ]
  },
  {
   "cell_type": "markdown",
   "id": "7bf0048d",
   "metadata": {},
   "source": [
    "First, let's load the LIANA scores for each sample and score type:"
   ]
  },
  {
   "cell_type": "code",
   "execution_count": 4,
   "id": "df96a813",
   "metadata": {},
   "outputs": [],
   "source": [
    "liana_res = pd.read_csv(data_folder + 'LIANA_by_sample.csv')\n",
    "sorted_samples = sorted(liana_res['sample_new'].unique())"
   ]
  },
  {
   "cell_type": "markdown",
   "id": "ec974229",
   "metadata": {},
   "source": [
    "Next, we can generate and decompose the tensor as in [Tutorial 03](./03-Generate-Tensor.ipynb) and [Tutorial 04](./04-Perform-Tensor-Factorization) respectively, but for each magnitude rank score separately. We will use the rank identified by the consensus magnitude score in Tutorial 04. "
   ]
  },
  {
   "cell_type": "code",
   "execution_count": 5,
   "id": "0eb5e6f4",
   "metadata": {},
   "outputs": [],
   "source": [
    "tf_optimization_dict = {'regular': {'runs': 1, \n",
    "                                         'tol': 10e-7, \n",
    "                                           'n_iter_max': 100}, \n",
    "                            'robust': {'runs': 100, \n",
    "                                         'tol': 10e-8, \n",
    "                                           'n_iter_max': 500}}\n",
    "\n",
    "def run_tensor_pipeline(liana_res, score_type, rank, \n",
    "                       tf_optimization = 'robust'):\n",
    "    # build tensor\n",
    "    tensor = li.multi.to_tensor_c2c(liana_res=liana_res, # LIANA's dataframe containing results\n",
    "                                    sample_key='sample_new', # Column name of the samples\n",
    "                                    source_key='source', # Column name of the sender cells\n",
    "                                    target_key='target', # Column name of the receiver cells\n",
    "                                    ligand_key='ligand_complex', # Column name of the ligands\n",
    "                                    receptor_key='receptor_complex', # Column name of the receptors\n",
    "                                    score_key=score_type, # Column name of the communication scores to use\n",
    "                                    non_negative = True, # set negative values to 0\n",
    "                                    inverse_fun=lambda x: x, # Transformation function -- don't invert because it's not a rank score\n",
    "                                    non_expressed_fill=None, # Value to replace missing values with \n",
    "                                    how='outer', # What to include across all samples\n",
    "                                    lr_fill=np.nan, # What to fill missing LRs with \n",
    "                                    cell_fill = np.nan, # What to fill missing cell types with \n",
    "                                    outer_fraction=1/3., # Fraction of samples as threshold to include cells and LR pairs.\n",
    "                                    lr_sep='^', # How to separate ligand and receptor names to name LR pair\n",
    "                                    context_order=sorted_samples, # Order to store the contexts in the tensor\n",
    "                                    sort_elements=True # Whether sorting alphabetically element names of each tensor dim. Does not apply for context order if context_order is passed.\n",
    "                                   )\n",
    "    # get metadata\n",
    "    element_dict = defaultdict(lambda: 'Unknown')\n",
    "    context_dict = element_dict.copy()\n",
    "    context_dict.update({'HC1' : 'Control',\n",
    "                         'HC2' : 'Control',\n",
    "                         'HC3' : 'Control',\n",
    "                         'M1' : 'Moderate COVID-19',\n",
    "                         'M2' : 'Moderate COVID-19',\n",
    "                         'M3' : 'Moderate COVID-19',\n",
    "                         'S1' : 'Severe COVID-19',\n",
    "                         'S2' : 'Severe COVID-19',\n",
    "                         'S3' : 'Severe COVID-19',\n",
    "                         'S4' : 'Severe COVID-19',\n",
    "                         'S5' : 'Severe COVID-19',\n",
    "                         'S6' : 'Severe COVID-19',\n",
    "                        })\n",
    "    dimensions_dict = [context_dict, None, None, None]\n",
    "    meta_tensor = c2c.tensor.generate_tensor_metadata(interaction_tensor=tensor,\n",
    "                                              metadata_dicts=[context_dict, None, None, None],\n",
    "                                              fill_with_order_elements=True\n",
    "                                             )\n",
    "    \n",
    "    # decompose tensor\n",
    "    tensor.to_device(device)\n",
    "    tensor.compute_tensor_factorization(rank=rank,\n",
    "                                        init='random', # Initialization method of the tensor factorization\n",
    "                                        svd='numpy_svd', # Type of SVD to use if the initialization is 'svd'\n",
    "                                        random_state=0, # Random seed for reproducibility\n",
    "                                        normalize_loadings=True,\n",
    "                                        runs=tf_optimization_dict[tf_optimization]['runs'],\n",
    "                                        tol=tf_optimization_dict[tf_optimization]['tol'],\n",
    "                                        n_iter_max=tf_optimization_dict[tf_optimization]['n_iter_max']\n",
    "                                       )\n",
    "    return tensor"
   ]
  },
  {
   "cell_type": "code",
   "execution_count": 6,
   "id": "e820c7e2",
   "metadata": {},
   "outputs": [
    {
     "name": "stderr",
     "output_type": "stream",
     "text": [
      "/home/hratch/miniconda3/envs/ccc_protocols/lib/python3.10/site-packages/tensorly/backend/pytorch_backend.py:39: UserWarning: To copy construct from a tensor, it is recommended to use sourceTensor.clone().detach() or sourceTensor.clone().detach().requires_grad_(True), rather than torch.tensor(sourceTensor).\n"
     ]
    }
   ],
   "source": [
    "tensor_magnitude = c2c.io.read_data.load_tensor(os.path.join(output_folder, 'BALF-Tensor_decomposed.pkl'))\n",
    "magnitude_scores = ['lr_means', 'expr_prod', 'lrscore', 'lr_probs']"
   ]
  },
  {
   "cell_type": "code",
   "execution_count": 8,
   "id": "eb26162a",
   "metadata": {
    "scrolled": true
   },
   "outputs": [],
   "source": [
    "tensors_individual = {}\n",
    "# calculate on each magnitude score type separately\n",
    "for score_type in magnitude_scores:\n",
    "    ti = run_tensor_pipeline(liana_res = liana_res,\n",
    "                             score_type = score_type,\n",
    "                             rank = tensor_magnitude.rank, \n",
    "                             tf_optimization = 'robust')\n",
    "    ti.to_device('cpu') # ensures can be pickled properly\n",
    "    tensors_individual[score_type] = ti\n",
    "c2c.io.export_variable_with_pickle(tensors_individual, output_folder + '/BALF-Tensor_individualscores.pkl')\n",
    "\n",
    "tensors_individual = c2c.io.read_data.load_variable_with_pickle(output_folder + '/BALF-Tensor_individualscores.pkl')"
   ]
  },
  {
   "cell_type": "markdown",
   "id": "56ce9375",
   "metadata": {},
   "source": [
    "Next, we can calculate the similarity between each score type's deomposition output based on the CorrIndex metric. For more information on the CorrIndex, as well as similar analyses on decomposition consistency, see Figure 3A of this [paper](https://doi.org/10.1038/s41467-022-31369-2):"
   ]
  },
  {
   "cell_type": "code",
   "execution_count": 9,
   "id": "757afb83",
   "metadata": {},
   "outputs": [],
   "source": [
    "corrindex_res = pd.DataFrame(columns = ['score_type_1', 'score_type_2', 'Similarity'])\n",
    "\n",
    "# calculate corrindex pairwise between score types\n",
    "for idx, score_type_comparison in enumerate(itertools.permutations(tensors_individual, 2)):\n",
    "    tensor_1 = tensors_individual[score_type_comparison[0]]\n",
    "    tensor_2 = tensors_individual[score_type_comparison[1]]\n",
    "    corrindex = correlation_index(tensor_1.factors, tensor_2.factors)\n",
    "    similarity = 1 - corrindex\n",
    "    \n",
    "    corrindex_res.loc[idx, :] = list(score_type_comparison) + [similarity]\n",
    "\n",
    "# formatting\n",
    "corrindex_res = corrindex_res.pivot(index='score_type_1', columns='score_type_2', values = 'Similarity')\n",
    "corrindex_res.columns = corrindex_res.columns.tolist()\n",
    "corrindex_res.index = corrindex_res.index.tolist()\n",
    "np.fill_diagonal(corrindex_res.values, 1)\n",
    "for col_name in corrindex_res.columns:\n",
    "    corrindex_res[col_name] = corrindex_res[col_name].astype(float)\n",
    "    \n",
    "method_name_map = {'expr_prod': 'Connectome/NATMI', \n",
    "                  'lr_means': 'CellPhoneDB', \n",
    "                  'lr_probs': 'CellChat', \n",
    "                  'lrscore': 'SingleCellSignalR'}\n",
    "corrindex_res.columns = corrindex_res.columns.map(method_name_map).tolist()\n",
    "corrindex_res.index = corrindex_res.index.map(method_name_map).tolist()"
   ]
  },
  {
   "cell_type": "code",
   "execution_count": 10,
   "id": "12af791e",
   "metadata": {},
   "outputs": [
    {
     "name": "stdout",
     "output_type": "stream",
     "text": [
      "Interaction space detected as a distance matrix\n"
     ]
    },
    {
     "data": {
      "image/png": "[encoded data removed]",
      "text/plain": [
       "<Figure size 400x500 with 4 Axes>"
      ]
     },
     "metadata": {},
     "output_type": "display_data"
    }
   ],
   "source": [
    "cm = c2c.plotting.clustermap_cci(corrindex_res,\n",
    "                                 method='ward',\n",
    "                                 optimal_leaf=True,\n",
    "                                 metadata=None,\n",
    "                                 title='',\n",
    "                                 cbar_title='Similarity', \n",
    "                                 cmap='Blues_r',\n",
    "                                 vmax=1.,\n",
    "#                                  vmin=0.,\n",
    "                                 annot=True, \n",
    "                                 dendrogram_ratio=0.15,\n",
    "                                figsize=(4,5))\n",
    "\n",
    "font = matplotlib.font_manager.FontProperties(weight='bold', size=7)\n",
    "for ax in [cm.ax_heatmap, cm.ax_cbar]:\n",
    "    for tick in ax.get_xticklabels():\n",
    "        tick.set_fontproperties(font)\n",
    "    for tick in ax.get_yticklabels():\n",
    "        tick.set_fontproperties(font)\n",
    "\n",
    "    text = ax.yaxis.label\n",
    "    text.set_font_properties(font)"
   ]
  },
  {
   "cell_type": "markdown",
   "id": "c71f40dc",
   "metadata": {},
   "source": [
    "Given the high overall similarity between score types, we see that Tensor-cell2cell's decomposition tends to capture consistent patterns across samples, smoothing over some of the inconsistencies in communication scores that we saw at the individual sample level in [Tutorial 02](./02-Infer-Communication-Scores.ipynb) "
   ]
  }
 ],
 "metadata": {
  "kernelspec": {
   "display_name": "Python [conda env:ccc_protocols]",
   "language": "python",
   "name": "conda-env-ccc_protocols-py"
  },
  "language_info": {
   "codemirror_mode": {
    "name": "ipython",
    "version": 3
   },
   "file_extension": ".py",
   "mimetype": "text/x-python",
   "name": "python",
   "nbconvert_exporter": "python",
   "pygments_lexer": "ipython3",
   "version": "3.10.0"
  },
  "vscode": {
   "interpreter": {
    "hash": "a89d9df9e41c144bbb86b791904f32fb0efeb7b488a88d676a8bce57017c9696"
   }
  }
 },
 "nbformat": 4,
 "nbformat_minor": 5
}
