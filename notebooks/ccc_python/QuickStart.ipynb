{
 "cells": [
  {
   "attachments": {},
   "cell_type": "markdown",
   "id": "88f84c11",
   "metadata": {
    "pycharm": {
     "name": "#%% md\n"
    }
   },
   "source": [
    "# LIANA x Tensor-cell2cell Quickstart (COVID-19 BALF; Python)"
   ]
  },
  {
   "attachments": {},
   "cell_type": "markdown",
   "id": "aa297f63",
   "metadata": {
    "pycharm": {
     "name": "#%% md\n"
    }
   },
   "source": [
    "This tutorial provides an abbreviated version of Tutorials 01-06 in order to give a quick overview of the pipeline to go from a raw counts matrix to downstream cell-cell communication (CCC) analyses. By combining LIANA and Tensor-cell2cell, we get a general framework that can robustly incorporate many existing CCC inference tools, ultimately retriving consensus communication scores for any sample and analyzing all those samples together to identify context-dependent communication programs.  "
   ]
  },
  {
   "attachments": {},
   "cell_type": "markdown",
   "id": "ae4d56f2",
   "metadata": {
    "pycharm": {
     "name": "#%% md\n"
    }
   },
   "source": [
    "## Initial Setups"
   ]
  },
  {
   "attachments": {},
   "cell_type": "markdown",
   "id": "f36813f6",
   "metadata": {
    "pycharm": {
     "name": "#%% md\n"
    }
   },
   "source": [
    "### Enabling GPU use\n",
    "\n",
    "First, if you are using a NVIDIA GPU with CUDA cores, set `use_gpu=True` and enable PyTorch with the following code block. Otherwise, set `use_gpu=False` or skip this part"
   ]
  },
  {
   "cell_type": "code",
   "execution_count": 1,
   "id": "0a2e08ca",
   "metadata": {
    "pycharm": {
     "name": "#%%\n"
    }
   },
   "outputs": [],
   "source": [
    "use_gpu = True\n",
    "\n",
    "if use_gpu:\n",
    "    import tensorly as tl\n",
    "    tl.set_backend('pytorch')"
   ]
  },
  {
   "attachments": {},
   "cell_type": "markdown",
   "id": "8c731c0e",
   "metadata": {
    "pycharm": {
     "name": "#%% md\n"
    }
   },
   "source": [
    "### Libraries\n",
    "Then, import all the packages we will use in this tutorial:"
   ]
  },
  {
   "cell_type": "code",
   "execution_count": null,
   "id": "ecb8e089",
   "metadata": {
    "pycharm": {
     "name": "#%%\n"
    }
   },
   "outputs": [],
   "source": [
    "import cell2cell as c2c\n",
    "import liana as li\n",
    "\n",
    "import pandas as pd\n",
    "import decoupler as dc\n",
    "import scanpy as sc\n",
    "\n",
    "import matplotlib.pyplot as plt\n",
    "%matplotlib inline\n",
    "import plotnine as p9\n",
    "import seaborn as sns"
   ]
  },
  {
   "cell_type": "code",
   "execution_count": null,
   "id": "b09c0029",
   "metadata": {
    "pycharm": {
     "name": "#%%\n"
    }
   },
   "outputs": [],
   "source": [
    "import warnings\n",
    "warnings.filterwarnings('ignore')"
   ]
  },
  {
   "attachments": {},
   "cell_type": "markdown",
   "id": "cabd426f",
   "metadata": {
    "pycharm": {
     "name": "#%% md\n"
    }
   },
   "source": [
    "### Directories\n",
    "\n",
    "Afterwards, specify the data and output directories:"
   ]
  },
  {
   "cell_type": "code",
   "execution_count": null,
   "id": "a8bc9c6b",
   "metadata": {
    "pycharm": {
     "name": "#%%\n"
    }
   },
   "outputs": [],
   "source": [
    "data_folder = '../../data/quickstart/'\n",
    "output_folder = '../../data/quickstart/outputs'\n",
    "c2c.io.directories.create_directory(data_folder)\n",
    "c2c.io.directories.create_directory(output_folder)"
   ]
  },
  {
   "attachments": {},
   "cell_type": "markdown",
   "id": "c26b6554",
   "metadata": {
    "pycharm": {
     "name": "#%% md\n"
    }
   },
   "source": [
    "### Loading Data\n",
    "\n",
    "We begin by loading the single-cell transcriptomics data. For this tutorial, we will use a lung [dataset](https://doi.org/10.1038/s41591-020-0901-9) of 63k immune and epithelial cells across three control, three moderate, and six severe COVID-19 patients21. We use a convenient function to download the data and store it in the AnnData format, on which the [scanpy](https://scanpy.readthedocs.io/en/stable/) package is built."
   ]
  },
  {
   "cell_type": "code",
   "execution_count": null,
   "id": "2baa2310",
   "metadata": {
    "pycharm": {
     "name": "#%%\n"
    }
   },
   "outputs": [],
   "source": [
    "adata = c2c.datasets.balf_covid(data_folder + '/Liao-BALF-COVID-19.h5ad')"
   ]
  },
  {
   "attachments": {},
   "cell_type": "markdown",
   "id": "67bbb31a",
   "metadata": {
    "pycharm": {
     "name": "#%% md\n"
    }
   },
   "source": [
    "## Preprocess Expression\n",
    "\n",
    "Note, we do not include a batch correction step as Tensor-cell2cell can get robust decomposition results without this; however, we have extensive analysis and discuss regarding this topic in [Supplementary Tutorial 01](./S1_Batch_Correction.ipynb)"
   ]
  },
  {
   "attachments": {},
   "cell_type": "markdown",
   "id": "5ddff77b",
   "metadata": {
    "pycharm": {
     "name": "#%% md\n"
    }
   },
   "source": [
    "### Quality-Control Filtering\n",
    "\n",
    "The loaded data has already been pre-processed to a degree and comes with cell annotations. Nevertheless, let’s highlight some of the key steps. To ensure that any noisy cells or features are removed, we filter any non-informative cells and genes:"
   ]
  },
  {
   "cell_type": "code",
   "execution_count": null,
   "id": "c7a023f5",
   "metadata": {
    "pycharm": {
     "name": "#%%\n"
    }
   },
   "outputs": [],
   "source": [
    "# basic filters\n",
    "sc.pp.filter_cells(adata, min_genes=200)\n",
    "sc.pp.filter_genes(adata, min_cells=3)"
   ]
  },
  {
   "attachments": {},
   "cell_type": "markdown",
   "id": "62cc7303",
   "metadata": {
    "pycharm": {
     "name": "#%% md\n"
    }
   },
   "source": [
    "We additionally remove high mitochondrial content:"
   ]
  },
  {
   "cell_type": "code",
   "execution_count": null,
   "id": "d8d1a069",
   "metadata": {
    "pycharm": {
     "name": "#%%\n"
    }
   },
   "outputs": [],
   "source": [
    "# filter low quality cells with standard QC metrics\n",
    "adata.var['mt'] = adata.var_names.str.startswith('MT-')  # annotate the group of mitochondrial genes as 'mt'\n",
    "sc.pp.calculate_qc_metrics(adata, \n",
    "                           qc_vars=['mt'], \n",
    "                           percent_top=None, \n",
    "                           log1p=False, \n",
    "                           inplace=True)\n",
    "adata = adata[adata.obs.pct_counts_mt < 15, :]"
   ]
  },
  {
   "attachments": {},
   "cell_type": "markdown",
   "id": "e11120c8",
   "metadata": {
    "pycharm": {
     "name": "#%% md\n"
    }
   },
   "source": [
    "Which is followed by removing cells with high number of total UMI counts, potentially representing more than one single cell (doublets):"
   ]
  },
  {
   "cell_type": "code",
   "execution_count": null,
   "id": "1cd80250",
   "metadata": {
    "pycharm": {
     "name": "#%%\n"
    }
   },
   "outputs": [],
   "source": [
    "adata = adata[adata.obs.n_genes < 5500, :] "
   ]
  },
  {
   "attachments": {},
   "cell_type": "markdown",
   "id": "91a589ae",
   "metadata": {
    "pycharm": {
     "name": "#%% md\n"
    }
   },
   "source": [
    "### Normalization"
   ]
  },
  {
   "attachments": {},
   "cell_type": "markdown",
   "id": "9c520a41",
   "metadata": {
    "pycharm": {
     "name": "#%% md\n"
    }
   },
   "source": [
    "Normalized counts are usually obtained in two essential steps, the first being count depth scaling which ensures that the measured count depths are comparable across cells. This is then usually followed up with log1p transformation, which essentially stabilizes the variance of the counts and enables the use of linear metrics downstream:"
   ]
  },
  {
   "cell_type": "code",
   "execution_count": null,
   "id": "4cc7d7be",
   "metadata": {
    "pycharm": {
     "name": "#%%\n"
    }
   },
   "outputs": [],
   "source": [
    "# save the raw counts to a layer\n",
    "adata.layers[\"counts\"] = adata.X.copy()\n",
    "\n",
    "# Normalize the data\n",
    "sc.pp.normalize_total(adata, target_sum=1e4)\n",
    "sc.pp.log1p(adata)"
   ]
  },
  {
   "attachments": {},
   "cell_type": "markdown",
   "id": "af583cf3",
   "metadata": {
    "pycharm": {
     "name": "#%% md\n"
    }
   },
   "source": [
    "Let's see what our data looks like:"
   ]
  },
  {
   "cell_type": "code",
   "execution_count": null,
   "id": "9b0e451c",
   "metadata": {
    "pycharm": {
     "name": "#%%\n"
    }
   },
   "outputs": [],
   "source": [
    "adata.obs.head()"
   ]
  },
  {
   "attachments": {},
   "cell_type": "markdown",
   "id": "27aea60f",
   "metadata": {
    "pycharm": {
     "name": "#%% md\n"
    }
   },
   "source": [
    "## Deciphering Cell-Cell Communication\n",
    "\n",
    "we will use LIANA to infer the ligand-receptor interactions for each sample. LIANA is  highly modularized and it natively implements the formulations of a number of methods, including CellPhoneDBv2, Connectome, log2FC, NATMI, SingleCellSignalR, CellChat, a geometric mean, as well as a consensus in the form of a rank aggregate from any combination of methods"
   ]
  },
  {
   "cell_type": "code",
   "execution_count": null,
   "id": "4cb6f37a",
   "metadata": {
    "pycharm": {
     "name": "#%%\n"
    }
   },
   "outputs": [],
   "source": [
    "li.method.show_methods()"
   ]
  },
  {
   "attachments": {},
   "cell_type": "markdown",
   "id": "8bdaea49",
   "metadata": {
    "pycharm": {
     "name": "#%% md\n"
    }
   },
   "source": [
    "LIANA classifies the scoring functions from the different methods into two categories: those that infer the “Magnitude” and “Specificity” of interactions. We define the “Magnitude” of an interaction as a measure of the strength of the interaction's expression, and the “Specificity” of an interaction is a measure of how specific an interaction is to a given pair of clusters. Generally, these categories are complementary, and the magnitude of the interaction is often a proxy of the specificity of the interaction. For example, a ligand-receptor interaction with a high magnitude score in a given pair of cell types is likely to also be specific, and vice versa. \n"
   ]
  },
  {
   "attachments": {},
   "cell_type": "markdown",
   "id": "d56c861b",
   "metadata": {
    "pycharm": {
     "name": "#%% md\n"
    }
   },
   "source": [
    "When considering ligand-receptor prior knowledge resources, a common theme is the trade-off between coverage and quality, and similarly each resource comes with its own biases. In this regard, LIANA builds on OmniPath29 as any of the resources in LIANA are obtained via OmniPath. These include the expert-curated resources of CellPhoneDBv223, CellChat27, ICELLNET30, connectomeDB202025, CellTalkDB31, as well as 10 others. LIANA further provides a consensus expert-curated resource from the aforementioned five resources, along with some curated interactions from SignaLink. In this protocol, we will use the consensus resource from liana, though any of the other resources are available via LIANA, and one can also use liana with their own custom resource."
   ]
  },
  {
   "cell_type": "code",
   "execution_count": null,
   "id": "348c57a9",
   "metadata": {
    "pycharm": {
     "name": "#%%\n"
    }
   },
   "outputs": [],
   "source": [
    "liana_resources = li.resource.show_resources()\n",
    "print(*liana_resources, sep = ', ')"
   ]
  },
  {
   "attachments": {},
   "cell_type": "markdown",
   "id": "a6e4d9c6",
   "metadata": {
    "pycharm": {
     "name": "#%% md\n"
    }
   },
   "source": [
    "Selecting any of the lists of ligand-receptor pairs in LIANA  can be done through the following command (here we select the aforementioned \"consensus\" resource:"
   ]
  },
  {
   "cell_type": "code",
   "execution_count": null,
   "id": "27616d8a",
   "metadata": {
    "pycharm": {
     "name": "#%%\n"
    }
   },
   "outputs": [],
   "source": [
    "lr_pairs = li.resource.select_resource('consensus')"
   ]
  },
  {
   "attachments": {},
   "cell_type": "markdown",
   "id": "c2a468e2",
   "metadata": {
    "pycharm": {
     "name": "#%% md\n"
    }
   },
   "source": [
    "<img src=\"https://github.com/saezlab/liana/blob/master/vignettes/ligrec_pipe.png?raw=true\" width=\"900\"/>"
   ]
  },
  {
   "attachments": {},
   "cell_type": "markdown",
   "id": "7ce5a810",
   "metadata": {
    "pycharm": {
     "name": "#%% md\n"
    }
   },
   "source": [
    "Next, we can run LIANA on each sample across the available methods. By default, LIANA calculates an aggregate rank across these mtehods using a re-implementation of the [RobustRankAggregate]('https://doi.org/10.1093/bioinformatics/btr709') method, and generates a probability distribution for ligand-receptors that are ranked consistently better than expected under a null hypothesis (See Appendix 2). The consensus of ligand-receptor interactions across methods can therefore be treated as a p-value. "
   ]
  },
  {
   "cell_type": "code",
   "execution_count": 14,
   "id": "4588c878",
   "metadata": {
    "pycharm": {
     "name": "#%%\n"
    }
   },
   "outputs": [
    {
     "name": "stderr",
     "output_type": "stream",
     "text": [
      "Now running: S6: 100%|████████████████████████████████████████████████████████████████████████████████████████████| 12/12 [03:36<00:00, 18.06s/it]\n"
     ]
    }
   ],
   "source": [
    "li.mt.rank_aggregate.by_sample(adata, \n",
    "                               sample_key='sample_new', \n",
    "                               groupby='celltype', \n",
    "                               resource_name = 'consensus',\n",
    "                               expr_prop=0.1, # must be expressed in expr_prop fraction of cells\n",
    "                               min_cells = 5,\n",
    "                               n_perms = 100, \n",
    "                               use_raw = False, # run on log- and library-normalized counts\n",
    "                               verbose = True, \n",
    "                               inplace = True\n",
    "                              )"
   ]
  },
  {
   "attachments": {},
   "cell_type": "markdown",
   "id": "bd3756e7",
   "metadata": {
    "pycharm": {
     "name": "#%% md\n"
    }
   },
   "source": [
    "The parameterrs used here are as follows:\n",
    "    \n",
    "- `adata` stands for Anndata, and we pass here with an object with a single  sample/context.\n",
    "- `resource_name` is the name of any of the resources available in liana\n",
    "- `groupby` corresponds to the cell group label stored in `adata.obs`.\n",
    "- `use_raw` is boolean that indicates whether to use the `adata.raw` slot, here the log-normalized counts are assigned to `adata.X`, other options include passing the name of a layer via the `layer` parameter or using the counts stored in `adata.raw`.\n",
    "- `expr_prop` is the expression proportion threshold  (in terms of cells per cell type expressing the protein)threshold of expression for any protein subunit involved in the interaction, according to which we keep or discard the interactions.\n",
    "- `min_cells` is the minimum number of cells per cell type required for a cell type to be considered in the analysis\n",
    "- `verbose` is a boolean that indicates whether to print the progress of the function\n",
    "- `inplace` is a boolean that indicates whether storing the results in place, i.e. to `adata.uns[“liana_res”]`."
   ]
  },
  {
   "attachments": {},
   "cell_type": "markdown",
   "id": "8df92e32",
   "metadata": {
    "pycharm": {
     "name": "#%% md\n"
    }
   },
   "source": [
    "Let's see what the results look like:"
   ]
  },
  {
   "cell_type": "code",
   "execution_count": 15,
   "id": "6e9b56b2",
   "metadata": {
    "pycharm": {
     "name": "#%%\n"
    }
   },
   "outputs": [
    {
     "data": {
      "text/html": [
       "<div>\n",
       "<style scoped>\n",
       "    .dataframe tbody tr th:only-of-type {\n",
       "        vertical-align: middle;\n",
       "    }\n",
       "\n",
       "    .dataframe tbody tr th {\n",
       "        vertical-align: top;\n",
       "    }\n",
       "\n",
       "    .dataframe thead th {\n",
       "        text-align: right;\n",
       "    }\n",
       "</style>\n",
       "<table border=\"1\" class=\"dataframe\">\n",
       "  <thead>\n",
       "    <tr style=\"text-align: right;\">\n",
       "      <th></th>\n",
       "      <th>sample_new</th>\n",
       "      <th>source</th>\n",
       "      <th>target</th>\n",
       "      <th>ligand_complex</th>\n",
       "      <th>receptor_complex</th>\n",
       "      <th>lr_means</th>\n",
       "      <th>cellphone_pvals</th>\n",
       "      <th>expr_prod</th>\n",
       "      <th>scaled_weight</th>\n",
       "      <th>lr_logfc</th>\n",
       "      <th>spec_weight</th>\n",
       "      <th>lrscore</th>\n",
       "      <th>lr_probs</th>\n",
       "      <th>cellchat_pvals</th>\n",
       "      <th>specificity_rank</th>\n",
       "      <th>magnitude_rank</th>\n",
       "    </tr>\n",
       "  </thead>\n",
       "  <tbody>\n",
       "    <tr>\n",
       "      <th>0</th>\n",
       "      <td>HC1</td>\n",
       "      <td>Macrophages</td>\n",
       "      <td>NK</td>\n",
       "      <td>B2M</td>\n",
       "      <td>CD3D</td>\n",
       "      <td>3.410504</td>\n",
       "      <td>0.0</td>\n",
       "      <td>8.059611</td>\n",
       "      <td>1.300556</td>\n",
       "      <td>1.397895</td>\n",
       "      <td>0.083273</td>\n",
       "      <td>0.961040</td>\n",
       "      <td>0.221495</td>\n",
       "      <td>0.0</td>\n",
       "      <td>0.003713</td>\n",
       "      <td>1.698996e-09</td>\n",
       "    </tr>\n",
       "    <tr>\n",
       "      <th>1</th>\n",
       "      <td>HC1</td>\n",
       "      <td>T</td>\n",
       "      <td>NK</td>\n",
       "      <td>B2M</td>\n",
       "      <td>CD3D</td>\n",
       "      <td>3.410586</td>\n",
       "      <td>0.0</td>\n",
       "      <td>8.059861</td>\n",
       "      <td>1.300856</td>\n",
       "      <td>1.272266</td>\n",
       "      <td>0.083276</td>\n",
       "      <td>0.961041</td>\n",
       "      <td>0.221213</td>\n",
       "      <td>0.0</td>\n",
       "      <td>0.003713</td>\n",
       "      <td>6.256593e-09</td>\n",
       "    </tr>\n",
       "    <tr>\n",
       "      <th>2</th>\n",
       "      <td>HC1</td>\n",
       "      <td>NK</td>\n",
       "      <td>NK</td>\n",
       "      <td>B2M</td>\n",
       "      <td>CD3D</td>\n",
       "      <td>3.264099</td>\n",
       "      <td>0.0</td>\n",
       "      <td>7.614378</td>\n",
       "      <td>0.790913</td>\n",
       "      <td>1.113901</td>\n",
       "      <td>0.078673</td>\n",
       "      <td>0.959963</td>\n",
       "      <td>0.216816</td>\n",
       "      <td>0.0</td>\n",
       "      <td>0.006245</td>\n",
       "      <td>2.653267e-08</td>\n",
       "    </tr>\n",
       "    <tr>\n",
       "      <th>3</th>\n",
       "      <td>HC1</td>\n",
       "      <td>T</td>\n",
       "      <td>NK</td>\n",
       "      <td>B2M</td>\n",
       "      <td>KLRD1</td>\n",
       "      <td>3.297900</td>\n",
       "      <td>0.0</td>\n",
       "      <td>6.865250</td>\n",
       "      <td>6.960920</td>\n",
       "      <td>1.244892</td>\n",
       "      <td>0.171293</td>\n",
       "      <td>0.957924</td>\n",
       "      <td>0.214586</td>\n",
       "      <td>0.0</td>\n",
       "      <td>0.000092</td>\n",
       "      <td>9.767878e-08</td>\n",
       "    </tr>\n",
       "    <tr>\n",
       "      <th>4</th>\n",
       "      <td>HC1</td>\n",
       "      <td>Macrophages</td>\n",
       "      <td>NK</td>\n",
       "      <td>B2M</td>\n",
       "      <td>KLRD1</td>\n",
       "      <td>3.297818</td>\n",
       "      <td>0.0</td>\n",
       "      <td>6.865037</td>\n",
       "      <td>6.960620</td>\n",
       "      <td>1.370520</td>\n",
       "      <td>0.171288</td>\n",
       "      <td>0.957924</td>\n",
       "      <td>0.214861</td>\n",
       "      <td>0.0</td>\n",
       "      <td>0.000092</td>\n",
       "      <td>1.086199e-07</td>\n",
       "    </tr>\n",
       "  </tbody>\n",
       "</table>\n",
       "</div>"
      ],
      "text/plain": [
       "  sample_new       source target ligand_complex receptor_complex  lr_means  \\\n",
       "0        HC1  Macrophages     NK            B2M             CD3D  3.410504   \n",
       "1        HC1            T     NK            B2M             CD3D  3.410586   \n",
       "2        HC1           NK     NK            B2M             CD3D  3.264099   \n",
       "3        HC1            T     NK            B2M            KLRD1  3.297900   \n",
       "4        HC1  Macrophages     NK            B2M            KLRD1  3.297818   \n",
       "\n",
       "   cellphone_pvals  expr_prod  scaled_weight  lr_logfc  spec_weight   lrscore  \\\n",
       "0              0.0   8.059611       1.300556  1.397895     0.083273  0.961040   \n",
       "1              0.0   8.059861       1.300856  1.272266     0.083276  0.961041   \n",
       "2              0.0   7.614378       0.790913  1.113901     0.078673  0.959963   \n",
       "3              0.0   6.865250       6.960920  1.244892     0.171293  0.957924   \n",
       "4              0.0   6.865037       6.960620  1.370520     0.171288  0.957924   \n",
       "\n",
       "   lr_probs  cellchat_pvals  specificity_rank  magnitude_rank  \n",
       "0  0.221495             0.0          0.003713    1.698996e-09  \n",
       "1  0.221213             0.0          0.003713    6.256593e-09  \n",
       "2  0.216816             0.0          0.006245    2.653267e-08  \n",
       "3  0.214586             0.0          0.000092    9.767878e-08  \n",
       "4  0.214861             0.0          0.000092    1.086199e-07  "
      ]
     },
     "execution_count": 15,
     "metadata": {},
     "output_type": "execute_result"
    }
   ],
   "source": [
    "adata.uns['liana_res'].head()"
   ]
  },
  {
   "attachments": {},
   "cell_type": "markdown",
   "id": "ad75df23",
   "metadata": {
    "pycharm": {
     "name": "#%% md\n"
    }
   },
   "source": [
    "This dataframe provides the results from running each method, as well as the consensus scores across the methods. In our case, we are interested in the magnitude consensus scored denoted by the `'magnitude_rank'` column.\n",
    "\n",
    "We can visualize the output as a dotplot across multiple samples:"
   ]
  },
  {
   "cell_type": "code",
   "execution_count": 16,
   "id": "54b8afcb",
   "metadata": {
    "pycharm": {
     "name": "#%%\n"
    }
   },
   "outputs": [
    {
     "data": {
      "image/png": "[encoded data removed]",
      "text/plain": [
       "<Figure size 900x900 with 24 Axes>"
      ]
     },
     "metadata": {},
     "output_type": "display_data"
    },
    {
     "data": {
      "text/plain": [
       "<ggplot: (8732455573084)>"
      ]
     },
     "execution_count": 16,
     "metadata": {},
     "output_type": "execute_result"
    }
   ],
   "source": [
    "li.pl.dotplot_by_sample(adata=adata,\n",
    "                        colour='magnitude_rank',\n",
    "                        size='specificity_rank',\n",
    "                        source_labels=[\"B\", \"pDC\", \"Macrophages\"],\n",
    "                        target_labels=[\"T\", \"Mast\", \"pDC\", \"NK\"],\n",
    "                        ligand_complex = 'B2M',\n",
    "                        receptor_complex= ['CD3D', 'KLRD1'],\n",
    "                        sample_key='sample_new',\n",
    "                        inverse_colour=True,\n",
    "                        inverse_size=True,\n",
    "                        figure_size=(9, 9),\n",
    "                        size_range=(1, 6),\n",
    "                        )"
   ]
  },
  {
   "attachments": {},
   "cell_type": "markdown",
   "id": "81e2ad00",
   "metadata": {
    "pycharm": {
     "name": "#%% md\n"
    }
   },
   "source": [
    "The key parameters used here are:\n",
    "\n",
    "- `source_labels` is a list containing the names of the sender cells of interest.\n",
    "- `target_labels` is a list containing the names of the receiver cells of interest.\n",
    "- `ligand_complex` is a list containing the names of the ligands of interest.\n",
    "- `receptor_complex` is a list containing the names of the receptors of interest.\n",
    "- `sample_key` is a string containing the column name where samples are specified."
   ]
  },
  {
   "attachments": {},
   "cell_type": "markdown",
   "id": "bc8981d5",
   "metadata": {
    "pycharm": {
     "name": "#%% md\n"
    }
   },
   "source": [
    "Let's export it in case we want to access it later:"
   ]
  },
  {
   "cell_type": "code",
   "execution_count": 17,
   "id": "4b783951",
   "metadata": {
    "pycharm": {
     "name": "#%%\n"
    }
   },
   "outputs": [],
   "source": [
    "adata.uns['liana_res'].to_csv(output_folder + '/LIANA_by_sample.csv', index=False)"
   ]
  },
  {
   "attachments": {},
   "cell_type": "markdown",
   "id": "43c508e8",
   "metadata": {
    "pycharm": {
     "name": "#%% md\n"
    }
   },
   "source": [
    "Alternatively, one could just export the whole AnnData object, together with the ligand-receptor results stored:"
   ]
  },
  {
   "cell_type": "code",
   "execution_count": 18,
   "id": "382bdeb2",
   "metadata": {
    "pycharm": {
     "name": "#%%\n"
    }
   },
   "outputs": [],
   "source": [
    "adata.write_h5ad(output_folder + '/adata_processed.h5ad', compression='gzip')"
   ]
  },
  {
   "attachments": {},
   "cell_type": "markdown",
   "id": "6b42bc63",
   "metadata": {
    "pycharm": {
     "name": "#%% md\n"
    }
   },
   "source": [
    "## Comparing cell-cell communication across multiple samples\n",
    "\n",
    "We can use Tensor-cell2cell to infer context-dependent CCC patterns from multiple samples simultaneously. To do so, we must first restructure the communication scores (LIANA's output) into a 4D-Communication Tensor. \n",
    "\n",
    "The tensor is built as follows: we create matrices with the communication scores for each of the ligand-receptor pairs within the same sample, then generate a 3D tensor for each sample, and finally concatenate them to form the 4D tensor:\n",
    "\n",
    "![ccc-scores](https://github.com/earmingol/cell2cell/blob/master/docs/tutorials/ASD/figures/4d-tensor.png?raw=true)"
   ]
  },
  {
   "attachments": {},
   "cell_type": "markdown",
   "id": "e68222a3",
   "metadata": {
    "pycharm": {
     "name": "#%% md\n"
    }
   },
   "source": [
    "First, we generate a list containing all samples from our AnnData object. For visualization purposes we sorted them according toby COVID-19 severity. Here, we can find the names of each of the samples in the `sample_new` column of the adata.obs information:"
   ]
  },
  {
   "cell_type": "code",
   "execution_count": 19,
   "id": "0abc3dbe",
   "metadata": {
    "pycharm": {
     "name": "#%%\n"
    }
   },
   "outputs": [],
   "source": [
    "sorted_samples = sorted(adata.obs['sample_new'].unique())"
   ]
  },
  {
   "attachments": {},
   "cell_type": "markdown",
   "id": "d89bcd40",
   "metadata": {
    "pycharm": {
     "name": "#%% md\n"
    }
   },
   "source": [
    "Then we can directly pass the communication scores from LIANA to build the 3D tensors for each sample (panel c in last figure), and concatenate them, with the following function:"
   ]
  },
  {
   "cell_type": "code",
   "execution_count": 20,
   "id": "73c818d0",
   "metadata": {
    "pycharm": {
     "name": "#%%\n"
    }
   },
   "outputs": [
    {
     "name": "stderr",
     "output_type": "stream",
     "text": [
      "100%|█████████████████████████████████████████████████████████████████████████████████████████████████████████████| 12/12 [00:18<00:00,  1.57s/it]\n"
     ]
    }
   ],
   "source": [
    "# build the tensor\n",
    "tensor = li.multi.to_tensor_c2c(liana_res=adata.uns['liana_res'], # LIANA's dataframe containing results\n",
    "                                sample_key='sample_new', # Column name of the samples\n",
    "                                source_key='source', # Column name of the sender cells\n",
    "                                target_key='target', # Column name of the receiver cells\n",
    "                                ligand_key='ligand_complex', # Column name of the ligands\n",
    "                                receptor_key='receptor_complex', # Column name of the receptors\n",
    "                                score_key='magnitude_rank', # Column name of the communication scores to use\n",
    "                                inverse_fun=lambda x: 1 - x, # Transformation function\n",
    "                                how='outer', # What to include across all samples\n",
    "                                outer_fraction=1/3., # Fraction of samples as threshold to include cells and LR pairs.\n",
    "                                context_order=sorted_samples, # Order to store the contexts in the tensor\n",
    "                               )"
   ]
  },
  {
   "attachments": {},
   "cell_type": "markdown",
   "id": "f35e2542",
   "metadata": {
    "pycharm": {
     "name": "#%% md\n"
    }
   },
   "source": [
    "The key parameters when building a tensor are:\n",
    "\n",
    "- `liana_res` is the dataframe containing the results from LIANA, usually located in `adata.uns[‘liana_res’]. We can pass directly the AnnData object to the parameter adata in this function. If the AnnData object is passed, we do not need to specify the liana_res parameter.\n",
    "\n",
    "- `sample_key`, `source_key`, `target_key`, `ligand_key`, `receptor_key`, and `score_key` are the column names in the dataframe containing the samples, sender cells, receiver cells, ligands, receptors, and communication scores, respectively. Each row of the dataframe contains a unique combination of these elements.\n",
    "\n",
    "- `inverse_fun` is the function we use to convert the communication score before using it to build the tensor. In this case, the 'magnitude_rank' score generated by LIANA considers low values as the most important ones, ranging from 0 to 1. In contrast, Tensor-cell2cell requires higher values to be the most important scores, so here we pass a function (`lambda x: 1 - x`) to adapt LIANA's magnitude-rank scores (subtracts the LIANA's score from 1). If `None` is passed instead, no transformation will be performed on the communication score. If using other scores coming from one of the methods implemented in LIANA, a similar transformation can be done depending on the parameters and assumptions of the scoring method.\n",
    "\n",
    "- `how` controls which ligand-receptor pairs and cell types to include when building the tensor. This decision depends on whether the missing values across a number of samples for both ligand-receptor interactions and sender-receiver cell pairs are considered to be biologically-relevant. Options are:\n",
    "    - `'inner'` is the more strict option since it only considers only cell types and LR pairs that are present in all contexts (intersection).\n",
    "    - `'outer'` considers all cell types and LR pairs that are present across contexts (union).\n",
    "    - `'outer_lrs'` considers only cell types that are present in all contexts (intersection), while all LR pairs that are present across contexts (union).\n",
    "    - `'outer_cells'` considers only LR pairs that are present in all contexts (intersection), while all cell types that are present across contexts (union).\n",
    "\n",
    "- `outer_fraction` controls the elements to include in the union scenario of the `how` options. Only elements that are present at least in this fraction of samples/contexts will be included. When this value is 0, the tensor includes all elements across the samples. When this value is 1, it acts as using `how='inner'`.\n",
    "\n",
    "- `context_order` is a list specifying the order of the samples. The order of samples does not affect the results, but it is useful for posterior visualizations."
   ]
  },
  {
   "attachments": {},
   "cell_type": "markdown",
   "id": "3ac31972",
   "metadata": {
    "pycharm": {
     "name": "#%% md\n"
    }
   },
   "source": [
    "We can check the shape of this tensor to verify the number of samples, LR pairs, sender cells, adn receiver cells, respectively:"
   ]
  },
  {
   "cell_type": "code",
   "execution_count": 21,
   "id": "fda5853f",
   "metadata": {
    "pycharm": {
     "name": "#%%\n"
    }
   },
   "outputs": [
    {
     "data": {
      "text/plain": [
       "torch.Size([12, 1054, 10, 10])"
      ]
     },
     "execution_count": 21,
     "metadata": {},
     "output_type": "execute_result"
    }
   ],
   "source": [
    "tensor.shape"
   ]
  },
  {
   "attachments": {},
   "cell_type": "markdown",
   "id": "9e074feb",
   "metadata": {
    "pycharm": {
     "name": "#%% md\n"
    }
   },
   "source": [
    "In addition, optionally we can generate the metadata for coloring the elements in each of the tensor dimensions (i.e., for each of the contexts/samples, ligand-receptor pairs, sender cells, and receiver cells). For this, we have to pass dictionaries for each dimension containing the elements and their respective major groups. In cases where we do not account with such information, we do not need to generate such dictionaries. For the contexts/samples dictionary, we can use the metadata in the AnnData object. This information will be used later for visualization of the results.\n",
    "\n",
    "In this example dataset, we can find samples in the column `'sample_new'`, while their majors groups (representing COVID-19 severity) are found in the column `'condition'`:"
   ]
  },
  {
   "cell_type": "code",
   "execution_count": 22,
   "id": "ec99749d",
   "metadata": {
    "pycharm": {
     "name": "#%%\n"
    }
   },
   "outputs": [],
   "source": [
    "context_dict = adata.obs.sort_values(by='sample_new') \\\n",
    "                        .set_index('sample_new')['condition'] \\\n",
    "                        .to_dict()"
   ]
  },
  {
   "attachments": {},
   "cell_type": "markdown",
   "id": "0d99830f",
   "metadata": {
    "pycharm": {
     "name": "#%% md\n"
    }
   },
   "source": [
    "Then, the metadata can be generated with:"
   ]
  },
  {
   "cell_type": "code",
   "execution_count": 23,
   "id": "84333fa9",
   "metadata": {
    "pycharm": {
     "name": "#%%\n"
    }
   },
   "outputs": [],
   "source": [
    "dimensions_dict = [context_dict, None, None, None]\n",
    "meta_tensor = c2c.tensor.generate_tensor_metadata(interaction_tensor=tensor,\n",
    "                                                  metadata_dicts=dimensions_dict,\n",
    "                                                  fill_with_order_elements=True\n",
    "                                                 )"
   ]
  },
  {
   "attachments": {},
   "cell_type": "markdown",
   "id": "91bb46ca",
   "metadata": {
    "pycharm": {
     "name": "#%% md\n"
    }
   },
   "source": [
    "We can export our tensor and its metadata:"
   ]
  },
  {
   "cell_type": "code",
   "execution_count": 24,
   "id": "19a1af6b",
   "metadata": {
    "pycharm": {
     "name": "#%%\n"
    }
   },
   "outputs": [
    {
     "name": "stdout",
     "output_type": "stream",
     "text": [
      "../../data/quickstart/outputs/Tensor.pkl  was correctly saved.\n",
      "../../data/quickstart/outputs/Tensor-Metadata.pkl  was correctly saved.\n"
     ]
    }
   ],
   "source": [
    "c2c.io.export_variable_with_pickle(variable=tensor,\n",
    "                                   filename=output_folder + '/Tensor.pkl')\n",
    "c2c.io.export_variable_with_pickle(variable=meta_tensor,\n",
    "                                   filename=output_folder + '/Tensor-Metadata.pkl')"
   ]
  },
  {
   "attachments": {},
   "cell_type": "markdown",
   "id": "04ba074b",
   "metadata": {
    "pycharm": {
     "name": "#%% md\n"
    }
   },
   "source": [
    "Then, we can load them with:"
   ]
  },
  {
   "cell_type": "code",
   "execution_count": 25,
   "id": "993ad1a2",
   "metadata": {
    "pycharm": {
     "name": "#%%\n"
    }
   },
   "outputs": [],
   "source": [
    "tensor = c2c.io.read_data.load_tensor(output_folder + '/Tensor.pkl')\n",
    "meta_tensor = c2c.io.load_variable_with_pickle(output_folder + '/Tensor-Metadata.pkl')"
   ]
  },
  {
   "attachments": {},
   "cell_type": "markdown",
   "id": "80e3c357",
   "metadata": {
    "pycharm": {
     "name": "#%% md\n"
    }
   },
   "source": [
    "## Perform Tensor Factorization"
   ]
  },
  {
   "attachments": {},
   "cell_type": "markdown",
   "id": "26fa855f",
   "metadata": {
    "pycharm": {
     "name": "#%% md\n"
    }
   },
   "source": [
    "Now that we have built the tensor and its metadata, we can run Tensor Component Analysis via Tensor-cell2cell with one simple command that we implemented for our unified framework:"
   ]
  },
  {
   "cell_type": "code",
   "execution_count": 26,
   "id": "8898aa8f",
   "metadata": {
    "pycharm": {
     "name": "#%%\n"
    }
   },
   "outputs": [
    {
     "name": "stdout",
     "output_type": "stream",
     "text": [
      "Running Elbow Analysis\n"
     ]
    },
    {
     "name": "stderr",
     "output_type": "stream",
     "text": [
      "100%|█████████████████████████████████████████████████████████████████████████████████████████████████████████████| 25/25 [32:43<00:00, 78.56s/it]\n"
     ]
    },
    {
     "name": "stdout",
     "output_type": "stream",
     "text": [
      "The rank at the elbow is: 13\n",
      "Running Tensor Factorization\n"
     ]
    },
    {
     "name": "stderr",
     "output_type": "stream",
     "text": [
      "100%|███████████████████████████████████████████████████████████████████████████████████████████████████████████| 100/100 [06:40<00:00,  4.00s/it]\n"
     ]
    },
    {
     "name": "stdout",
     "output_type": "stream",
     "text": [
      "Best model has a normalized error of: 0.491\n",
      "Generating Outputs\n"
     ]
    },
    {
     "ename": "AttributeError",
     "evalue": "'OpenpyxlWriter' object has no attribute 'save'",
     "output_type": "error",
     "traceback": [
      "\u001b[0;31m---------------------------------------------------------------------------\u001b[0m",
      "\u001b[0;31mAttributeError\u001b[0m                            Traceback (most recent call last)",
      "Cell \u001b[0;32mIn[26], line 1\u001b[0m\n\u001b[0;32m----> 1\u001b[0m \u001b[43mc2c\u001b[49m\u001b[38;5;241;43m.\u001b[39;49m\u001b[43manalysis\u001b[49m\u001b[38;5;241;43m.\u001b[39;49m\u001b[43mrun_tensor_cell2cell_pipeline\u001b[49m\u001b[43m(\u001b[49m\u001b[43mtensor\u001b[49m\u001b[43m,\u001b[49m\n\u001b[1;32m      2\u001b[0m \u001b[43m                                           \u001b[49m\u001b[43mmeta_tensor\u001b[49m\u001b[43m,\u001b[49m\n\u001b[1;32m      3\u001b[0m \u001b[43m                                           \u001b[49m\u001b[43mrank\u001b[49m\u001b[38;5;241;43m=\u001b[39;49m\u001b[38;5;28;43;01mNone\u001b[39;49;00m\u001b[43m,\u001b[49m\u001b[43m \u001b[49m\u001b[38;5;66;43;03m# Number of factors to perform the factorization. If None, it is automatically determined by an elbow analysis\u001b[39;49;00m\n\u001b[1;32m      4\u001b[0m \u001b[43m                                           \u001b[49m\u001b[43mtf_optimization\u001b[49m\u001b[38;5;241;43m=\u001b[39;49m\u001b[38;5;124;43m'\u001b[39;49m\u001b[38;5;124;43mrobust\u001b[39;49m\u001b[38;5;124;43m'\u001b[39;49m\u001b[43m,\u001b[49m\u001b[43m \u001b[49m\u001b[38;5;66;43;03m# To define how robust we want the analysis to be.\u001b[39;49;00m\n\u001b[1;32m      5\u001b[0m \u001b[43m                                           \u001b[49m\u001b[43mrandom_state\u001b[49m\u001b[38;5;241;43m=\u001b[39;49m\u001b[38;5;241;43m0\u001b[39;49m\u001b[43m,\u001b[49m\u001b[43m \u001b[49m\u001b[38;5;66;43;03m# Random seed for reproducibility\u001b[39;49;00m\n\u001b[1;32m      6\u001b[0m \u001b[43m                                           \u001b[49m\u001b[43mdevice\u001b[49m\u001b[38;5;241;43m=\u001b[39;49m\u001b[38;5;124;43m'\u001b[39;49m\u001b[38;5;124;43mcuda\u001b[39;49m\u001b[38;5;124;43m'\u001b[39;49m\u001b[43m,\u001b[49m\u001b[43m \u001b[49m\u001b[38;5;66;43;03m# Device to use. If using GPU and PyTorch, use 'cuda'. For CPU use 'cpu'\u001b[39;49;00m\n\u001b[1;32m      7\u001b[0m \u001b[43m                                           \u001b[49m\u001b[43moutput_folder\u001b[49m\u001b[38;5;241;43m=\u001b[39;49m\u001b[43moutput_folder\u001b[49m\u001b[43m,\u001b[49m\u001b[43m \u001b[49m\u001b[38;5;66;43;03m# Whether to save the figures in files. If so, a folder pathname must be passed\u001b[39;49;00m\n\u001b[1;32m      8\u001b[0m \u001b[43m                                          \u001b[49m\u001b[43m)\u001b[49m\n",
      "File \u001b[0;32m~/miniconda3/envs/ccc_protocols/lib/python3.10/site-packages/cell2cell/analysis/tensor_pipelines.py:204\u001b[0m, in \u001b[0;36mrun_tensor_cell2cell_pipeline\u001b[0;34m(interaction_tensor, tensor_metadata, copy_tensor, rank, tf_optimization, random_state, backend, device, elbow_metric, smooth_elbow, upper_rank, tf_init, tf_svd, cmaps, sample_col, group_col, fig_fontsize, output_folder, output_fig, fig_format, **kwargs)\u001b[0m\n\u001b[1;32m    202\u001b[0m \u001b[38;5;28;01mif\u001b[39;00m output_folder \u001b[38;5;129;01mis\u001b[39;00m \u001b[38;5;129;01mnot\u001b[39;00m \u001b[38;5;28;01mNone\u001b[39;00m:\n\u001b[1;32m    203\u001b[0m     \u001b[38;5;28mprint\u001b[39m(\u001b[38;5;124m'\u001b[39m\u001b[38;5;124mGenerating Outputs\u001b[39m\u001b[38;5;124m'\u001b[39m)\n\u001b[0;32m--> 204\u001b[0m     \u001b[43minteraction_tensor\u001b[49m\u001b[38;5;241;43m.\u001b[39;49m\u001b[43mexport_factor_loadings\u001b[49m\u001b[43m(\u001b[49m\u001b[43mloading_filename\u001b[49m\u001b[43m)\u001b[49m\n\u001b[1;32m    206\u001b[0m \u001b[38;5;28;01mif\u001b[39;00m output_fig:\n\u001b[1;32m    207\u001b[0m     fig2, axes \u001b[38;5;241m=\u001b[39m tensor_factors_plot(interaction_tensor\u001b[38;5;241m=\u001b[39minteraction_tensor,\n\u001b[1;32m    208\u001b[0m                                      metadata\u001b[38;5;241m=\u001b[39mtensor_metadata,\n\u001b[1;32m    209\u001b[0m                                      sample_col\u001b[38;5;241m=\u001b[39msample_col,\n\u001b[0;32m   (...)\u001b[0m\n\u001b[1;32m    213\u001b[0m                                      filename\u001b[38;5;241m=\u001b[39mtf_filename\n\u001b[1;32m    214\u001b[0m                                      )\n",
      "File \u001b[0;32m~/miniconda3/envs/ccc_protocols/lib/python3.10/site-packages/cell2cell/tensor/tensor.py:605\u001b[0m, in \u001b[0;36mBaseTensor.export_factor_loadings\u001b[0;34m(self, filename)\u001b[0m\n\u001b[1;32m    603\u001b[0m \u001b[38;5;28;01mfor\u001b[39;00m k, v \u001b[38;5;129;01min\u001b[39;00m \u001b[38;5;28mself\u001b[39m\u001b[38;5;241m.\u001b[39mfactors\u001b[38;5;241m.\u001b[39mitems():\n\u001b[1;32m    604\u001b[0m     v\u001b[38;5;241m.\u001b[39mto_excel(writer, sheet_name\u001b[38;5;241m=\u001b[39mk)\n\u001b[0;32m--> 605\u001b[0m \u001b[43mwriter\u001b[49m\u001b[38;5;241;43m.\u001b[39;49m\u001b[43msave\u001b[49m()\n\u001b[1;32m    606\u001b[0m \u001b[38;5;28mprint\u001b[39m(\u001b[38;5;124m'\u001b[39m\u001b[38;5;124mLoadings of the tensor factorization were successfully saved into \u001b[39m\u001b[38;5;132;01m{}\u001b[39;00m\u001b[38;5;124m'\u001b[39m\u001b[38;5;241m.\u001b[39mformat(filename))\n",
      "\u001b[0;31mAttributeError\u001b[0m: 'OpenpyxlWriter' object has no attribute 'save'"
     ]
    },
    {
     "data": {
      "image/png": "[encoded data removed]",
      "text/plain": [
       "<Figure size 400x225 with 1 Axes>"
      ]
     },
     "metadata": {},
     "output_type": "display_data"
    }
   ],
   "source": [
    "c2c.analysis.run_tensor_cell2cell_pipeline(tensor,\n",
    "                                           meta_tensor,\n",
    "                                           rank=None, # Number of factors to perform the factorization. If None, it is automatically determined by an elbow analysis\n",
    "                                           tf_optimization='robust', # To define how robust we want the analysis to be.\n",
    "                                           random_state=0, # Random seed for reproducibility\n",
    "                                           device='cuda', # Device to use. If using GPU and PyTorch, use 'cuda'. For CPU use 'cpu'\n",
    "                                           output_folder=output_folder, # Whether to save the figures in files. If so, a folder pathname must be passed\n",
    "                                          )"
   ]
  },
  {
   "attachments": {},
   "cell_type": "markdown",
   "id": "12bc5c9b",
   "metadata": {
    "pycharm": {
     "name": "#%% md\n"
    }
   },
   "source": [
    "**Key parameters are:**\n",
    "\n",
    "- `rank`  is the number of factors or latent patterns we want to obtain from the analysis. You can either indicate a specific number or leave it as `None` to perform the decomposition with a suggested number from an elbow analysis.\n",
    "\n",
    "- `tf_optimization` indicates whether running the analysis in the `'regular'` or the `'robust'` way. The `'regular'` way runs the tensor decomposition less number of times than the robust way to select an optimal result. Additionally, the former employs less strict convergence parameters to obtain optimal results than the latter, which is also translated into a faster generation of results. **Important**: When using `tf_optimization='robust'` the analysis takes much longer to run than using `tf_optimization='regular'`. However, the latter may generate less robust results.\n",
    "\n",
    "- `random_state` is the seed for randomization. It controls the randomization used when initializing the optimization algorithm that performs the tensor decomposition. It is useful for reproducing the same result every time that the analysis is run. If `None`, a different randomization will be used each time.\n",
    "\n",
    "\n",
    "- `device` indicates whether we are using the `'cpu'` or a GPU with `'cuda'` cores.\n",
    "\n",
    "- `output_folder` is the full path to the folder where the results will be saved. Make sure that this folder exists before passing it here."
   ]
  },
  {
   "attachments": {},
   "cell_type": "markdown",
   "id": "73b725f2",
   "metadata": {
    "pycharm": {
     "name": "#%% md\n"
    }
   },
   "source": [
    "The figure representing the loadings in each factor generated here can be interpreted by interconnecting all dimensions within a single factor. For example, if we take one of these factors, the cell-cell communication program occurs in each sample proportionally to their loadings. Then, this signature can be interpreted with the loadings of the ligand-receptor pairs, sender cells, and receiver cells. Ligands in high-loading ligand-receptor pairs are sent predominantly by high-loading sender cells, and interact with the cognate receptors on the high-loadings receiver cells."
   ]
  },
  {
   "attachments": {},
   "cell_type": "markdown",
   "id": "5c355c30",
   "metadata": {
    "pycharm": {
     "name": "#%% md\n"
    }
   },
   "source": [
    "### Downstream Visualizations: Making sense of the factors\n",
    "\n",
    "After running the decomposition, the results are stored in the `factors` attribute of the tensor object. This attribute is a dictionary containing the loadings for each of the elements in every tensor dimension. Loadings delineate the importance of that particular element to that factor. Keys are the names of the different dimension."
   ]
  },
  {
   "cell_type": "code",
   "execution_count": null,
   "id": "306a7bbf",
   "metadata": {
    "pycharm": {
     "name": "#%%\n"
    }
   },
   "outputs": [],
   "source": [
    "tensor.factors.keys()"
   ]
  },
  {
   "attachments": {},
   "cell_type": "markdown",
   "id": "c7895be2",
   "metadata": {
    "pycharm": {
     "name": "#%% md\n"
    }
   },
   "source": [
    "We can inspect the loadings of the samples, for example, located under the key `'Contexts'`:"
   ]
  },
  {
   "cell_type": "code",
   "execution_count": null,
   "id": "0b140002",
   "metadata": {
    "pycharm": {
     "name": "#%%\n"
    }
   },
   "outputs": [],
   "source": [
    "tensor.factors['Contexts']"
   ]
  },
  {
   "attachments": {},
   "cell_type": "markdown",
   "id": "be12039d",
   "metadata": {
    "pycharm": {
     "name": "#%% md\n"
    }
   },
   "source": [
    "## Downstream Visualizations"
   ]
  },
  {
   "attachments": {},
   "cell_type": "markdown",
   "id": "8e1f9bd1",
   "metadata": {
    "pycharm": {
     "name": "#%% md\n"
    }
   },
   "source": [
    "We can use these loadings to compare pairs of sample major groups with boxplots and statistical tests:"
   ]
  },
  {
   "cell_type": "code",
   "execution_count": null,
   "id": "62caa7a0",
   "metadata": {
    "pycharm": {
     "name": "#%%\n"
    }
   },
   "outputs": [],
   "source": [
    "groups_order = ['Control', 'Moderate COVID-19', 'Severe COVID-19']\n",
    "fig_filename = output_folder + '/BALF-Severity-Boxplots.pdf'\n",
    "\n",
    "_ = c2c.plotting.context_boxplot(context_loadings=tensor.factors['Contexts'],\n",
    "                                 metadict=context_dict,\n",
    "                                 nrows=3,\n",
    "                                 figsize=(16, 12),\n",
    "                                 group_order=groups_order,\n",
    "                                 statistical_test='t-test_ind',\n",
    "                                 pval_correction='fdr_bh',\n",
    "                                 cmap='plasma',\n",
    "                                 verbose=False, \n",
    "                                 filename=fig_filename\n",
    "                                )"
   ]
  },
  {
   "attachments": {},
   "cell_type": "markdown",
   "id": "eab261db",
   "metadata": {
    "pycharm": {
     "name": "#%% md\n"
    }
   },
   "source": [
    "Using the loadings for any dimension, we can also generate heatmaps for the elements with loadings above a certain threshold. Additionally, we can cluster these elements by the similarity of their loadings across all factors:"
   ]
  },
  {
   "cell_type": "code",
   "execution_count": null,
   "id": "bdb255c8",
   "metadata": {
    "pycharm": {
     "name": "#%%\n"
    }
   },
   "outputs": [],
   "source": [
    "fig_filename = output_folder + '/Clustermap-LRs.pdf'\n",
    "\n",
    "_ = c2c.plotting.loading_clustermap(loadings=tensor.factors['Ligand-Receptor Pairs'],\n",
    "                                    loading_threshold=0.1,\n",
    "                                    use_zscore=False,\n",
    "                                    figsize=(28, 8),\n",
    "                                    filename=fig_filename,\n",
    "                                    row_cluster=False\n",
    "                                   )"
   ]
  },
  {
   "attachments": {},
   "cell_type": "markdown",
   "id": "f0542e56",
   "metadata": {
    "pycharm": {
     "name": "#%% md\n"
    }
   },
   "source": [
    "Here patients are grouped by the importance that each communication pattern (factor) has in relation to the other patients. This captures combinations of related communication patterns that explain similarities and differences at a sample-specific resolution. In this case the differences are reflected with an almost perfect clustering by COVID-19 severity, where moderate cases are more similar to control cases."
   ]
  },
  {
   "attachments": {},
   "cell_type": "markdown",
   "id": "a6672057-ad2f-4b9d-b4c4-caab95d90ed2",
   "metadata": {},
   "source": [
    "### Overall CCI potential: Heatmap and network visualizations of sender-receiver cell pairs"
   ]
  },
  {
   "attachments": {},
   "cell_type": "markdown",
   "id": "88619ac8",
   "metadata": {
    "jupyter": {
     "outputs_hidden": false
    },
    "pycharm": {
     "name": "#%% md\n"
    }
   },
   "source": [
    "In addition, we can also evaluate the overall interactions between sender-receiver cell pairs that are determinant for a given factor or program. We can do it through a heatmap where the X-axis represent the receiver cells and the Y-axis shows the receiver cells. Here, the potential of interaction is calculated as the outer product between the loadings for the sender and receiver cells dimensions of a particular factor. To illustrate this, we chose Factor 3, but this can be repeated for every factor obtained in the decomposition."
   ]
  },
  {
   "cell_type": "code",
   "execution_count": null,
   "id": "55878b96",
   "metadata": {
    "jupyter": {
     "outputs_hidden": false
    },
    "pycharm": {
     "name": "#%%\n"
    }
   },
   "outputs": [],
   "source": [
    "selected_factor = 'Factor 3'"
   ]
  },
  {
   "cell_type": "code",
   "execution_count": null,
   "id": "ee86a88a",
   "metadata": {
    "jupyter": {
     "outputs_hidden": false
    },
    "pycharm": {
     "name": "#%%\n"
    }
   },
   "outputs": [],
   "source": [
    "loading_product = c2c.analysis.tensor_downstream.get_joint_loadings(tensor.factors,\n",
    "                                                                    dim1='Sender Cells',\n",
    "                                                                    dim2='Receiver Cells',\n",
    "                                                                    factor=selected_factor,\n",
    "                                                                   )"
   ]
  },
  {
   "cell_type": "code",
   "execution_count": null,
   "id": "571d3915",
   "metadata": {
    "jupyter": {
     "outputs_hidden": false
    },
    "pycharm": {
     "name": "#%%\n"
    }
   },
   "outputs": [],
   "source": [
    "lprod_cm = c2c.plotting.loading_clustermap(loading_product.T, # Remove .T to transpose the axes\n",
    "                                           use_zscore=False, # Whether standardizing the loadings across factors\n",
    "                                           figsize=(8, 8),\n",
    "                                           filename=output_folder + 'Clustermap-CC-Pairs.pdf',\n",
    "                                           cbar_label='Loading Product',\n",
    "                                          )"
   ]
  },
  {
   "attachments": {},
   "cell_type": "markdown",
   "id": "5871748c",
   "metadata": {
    "jupyter": {
     "outputs_hidden": false
    },
    "pycharm": {
     "name": "#%% md\n"
    }
   },
   "source": [
    "Similarly, an interaction network can be created for each factor by using the loading product between sender and receiver cells. First we need to choose a threshold to indicate what pair of cells are interacting. This can be done as shown in [the extended tutorial](./05-Downstream-Visualizations.ipynb)"
   ]
  },
  {
   "cell_type": "code",
   "execution_count": null,
   "id": "f17cc26e",
   "metadata": {
    "jupyter": {
     "outputs_hidden": false
    },
    "pycharm": {
     "name": "#%%\n"
    }
   },
   "outputs": [],
   "source": [
    "threshold = 0.075"
   ]
  },
  {
   "attachments": {},
   "cell_type": "markdown",
   "id": "32aa6f12",
   "metadata": {
    "jupyter": {
     "outputs_hidden": false
    },
    "pycharm": {
     "name": "#%% md\n"
    }
   },
   "source": [
    "Then, we can plot all networks we are interested in:"
   ]
  },
  {
   "cell_type": "code",
   "execution_count": null,
   "id": "537abd25",
   "metadata": {
    "jupyter": {
     "outputs_hidden": false
    },
    "pycharm": {
     "name": "#%%\n"
    }
   },
   "outputs": [],
   "source": [
    "c2c.plotting.ccc_networks_plot(tensor.factors,\n",
    "                               included_factors=['Factor 3', 'Factor 5', 'Factor 10'],\n",
    "                               ccc_threshold=threshold, # Only important communication\n",
    "                               nrows=1,\n",
    "                               panel_size=(16, 16), # This changes the size of each figure panel.\n",
    "                              )"
   ]
  },
  {
   "attachments": {},
   "cell_type": "markdown",
   "id": "a2554f94",
   "metadata": {
    "jupyter": {
     "outputs_hidden": false
    },
    "pycharm": {
     "name": "#%% md\n"
    }
   },
   "source": [
    "If ```included_factors=None```, all factors will be plotted."
   ]
  },
  {
   "attachments": {},
   "cell_type": "markdown",
   "id": "588f5692",
   "metadata": {
    "pycharm": {
     "name": "#%% md\n"
    }
   },
   "source": [
    "## Pathway Enrichment Analysis: Interpreting the context-driven communication"
   ]
  },
  {
   "attachments": {},
   "cell_type": "markdown",
   "id": "ce5fd54d",
   "metadata": {
    "pycharm": {
     "name": "#%% md\n"
    }
   },
   "source": [
    "### Classical Pathway Enrichment\n",
    "\n",
    "As the number of inferred interactions increases, the interpretation of the inferred cell-cell communication networks becomes more challenging. To this end, we can perform pathway enrichment analysis to identify the general biological processes that are enriched in the inferred interactions. Here, we will perform classical gene set enrichment analysis with `KEGG Pathways`."
   ]
  },
  {
   "attachments": {},
   "cell_type": "markdown",
   "id": "c1a1c9b1",
   "metadata": {
    "pycharm": {
     "name": "#%% md\n"
    }
   },
   "source": [
    "For the pathway enrichment analysis with GSEA, we use ligand-receptor pairs instead of individual genes. KEGG was initially designed to work with sets of genes, so first we need to generate ligand-receptor sets for each of it’s pathways:"
   ]
  },
  {
   "cell_type": "code",
   "execution_count": null,
   "id": "e9f4038e",
   "metadata": {
    "pycharm": {
     "name": "#%%\n"
    }
   },
   "outputs": [],
   "source": [
    "lr_loadings = tensor.factors['Ligand-Receptor Pairs']\n",
    "\n",
    "# Generate list with ligand-receptors pairs in DB\n",
    "lr_list = ['^'.join(row) for idx, row in lr_pairs.iterrows()]\n",
    "\n",
    "# Specify the organism and pathway database to use for building the LR set\n",
    "organism = \"human\"\n",
    "pathwaydb = \"KEGG\"\n",
    "\n",
    "# Generate ligand-receptor gene sets\n",
    "lr_set = c2c.external.generate_lr_geneset(lr_list,\n",
    "                                          complex_sep='_',\n",
    "                                          lr_sep='^',\n",
    "                                          organism=organism,\n",
    "                                          pathwaydb=pathwaydb,\n",
    "                                          readable_name=True,\n",
    "                                          output_folder=output_folder\n",
    "                                         )"
   ]
  },
  {
   "attachments": {},
   "cell_type": "markdown",
   "id": "c04c71bc",
   "metadata": {
    "pycharm": {
     "name": "#%% md\n"
    }
   },
   "source": [
    "Next, we can perform enrichment analysis on each factor using the loadings of the ligand-receptor pairs to obtain the normalized-enrichment scores (NES) and corresponding P-values from GSEA:"
   ]
  },
  {
   "cell_type": "code",
   "execution_count": null,
   "id": "20779bc6",
   "metadata": {
    "pycharm": {
     "name": "#%%\n"
    }
   },
   "outputs": [],
   "source": [
    "pvals, scores, gsea_df = c2c.external.run_gsea(loadings=lr_loadings,\n",
    "                                               lr_set=lr_set,\n",
    "                                               output_folder=output_folder,\n",
    "                                               weight=1,\n",
    "                                               min_size=15,\n",
    "                                               permutations=999,\n",
    "                                               processes=6,\n",
    "                                               random_state=6,\n",
    "                                               significance_threshold=0.05,\n",
    "                                              )"
   ]
  },
  {
   "attachments": {},
   "cell_type": "markdown",
   "id": "009f99f6",
   "metadata": {
    "pycharm": {
     "name": "#%% md\n"
    }
   },
   "source": [
    "The enriched pathways for each factor are:"
   ]
  },
  {
   "cell_type": "code",
   "execution_count": null,
   "id": "8fda4d1c",
   "metadata": {
    "pycharm": {
     "name": "#%%\n"
    }
   },
   "outputs": [],
   "source": [
    "gsea_df.loc[(gsea_df['Adj. P-value'] <= 0.05) & (gsea_df['NES'] > 0.)]"
   ]
  },
  {
   "attachments": {},
   "cell_type": "markdown",
   "id": "f51eb435",
   "metadata": {
    "pycharm": {
     "name": "#%% md\n"
    }
   },
   "source": [
    "The depleted pathways are:"
   ]
  },
  {
   "cell_type": "code",
   "execution_count": null,
   "id": "3a87a6f2",
   "metadata": {
    "pycharm": {
     "name": "#%%\n"
    }
   },
   "outputs": [],
   "source": [
    "gsea_df.loc[(gsea_df['Adj. P-value'] <= 0.05) & (gsea_df['NES'] < 0.)]"
   ]
  },
  {
   "attachments": {},
   "cell_type": "markdown",
   "id": "cd9ebbd1",
   "metadata": {
    "pycharm": {
     "name": "#%% md\n"
    }
   },
   "source": [
    "Finally, we can visualize the enrichment results using a dotplot:"
   ]
  },
  {
   "cell_type": "code",
   "execution_count": null,
   "id": "2639e425",
   "metadata": {
    "pycharm": {
     "name": "#%%\n"
    }
   },
   "outputs": [],
   "source": [
    "pathway_label = '{} Annotations'.format(pathwaydb)\n",
    "fig_filename = output_folder + '/GSEA-Dotplot.pdf'\n",
    "\n",
    "with sns.axes_style(\"darkgrid\"):\n",
    "    dotplot = c2c.plotting.pval_plot.generate_dot_plot(pval_df=pvals,\n",
    "                                                      score_df=scores,\n",
    "                                                      significance=0.05,\n",
    "                                                      xlabel='',\n",
    "                                                      ylabel='{} Annotations'.format(pathwaydb),\n",
    "                                                      cbar_title='NES',\n",
    "                                                      cmap='PuOr',\n",
    "                                                      figsize=(5, 12),\n",
    "                                                      label_size=20,\n",
    "                                                      title_size=20,\n",
    "                                                      tick_size=12,\n",
    "                                                      filename=fig_filename\n",
    "                                                      )"
   ]
  },
  {
   "attachments": {},
   "cell_type": "markdown",
   "id": "df07aabb",
   "metadata": {
    "pycharm": {
     "name": "#%% md\n"
    }
   },
   "source": [
    "### Footprint Enrichment\n",
    "\n",
    "Footprint enrichment analysis build upon classic geneset enrichment analysis, as instead of considering the genes involved in a biological activity, they consider the genes affected by the activity, or in other words the genes that change downstream of said activity [(Dugourd and Saez-Rodriguez, 2019)](https://www.sciencedirect.com/science/article/pii/S2452310019300149). \n",
    "\n",
    "In this case, we will use the PROGENy pathway resource to perform footprint enrichment analysis. PROGENy was built in a data-driven manner using perturbation and cancer lineage data [(Schubert et al, 2019)](https://www.nature.com/articles/s41467-017-02391-6#Sec8), as a consequence it also assigns different importances or weights to each gene in its pathway genesets. To this end, we need an enrichment method that can take weights into account, and here we will use multi-variate linear models from the `decoupler-py` package to perform this analysis [(Badia-i-Mompel et al., 2022)](https://academic.oup.com/bioinformaticsadvances/article/2/1/vbac016/6544613)."
   ]
  },
  {
   "attachments": {},
   "cell_type": "markdown",
   "id": "ecdbdba0",
   "metadata": {
    "pycharm": {
     "name": "#%% md\n"
    }
   },
   "source": [
    "Let’s load the PROGENy genesets and then convert them to sets of weighted ligand-receptor pairs:"
   ]
  },
  {
   "cell_type": "code",
   "execution_count": null,
   "id": "53f6e6a3",
   "metadata": {
    "pycharm": {
     "name": "#%%\n"
    }
   },
   "outputs": [],
   "source": [
    "# We first load the PROGENy gene sets\n",
    "net = dc.get_progeny(organism='human', top=5000)\n",
    "\n",
    "# Then convert them to sets with weighed ligand-receptor pairs\n",
    "lr_progeny = li.rs.generate_lr_geneset(lr_pairs, net, lr_sep=\"^\")"
   ]
  },
  {
   "attachments": {},
   "cell_type": "markdown",
   "id": "81d63114",
   "metadata": {
    "pycharm": {
     "name": "#%% md\n"
    }
   },
   "source": [
    "Next, we can run the footprint enrichment analysis:"
   ]
  },
  {
   "cell_type": "code",
   "execution_count": null,
   "id": "158158f8",
   "metadata": {
    "pycharm": {
     "name": "#%%\n"
    }
   },
   "outputs": [],
   "source": [
    "estimate, pvals =  dc.run_mlm(lr_loadings.transpose(), \n",
    "                              lr_progeny, \n",
    "                              source=\"source\", \n",
    "                              target=\"interaction\", \n",
    "                              use_raw=False)"
   ]
  },
  {
   "attachments": {},
   "cell_type": "markdown",
   "id": "a7926cce",
   "metadata": {
    "pycharm": {
     "name": "#%% md\n"
    }
   },
   "source": [
    "Finally, we can visualize the results:"
   ]
  },
  {
   "cell_type": "code",
   "execution_count": null,
   "id": "10bbc976",
   "metadata": {
    "pycharm": {
     "name": "#%%\n"
    }
   },
   "outputs": [],
   "source": [
    "fig_filename = output_folder + '/PROGENy.pdf'\n",
    "_ = sns.clustermap(estimate, xticklabels=estimate.columns, cmap='coolwarm', z_score=4)\n",
    "plt.savefig(fig_filename, dpi=300, bbox_inches='tight')"
   ]
  },
  {
   "attachments": {},
   "cell_type": "markdown",
   "id": "ac5b493e",
   "metadata": {
    "pycharm": {
     "name": "#%% md\n"
    }
   },
   "source": [
    "Let's zoom in on **Factor 3**, which is associated with COVID-19 cases. "
   ]
  },
  {
   "cell_type": "code",
   "execution_count": null,
   "id": "67a65397",
   "metadata": {
    "pycharm": {
     "name": "#%%\n"
    }
   },
   "outputs": [],
   "source": [
    "selected_factor = 'Factor 3'\n",
    "fig_filename = output_folder + '/PROGENy-{}.pdf'.format(selected_factor.replace(' ', '-'))\n",
    "\n",
    "dc.plot_barplot(estimate,\n",
    "                selected_factor,\n",
    "                vertical=True, \n",
    "                cmap='coolwarm', \n",
    "                save=fig_filename)"
   ]
  },
  {
   "cell_type": "code",
   "execution_count": null,
   "id": "3a0ebacf",
   "metadata": {},
   "outputs": [],
   "source": []
  }
 ],
 "metadata": {
  "kernelspec": {
   "display_name": "Python [conda env:ccc_protocols]",
   "language": "python",
   "name": "conda-env-ccc_protocols-py"
  },
  "language_info": {
   "codemirror_mode": {
    "name": "ipython",
    "version": 3
   },
   "file_extension": ".py",
   "mimetype": "text/x-python",
   "name": "python",
   "nbconvert_exporter": "python",
   "pygments_lexer": "ipython3",
   "version": "3.10.9"
  },
  "vscode": {
   "interpreter": {
    "hash": "f9f85f796d01129d0dd105a088854619f454435301f6ffec2fea96ecbd9be4ac"
   }
  }
 },
 "nbformat": 4,
 "nbformat_minor": 5
}
