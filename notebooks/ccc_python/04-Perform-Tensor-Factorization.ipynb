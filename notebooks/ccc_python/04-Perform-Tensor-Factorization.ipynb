{
 "cells": [
  {
   "cell_type": "markdown",
   "id": "bcd14e3d",
   "metadata": {},
   "source": [
    "# Running Tensor-cell2cell to perform a tensor factorization\n",
    "\n",
    "After generating a 4D-Communication Tensor, we can run Tensor-cell2cell to perform a tensor factorization and obtain the context-driven patterns of cell-cell communication (factors).\n",
    "\n",
    "This tutorial will show you how to load a previously exported 4D-Communication Tensor and run Tensor-cell2cell on this tensor."
   ]
  },
  {
   "cell_type": "markdown",
   "id": "a5670971",
   "metadata": {},
   "source": [
    "## Initial Setup\n",
    "\n",
    "**Before running this notebook** \n",
    "\n",
    "GPUs can substantially speed-up this analysis. If you are planning to use a NVIDIA GPU, make sure to have a proper NVIDIA GPU driver (https://www.nvidia.com/Download/index.aspx) as well as the CUDA toolkit (https://developer.nvidia.com/cuda-toolkit) installed.\n",
    "\n",
    "Then, make sure to create an environment with PyTorch version >= v1.8.1 following these instructions to enable CUDA.\n",
    "\n",
    "https://pytorch.org/get-started/locally/"
   ]
  },
  {
   "cell_type": "markdown",
   "id": "bb8efdbe",
   "metadata": {},
   "source": [
    "### Enabling GPU use\n",
    "\n",
    "If you are using a NVIDIA GPU, after installing PyTorch with CUDA enabled, specify `gpu_use = True`. Otherwise, `gpu_use = False`."
   ]
  },
  {
   "cell_type": "code",
   "execution_count": 1,
   "id": "00c71f6c",
   "metadata": {},
   "outputs": [],
   "source": [
    "gpu_use = True"
   ]
  },
  {
   "cell_type": "markdown",
   "id": "8a547fcf",
   "metadata": {},
   "source": [
    "When using a GPU, first import tensorly and set the backend to be `'pytorch'`. "
   ]
  },
  {
   "cell_type": "code",
   "execution_count": 2,
   "id": "1b1b5e31",
   "metadata": {},
   "outputs": [],
   "source": [
    "if gpu_use:\n",
    "    import tensorly as tl\n",
    "    tl.set_backend('pytorch')"
   ]
  },
  {
   "cell_type": "markdown",
   "id": "08f75175",
   "metadata": {},
   "source": [
    "### Import Libraries"
   ]
  },
  {
   "cell_type": "code",
   "execution_count": 3,
   "id": "db13afe6",
   "metadata": {},
   "outputs": [],
   "source": [
    "import cell2cell as c2c\n",
    "\n",
    "import pandas as pd\n",
    "import numpy as np\n",
    "\n",
    "import os\n",
    "\n",
    "%matplotlib inline"
   ]
  },
  {
   "cell_type": "code",
   "execution_count": 4,
   "id": "8f5b945f",
   "metadata": {},
   "outputs": [],
   "source": [
    "import warnings\n",
    "warnings.filterwarnings('ignore')"
   ]
  },
  {
   "cell_type": "markdown",
   "id": "3d2cf899",
   "metadata": {},
   "source": [
    "## Directories"
   ]
  },
  {
   "cell_type": "code",
   "execution_count": 5,
   "id": "14992aa1",
   "metadata": {},
   "outputs": [],
   "source": [
    "output_folder = '../../data/tc2c-outputs/'"
   ]
  },
  {
   "cell_type": "markdown",
   "id": "06ab6da9",
   "metadata": {},
   "source": [
    "## Load Tensor\n",
    "\n",
    "Now, we can load our 4D-Communication Tensor that was previously exported with pickle."
   ]
  },
  {
   "cell_type": "code",
   "execution_count": 6,
   "id": "9b3740ad",
   "metadata": {},
   "outputs": [],
   "source": [
    "tensor = c2c.io.read_data.load_tensor(os.path.join(output_folder, 'BALF-Tensor.pkl'))"
   ]
  },
  {
   "cell_type": "markdown",
   "id": "a755f8b1",
   "metadata": {},
   "source": [
    "Load metadata"
   ]
  },
  {
   "cell_type": "code",
   "execution_count": 7,
   "id": "a933d0fd",
   "metadata": {},
   "outputs": [],
   "source": [
    "meta_tensor = c2c.io.load_variable_with_pickle(os.path.join(output_folder, 'BALF-Tensor-Metadata.pkl'))"
   ]
  },
  {
   "cell_type": "markdown",
   "id": "be30b075",
   "metadata": {},
   "source": [
    "## Perform Tensor Factorization\n",
    "\n",
    "Tensor-cell2cell can be run with a simple pipeline command that executes all important steps to perform the tensor factorization.\n",
    "\n",
    "\n",
    "**Key parameters are:**\n",
    "\n",
    "- `copy_tensor` indicates whether modifying the original tensor passed as input to report the results or return a new version including the results.\n",
    "\n",
    "\n",
    "- `rank` is the number of factors or latent patterns we want to obtain from the analysis. You can either indicate a specific number or leave it as `None` to obtain a suggested number through an elbow analysis.\n",
    "\n",
    "\n",
    "- `tf_optimization` indicates whether running the analysis in the `'regular'` or the `'robust'` way. The regular way means that the tensor decomposition is run 10 times per rank evaluated in the elbow analysis, and 1 time in the final decomposition. Additionally, the optimization algorithm has less number of iterations in the regular than the robust case (100 vs 500) and less precision (tolerance of 1e-7 vs 1e-8). The robust case runs the tensor decomposition 20 times per rank evaluated in the elbow analysis, and 100 times in the final decomposition. Here we could use the ```tf_optimization='regular'```, which is faster but generates less robust results. We recommend using ```tf_optimization='robust```, which takes longer to run (more iteractions and more precise too). It is important to notice that multiple runs of a tensor decomposition differ in the initialization values (regardless of using `tf_init='random'` or `tf_init='svd'`).\n",
    "\n",
    "\n",
    "- `random_state` is the seed for randomization. It controls the randomization used when initializing the optimization algorithm that performs the tensor decomposition. It is useful for reproducing the same result every time that the analysis is run. If `None`, a different randomization will be used each time.\n",
    "\n",
    "\n",
    "- `device` indicates whether we are using the `'cpu'` or a GPU with `'cuda'` cores. See the beginning of this notebooks to enable using a GPU.\n",
    "\n",
    "\n",
    "- `'elbow_metric'` is the metric to perform the elbow analysis to obtain a suggested number of factors. Options are `'error'` and `'similarity'`, indicating respectively the error of tensor reconstruction, and the similarity of tensor factorization across multiple runs for a given rank. The similarity metric may result in non-smooth curves given the highly variability especially at higher ranks. If so, we recommend using the parameter `smooth_elbow=True`.\n",
    "\n",
    "\n",
    "- `uppper_rank` is the max number of ranks to try in the elbow analysis.\n",
    "\n",
    "\n",
    "- `tf_init` is the initialization of the tensor decomposition algorithm. If your tensor contains a mask (`tensor.mask`), it will automatically use `tf_init='random'`. Options are `'random'` and `'svd'`. The latter helps to obtain results that are more close to a global optima from the optimization method behind the algorithm.\n",
    "\n",
    "\n",
    "- `tf_svd` is the method to perform the SVD to initialize the tensor factorization. This is only considered whe `tf_init='svd'`. \n",
    "\n",
    "\n",
    "- `output_folder` is the full path to the folder where the results will be saved. Make sure that this folder exists before passing it here."
   ]
  },
  {
   "cell_type": "code",
   "execution_count": null,
   "id": "896448c7",
   "metadata": {},
   "outputs": [
    {
     "name": "stdout",
     "output_type": "stream",
     "text": [
      "Running Elbow Analysis\n"
     ]
    },
    {
     "data": {
      "application/vnd.jupyter.widget-view+json": {
       "model_id": "acd28e8c1f6547e0b22cc59ffe0ca12f",
       "version_major": 2,
       "version_minor": 0
      },
      "text/plain": [
       "  0%|          | 0/25 [00:00<?, ?it/s]"
      ]
     },
     "metadata": {},
     "output_type": "display_data"
    }
   ],
   "source": [
    "%%time\n",
    "tensor2 = c2c.analysis.run_tensor_cell2cell_pipeline(tensor,\n",
    "                                                     meta_tensor,\n",
    "                                                     copy_tensor=True, # Whether to output a new tensor or modifying the original\n",
    "                                                     rank=None, # Number of factors to perform the factorization. If None, it is automatically determined by an elbow analysis\n",
    "                                                     tf_optimization='robust', # To define how robust we want the analysis to be.\n",
    "                                                     random_state=0, # Random seed for reproducibility\n",
    "                                                     device='cuda', # Device to use. If using GPU and PyTorch, use 'cuda'. For CPU use 'cpu'\n",
    "                                                     elbow_metric='error', # Metric to use in the elbow analysis.\n",
    "                                                     smooth_elbow=False, # Whether smoothing the metric of the elbow analysis.\n",
    "                                                     upper_rank=25, # Max number of factors to try in the elbow analysis\n",
    "                                                     tf_init='random', # Initialization method of the tensor factorization\n",
    "                                                     tf_svd='numpy_svd', # Type of SVD to use if the initialization is 'svd'\n",
    "                                                     cmaps=None, # Color palettes to use in color each of the dimensions. Must be a list of palettes.\n",
    "                                                     sample_col='Element', # Columns containing the elements in the tensor metadata\n",
    "                                                     group_col='Category', # Columns containing the major groups in the tensor metadata\n",
    "                                                     fig_fontsize=14, # Fontsize of the figures generated\n",
    "                                                     output_folder=output_folder, # Whether to save the figures in files. If so, a folder pathname must be passed\n",
    "                                                     output_fig=True, # Whether to output the figures. If False, figures won't be saved a files if a folder was passed in output_folder.\n",
    "                                                     fig_format='pdf', # File format of the figures.\n",
    "                                                    )"
   ]
  },
  {
   "cell_type": "markdown",
   "id": "8260e88b",
   "metadata": {},
   "source": [
    "## Factorization Results"
   ]
  },
  {
   "cell_type": "markdown",
   "id": "6838b4d1",
   "metadata": {},
   "source": [
    "After running the decomposition, the results are stored in the `factors` attribute (`tensor2.factors`). This attribute is a dictionary containing the loadings for each of the elements in every tensor dimension. Keys are the names of the different dimension."
   ]
  },
  {
   "cell_type": "code",
   "execution_count": 9,
   "id": "0a508f90",
   "metadata": {},
   "outputs": [
    {
     "data": {
      "text/plain": [
       "odict_keys(['Contexts', 'Ligand-Receptor Pairs', 'Sender Cells', 'Receiver Cells'])"
      ]
     },
     "execution_count": 9,
     "metadata": {},
     "output_type": "execute_result"
    }
   ],
   "source": [
    "tensor2.factors.keys()"
   ]
  },
  {
   "cell_type": "markdown",
   "id": "456ebef3",
   "metadata": {},
   "source": [
    "We can inspect the loadings of the samples, for example, located under the key `'Contexts'`."
   ]
  },
  {
   "cell_type": "code",
   "execution_count": 10,
   "id": "0ea9b8a7",
   "metadata": {},
   "outputs": [
    {
     "data": {
      "text/html": [
       "<div>\n",
       "<style scoped>\n",
       "    .dataframe tbody tr th:only-of-type {\n",
       "        vertical-align: middle;\n",
       "    }\n",
       "\n",
       "    .dataframe tbody tr th {\n",
       "        vertical-align: top;\n",
       "    }\n",
       "\n",
       "    .dataframe thead th {\n",
       "        text-align: right;\n",
       "    }\n",
       "</style>\n",
       "<table border=\"1\" class=\"dataframe\">\n",
       "  <thead>\n",
       "    <tr style=\"text-align: right;\">\n",
       "      <th></th>\n",
       "      <th>Factor 1</th>\n",
       "      <th>Factor 2</th>\n",
       "      <th>Factor 3</th>\n",
       "      <th>Factor 4</th>\n",
       "      <th>Factor 5</th>\n",
       "      <th>Factor 6</th>\n",
       "      <th>Factor 7</th>\n",
       "      <th>Factor 8</th>\n",
       "      <th>Factor 9</th>\n",
       "      <th>Factor 10</th>\n",
       "    </tr>\n",
       "  </thead>\n",
       "  <tbody>\n",
       "    <tr>\n",
       "      <th>HC1</th>\n",
       "      <td>0.638385</td>\n",
       "      <td>0.072028</td>\n",
       "      <td>0.049939</td>\n",
       "      <td>0.130699</td>\n",
       "      <td>0.050856</td>\n",
       "      <td>0.021799</td>\n",
       "      <td>0.055676</td>\n",
       "      <td>0.116795</td>\n",
       "      <td>0.122381</td>\n",
       "      <td>0.126865</td>\n",
       "    </tr>\n",
       "    <tr>\n",
       "      <th>HC2</th>\n",
       "      <td>0.710510</td>\n",
       "      <td>0.016618</td>\n",
       "      <td>0.016542</td>\n",
       "      <td>0.001585</td>\n",
       "      <td>0.071162</td>\n",
       "      <td>0.041559</td>\n",
       "      <td>0.002834</td>\n",
       "      <td>0.029638</td>\n",
       "      <td>0.048581</td>\n",
       "      <td>0.030676</td>\n",
       "    </tr>\n",
       "    <tr>\n",
       "      <th>HC3</th>\n",
       "      <td>0.243565</td>\n",
       "      <td>0.111365</td>\n",
       "      <td>0.091213</td>\n",
       "      <td>0.257629</td>\n",
       "      <td>0.117089</td>\n",
       "      <td>0.198263</td>\n",
       "      <td>0.407986</td>\n",
       "      <td>0.295667</td>\n",
       "      <td>0.331481</td>\n",
       "      <td>0.031592</td>\n",
       "    </tr>\n",
       "    <tr>\n",
       "      <th>M1</th>\n",
       "      <td>0.006904</td>\n",
       "      <td>0.201121</td>\n",
       "      <td>0.108226</td>\n",
       "      <td>0.350571</td>\n",
       "      <td>0.019763</td>\n",
       "      <td>0.376719</td>\n",
       "      <td>0.568124</td>\n",
       "      <td>0.528047</td>\n",
       "      <td>0.377786</td>\n",
       "      <td>0.348017</td>\n",
       "    </tr>\n",
       "    <tr>\n",
       "      <th>M2</th>\n",
       "      <td>0.008580</td>\n",
       "      <td>0.172526</td>\n",
       "      <td>0.100652</td>\n",
       "      <td>0.338519</td>\n",
       "      <td>0.026889</td>\n",
       "      <td>0.379482</td>\n",
       "      <td>0.604023</td>\n",
       "      <td>0.474744</td>\n",
       "      <td>0.376204</td>\n",
       "      <td>0.332881</td>\n",
       "    </tr>\n",
       "    <tr>\n",
       "      <th>M3</th>\n",
       "      <td>0.126942</td>\n",
       "      <td>0.004323</td>\n",
       "      <td>0.191307</td>\n",
       "      <td>0.315512</td>\n",
       "      <td>0.050182</td>\n",
       "      <td>0.287631</td>\n",
       "      <td>0.285473</td>\n",
       "      <td>0.209462</td>\n",
       "      <td>0.270773</td>\n",
       "      <td>0.190892</td>\n",
       "    </tr>\n",
       "    <tr>\n",
       "      <th>S1</th>\n",
       "      <td>0.056208</td>\n",
       "      <td>0.393285</td>\n",
       "      <td>0.446599</td>\n",
       "      <td>0.250824</td>\n",
       "      <td>0.602893</td>\n",
       "      <td>0.234196</td>\n",
       "      <td>0.008454</td>\n",
       "      <td>0.195873</td>\n",
       "      <td>0.224517</td>\n",
       "      <td>0.288822</td>\n",
       "    </tr>\n",
       "    <tr>\n",
       "      <th>S2</th>\n",
       "      <td>0.000537</td>\n",
       "      <td>0.451999</td>\n",
       "      <td>0.462559</td>\n",
       "      <td>0.269995</td>\n",
       "      <td>0.555143</td>\n",
       "      <td>0.344178</td>\n",
       "      <td>0.020036</td>\n",
       "      <td>0.333061</td>\n",
       "      <td>0.339984</td>\n",
       "      <td>0.373550</td>\n",
       "    </tr>\n",
       "    <tr>\n",
       "      <th>S3</th>\n",
       "      <td>0.085647</td>\n",
       "      <td>0.037387</td>\n",
       "      <td>0.261173</td>\n",
       "      <td>0.305130</td>\n",
       "      <td>0.226156</td>\n",
       "      <td>0.374430</td>\n",
       "      <td>0.111243</td>\n",
       "      <td>0.220693</td>\n",
       "      <td>0.220052</td>\n",
       "      <td>0.178308</td>\n",
       "    </tr>\n",
       "    <tr>\n",
       "      <th>S4</th>\n",
       "      <td>0.000385</td>\n",
       "      <td>0.434426</td>\n",
       "      <td>0.360937</td>\n",
       "      <td>0.345690</td>\n",
       "      <td>0.229576</td>\n",
       "      <td>0.367176</td>\n",
       "      <td>0.193923</td>\n",
       "      <td>0.267916</td>\n",
       "      <td>0.378819</td>\n",
       "      <td>0.444485</td>\n",
       "    </tr>\n",
       "    <tr>\n",
       "      <th>S5</th>\n",
       "      <td>0.002799</td>\n",
       "      <td>0.469986</td>\n",
       "      <td>0.402673</td>\n",
       "      <td>0.339902</td>\n",
       "      <td>0.400505</td>\n",
       "      <td>0.195265</td>\n",
       "      <td>0.102715</td>\n",
       "      <td>0.118800</td>\n",
       "      <td>0.213055</td>\n",
       "      <td>0.398278</td>\n",
       "    </tr>\n",
       "    <tr>\n",
       "      <th>S6</th>\n",
       "      <td>0.039716</td>\n",
       "      <td>0.376715</td>\n",
       "      <td>0.395508</td>\n",
       "      <td>0.339929</td>\n",
       "      <td>0.197708</td>\n",
       "      <td>0.321532</td>\n",
       "      <td>0.018232</td>\n",
       "      <td>0.257058</td>\n",
       "      <td>0.334510</td>\n",
       "      <td>0.320400</td>\n",
       "    </tr>\n",
       "  </tbody>\n",
       "</table>\n",
       "</div>"
      ],
      "text/plain": [
       "     Factor 1  Factor 2  Factor 3  Factor 4  Factor 5  Factor 6  Factor 7  \\\n",
       "HC1  0.638385  0.072028  0.049939  0.130699  0.050856  0.021799  0.055676   \n",
       "HC2  0.710510  0.016618  0.016542  0.001585  0.071162  0.041559  0.002834   \n",
       "HC3  0.243565  0.111365  0.091213  0.257629  0.117089  0.198263  0.407986   \n",
       "M1   0.006904  0.201121  0.108226  0.350571  0.019763  0.376719  0.568124   \n",
       "M2   0.008580  0.172526  0.100652  0.338519  0.026889  0.379482  0.604023   \n",
       "M3   0.126942  0.004323  0.191307  0.315512  0.050182  0.287631  0.285473   \n",
       "S1   0.056208  0.393285  0.446599  0.250824  0.602893  0.234196  0.008454   \n",
       "S2   0.000537  0.451999  0.462559  0.269995  0.555143  0.344178  0.020036   \n",
       "S3   0.085647  0.037387  0.261173  0.305130  0.226156  0.374430  0.111243   \n",
       "S4   0.000385  0.434426  0.360937  0.345690  0.229576  0.367176  0.193923   \n",
       "S5   0.002799  0.469986  0.402673  0.339902  0.400505  0.195265  0.102715   \n",
       "S6   0.039716  0.376715  0.395508  0.339929  0.197708  0.321532  0.018232   \n",
       "\n",
       "     Factor 8  Factor 9  Factor 10  \n",
       "HC1  0.116795  0.122381   0.126865  \n",
       "HC2  0.029638  0.048581   0.030676  \n",
       "HC3  0.295667  0.331481   0.031592  \n",
       "M1   0.528047  0.377786   0.348017  \n",
       "M2   0.474744  0.376204   0.332881  \n",
       "M3   0.209462  0.270773   0.190892  \n",
       "S1   0.195873  0.224517   0.288822  \n",
       "S2   0.333061  0.339984   0.373550  \n",
       "S3   0.220693  0.220052   0.178308  \n",
       "S4   0.267916  0.378819   0.444485  \n",
       "S5   0.118800  0.213055   0.398278  \n",
       "S6   0.257058  0.334510   0.320400  "
      ]
     },
     "execution_count": 10,
     "metadata": {},
     "output_type": "execute_result"
    }
   ],
   "source": [
    "tensor2.factors['Contexts']"
   ]
  },
  {
   "cell_type": "markdown",
   "id": "4ad4559e",
   "metadata": {},
   "source": [
    "If we are interested in the top elements of a given dimension, here for example `'Ligand-Receptor Pairs'`, we can easily obtain them:"
   ]
  },
  {
   "cell_type": "code",
   "execution_count": 11,
   "id": "090917d4",
   "metadata": {},
   "outputs": [
    {
     "data": {
      "text/plain": [
       "CCL23^FPR2            0.189507\n",
       "SLPI^PLSCR1           0.155554\n",
       "MDK^NCL               0.142353\n",
       "EREG^ERBB2_ERBB4      0.137284\n",
       "SLPI^CD4              0.133112\n",
       "AGTRAP^RACK1          0.126262\n",
       "APP^RPSA              0.119803\n",
       "SEMA4A^NRP1_PLXNA3    0.118192\n",
       "SEMA4A^NRP1_PLXNA2    0.116182\n",
       "COL9A3^ITGAV_ITGB8    0.114300\n",
       "Name: Factor 10, dtype: float32"
      ]
     },
     "execution_count": 11,
     "metadata": {},
     "output_type": "execute_result"
    }
   ],
   "source": [
    "# Top 10 LR pairs in the Factor 10\n",
    "tensor2.get_top_factor_elements(order_name='Ligand-Receptor Pairs', \n",
    "                                factor_name='Factor 10', \n",
    "                                top_number=10)"
   ]
  },
  {
   "cell_type": "markdown",
   "id": "8a1df134",
   "metadata": {},
   "source": [
    "## Supplementary Information about the Tensor Decomposition"
   ]
  },
  {
   "cell_type": "markdown",
   "id": "5b8cd5be",
   "metadata": {},
   "source": [
    "To show the steps here, we will make a copy of the original tensor object"
   ]
  },
  {
   "cell_type": "code",
   "execution_count": 12,
   "id": "fba3929b",
   "metadata": {},
   "outputs": [],
   "source": [
    "interaction_tensor = tensor.copy()"
   ]
  },
  {
   "cell_type": "markdown",
   "id": "5498757b",
   "metadata": {},
   "source": [
    "### The one-line command used to run Tensor-cell2cell (`c2c.analysis.run_tensor_cell2cell_pipeline()`) performs three main things under-the-hood:"
   ]
  },
  {
   "cell_type": "markdown",
   "id": "97f8fc49",
   "metadata": {},
   "source": [
    "**1- Allocates the tensor in the device to use**"
   ]
  },
  {
   "cell_type": "code",
   "execution_count": 13,
   "id": "21deb9da",
   "metadata": {},
   "outputs": [],
   "source": [
    "device = 'cuda'"
   ]
  },
  {
   "cell_type": "code",
   "execution_count": 14,
   "id": "7e764312",
   "metadata": {},
   "outputs": [],
   "source": [
    "if device is not None:\n",
    "    try:\n",
    "        interaction_tensor.tensor = tl.tensor(interaction_tensor.tensor, device=device)\n",
    "        if interaction_tensor.mask is not None:\n",
    "            interaction_tensor.mask = tl.tensor(interaction_tensor.mask, device=device)\n",
    "    except:\n",
    "        interaction_tensor.tensor = tl.tensor(interaction_tensor.tensor)\n",
    "        if interaction_tensor.mask is not None:\n",
    "            interaction_tensor.mask = tl.tensor(interaction_tensor.mask)"
   ]
  },
  {
   "cell_type": "markdown",
   "id": "daf4ed37",
   "metadata": {},
   "source": [
    "**2- If no rank was specified, it performs the elbow analysis**\n",
    "\n",
    "Main parameters are:\n",
    "\n",
    "- `uppper_rank` is the max number of ranks to try in the elbow analysis.\n",
    "\n",
    "\n",
    "- `runs` is the number of tensor decompositions (using different randomizations for initializing the algorithm) to perform per rank. If more than 1 is passed, the plot will show the mean of the metric and its standard deviation for each evaluated rank.\n",
    "\n",
    "\n",
    "- `init` is the initialization of the tensor decomposition algorithm. If your tensor contains a mask (`tensor.mask`), it will automatically use `init='random'`. Options are `'random'` and `'svd'`. The latter helps to obtain results that are more close to a global optima from the optimization method behind the algorithm.\n",
    "\n",
    "\n",
    "- `svd` is the method to perform the SVD to initialize the tensor factorization. This is only considered whe `init='svd'`. \n",
    "\n",
    "\n",
    "- `automatic_elbow` indicates whether suggesting a rank number to perform the decomposition. If `False`, this analysis will only report the curve, then the user can make a decision of what rank number to use in the final decomposition.\n",
    "\n",
    "\n",
    "- `'metric'` is the metric to perform the elbow analysis to obtain a suggested number of factors. Options are `'error'` and `'similarity'`, indicating respectively the error of tensor reconstruction, and the similarity of tensor factorization across multiple runs for a given rank. The similarity metric may result in non-smooth curves given the highly variability especially at higher ranks. If so, we recommend using the parameter `smooth_elbow=True`.\n",
    "\n",
    "\n",
    "- `random_state` is the seed for randomization. It controls the randomization used when initializing the optimization algorithm that performs the tensor decomposition. It is useful for reproducing the same result every time that the analysis is run. If `None`, a different randomization will be used each time.\n",
    "\n",
    "\n",
    "- `filename` is the full path name of the file wherein the figure is saved (even indicating the extension). For example, '/home/user/Elbow.pdf'. If `None` the figure will not be saved."
   ]
  },
  {
   "cell_type": "markdown",
   "id": "44baa0d0",
   "metadata": {},
   "source": [
    "Here we can also specify the `tol`and the `n_iter_max`, which are the parameters associated with the `tf_optimization` parameter in the `c2c.analysis.run_tensor_cell2cell_pipeline()` function.\n",
    "\n",
    "For 'regular' we use `tol=1e-7` and `n_iter_max=100`, while for 'robust' these parameters are `tol=1e-8` and `n_iter_max=500`"
   ]
  },
  {
   "cell_type": "code",
   "execution_count": 15,
   "id": "a08e966a",
   "metadata": {},
   "outputs": [
    {
     "data": {
      "application/vnd.jupyter.widget-view+json": {
       "model_id": "caa776b8cc4b4ecd889cb231ea033771",
       "version_major": 2,
       "version_minor": 0
      },
      "text/plain": [
       "  0%|          | 0/25 [00:00<?, ?it/s]"
      ]
     },
     "metadata": {},
     "output_type": "display_data"
    },
    {
     "name": "stdout",
     "output_type": "stream",
     "text": [
      "The rank at the elbow is: 14\n"
     ]
    },
    {
     "data": {
      "image/png": "[encoded data removed]",
      "text/plain": [
       "<Figure size 288x162 with 1 Axes>"
      ]
     },
     "metadata": {
      "needs_background": "light"
     },
     "output_type": "display_data"
    }
   ],
   "source": [
    "fig1, error = interaction_tensor.elbow_rank_selection(upper_rank=25,\n",
    "                                                      runs=10,\n",
    "                                                      init='random',\n",
    "                                                      svd='numpy_svd',\n",
    "                                                      automatic_elbow=True,\n",
    "                                                      metric='error',\n",
    "                                                      random_state=0,\n",
    "                                                      fontsize=14,\n",
    "                                                      filename=None,\n",
    "                                                      tol=1e-7, n_iter_max=100,\n",
    "                                                      )"
   ]
  },
  {
   "cell_type": "markdown",
   "id": "8e7739d0",
   "metadata": {},
   "source": [
    "Here, the error measures how different is the original tensor from the sum of R rank-1 tensors used to approximate it. The idea is to find a good trade-off between a small number of factors and a small error.\n",
    "\n",
    "![factors](https://earmingol.github.io/cell2cell/tutorials/ASD/figures/tensor-approx.png)"
   ]
  },
  {
   "cell_type": "markdown",
   "id": "69eee788",
   "metadata": {},
   "source": [
    "**3- Tensor Factorization/Decomposition**\n",
    "\n",
    "After knowing that number of factors (rank) to use, we can perform the tensor decompositon.\n",
    "\n",
    "Main parameters are:\n",
    "\n",
    "- `rank` is the number of factors or latent patterns to obtain from the tensor decomposition.\n",
    "\n",
    "\n",
    "- `runs` is the number of tensor decompositions (using different randomizations for initializing the algorithm) to perform. If more. than 1 is assigned, the result that minimizes the tensor-reconstruction error will be output.\n",
    "\n",
    "\n",
    "- `init` is the initialization of the tensor decomposition algorithm. If your tensor contains a mask (`tensor.mask`), it will automatically use `init='random'`. Options are `'random'` and `'svd'`. The latter helps to obtain results that are more close to a global optima from the optimization method behind the algorithm.\n",
    "\n",
    "\n",
    "- `svd` is the method to perform the SVD to initialize the tensor factorization. This is only considered whe `init='svd'`. \n",
    "\n",
    "\n",
    "- `random_state` is the seed for randomization. It controls the randomization used when initializing the optimization algorithm that performs the tensor decomposition. It is useful for reproducing the same result every time that the analysis is run. If `None`, a different randomization will be used each time."
   ]
  },
  {
   "cell_type": "code",
   "execution_count": 16,
   "id": "939c81cb",
   "metadata": {},
   "outputs": [
    {
     "data": {
      "text/plain": [
       "14"
      ]
     },
     "execution_count": 16,
     "metadata": {},
     "output_type": "execute_result"
    }
   ],
   "source": [
    "# From the elbow analysis, the suggested rank is found in\n",
    "interaction_tensor.rank"
   ]
  },
  {
   "cell_type": "markdown",
   "id": "8ad10198",
   "metadata": {},
   "source": [
    "You can see here that using the parameters underlying the 'regular' optimization leads to a different number of suggested factors. However, here we will use the number obtained with the 'robust' optimization used with the one-line command."
   ]
  },
  {
   "cell_type": "code",
   "execution_count": 17,
   "id": "b2163a45",
   "metadata": {},
   "outputs": [],
   "source": [
    "rank = 10"
   ]
  },
  {
   "cell_type": "markdown",
   "id": "da678305",
   "metadata": {},
   "source": [
    "Here we can also specify the `tol`and the `n_iter_max`, which are the parameters associated with the `tf_optimization` parameter in the `c2c.analysis.run_tensor_cell2cell_pipeline()` function.\n",
    "\n",
    "For 'regular' we use `tol=1e-7` and `n_iter_max=100`, while for 'robust' these parameters are `tol=1e-8` and `n_iter_max=500`"
   ]
  },
  {
   "cell_type": "code",
   "execution_count": 18,
   "id": "358c97e2",
   "metadata": {},
   "outputs": [
    {
     "data": {
      "application/vnd.jupyter.widget-view+json": {
       "model_id": "4f857ebfbc3243d588be1d41500db22f",
       "version_major": 2,
       "version_minor": 0
      },
      "text/plain": [
       "  0%|          | 0/100 [00:00<?, ?it/s]"
      ]
     },
     "metadata": {},
     "output_type": "display_data"
    },
    {
     "name": "stdout",
     "output_type": "stream",
     "text": [
      "Best model has a normalized error of: 0.527\n"
     ]
    }
   ],
   "source": [
    "interaction_tensor.compute_tensor_factorization(rank=rank,\n",
    "                                                init='random',\n",
    "                                                svd='numpy_svd',\n",
    "                                                random_state=0,\n",
    "                                                runs=100,\n",
    "                                                normalize_loadings=True,\n",
    "                                                tol=1e-8, n_iter_max=500,\n",
    "                                                )"
   ]
  },
  {
   "cell_type": "markdown",
   "id": "31251910",
   "metadata": {},
   "source": [
    "The tensor decomposition performed here is a non-negative canonical polyadic decomposition (CPD) (same performed in the elbow analysis). Briefly, tensor decomposition identifies a low-rank tensor (here, a rank of 10) that approximated the full tensor. This low-rank tensor can be represented as the sum of a set of rank-1 tensors (10 of them in this case). Each rank-1 tensor represents a factor in the decomposition and can be further represented as the outer product of n vectors, where n represents the number of tensor dimensions. Each vector represents one of the n tensor dimensions for that factor and its values, corresponding to individual elements in each dimension, represent the factor loadings. In our case, each factor will contain loadings for the context, LR pair, sender-cell, and receiver-cell dimensions. Those elements within each factor that contain high loadings contribute to the factor-specific communication pattern.\n",
    "\n",
    "![TF](https://earmingol.github.io/cell2cell/tutorials/ASD/figures/tensor-factorization.png)"
   ]
  },
  {
   "cell_type": "markdown",
   "id": "40f7b985",
   "metadata": {},
   "source": [
    "We can plot the results with:"
   ]
  },
  {
   "cell_type": "code",
   "execution_count": 19,
   "id": "6ccbacea",
   "metadata": {},
   "outputs": [
    {
     "data": {
      "image/png": "[encoded data removed]",
      "text/plain": [
       "<Figure size 720x936 with 40 Axes>"
      ]
     },
     "metadata": {
      "needs_background": "light"
     },
     "output_type": "display_data"
    }
   ],
   "source": [
    "factors, axes = c2c.plotting.tensor_factors_plot(interaction_tensor=interaction_tensor,\n",
    "                                                 metadata = meta_tensor, # This is the metadata for each dimension\n",
    "                                                 sample_col='Element',\n",
    "                                                 group_col='Category',\n",
    "                                                 meta_cmaps = ['plasma', 'Dark2_r', 'tab20', 'tab20'],\n",
    "                                                 fontsize=10, # Font size of the figures generated\n",
    "                                                 filename=None # Path to save the figure. E.g. '/home/user/TF.pdf'\n",
    "                                                 )"
   ]
  },
  {
   "cell_type": "markdown",
   "id": "bc53af2d",
   "metadata": {},
   "source": [
    "### Subset of a Tensor\n",
    "\n",
    "\n",
    "From this analysis we may also be interested in a subset of the original tensor to inspect the cell-cell communication of a subset of samples, LR pairs, sender cells, or receiver cells.\n",
    "\n",
    "We can subset the original tensor without having to build it from the beginning. For example, we are interested in the CCC of NKs and T cells as the senders, and B cells, Macrophages, mDC and pDC cells as receivers. We can do so by creating a dictionary specifying the elements of the dimensions that we want to subset. Here, the dimensions corresponds to:\n",
    "- `0` for the Contexts\n",
    "- `1` for the Ligand-Receptor Pairs\n",
    "- `2` for the Sender Cells\n",
    "- `3` for the Receiver Cells\n",
    "\n",
    "If we do not include a dimension in the following dictionary, that dimension will not be subset."
   ]
  },
  {
   "cell_type": "code",
   "execution_count": 20,
   "id": "470ee580",
   "metadata": {},
   "outputs": [],
   "source": [
    "subset_dict = {2: ['NK', 'T'], # Sender Cells\n",
    "               3: ['B', 'Macrophages', 'mDC', 'pDC'] # Receiver Cells\n",
    "              }"
   ]
  },
  {
   "cell_type": "markdown",
   "id": "9e469885",
   "metadata": {},
   "source": [
    "Some key parameters here are:\n",
    "\n",
    "- `original_order` indicates whether keeping the element order as in the original tensor or as in the subset list.\n",
    "\n",
    "- `remove_duplicates` indicates whether removing duplicate elements in the subset lists. Duplicates can be introduced especially when passing these lists manually.\n",
    "\n",
    "- `keep` indicates what duplicated element to keep. Options are:\n",
    "    - 'first' : Drop duplicates except for the first occurrence.\n",
    "    - 'last' : Drop duplicates except for the last occurrence.\n",
    "    - False : Drop all duplicates."
   ]
  },
  {
   "cell_type": "code",
   "execution_count": 21,
   "id": "68dd7c53",
   "metadata": {},
   "outputs": [],
   "source": [
    "subset_tensor = c2c.tensor.subset_tensor(interaction_tensor=tensor,\n",
    "                                         subset_dict=subset_dict,\n",
    "                                         original_order=True \n",
    "                                        )"
   ]
  },
  {
   "cell_type": "markdown",
   "id": "ba0a34ed",
   "metadata": {},
   "source": [
    "If we compare the size of the original tensor with the subset one, we can see that we only modified the senders and receiver cells."
   ]
  },
  {
   "cell_type": "code",
   "execution_count": 22,
   "id": "98b939b8",
   "metadata": {},
   "outputs": [
    {
     "name": "stdout",
     "output_type": "stream",
     "text": [
      "torch.Size([12, 1410, 10, 10]) torch.Size([12, 1410, 2, 4])\n"
     ]
    }
   ],
   "source": [
    "print(tensor.tensor.shape, subset_tensor.tensor.shape)"
   ]
  },
  {
   "cell_type": "markdown",
   "id": "328f0867",
   "metadata": {},
   "source": [
    "Now with this subset tensor, we have to subset the metadata as well. With the following function we can pass the subset tensor as reference to adapt the metadata correspondingly."
   ]
  },
  {
   "cell_type": "code",
   "execution_count": 23,
   "id": "0c0b6725",
   "metadata": {},
   "outputs": [],
   "source": [
    "subset_meta = c2c.tensor.subset_metadata(tensor_metadata=meta_tensor,\n",
    "                                         interaction_tensor=subset_tensor\n",
    "                                        )"
   ]
  },
  {
   "cell_type": "markdown",
   "id": "00378491",
   "metadata": {},
   "source": [
    "**Now we can use the subset tensor to run the Tensor-cell2cell analysis as indicated above**"
   ]
  },
  {
   "cell_type": "code",
   "execution_count": null,
   "id": "63f0cb6b",
   "metadata": {},
   "outputs": [],
   "source": []
  }
 ],
 "metadata": {
  "kernelspec": {
   "display_name": "Python [conda env:ccc_protocols]",
   "language": "python",
   "name": "conda-env-ccc_protocols-py"
  },
  "language_info": {
   "codemirror_mode": {
    "name": "ipython",
    "version": 3
   },
   "file_extension": ".py",
   "mimetype": "text/x-python",
   "name": "python",
   "nbconvert_exporter": "python",
   "pygments_lexer": "ipython3",
   "version": "3.10.9"
  }
 },
 "nbformat": 4,
 "nbformat_minor": 5
}
