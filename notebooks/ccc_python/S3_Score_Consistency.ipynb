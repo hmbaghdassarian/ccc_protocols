{
 "cells": [
  {
   "cell_type": "markdown",
   "id": "9c945170",
   "metadata": {},
   "source": [
    "# Score Consistency\n",
    "\n",
    "Here, we briefly demonstrate the similarities and discrepancies between LIANA's output in python and R. "
   ]
  },
  {
   "cell_type": "code",
   "execution_count": 5,
   "id": "c122940a",
   "metadata": {},
   "outputs": [
    {
     "name": "stdout",
     "output_type": "stream",
     "text": [
      "../../data/liana-outputs/ already exists.\n"
     ]
    }
   ],
   "source": [
    "import os\n",
    "\n",
    "import pandas as pd\n",
    "import scipy\n",
    "\n",
    "import scanpy as sc\n",
    "\n",
    "import cell2cell as c2c\n",
    "from liana.method.sc._rank_aggregate import AggregateClass, _rank_aggregate_meta\n",
    "from liana.method.sc import cellphonedb, natmi, singlecellsignalr\n",
    "\n",
    "data_path = '../../data/'\n",
    "output_folder = os.path.join(data_path, 'liana-outputs/')\n",
    "c2c.io.directories.create_directory(output_folder)"
   ]
  },
  {
   "cell_type": "markdown",
   "id": "517e0ca9",
   "metadata": {},
   "source": [
    "#### Comparison with R output:\n",
    "\n",
    "There are minor differences with the LIANA implementation in R that lead to outputs not being identical\n",
    "\n",
    "- SingleCellSignalR Magnitude (lrscore): precision - slightly different after 3rd decimal place\n",
    "- LogFC Specificity (lr_logfc): similar relative differences but different exact values\n",
    "- CellPhoneDB Specificity (cellphone_pvals): similar relative differences but different exact values\n",
    "- CellChat: not run by default in R\n",
    "\n",
    "Let's check the consistency in the magnitude aggregate rank score when running the different methods that report magnitude (excluding CellChat, which is not present by default in R). "
   ]
  },
  {
   "cell_type": "code",
   "execution_count": 6,
   "id": "e7d48386",
   "metadata": {},
   "outputs": [],
   "source": [
    "adata = sc.read_h5ad(os.path.join(data_path, 'processed.h5ad'))\n",
    "sadata = adata[adata.obs['sample']=='C100']"
   ]
  },
  {
   "cell_type": "markdown",
   "id": "4a5fd243",
   "metadata": {},
   "source": [
    "<font color='red'>Note for Daniel - I believe line 198-202 of _liana_pipe.py makes it impossible to pass just \"Magnitude\" as the consensus_opts argument, so can't pass for example just cellphonedb and natmi and then specify consensus_opts = ['Magnitude']. Have to include singlecellsignalr for this to work (which is fine, still get a high correlation:</font>"
   ]
  },
  {
   "cell_type": "code",
   "execution_count": null,
   "id": "fb5bfd4f",
   "metadata": {},
   "outputs": [],
   "source": [
    "# # make rank_aggregate function that only runs on methods of choice and only for Magnitude\n",
    "# rank_aggregate_partial = AggregateClass(_rank_aggregate_meta, methods=[cellphonedb, natmi, singlecellsignalr])\n",
    "# # have to add singlecellsignalr to make the below code work\n",
    "# rank_aggregate_partial(adata = sadata, \n",
    "#                        groupby='celltype', \n",
    "#                        use_raw = False, # run on log- and library-normalized counts\n",
    "#                        verbose = True, \n",
    "#                        inplace = True\n",
    "#                        #consensus_opts = ['Magnitude'] # rank by magnitude only - CURRENTLY not passed to _aggregate\n",
    "#                       )"
   ]
  },
  {
   "cell_type": "code",
   "execution_count": 7,
   "id": "0d512811",
   "metadata": {},
   "outputs": [
    {
     "name": "stdout",
     "output_type": "stream",
     "text": [
      "Using `.X`!\n",
      "5580 features of mat are empty, they will be removed.\n",
      "The following cell identities were excluded: Plasma\n"
     ]
    },
    {
     "name": "stderr",
     "output_type": "stream",
     "text": [
      "/home/hratch/miniconda3/envs/ccc_protocols/lib/python3.10/site-packages/pandas/core/indexing.py:1728: ImplicitModificationWarning: Trying to modify attribute `.obs` of view, initializing view as actual.\n"
     ]
    },
    {
     "name": "stdout",
     "output_type": "stream",
     "text": [
      "0.33 of entities in the resource are missing from the data.\n",
      "Generating ligand-receptor stats for 2548 samples and 19218 features\n",
      "Running CellPhoneDB\n"
     ]
    },
    {
     "name": "stderr",
     "output_type": "stream",
     "text": [
      "100%|███████████████████████████████████████| 1000/1000 [00:21<00:00, 46.61it/s]\n"
     ]
    },
    {
     "name": "stdout",
     "output_type": "stream",
     "text": [
      "Running NATMI\n",
      "Running SingleCellSignalR\n"
     ]
    },
    {
     "name": "stderr",
     "output_type": "stream",
     "text": [
      "/home/hratch/miniconda3/envs/ccc_protocols/lib/python3.10/site-packages/anndata/compat/_overloaded_dict.py:106: ImplicitModificationWarning: Trying to modify attribute `._uns` of view, initializing view as actual.\n"
     ]
    }
   ],
   "source": [
    "# make rank_aggregate function that only runs on methods of choice and only for Magnitude\n",
    "rank_aggregate_partial = AggregateClass(_rank_aggregate_meta, methods=[cellphonedb, natmi, singlecellsignalr])\n",
    "rank_aggregate_partial(adata = sadata, \n",
    "                       groupby='celltype', \n",
    "                       use_raw = False, # run on log- and library-normalized counts\n",
    "                       verbose = True, \n",
    "                       inplace = True\n",
    "                      )"
   ]
  },
  {
   "cell_type": "code",
   "execution_count": 8,
   "id": "07975809",
   "metadata": {},
   "outputs": [
    {
     "data": {
      "text/html": [
       "<div>\n",
       "<style scoped>\n",
       "    .dataframe tbody tr th:only-of-type {\n",
       "        vertical-align: middle;\n",
       "    }\n",
       "\n",
       "    .dataframe tbody tr th {\n",
       "        vertical-align: top;\n",
       "    }\n",
       "\n",
       "    .dataframe thead th {\n",
       "        text-align: right;\n",
       "    }\n",
       "</style>\n",
       "<table border=\"1\" class=\"dataframe\">\n",
       "  <thead>\n",
       "    <tr style=\"text-align: right;\">\n",
       "      <th></th>\n",
       "      <th>source</th>\n",
       "      <th>target</th>\n",
       "      <th>ligand_complex</th>\n",
       "      <th>receptor_complex</th>\n",
       "      <th>magnitude_rank</th>\n",
       "    </tr>\n",
       "  </thead>\n",
       "  <tbody>\n",
       "    <tr>\n",
       "      <th>67</th>\n",
       "      <td>B</td>\n",
       "      <td>B</td>\n",
       "      <td>ACTR2</td>\n",
       "      <td>ADRB2</td>\n",
       "      <td>0.405892</td>\n",
       "    </tr>\n",
       "    <tr>\n",
       "      <th>17</th>\n",
       "      <td>B</td>\n",
       "      <td>B</td>\n",
       "      <td>ADAM17</td>\n",
       "      <td>ITGB1</td>\n",
       "      <td>0.081878</td>\n",
       "    </tr>\n",
       "    <tr>\n",
       "      <th>54</th>\n",
       "      <td>B</td>\n",
       "      <td>B</td>\n",
       "      <td>ADAM17</td>\n",
       "      <td>RHBDF2</td>\n",
       "      <td>0.334024</td>\n",
       "    </tr>\n",
       "    <tr>\n",
       "      <th>23</th>\n",
       "      <td>B</td>\n",
       "      <td>B</td>\n",
       "      <td>ADAM28</td>\n",
       "      <td>ITGA4</td>\n",
       "      <td>0.403503</td>\n",
       "    </tr>\n",
       "    <tr>\n",
       "      <th>8</th>\n",
       "      <td>B</td>\n",
       "      <td>B</td>\n",
       "      <td>APOC2</td>\n",
       "      <td>LRP1</td>\n",
       "      <td>1.000000</td>\n",
       "    </tr>\n",
       "  </tbody>\n",
       "</table>\n",
       "</div>"
      ],
      "text/plain": [
       "   source target ligand_complex receptor_complex  magnitude_rank\n",
       "67      B      B          ACTR2            ADRB2        0.405892\n",
       "17      B      B         ADAM17            ITGB1        0.081878\n",
       "54      B      B         ADAM17           RHBDF2        0.334024\n",
       "23      B      B         ADAM28            ITGA4        0.403503\n",
       "8       B      B          APOC2             LRP1        1.000000"
      ]
     },
     "execution_count": 8,
     "metadata": {},
     "output_type": "execute_result"
    }
   ],
   "source": [
    "rel_cols = ['source', 'target', 'ligand_complex', 'receptor_complex', 'magnitude_rank']\n",
    "liana_aggregate_partial = sadata.uns['liana_res'].loc[:,rel_cols]\n",
    "liana_aggregate_partial.sort_values(by = ['source', 'target', 'ligand_complex', 'receptor_complex'], inplace = True)\n",
    "liana_aggregate_partial.to_csv(os.path.join(output_folder, 'magnitude_ranks_python.csv'))\n",
    "liana_aggregate_partial.head()"
   ]
  },
  {
   "cell_type": "markdown",
   "id": "6c41528f",
   "metadata": {},
   "source": [
    "Note, to run the correlation, make sure to have run the [companion Python tutorial](../ccc_R/S3_Score_Consistency.ipynb) up to the point where you save the csv named \"magnitude_ranks_R.csv\". "
   ]
  },
  {
   "cell_type": "code",
   "execution_count": 9,
   "id": "8ec472a2",
   "metadata": {},
   "outputs": [
    {
     "name": "stdout",
     "output_type": "stream",
     "text": [
      "The spearman correlation bewteen R and python aggregate magnitude scores is: 0.98\n"
     ]
    }
   ],
   "source": [
    "# read and format R aggregate rank\n",
    "lap_R = pd.read_csv(os.path.join(output_folder, 'magnitude_ranks_R.csv'), index_col = 0)\n",
    "lap_R.columns = ['source', 'target', 'ligand_complex', 'receptor_complex', 'aggregate_rank']\n",
    "\n",
    "# merge the two scores\n",
    "la = pd.merge(liana_aggregate_partial, lap_R, on = ['source', 'target', 'ligand_complex', 'receptor_complex'], \n",
    "                                                how = 'inner')\n",
    "sr = scipy.stats.spearmanr(la.magnitude_rank, la.aggregate_rank).statistic\n",
    "print('The spearman correlation bewteen R and python aggregate magnitude scores is: {:.2f}'.format(sr))"
   ]
  }
 ],
 "metadata": {
  "kernelspec": {
   "display_name": "Python [conda env:ccc_protocols]",
   "language": "python",
   "name": "conda-env-ccc_protocols-py"
  },
  "language_info": {
   "codemirror_mode": {
    "name": "ipython",
    "version": 3
   },
   "file_extension": ".py",
   "mimetype": "text/x-python",
   "name": "python",
   "nbconvert_exporter": "python",
   "pygments_lexer": "ipython3",
   "version": "3.10.10"
  },
  "vscode": {
   "interpreter": {
    "hash": "a89d9df9e41c144bbb86b791904f32fb0efeb7b488a88d676a8bce57017c9696"
   }
  }
 },
 "nbformat": 4,
 "nbformat_minor": 5
}
