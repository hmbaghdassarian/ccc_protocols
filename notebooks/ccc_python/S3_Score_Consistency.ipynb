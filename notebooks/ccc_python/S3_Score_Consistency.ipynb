{
 "cells": [
  {
   "cell_type": "markdown",
   "id": "9c945170",
   "metadata": {},
   "source": [
    "# S3. Score Consistency\n",
    "\n",
    "Here, we briefly demonstrate the similarities and discrepancies between LIANA's output in python and R. "
   ]
  },
  {
   "cell_type": "code",
   "execution_count": 1,
   "id": "c122940a",
   "metadata": {},
   "outputs": [
    {
     "name": "stdout",
     "output_type": "stream",
     "text": [
      "../../data/liana-outputs/ already exists.\n"
     ]
    }
   ],
   "source": [
    "import os\n",
    "\n",
    "import pandas as pd\n",
    "import scipy\n",
    "\n",
    "import scanpy as sc\n",
    "\n",
    "import cell2cell as c2c\n",
    "from liana.method.sc._rank_aggregate import AggregateClass, _rank_aggregate_meta\n",
    "from liana.method.sc import cellphonedb, natmi, singlecellsignalr\n",
    "\n",
    "data_path = '../../data/'\n",
    "output_folder = os.path.join(data_path, 'liana-outputs/')\n",
    "c2c.io.directories.create_directory(output_folder)"
   ]
  },
  {
   "cell_type": "markdown",
   "id": "517e0ca9",
   "metadata": {},
   "source": [
    "## Comparison with R output:\n",
    "\n",
    "There are minor differences with the LIANA implementation in R that lead to outputs not being identical\n",
    "\n",
    "- SingleCellSignalR Magnitude (lrscore): precision - slightly different after 3rd decimal place\n",
    "- LogFC Specificity (lr_logfc): similar relative differences but different exact values\n",
    "- CellPhoneDB Specificity (cellphone_pvals): similar relative differences but different exact values\n",
    "- CellChat: not run by default in R\n",
    "\n",
    "Let's check the consistency in the magnitude aggregate rank score when running the different methods that report magnitude (excluding CellChat, which is not present by default in R). "
   ]
  },
  {
   "cell_type": "code",
   "execution_count": 6,
   "id": "e7d48386",
   "metadata": {},
   "outputs": [],
   "source": [
    "adata = sc.read_h5ad(os.path.join(data_path, 'processed.h5ad'))\n",
    "sadata = adata[adata.obs['sample']=='C100']"
   ]
  },
  {
   "cell_type": "markdown",
   "id": "4a5fd243",
   "metadata": {},
   "source": [
    "<font color='red'>Note for Daniel - I believe line 198-202 of _liana_pipe.py makes it impossible to pass just \"Magnitude\" as the consensus_opts argument, so can't pass for example just cellphonedb and natmi and then specify consensus_opts = ['Magnitude']. Have to include singlecellsignalr for this to work (which is fine, still get a high correlation:</font>"
   ]
  },
  {
   "cell_type": "code",
   "execution_count": null,
   "id": "fb5bfd4f",
   "metadata": {},
   "outputs": [],
   "source": [
    "# # make rank_aggregate function that only runs on methods of choice and only for Magnitude\n",
    "# rank_aggregate_partial = AggregateClass(_rank_aggregate_meta, methods=[cellphonedb, natmi, singlecellsignalr])\n",
    "# # have to add singlecellsignalr to make the below code work\n",
    "# rank_aggregate_partial(adata = sadata, \n",
    "#                        groupby='celltype', \n",
    "#                        use_raw = False, # run on log- and library-normalized counts\n",
    "#                        verbose = True, \n",
    "#                        inplace = True\n",
    "#                        #consensus_opts = ['Magnitude'] # rank by magnitude only - CURRENTLY not passed to _aggregate\n",
    "#                       )"
   ]
  },
  {
   "cell_type": "code",
   "execution_count": 7,
   "id": "0d512811",
   "metadata": {},
   "outputs": [
    {
     "name": "stdout",
     "output_type": "stream",
     "text": [
      "Using `.X`!\n",
      "5580 features of mat are empty, they will be removed.\n",
      "The following cell identities were excluded: Plasma\n"
     ]
    },
    {
     "name": "stderr",
     "output_type": "stream",
     "text": [
      "/home/hratch/miniconda3/envs/ccc_protocols/lib/python3.10/site-packages/pandas/core/indexing.py:1728: ImplicitModificationWarning: Trying to modify attribute `.obs` of view, initializing view as actual.\n"
     ]
    },
    {
     "name": "stdout",
     "output_type": "stream",
     "text": [
      "0.33 of entities in the resource are missing from the data.\n",
      "Generating ligand-receptor stats for 2548 samples and 19218 features\n",
      "Running CellPhoneDB\n"
     ]
    },
    {
     "name": "stderr",
     "output_type": "stream",
     "text": [
      "100%|███████████████████████████████████████| 1000/1000 [00:21<00:00, 46.61it/s]\n"
     ]
    },
    {
     "name": "stdout",
     "output_type": "stream",
     "text": [
      "Running NATMI\n",
      "Running SingleCellSignalR\n"
     ]
    },
    {
     "name": "stderr",
     "output_type": "stream",
     "text": [
      "/home/hratch/miniconda3/envs/ccc_protocols/lib/python3.10/site-packages/anndata/compat/_overloaded_dict.py:106: ImplicitModificationWarning: Trying to modify attribute `._uns` of view, initializing view as actual.\n"
     ]
    }
   ],
   "source": [
    "# make rank_aggregate function that only runs on methods of choice and only for Magnitude\n",
    "rank_aggregate_partial = AggregateClass(_rank_aggregate_meta, methods=[cellphonedb, natmi, singlecellsignalr])\n",
    "rank_aggregate_partial(adata = sadata, \n",
    "                       groupby='celltype', \n",
    "                       use_raw = False, # run on log- and library-normalized counts\n",
    "                       verbose = True, \n",
    "                       inplace = True\n",
    "                      )"
   ]
  },
  {
   "cell_type": "code",
   "execution_count": 8,
   "id": "07975809",
   "metadata": {},
   "outputs": [
    {
     "data": {
      "text/html": [
       "<div>\n",
       "<style scoped>\n",
       "    .dataframe tbody tr th:only-of-type {\n",
       "        vertical-align: middle;\n",
       "    }\n",
       "\n",
       "    .dataframe tbody tr th {\n",
       "        vertical-align: top;\n",
       "    }\n",
       "\n",
       "    .dataframe thead th {\n",
       "        text-align: right;\n",
       "    }\n",
       "</style>\n",
       "<table border=\"1\" class=\"dataframe\">\n",
       "  <thead>\n",
       "    <tr style=\"text-align: right;\">\n",
       "      <th></th>\n",
       "      <th>source</th>\n",
       "      <th>target</th>\n",
       "      <th>ligand_complex</th>\n",
       "      <th>receptor_complex</th>\n",
       "      <th>magnitude_rank</th>\n",
       "    </tr>\n",
       "  </thead>\n",
       "  <tbody>\n",
       "    <tr>\n",
       "      <th>67</th>\n",
       "      <td>B</td>\n",
       "      <td>B</td>\n",
       "      <td>ACTR2</td>\n",
       "      <td>ADRB2</td>\n",
       "      <td>0.405892</td>\n",
       "    </tr>\n",
       "    <tr>\n",
       "      <th>17</th>\n",
       "      <td>B</td>\n",
       "      <td>B</td>\n",
       "      <td>ADAM17</td>\n",
       "      <td>ITGB1</td>\n",
       "      <td>0.081878</td>\n",
       "    </tr>\n",
       "    <tr>\n",
       "      <th>54</th>\n",
       "      <td>B</td>\n",
       "      <td>B</td>\n",
       "      <td>ADAM17</td>\n",
       "      <td>RHBDF2</td>\n",
       "      <td>0.334024</td>\n",
       "    </tr>\n",
       "    <tr>\n",
       "      <th>23</th>\n",
       "      <td>B</td>\n",
       "      <td>B</td>\n",
       "      <td>ADAM28</td>\n",
       "      <td>ITGA4</td>\n",
       "      <td>0.403503</td>\n",
       "    </tr>\n",
       "    <tr>\n",
       "      <th>8</th>\n",
       "      <td>B</td>\n",
       "      <td>B</td>\n",
       "      <td>APOC2</td>\n",
       "      <td>LRP1</td>\n",
       "      <td>1.000000</td>\n",
       "    </tr>\n",
       "  </tbody>\n",
       "</table>\n",
       "</div>"
      ],
      "text/plain": [
       "   source target ligand_complex receptor_complex  magnitude_rank\n",
       "67      B      B          ACTR2            ADRB2        0.405892\n",
       "17      B      B         ADAM17            ITGB1        0.081878\n",
       "54      B      B         ADAM17           RHBDF2        0.334024\n",
       "23      B      B         ADAM28            ITGA4        0.403503\n",
       "8       B      B          APOC2             LRP1        1.000000"
      ]
     },
     "execution_count": 8,
     "metadata": {},
     "output_type": "execute_result"
    }
   ],
   "source": [
    "rel_cols = ['source', 'target', 'ligand_complex', 'receptor_complex', 'magnitude_rank']\n",
    "liana_aggregate_partial = sadata.uns['liana_res'].loc[:,rel_cols]\n",
    "liana_aggregate_partial.sort_values(by = ['source', 'target', 'ligand_complex', 'receptor_complex'], inplace = True)\n",
    "liana_aggregate_partial.to_csv(os.path.join(output_folder, 'magnitude_ranks_python.csv'))\n",
    "liana_aggregate_partial.head()"
   ]
  },
  {
   "cell_type": "markdown",
   "id": "6c41528f",
   "metadata": {},
   "source": [
    "Note, to run the correlation, make sure to have run the [companion Python tutorial](../ccc_R/S3_Score_Consistency.ipynb) up to the point where you save the csv named \"magnitude_ranks_R.csv\". "
   ]
  },
  {
   "cell_type": "code",
   "execution_count": 9,
   "id": "8ec472a2",
   "metadata": {},
   "outputs": [
    {
     "name": "stdout",
     "output_type": "stream",
     "text": [
      "The spearman correlation bewteen R and python aggregate magnitude scores is: 0.98\n"
     ]
    }
   ],
   "source": [
    "# read and format R aggregate rank\n",
    "lap_R = pd.read_csv(os.path.join(output_folder, 'magnitude_ranks_R.csv'), index_col = 0)\n",
    "lap_R.columns = ['source', 'target', 'ligand_complex', 'receptor_complex', 'aggregate_rank']\n",
    "\n",
    "# merge the two scores\n",
    "la = pd.merge(liana_aggregate_partial, lap_R, on = ['source', 'target', 'ligand_complex', 'receptor_complex'], \n",
    "                                                how = 'inner')\n",
    "sr = scipy.stats.spearmanr(la.magnitude_rank, la.aggregate_rank).statistic\n",
    "print('The spearman correlation bewteen R and python aggregate magnitude scores is: {:.2f}'.format(sr))"
   ]
  },
  {
   "cell_type": "markdown",
   "id": "b1a18e6a",
   "metadata": {},
   "source": [
    "## Decomposition Consistency between Score Types\n",
    "\n",
    "We can also check how consistent each score type is after running the full Tensor-cell2cell pipeline. The [CorrIndex](https://doi.org/10.1016/j.sigpro.2022.108457) provides a dissimilarity metric that can compare decompositions of the same rank. "
   ]
  },
  {
   "cell_type": "code",
   "execution_count": 4,
   "id": "7ff9779d",
   "metadata": {},
   "outputs": [],
   "source": [
    "from collections import defaultdict\n",
    "from tqdm import tqdm\n",
    "import itertools\n",
    "\n",
    "import matplotlib\n",
    "import numpy as np\n",
    "import torch\n",
    "\n",
    "import liana as li\n",
    "from cell2cell.tensor.metrics import correlation_index"
   ]
  },
  {
   "cell_type": "code",
   "execution_count": 5,
   "id": "371effc8",
   "metadata": {},
   "outputs": [],
   "source": [
    "if torch.cuda.is_available():\n",
    "    import tensorly as tl\n",
    "    tl.set_backend('pytorch')\n",
    "    device = 'cuda:0'\n",
    "else:\n",
    "    device = 'cpu'"
   ]
  },
  {
   "cell_type": "code",
   "execution_count": 6,
   "id": "3a63b36d",
   "metadata": {},
   "outputs": [
    {
     "name": "stdout",
     "output_type": "stream",
     "text": [
      "../../data/tc2c-outputs/ already exists.\n"
     ]
    }
   ],
   "source": [
    "data_folder = '../../data/liana-outputs/'\n",
    "output_folder = '../../data/tc2c-outputs/'\n",
    "c2c.io.directories.create_directory(output_folder)"
   ]
  },
  {
   "cell_type": "markdown",
   "id": "7bf0048d",
   "metadata": {},
   "source": [
    "First, let's load the LIANA scores for each sample and score type:"
   ]
  },
  {
   "cell_type": "code",
   "execution_count": 7,
   "id": "a9e420d2",
   "metadata": {},
   "outputs": [],
   "source": [
    "liana_res = pd.read_csv(data_folder + 'LIANA_by_sample.csv')\n",
    "sorted_samples = sorted(liana_res['sample_new'].unique())"
   ]
  },
  {
   "cell_type": "markdown",
   "id": "ec974229",
   "metadata": {},
   "source": [
    "Next, we can generate and decompose the tensor as in [Tutorial 03](./03-Generate-Tensor.ipynb) and [Tutorial 04](./04-Perform-Tensor-Factorization) respectively, but for each magnitude rank score separately. We will use the rank identified by the consensus magnitude score in Tutorial 04. "
   ]
  },
  {
   "cell_type": "code",
   "execution_count": 8,
   "id": "0eb5e6f4",
   "metadata": {},
   "outputs": [],
   "source": [
    "tf_optimization_dict = {'regular': {'runs': 1, \n",
    "                                         'tol': 10e-7, \n",
    "                                           'n_iter_max': 100}, \n",
    "                            'robust': {'runs': 100, \n",
    "                                         'tol': 10e-8, \n",
    "                                           'n_iter_max': 500}}\n",
    "\n",
    "def run_tensor_pipeline(liana_res, score_type, rank, \n",
    "                       tf_optimization = 'robust'):\n",
    "    # build tensor\n",
    "    tensor = li.multi.to_tensor_c2c(liana_res=liana_res, # LIANA's dataframe containing results\n",
    "                                    sample_key='sample_new', # Column name of the samples\n",
    "                                    source_key='source', # Column name of the sender cells\n",
    "                                    target_key='target', # Column name of the receiver cells\n",
    "                                    ligand_key='ligand_complex', # Column name of the ligands\n",
    "                                    receptor_key='receptor_complex', # Column name of the receptors\n",
    "                                    score_key=score_type, # Column name of the communication scores to use\n",
    "                                    non_negative = True, # set negative values to 0\n",
    "                                    inverse_fun=lambda x: x, # Transformation function -- don't invert because it's not a rank score\n",
    "                                    non_expressed_fill=None, # Value to replace missing values with \n",
    "                                    how='outer', # What to include across all samples\n",
    "                                    lr_fill=np.nan, # What to fill missing LRs with \n",
    "                                    cell_fill = np.nan, # What to fill missing cell types with \n",
    "                                    outer_fraction=1/3., # Fraction of samples as threshold to include cells and LR pairs.\n",
    "                                    lr_sep='^', # How to separate ligand and receptor names to name LR pair\n",
    "                                    context_order=sorted_samples, # Order to store the contexts in the tensor\n",
    "                                    sort_elements=True # Whether sorting alphabetically element names of each tensor dim. Does not apply for context order if context_order is passed.\n",
    "                                   )\n",
    "    # get metadata\n",
    "    element_dict = defaultdict(lambda: 'Unknown')\n",
    "    context_dict = element_dict.copy()\n",
    "    context_dict.update({'HC1' : 'Control',\n",
    "                         'HC2' : 'Control',\n",
    "                         'HC3' : 'Control',\n",
    "                         'M1' : 'Moderate COVID-19',\n",
    "                         'M2' : 'Moderate COVID-19',\n",
    "                         'M3' : 'Moderate COVID-19',\n",
    "                         'S1' : 'Severe COVID-19',\n",
    "                         'S2' : 'Severe COVID-19',\n",
    "                         'S3' : 'Severe COVID-19',\n",
    "                         'S4' : 'Severe COVID-19',\n",
    "                         'S5' : 'Severe COVID-19',\n",
    "                         'S6' : 'Severe COVID-19',\n",
    "                        })\n",
    "    dimensions_dict = [context_dict, None, None, None]\n",
    "    meta_tensor = c2c.tensor.generate_tensor_metadata(interaction_tensor=tensor,\n",
    "                                              metadata_dicts=[context_dict, None, None, None],\n",
    "                                              fill_with_order_elements=True\n",
    "                                             )\n",
    "    \n",
    "    # decompose tensor\n",
    "    tensor.to_device(device)\n",
    "    tensor.compute_tensor_factorization(rank=rank,\n",
    "                                        init='random', # Initialization method of the tensor factorization\n",
    "                                        svd='numpy_svd', # Type of SVD to use if the initialization is 'svd'\n",
    "                                        random_state=0, # Random seed for reproducibility\n",
    "                                        normalize_loadings=True,\n",
    "                                        runs=tf_optimization_dict[tf_optimization]['runs'],\n",
    "                                        tol=tf_optimization_dict[tf_optimization]['tol'],\n",
    "                                        n_iter_max=tf_optimization_dict[tf_optimization]['n_iter_max']\n",
    "                                       )\n",
    "    return tensor"
   ]
  },
  {
   "cell_type": "code",
   "execution_count": 9,
   "id": "97092145",
   "metadata": {},
   "outputs": [
    {
     "name": "stderr",
     "output_type": "stream",
     "text": [
      "/home/hratch/miniconda3/envs/ccc_protocols/lib/python3.11/site-packages/tensorly/backend/pytorch_backend.py:39: UserWarning: To copy construct from a tensor, it is recommended to use sourceTensor.clone().detach() or sourceTensor.clone().detach().requires_grad_(True), rather than torch.tensor(sourceTensor).\n"
     ]
    }
   ],
   "source": [
    "tensor_magnitude = c2c.io.read_data.load_tensor(os.path.join(output_folder, 'BALF-Tensor_decomposed.pkl'))\n",
    "magnitude_scores = ['lr_means', 'expr_prod', 'lrscore', 'lr_probs']"
   ]
  },
  {
   "cell_type": "code",
   "execution_count": null,
   "id": "eb26162a",
   "metadata": {
    "scrolled": true
   },
   "outputs": [
    {
     "name": "stderr",
     "output_type": "stream",
     "text": [
      "100%|█████████████████████████████████████████████████████████████████████████████████████████████████████████████████████████████████| 12/12 [00:18<00:00,  1.54s/it]\n",
      "/home/hratch/miniconda3/envs/ccc_protocols/lib/python3.11/site-packages/tensorly/backend/pytorch_backend.py:39: UserWarning: To copy construct from a tensor, it is recommended to use sourceTensor.clone().detach() or sourceTensor.clone().detach().requires_grad_(True), rather than torch.tensor(sourceTensor).\n",
      "  7%|█████████                                                                                                                        | 7/100 [00:25<05:38,  3.64s/it]"
     ]
    }
   ],
   "source": [
    "tensors_individual = {}\n",
    "# calculate on each magnitude score type separately\n",
    "for score_type in magnitude_scores:\n",
    "    ti = run_tensor_pipeline(liana_res = liana_res,\n",
    "                             score_type = score_type,\n",
    "                             rank = tensor_magnitude.rank, \n",
    "                             tf_optimization = 'robust')\n",
    "    ti.to_device('cpu') # ensures can be pickled properly\n",
    "    tensors_individual[score_type] = ti\n",
    "c2c.io.export_variable_with_pickle(tensors_individual, output_folder + '/BALF-Tensor_individualscores.pkl')\n",
    "\n",
    "# tensors_individual = c2c.io.read_data.load_variable_with_pickle(output_folder + '/BALF-Tensor_individualscores.pkl')"
   ]
  },
  {
   "cell_type": "markdown",
   "id": "56ce9375",
   "metadata": {},
   "source": [
    "Next, we can calculate the similarity between each score type's deomposition output based on the CorrIndex metric. For more information on the CorrIndex, as well as similar analyses on decomposition consistency, see Figure 3A of this [paper](https://doi.org/10.1038/s41467-022-31369-2):"
   ]
  },
  {
   "cell_type": "code",
   "execution_count": null,
   "id": "757afb83",
   "metadata": {},
   "outputs": [],
   "source": [
    "corrindex_res = pd.DataFrame(columns = ['score_type_1', 'score_type_2', 'Similarity'])\n",
    "\n",
    "# calculate corrindex pairwise between score types\n",
    "for idx, score_type_comparison in enumerate(itertools.permutations(tensors_individual, 2)):\n",
    "    tensor_1 = tensors_individual[score_type_comparison[0]]\n",
    "    tensor_2 = tensors_individual[score_type_comparison[1]]\n",
    "    corrindex = correlation_index(tensor_1.factors, tensor_2.factors)\n",
    "    similarity = 1 - corrindex\n",
    "    \n",
    "    corrindex_res.loc[idx, :] = list(score_type_comparison) + [similarity]\n",
    "\n",
    "# formatting\n",
    "corrindex_res = corrindex_res.pivot(index='score_type_1', columns='score_type_2', values = 'Similarity')\n",
    "corrindex_res.columns = corrindex_res.columns.tolist()\n",
    "corrindex_res.index = corrindex_res.index.tolist()\n",
    "np.fill_diagonal(corrindex_res.values, 1)\n",
    "for col_name in corrindex_res.columns:\n",
    "    corrindex_res[col_name] = corrindex_res[col_name].astype(float)"
   ]
  },
  {
   "cell_type": "code",
   "execution_count": null,
   "id": "12af791e",
   "metadata": {},
   "outputs": [],
   "source": [
    "cm = c2c.plotting.clustermap_cci(corrindex_res,\n",
    "                                 method='ward',\n",
    "                                 optimal_leaf=True,\n",
    "                                 metadata=None,\n",
    "                                 title='',\n",
    "                                 cbar_title='Similarity', \n",
    "                                 cmap='Blues_r',\n",
    "#                                  vmax=1.,\n",
    "#                                  vmin=0.,\n",
    "                                 annot=False, \n",
    "                                 dendrogram_ratio=0.15,\n",
    "                                figsize=(4,5))\n",
    "\n",
    "font = matplotlib.font_manager.FontProperties(weight='bold', size=7)\n",
    "for ax in [cm.ax_heatmap, cm.ax_cbar]:\n",
    "    for tick in ax.get_xticklabels():\n",
    "        tick.set_fontproperties(font)\n",
    "    for tick in ax.get_yticklabels():\n",
    "        tick.set_fontproperties(font)\n",
    "\n",
    "    text = ax.yaxis.label\n",
    "    text.set_font_properties(font)"
   ]
  },
  {
   "cell_type": "markdown",
   "id": "c71f40dc",
   "metadata": {},
   "source": [
    "Given the high overall similarity between score types, we see that Tensor-cell2cell's decomposition tends to capture consistent patterns across samples, smoothing over some of the inconsistencies in communication scores that we saw at the individual sample level in [Tutorial 02](./02-Infer-Communication-Scores.ipynb) "
   ]
  }
 ],
 "metadata": {
  "kernelspec": {
   "display_name": "Python [conda env:ccc_protocols]",
   "language": "python",
   "name": "conda-env-ccc_protocols-py"
  },
  "language_info": {
   "codemirror_mode": {
    "name": "ipython",
    "version": 3
   },
   "file_extension": ".py",
   "mimetype": "text/x-python",
   "name": "python",
   "nbconvert_exporter": "python",
   "pygments_lexer": "ipython3",
   "version": "3.11.6"
  },
  "vscode": {
   "interpreter": {
    "hash": "a89d9df9e41c144bbb86b791904f32fb0efeb7b488a88d676a8bce57017c9696"
   }
  }
 },
 "nbformat": 4,
 "nbformat_minor": 5
}
