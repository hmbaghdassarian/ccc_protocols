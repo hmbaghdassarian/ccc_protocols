{
 "cells": [
  {
   "attachments": {},
   "cell_type": "markdown",
   "id": "9c945170",
   "metadata": {},
   "source": [
    "# S3. Score Consistency\n",
    "\n",
    "Here, we briefly demonstrate the similarities and discrepancies between LIANA's output in python and R. "
   ]
  },
  {
   "cell_type": "code",
   "execution_count": 1,
   "id": "c122940a",
   "metadata": {},
   "outputs": [
    {
     "name": "stdout",
     "output_type": "stream",
     "text": [
      "../../data/liana-outputs/ already exists.\n"
     ]
    }
   ],
   "source": [
    "import os\n",
    "\n",
    "import pandas as pd\n",
    "import scipy\n",
    "\n",
    "import scanpy as sc\n",
    "\n",
    "import cell2cell as c2c\n",
    "from liana.method.sc._rank_aggregate import AggregateClass, _rank_aggregate_meta\n",
    "from liana.method.sc import cellphonedb, natmi, singlecellsignalr\n",
    "\n",
    "data_path = '../../data/'\n",
    "output_folder = os.path.join(data_path, 'liana-outputs/')\n",
    "c2c.io.directories.create_directory(output_folder)"
   ]
  },
  {
   "attachments": {},
   "cell_type": "markdown",
   "id": "517e0ca9",
   "metadata": {},
   "source": [
    "## Comparison with R output:\n",
    "\n",
    "There are minor differences with the LIANA implementation in R that lead to outputs not being identical\n",
    "\n",
    "- SingleCellSignalR Magnitude (lrscore): precision - slightly different after 3rd decimal place\n",
    "- LogFC Specificity (lr_logfc): similar relative differences but different exact values\n",
    "- CellPhoneDB Specificity (cellphone_pvals): similar relative differences but different exact values\n",
    "- CellChat: not run by default in R\n",
    "\n",
    "Let's check the consistency in the magnitude aggregate rank score when running the different methods that report magnitude (excluding CellChat, which is not present by default in R). "
   ]
  },
  {
   "cell_type": "code",
   "execution_count": 6,
   "id": "e7d48386",
   "metadata": {},
   "outputs": [],
   "source": [
    "adata = sc.read_h5ad(os.path.join(data_path, 'processed.h5ad'))\n",
    "sadata = adata[adata.obs['sample']=='C100']"
   ]
  },
  {
   "cell_type": "code",
   "execution_count": 7,
   "id": "0d512811",
   "metadata": {},
   "outputs": [
    {
     "name": "stdout",
     "output_type": "stream",
     "text": [
      "Using `.X`!\n",
      "5580 features of mat are empty, they will be removed.\n",
      "The following cell identities were excluded: Plasma\n"
     ]
    },
    {
     "name": "stderr",
     "output_type": "stream",
     "text": [
      "/home/hratch/miniconda3/envs/ccc_protocols/lib/python3.10/site-packages/pandas/core/indexing.py:1728: ImplicitModificationWarning: Trying to modify attribute `.obs` of view, initializing view as actual.\n"
     ]
    },
    {
     "name": "stdout",
     "output_type": "stream",
     "text": [
      "0.33 of entities in the resource are missing from the data.\n",
      "Generating ligand-receptor stats for 2548 samples and 19218 features\n",
      "Running CellPhoneDB\n"
     ]
    },
    {
     "name": "stderr",
     "output_type": "stream",
     "text": [
      "100%|███████████████████████████████████████| 1000/1000 [00:21<00:00, 46.61it/s]\n"
     ]
    },
    {
     "name": "stdout",
     "output_type": "stream",
     "text": [
      "Running NATMI\n",
      "Running SingleCellSignalR\n"
     ]
    },
    {
     "name": "stderr",
     "output_type": "stream",
     "text": [
      "/home/hratch/miniconda3/envs/ccc_protocols/lib/python3.10/site-packages/anndata/compat/_overloaded_dict.py:106: ImplicitModificationWarning: Trying to modify attribute `._uns` of view, initializing view as actual.\n"
     ]
    }
   ],
   "source": [
    "# make rank_aggregate function that only runs on methods of choice and only for Magnitude\n",
    "rank_aggregate_partial = AggregateClass(_rank_aggregate_meta, methods=[cellphonedb, natmi, singlecellsignalr])\n",
    "rank_aggregate_partial(adata = sadata, \n",
    "                       groupby='celltype', \n",
    "                       use_raw = False, # run on log- and library-normalized counts\n",
    "                       verbose = True, \n",
    "                       inplace = True\n",
    "                      )"
   ]
  },
  {
   "cell_type": "code",
   "execution_count": 8,
   "id": "07975809",
   "metadata": {},
   "outputs": [
    {
     "data": {
      "text/html": [
       "<div>\n",
       "<style scoped>\n",
       "    .dataframe tbody tr th:only-of-type {\n",
       "        vertical-align: middle;\n",
       "    }\n",
       "\n",
       "    .dataframe tbody tr th {\n",
       "        vertical-align: top;\n",
       "    }\n",
       "\n",
       "    .dataframe thead th {\n",
       "        text-align: right;\n",
       "    }\n",
       "</style>\n",
       "<table border=\"1\" class=\"dataframe\">\n",
       "  <thead>\n",
       "    <tr style=\"text-align: right;\">\n",
       "      <th></th>\n",
       "      <th>source</th>\n",
       "      <th>target</th>\n",
       "      <th>ligand_complex</th>\n",
       "      <th>receptor_complex</th>\n",
       "      <th>magnitude_rank</th>\n",
       "    </tr>\n",
       "  </thead>\n",
       "  <tbody>\n",
       "    <tr>\n",
       "      <th>67</th>\n",
       "      <td>B</td>\n",
       "      <td>B</td>\n",
       "      <td>ACTR2</td>\n",
       "      <td>ADRB2</td>\n",
       "      <td>0.405892</td>\n",
       "    </tr>\n",
       "    <tr>\n",
       "      <th>17</th>\n",
       "      <td>B</td>\n",
       "      <td>B</td>\n",
       "      <td>ADAM17</td>\n",
       "      <td>ITGB1</td>\n",
       "      <td>0.081878</td>\n",
       "    </tr>\n",
       "    <tr>\n",
       "      <th>54</th>\n",
       "      <td>B</td>\n",
       "      <td>B</td>\n",
       "      <td>ADAM17</td>\n",
       "      <td>RHBDF2</td>\n",
       "      <td>0.334024</td>\n",
       "    </tr>\n",
       "    <tr>\n",
       "      <th>23</th>\n",
       "      <td>B</td>\n",
       "      <td>B</td>\n",
       "      <td>ADAM28</td>\n",
       "      <td>ITGA4</td>\n",
       "      <td>0.403503</td>\n",
       "    </tr>\n",
       "    <tr>\n",
       "      <th>8</th>\n",
       "      <td>B</td>\n",
       "      <td>B</td>\n",
       "      <td>APOC2</td>\n",
       "      <td>LRP1</td>\n",
       "      <td>1.000000</td>\n",
       "    </tr>\n",
       "  </tbody>\n",
       "</table>\n",
       "</div>"
      ],
      "text/plain": [
       "   source target ligand_complex receptor_complex  magnitude_rank\n",
       "67      B      B          ACTR2            ADRB2        0.405892\n",
       "17      B      B         ADAM17            ITGB1        0.081878\n",
       "54      B      B         ADAM17           RHBDF2        0.334024\n",
       "23      B      B         ADAM28            ITGA4        0.403503\n",
       "8       B      B          APOC2             LRP1        1.000000"
      ]
     },
     "execution_count": 8,
     "metadata": {},
     "output_type": "execute_result"
    }
   ],
   "source": [
    "rel_cols = ['source', 'target', 'ligand_complex', 'receptor_complex', 'magnitude_rank']\n",
    "liana_aggregate_partial = sadata.uns['liana_res'].loc[:,rel_cols]\n",
    "liana_aggregate_partial.sort_values(by = ['source', 'target', 'ligand_complex', 'receptor_complex'], inplace = True)\n",
    "liana_aggregate_partial.to_csv(os.path.join(output_folder, 'magnitude_ranks_python.csv'))\n",
    "liana_aggregate_partial.head()"
   ]
  },
  {
   "attachments": {},
   "cell_type": "markdown",
   "id": "6c41528f",
   "metadata": {},
   "source": [
    "Note, to run the correlation, make sure to have run the [companion Python tutorial](../ccc_R/S3_Score_Consistency.ipynb) up to the point where you save the csv named \"magnitude_ranks_R.csv\". "
   ]
  },
  {
   "cell_type": "code",
   "execution_count": 9,
   "id": "8ec472a2",
   "metadata": {},
   "outputs": [
    {
     "name": "stdout",
     "output_type": "stream",
     "text": [
      "The spearman correlation bewteen R and python aggregate magnitude scores is: 0.98\n"
     ]
    }
   ],
   "source": [
    "# read and format R aggregate rank\n",
    "lap_R = pd.read_csv(os.path.join(output_folder, 'magnitude_ranks_R.csv'), index_col = 0)\n",
    "lap_R.columns = ['source', 'target', 'ligand_complex', 'receptor_complex', 'aggregate_rank']\n",
    "\n",
    "# merge the two scores\n",
    "la = pd.merge(liana_aggregate_partial, lap_R, on = ['source', 'target', 'ligand_complex', 'receptor_complex'], \n",
    "                                                how = 'inner')\n",
    "sr = scipy.stats.spearmanr(la.magnitude_rank, la.aggregate_rank).statistic\n",
    "print('The spearman correlation bewteen R and python aggregate magnitude scores is: {:.2f}'.format(sr))"
   ]
  },
  {
   "attachments": {},
   "cell_type": "markdown",
   "id": "a9c246be",
   "metadata": {},
   "source": [
    "## Sensitivity of Consensus to Scoring Methods\n",
    "\n",
    "We can check the extent to which the consensus score is influenced by individual scoring method types. To do so, we can re-run the scoring pipeline on one sample (sample C100) as in [Tutorial 02](./02-Infer-Communication-Scores.ipynb), but see how the consensus score changes as we exclude each of one scoring method type. "
   ]
  },
  {
   "cell_type": "code",
   "execution_count": 2,
   "id": "a908323a",
   "metadata": {},
   "outputs": [],
   "source": [
    "from functools import reduce\n",
    "\n",
    "import matplotlib\n",
    "\n",
    "import liana\n",
    "from liana.method import cellphonedb, connectome, logfc, natmi, singlecellsignalr, cellchat\n",
    "from liana.method.sc._rank_aggregate import AggregateClass, _rank_aggregate_meta as aggregate_meta"
   ]
  },
  {
   "attachments": {},
   "cell_type": "markdown",
   "id": "613395cf",
   "metadata": {},
   "source": [
    "First, let's load the sample data from Tutorial 02:"
   ]
  },
  {
   "cell_type": "code",
   "execution_count": 3,
   "id": "729346c9",
   "metadata": {},
   "outputs": [],
   "source": [
    "adata = sc.read_h5ad(os.path.join(data_path, 'processed.h5ad'))\n",
    "sample_name = 'C100'\n",
    "sadata = adata[adata.obs['sample']==sample_name]"
   ]
  },
  {
   "attachments": {},
   "cell_type": "markdown",
   "id": "d03294a9",
   "metadata": {},
   "source": [
    "Now, we can run the rank_aggregate function as in Tutorial 02. However, in this case, we must first specify the subset of methods we want to calculate a consensus score on."
   ]
  },
  {
   "cell_type": "code",
   "execution_count": 4,
   "id": "d7b492ad",
   "metadata": {},
   "outputs": [],
   "source": [
    "method_names = ['cellphonedb', 'connectome', 'logfc', 'natmi', 'singlecellsignalr', 'cellchat']\n",
    "all_methods = [cellphonedb, connectome, logfc, natmi, singlecellsignalr, cellchat]\n",
    "all_methods = dict(zip(method_names, all_methods))"
   ]
  },
  {
   "cell_type": "code",
   "execution_count": 8,
   "id": "7d336912",
   "metadata": {},
   "outputs": [],
   "source": [
    "def calculate_consensus(method_subset, n_perms = 1000):\n",
    "    # re-generate the rank aggregate instance for only a subset of methods\n",
    "    rank_aggregate_subset = AggregateClass(aggregate_meta, methods=method_subset)\n",
    "    \n",
    "    # get the consensus score as in tutorial 02\n",
    "    liana_res = rank_aggregate_subset(sadata.copy(),\n",
    "                                               groupby='celltype',\n",
    "                                               resource_name = 'consensus',\n",
    "                                               expr_prop=0.1, # must be expressed in expr_prop fraction of cells\n",
    "                                               min_cells = 5,\n",
    "                                               n_perms = n_perms,\n",
    "                                               use_raw = False, # run on log- and library-normalized counts\n",
    "                                               verbose = False,\n",
    "                                               inplace = False\n",
    "                              )\n",
    "\n",
    "    return liana_res"
   ]
  },
  {
   "cell_type": "code",
   "execution_count": 9,
   "id": "699ce47a",
   "metadata": {},
   "outputs": [
    {
     "name": "stderr",
     "output_type": "stream",
     "text": [
      "/home/hratch/miniconda3/envs/ccc_protocols/lib/python3.11/site-packages/anndata/_core/anndata.py:522: FutureWarning: The dtype argument is deprecated and will be removed in late 2024.\n",
      "/home/hratch/miniconda3/envs/ccc_protocols/lib/python3.11/site-packages/pandas/core/indexing.py:1728: ImplicitModificationWarning: Trying to modify attribute `.obs` of view, initializing view as actual.\n",
      "/home/hratch/miniconda3/envs/ccc_protocols/lib/python3.11/site-packages/liana/method/sc/_liana_pipe.py:283: ImplicitModificationWarning: Setting element `.layers['scaled']` of view, initializing view as actual.\n",
      "/home/hratch/miniconda3/envs/ccc_protocols/lib/python3.11/site-packages/anndata/_core/anndata.py:522: FutureWarning: The dtype argument is deprecated and will be removed in late 2024.\n",
      "/home/hratch/miniconda3/envs/ccc_protocols/lib/python3.11/site-packages/pandas/core/indexing.py:1728: ImplicitModificationWarning: Trying to modify attribute `.obs` of view, initializing view as actual.\n",
      "/home/hratch/miniconda3/envs/ccc_protocols/lib/python3.11/site-packages/liana/method/sc/_liana_pipe.py:293: ImplicitModificationWarning: Setting element `.layers['normcounts']` of view, initializing view as actual.\n",
      "/home/hratch/miniconda3/envs/ccc_protocols/lib/python3.11/site-packages/anndata/_core/anndata.py:522: FutureWarning: The dtype argument is deprecated and will be removed in late 2024.\n",
      "/home/hratch/miniconda3/envs/ccc_protocols/lib/python3.11/site-packages/pandas/core/indexing.py:1728: ImplicitModificationWarning: Trying to modify attribute `.obs` of view, initializing view as actual.\n",
      "/home/hratch/miniconda3/envs/ccc_protocols/lib/python3.11/site-packages/liana/method/sc/_liana_pipe.py:283: ImplicitModificationWarning: Setting element `.layers['scaled']` of view, initializing view as actual.\n",
      "/home/hratch/miniconda3/envs/ccc_protocols/lib/python3.11/site-packages/anndata/_core/anndata.py:522: FutureWarning: The dtype argument is deprecated and will be removed in late 2024.\n",
      "/home/hratch/miniconda3/envs/ccc_protocols/lib/python3.11/site-packages/pandas/core/indexing.py:1728: ImplicitModificationWarning: Trying to modify attribute `.obs` of view, initializing view as actual.\n",
      "/home/hratch/miniconda3/envs/ccc_protocols/lib/python3.11/site-packages/liana/method/sc/_liana_pipe.py:283: ImplicitModificationWarning: Setting element `.layers['scaled']` of view, initializing view as actual.\n",
      "/home/hratch/miniconda3/envs/ccc_protocols/lib/python3.11/site-packages/anndata/_core/anndata.py:522: FutureWarning: The dtype argument is deprecated and will be removed in late 2024.\n",
      "/home/hratch/miniconda3/envs/ccc_protocols/lib/python3.11/site-packages/pandas/core/indexing.py:1728: ImplicitModificationWarning: Trying to modify attribute `.obs` of view, initializing view as actual.\n",
      "/home/hratch/miniconda3/envs/ccc_protocols/lib/python3.11/site-packages/liana/method/sc/_liana_pipe.py:283: ImplicitModificationWarning: Setting element `.layers['scaled']` of view, initializing view as actual.\n",
      "/home/hratch/miniconda3/envs/ccc_protocols/lib/python3.11/site-packages/anndata/_core/anndata.py:522: FutureWarning: The dtype argument is deprecated and will be removed in late 2024.\n",
      "/home/hratch/miniconda3/envs/ccc_protocols/lib/python3.11/site-packages/pandas/core/indexing.py:1728: ImplicitModificationWarning: Trying to modify attribute `.obs` of view, initializing view as actual.\n",
      "/home/hratch/miniconda3/envs/ccc_protocols/lib/python3.11/site-packages/liana/method/sc/_liana_pipe.py:283: ImplicitModificationWarning: Setting element `.layers['scaled']` of view, initializing view as actual.\n"
     ]
    },
    {
     "name": "stdout",
     "output_type": "stream",
     "text": [
      "../../data/liana-outputs//LOO_consensus_scores.pkl  was correctly saved.\n"
     ]
    }
   ],
   "source": [
    "subset_res = dict()\n",
    "for method_name in method_names: \n",
    "    #leave one method out\n",
    "    method_subset = [method_v for method_k, method_v in all_methods.items() if method_k != method_name]\n",
    "    \n",
    "    liana_res = calculate_consensus(method_subset)\n",
    "    liana_res.rename(columns = {'specificity_rank': '_'.join([method_name, 'specificity']), \n",
    "                               'magnitude_rank': '_'.join([method_name, 'magnitude'])}, inplace = True)\n",
    "    subset_res[method_name] = liana_res\n",
    "    \n",
    "c2c.io.export_variable_with_pickle(subset_res, output_folder + '/LOO_consensus_scores.pkl')\n",
    "\n",
    "# subset_res = c2c.io.read_data.load_variable_with_pickle(output_folder + '/LOO_consensus_scores.pkl')"
   ]
  },
  {
   "attachments": {},
   "cell_type": "markdown",
   "id": "c924efc3",
   "metadata": {},
   "source": [
    "Next, let's incorporate the scores from running all methods together. This was done in Tutorial 02, and we can load the results here:"
   ]
  },
  {
   "cell_type": "code",
   "execution_count": 10,
   "id": "e39becf0",
   "metadata": {},
   "outputs": [],
   "source": [
    "sample_name = 'C100'\n",
    "liana_res = pd.read_csv(os.path.join(output_folder, sample_name + '_aggregate_scores.csv'), index_col = 0)\n",
    "liana_res.rename(columns = {'specificity_rank': 'all_specificity', \n",
    "                           'magnitude_rank': 'all_magnitude'}, inplace = True)\n",
    "subset_res['all'] = liana_res"
   ]
  },
  {
   "attachments": {},
   "cell_type": "markdown",
   "id": "96410858",
   "metadata": {},
   "source": [
    "Let's merge and format these scores:"
   ]
  },
  {
   "cell_type": "code",
   "execution_count": 11,
   "id": "7cad0a49",
   "metadata": {},
   "outputs": [
    {
     "name": "stderr",
     "output_type": "stream",
     "text": [
      "/tmp/ipykernel_280589/374389848.py:3: FutureWarning: Passing 'suffixes' which cause duplicate columns {'expr_prod_x', 'cellchat_pvals_x', 'lrscore_x', 'lr_probs_x'} in the result is deprecated and will raise a MergeError in a future version.\n",
      "/tmp/ipykernel_280589/374389848.py:3: FutureWarning: Passing 'suffixes' which cause duplicate columns {'scaled_weight_x', 'lr_logfc_x', 'lr_means_x', 'cellphone_pvals_x', 'spec_weight_x'} in the result is deprecated and will raise a MergeError in a future version.\n",
      "/tmp/ipykernel_280589/374389848.py:3: FutureWarning: Passing 'suffixes' which cause duplicate columns {'expr_prod_x'} in the result is deprecated and will raise a MergeError in a future version.\n",
      "/tmp/ipykernel_280589/374389848.py:3: FutureWarning: Passing 'suffixes' which cause duplicate columns {'cellchat_pvals_x', 'scaled_weight_x', 'lr_logfc_x', 'lr_means_x', 'lr_probs_x', 'cellphone_pvals_x', 'spec_weight_x', 'lrscore_x'} in the result is deprecated and will raise a MergeError in a future version.\n"
     ]
    }
   ],
   "source": [
    "# merge scores across each iteration\n",
    "merge_cols = ['source', 'target', 'ligand_complex', 'receptor_complex']\n",
    "subset_res_df = reduce(lambda x, y: pd.merge(x, y, how = 'inner', \n",
    "                                             on = merge_cols), \n",
    "                       list(subset_res.values()))\n",
    "\n",
    "# get specificify consensus scores\n",
    "specificity_df = subset_res_df[[col_name for col_name in subset_res_df.columns if col_name.endswith('_specificity')]]\n",
    "specificity_df.columns = [''.join(col_name.split('_specificity')[:-1]) for col_name in specificity_df.columns]"
   ]
  },
  {
   "attachments": {},
   "cell_type": "markdown",
   "id": "28161fc0",
   "metadata": {},
   "source": [
    "Remember that the Connectome and NATMI magnitude score are the same calculation. So, in this case, we should  be leaving both out. Let's re-run our scoring for this one exception:"
   ]
  },
  {
   "cell_type": "code",
   "execution_count": 12,
   "id": "2d9107e2",
   "metadata": {},
   "outputs": [
    {
     "name": "stderr",
     "output_type": "stream",
     "text": [
      "/home/hratch/miniconda3/envs/ccc_protocols/lib/python3.11/site-packages/anndata/_core/anndata.py:522: FutureWarning: The dtype argument is deprecated and will be removed in late 2024.\n",
      "/home/hratch/miniconda3/envs/ccc_protocols/lib/python3.11/site-packages/pandas/core/indexing.py:1728: ImplicitModificationWarning: Trying to modify attribute `.obs` of view, initializing view as actual.\n",
      "/home/hratch/miniconda3/envs/ccc_protocols/lib/python3.11/site-packages/liana/method/sc/_liana_pipe.py:293: ImplicitModificationWarning: Setting element `.layers['normcounts']` of view, initializing view as actual.\n"
     ]
    }
   ],
   "source": [
    "# re-run scoring to leave out both Connectome and NATMI\n",
    "method_subset = [method_v for method_k, method_v in all_methods.items() if method_k != 'connectome' and method_k != 'natmi']\n",
    "liana_res = calculate_consensus(method_subset, \n",
    "                                n_perms = 1 # speedup, permutations not necessary for magnitude calculations\n",
    "                               )\n",
    "\n",
    "# Format\n",
    "magnitude_df = subset_res_df[merge_cols + [col_name for col_name in subset_res_df.columns if col_name.endswith('_magnitude')]]\n",
    "liana_res.rename(columns = {'magnitude_rank': 'expr_prod_magnitude'}, inplace = True)\n",
    "magnitude_df = pd.merge(right = magnitude_df, left = liana_res, how = 'inner', on = merge_cols)\n",
    "magnitude_df = magnitude_df[[col_name for col_name in magnitude_df.columns if col_name.endswith('_magnitude')]]\n",
    "magnitude_df.columns = [''.join(col_name.split('_magnitude')[:-1]) for col_name in magnitude_df.columns]\n",
    "magnitude_df.drop(columns = ['natmi', 'connectome'], inplace = True)"
   ]
  },
  {
   "attachments": {},
   "cell_type": "markdown",
   "id": "a77aa338",
   "metadata": {},
   "source": [
    "Now that we have consensus scores leaving each of one scoring method out, we can assess the sensitivity of the conesnsus score to each scoring method type. Since these scores are ranks, we will use the Spearman correlation to assess the effect. "
   ]
  },
  {
   "cell_type": "code",
   "execution_count": 13,
   "id": "6b293bfb",
   "metadata": {},
   "outputs": [],
   "source": [
    "specificity_corr = specificity_df.corr(method = 'spearman')\n",
    "magnitude_corr = magnitude_df.corr(method = 'spearman')"
   ]
  },
  {
   "cell_type": "code",
   "execution_count": 14,
   "id": "fb4d1947",
   "metadata": {},
   "outputs": [
    {
     "name": "stdout",
     "output_type": "stream",
     "text": [
      "Interaction space detected as a distance matrix\n"
     ]
    },
    {
     "data": {
      "text/plain": [
       "''"
      ]
     },
     "execution_count": 14,
     "metadata": {},
     "output_type": "execute_result"
    },
    {
     "data": {
      "image/png": "[encoded data removed]",
      "text/plain": [
       "<Figure size 400x500 with 4 Axes>"
      ]
     },
     "metadata": {},
     "output_type": "display_data"
    }
   ],
   "source": [
    "cm = c2c.plotting.clustermap_cci(magnitude_corr,\n",
    "                                 method='ward',\n",
    "                                 optimal_leaf=True,\n",
    "                                 metadata=None,\n",
    "                                 title='',\n",
    "                                 cbar_title='Spearman', \n",
    "                                 cmap='Blues_r',\n",
    "                                 vmax=1.,\n",
    "#                                  vmin=0.,\n",
    "                                 annot=True, \n",
    "                                 dendrogram_ratio=0.15,\n",
    "                                figsize=(4,5))\n",
    "\n",
    "font = matplotlib.font_manager.FontProperties(weight='bold', size=7)\n",
    "for ax in [cm.ax_heatmap, cm.ax_cbar]:\n",
    "    for tick in ax.get_xticklabels():\n",
    "        tick.set_fontproperties(font)\n",
    "    for tick in ax.get_yticklabels():\n",
    "        tick.set_fontproperties(font)\n",
    "\n",
    "    text = ax.yaxis.label\n",
    "    text.set_font_properties(font)\n",
    "cm.ax_col_dendrogram.set_title('Magnitude Consensus')\n",
    ";"
   ]
  },
  {
   "attachments": {},
   "cell_type": "markdown",
   "id": "6a850ca0",
   "metadata": {},
   "source": [
    "We are particularly interested in differences with all scores (top row). We can see that, for the magnitude, CellChat has the largest effect on the consensus score. This is line with results from Tutorial 02 indicated that the CellChat score was the most dissimilar (see the `liana_corr`variable from that notebook). Let's see what this looks like for the specificity consensus scores as well:"
   ]
  },
  {
   "cell_type": "code",
   "execution_count": 15,
   "id": "41814537",
   "metadata": {},
   "outputs": [
    {
     "name": "stdout",
     "output_type": "stream",
     "text": [
      "Interaction space detected as a distance matrix\n"
     ]
    },
    {
     "data": {
      "text/plain": [
       "''"
      ]
     },
     "execution_count": 15,
     "metadata": {},
     "output_type": "execute_result"
    },
    {
     "data": {
      "image/png": "[encoded data removed]",
      "text/plain": [
       "<Figure size 400x500 with 4 Axes>"
      ]
     },
     "metadata": {},
     "output_type": "display_data"
    }
   ],
   "source": [
    "cm = c2c.plotting.clustermap_cci(specificity_corr,\n",
    "                                 method='ward',\n",
    "                                 optimal_leaf=True,\n",
    "                                 metadata=None,\n",
    "                                 title='',\n",
    "                                 cbar_title='Spearman', \n",
    "                                 cmap='Blues_r',\n",
    "                                 vmax=1.,\n",
    "#                                  vmin=0.,\n",
    "                                 annot=True, \n",
    "                                 dendrogram_ratio=0.15,\n",
    "                                figsize=(4,5))\n",
    "\n",
    "font = matplotlib.font_manager.FontProperties(weight='bold', size=7)\n",
    "for ax in [cm.ax_heatmap, cm.ax_cbar]:\n",
    "    for tick in ax.get_xticklabels():\n",
    "        tick.set_fontproperties(font)\n",
    "    for tick in ax.get_yticklabels():\n",
    "        tick.set_fontproperties(font)\n",
    "\n",
    "    text = ax.yaxis.label\n",
    "    text.set_font_properties(font)\n",
    "cm.ax_col_dendrogram.set_title('Specificity Consensus')\n",
    ";"
   ]
  },
  {
   "attachments": {},
   "cell_type": "markdown",
   "id": "589a9b3e",
   "metadata": {},
   "source": [
    "Specificity consensus scores are even less sensitive to individual scoring methods than magnitude consensus scores. While the consensus score leaving CellChat out still has the lowest consistency as compared to including all scoring methods, it still has a large Spearman correlation (0.91). Overall, these results indicate that aggregating across scoring methods yields robust results that are not sensitive to any individual method.  "
   ]
  },
  {
   "attachments": {},
   "cell_type": "markdown",
   "id": "b1a18e6a",
   "metadata": {},
   "source": [
    "## Decomposition Consistency between Score Types\n",
    "\n",
    "We can also check how consistent each score type is after running the full Tensor-cell2cell pipeline. The [CorrIndex](https://doi.org/10.1016/j.sigpro.2022.108457) provides a dissimilarity metric that can compare decompositions of the same rank. "
   ]
  },
  {
   "cell_type": "code",
   "execution_count": 23,
   "id": "7ff9779d",
   "metadata": {},
   "outputs": [],
   "source": [
    "from collections import defaultdict\n",
    "import itertools\n",
    "\n",
    "import matplotlib\n",
    "\n",
    "import numpy as np\n",
    "import torch\n",
    "\n",
    "import liana as li\n",
    "from cell2cell.tensor.metrics import correlation_index"
   ]
  },
  {
   "cell_type": "code",
   "execution_count": 17,
   "id": "371effc8",
   "metadata": {},
   "outputs": [],
   "source": [
    "if torch.cuda.is_available():\n",
    "    import tensorly as tl\n",
    "    tl.set_backend('pytorch')\n",
    "    device = 'cuda:0'\n",
    "else:\n",
    "    device = 'cpu'"
   ]
  },
  {
   "cell_type": "code",
   "execution_count": 18,
   "id": "3a63b36d",
   "metadata": {},
   "outputs": [
    {
     "name": "stdout",
     "output_type": "stream",
     "text": [
      "../../data/tc2c-outputs/ already exists.\n"
     ]
    }
   ],
   "source": [
    "data_folder = '../../data/liana-outputs/'\n",
    "output_folder = '../../data/tc2c-outputs/'\n",
    "c2c.io.directories.create_directory(output_folder)"
   ]
  },
  {
   "attachments": {},
   "cell_type": "markdown",
   "id": "7bf0048d",
   "metadata": {},
   "source": [
    "First, let's load the LIANA scores for each sample and score type:"
   ]
  },
  {
   "cell_type": "code",
   "execution_count": 19,
   "id": "a9e420d2",
   "metadata": {},
   "outputs": [],
   "source": [
    "liana_res = pd.read_csv(data_folder + 'LIANA_by_sample.csv')\n",
    "sorted_samples = sorted(liana_res['sample_new'].unique())"
   ]
  },
  {
   "attachments": {},
   "cell_type": "markdown",
   "id": "ec974229",
   "metadata": {},
   "source": [
    "Next, we can generate and decompose the tensor as in [Tutorial 03](./03-Generate-Tensor.ipynb) and [Tutorial 04](./04-Perform-Tensor-Factorization) respectively, but for each magnitude rank score separately. We will use the rank identified by the consensus magnitude score in Tutorial 04. "
   ]
  },
  {
   "cell_type": "code",
   "execution_count": 20,
   "id": "0eb5e6f4",
   "metadata": {},
   "outputs": [],
   "source": [
    "tf_optimization_dict = {'regular': {'runs': 1,\n",
    "                                    'tol': 10e-7,\n",
    "                                    'n_iter_max': 100}, \n",
    "                        'robust': {'runs': 100, \n",
    "                                   'tol': 10e-8, \n",
    "                                   'n_iter_max': 500}}\n",
    "\n",
    "def run_tensor_pipeline(liana_res, score_type, rank, \n",
    "                       tf_optimization = 'robust'):\n",
    "    # build tensor\n",
    "    tensor = li.multi.to_tensor_c2c(liana_res=liana_res, # LIANA's dataframe containing results\n",
    "                                    sample_key='sample_new', # Column name of the samples\n",
    "                                    source_key='source', # Column name of the sender cells\n",
    "                                    target_key='target', # Column name of the receiver cells\n",
    "                                    ligand_key='ligand_complex', # Column name of the ligands\n",
    "                                    receptor_key='receptor_complex', # Column name of the receptors\n",
    "                                    score_key=score_type, # Column name of the communication scores to use\n",
    "                                    non_negative = True, # set negative values to 0\n",
    "                                    inverse_fun=lambda x: x, # Transformation function -- don't invert because it's not a rank score\n",
    "                                    non_expressed_fill=None, # Value to replace missing values with \n",
    "                                    how='outer', # What to include across all samples\n",
    "                                    lr_fill=np.nan, # What to fill missing LRs with \n",
    "                                    cell_fill = np.nan, # What to fill missing cell types with \n",
    "                                    outer_fraction=1/3., # Fraction of samples as threshold to include cells and LR pairs.\n",
    "                                    lr_sep='^', # How to separate ligand and receptor names to name LR pair\n",
    "                                    context_order=sorted_samples, # Order to store the contexts in the tensor\n",
    "                                    sort_elements=True # Whether sorting alphabetically element names of each tensor dim. Does not apply for context order if context_order is passed.\n",
    "                                   )\n",
    "    # get metadata\n",
    "    element_dict = defaultdict(lambda: 'Unknown')\n",
    "    context_dict = element_dict.copy()\n",
    "    context_dict.update({'HC1' : 'Control',\n",
    "                         'HC2' : 'Control',\n",
    "                         'HC3' : 'Control',\n",
    "                         'M1' : 'Moderate COVID-19',\n",
    "                         'M2' : 'Moderate COVID-19',\n",
    "                         'M3' : 'Moderate COVID-19',\n",
    "                         'S1' : 'Severe COVID-19',\n",
    "                         'S2' : 'Severe COVID-19',\n",
    "                         'S3' : 'Severe COVID-19',\n",
    "                         'S4' : 'Severe COVID-19',\n",
    "                         'S5' : 'Severe COVID-19',\n",
    "                         'S6' : 'Severe COVID-19',\n",
    "                        })\n",
    "    dimensions_dict = [context_dict, None, None, None]\n",
    "    meta_tensor = c2c.tensor.generate_tensor_metadata(interaction_tensor=tensor,\n",
    "                                              metadata_dicts=[context_dict, None, None, None],\n",
    "                                              fill_with_order_elements=True\n",
    "                                             )\n",
    "    \n",
    "    # decompose tensor\n",
    "    tensor.to_device(device)\n",
    "    tensor.compute_tensor_factorization(rank=rank,\n",
    "                                        init='random', # Initialization method of the tensor factorization\n",
    "                                        svd='numpy_svd', # Type of SVD to use if the initialization is 'svd'\n",
    "                                        random_state=0, # Random seed for reproducibility\n",
    "                                        normalize_loadings=True,\n",
    "                                        runs=tf_optimization_dict[tf_optimization]['runs'],\n",
    "                                        tol=tf_optimization_dict[tf_optimization]['tol'],\n",
    "                                        n_iter_max=tf_optimization_dict[tf_optimization]['n_iter_max']\n",
    "                                       )\n",
    "    return tensor"
   ]
  },
  {
   "cell_type": "code",
   "execution_count": 21,
   "id": "97092145",
   "metadata": {},
   "outputs": [
    {
     "name": "stderr",
     "output_type": "stream",
     "text": [
      "/home/hratch/miniconda3/envs/ccc_protocols/lib/python3.11/site-packages/tensorly/backend/pytorch_backend.py:39: UserWarning: To copy construct from a tensor, it is recommended to use sourceTensor.clone().detach() or sourceTensor.clone().detach().requires_grad_(True), rather than torch.tensor(sourceTensor).\n"
     ]
    }
   ],
   "source": [
    "tensor_magnitude = c2c.io.read_data.load_tensor(os.path.join(output_folder, 'BALF-Tensor_decomposed.pkl'))\n",
    "magnitude_scores = ['lr_means', 'expr_prod', 'lrscore', 'lr_probs']"
   ]
  },
  {
   "cell_type": "code",
   "execution_count": 22,
   "id": "eb26162a",
   "metadata": {
    "scrolled": true
   },
   "outputs": [],
   "source": [
    "tensors_individual = {}\n",
    "# calculate on each magnitude score type separately\n",
    "for score_type in magnitude_scores:\n",
    "    ti = run_tensor_pipeline(liana_res = liana_res,\n",
    "                             score_type = score_type,\n",
    "                             rank = tensor_magnitude.rank, \n",
    "                             tf_optimization = 'robust')\n",
    "    ti.to_device('cpu') # ensures can be pickled properly\n",
    "    tensors_individual[score_type] = ti\n",
    "c2c.io.export_variable_with_pickle(tensors_individual, output_folder + '/BALF-Tensor_individualscores.pkl')\n",
    "\n",
    "tensors_individual = c2c.io.read_data.load_variable_with_pickle(output_folder + '/BALF-Tensor_individualscores.pkl')"
   ]
  },
  {
   "attachments": {},
   "cell_type": "markdown",
   "id": "56ce9375",
   "metadata": {},
   "source": [
    "Next, we can calculate the similarity between each score type's deomposition output based on the CorrIndex metric. For more information on the CorrIndex, as well as similar analyses on decomposition consistency, see Figure 3A of this [paper](https://doi.org/10.1038/s41467-022-31369-2):"
   ]
  },
  {
   "cell_type": "code",
   "execution_count": 10,
   "id": "757afb83",
   "metadata": {},
   "outputs": [],
   "source": [
    "corrindex_res = pd.DataFrame(columns = ['score_type_1', 'score_type_2', 'Similarity'])\n",
    "\n",
    "# calculate corrindex pairwise between score types\n",
    "for idx, score_type_comparison in enumerate(itertools.permutations(tensors_individual, 2)):\n",
    "    tensor_1 = tensors_individual[score_type_comparison[0]]\n",
    "    tensor_2 = tensors_individual[score_type_comparison[1]]\n",
    "    corrindex = correlation_index(tensor_1.factors, tensor_2.factors)\n",
    "    similarity = 1 - corrindex\n",
    "    \n",
    "    corrindex_res.loc[idx, :] = list(score_type_comparison) + [similarity]\n",
    "\n",
    "# formatting\n",
    "corrindex_res = corrindex_res.pivot(index='score_type_1', columns='score_type_2', values = 'Similarity')\n",
    "corrindex_res.columns = corrindex_res.columns.tolist()\n",
    "corrindex_res.index = corrindex_res.index.tolist()\n",
    "np.fill_diagonal(corrindex_res.values, 1)\n",
    "for col_name in corrindex_res.columns:\n",
    "    corrindex_res[col_name] = corrindex_res[col_name].astype(float)\n",
    "    \n",
    "method_name_map = {'expr_prod': 'Connectome/NATMI', \n",
    "                  'lr_means': 'CellPhoneDB', \n",
    "                  'lr_probs': 'CellChat', \n",
    "                  'lrscore': 'SingleCellSignalR'}\n",
    "corrindex_res.columns = corrindex_res.columns.map(method_name_map).tolist()\n",
    "corrindex_res.index = corrindex_res.index.map(method_name_map).tolist()"
   ]
  },
  {
   "cell_type": "code",
   "execution_count": 24,
   "id": "12af791e",
   "metadata": {},
   "outputs": [
    {
     "name": "stdout",
     "output_type": "stream",
     "text": [
      "Interaction space detected as a distance matrix\n"
     ]
    },
    {
     "data": {
      "image/png": "[encoded data removed]",
      "text/plain": [
       "<Figure size 400x500 with 4 Axes>"
      ]
     },
     "metadata": {},
     "output_type": "display_data"
    }
   ],
   "source": [
    "cm = c2c.plotting.clustermap_cci(corrindex_res,\n",
    "                                 method='ward',\n",
    "                                 optimal_leaf=True,\n",
    "                                 metadata=None,\n",
    "                                 title='',\n",
    "                                 cbar_title='Similarity', \n",
    "                                 cmap='Blues_r',\n",
    "                                 vmax=1.,\n",
    "#                                  vmin=0.,\n",
    "                                 annot=True, \n",
    "                                 dendrogram_ratio=0.15,\n",
    "                                figsize=(4,5))\n",
    "\n",
    "font = matplotlib.font_manager.FontProperties(weight='bold', size=7)\n",
    "for ax in [cm.ax_heatmap, cm.ax_cbar]:\n",
    "    for tick in ax.get_xticklabels():\n",
    "        tick.set_fontproperties(font)\n",
    "    for tick in ax.get_yticklabels():\n",
    "        tick.set_fontproperties(font)\n",
    "\n",
    "    text = ax.yaxis.label\n",
    "    text.set_font_properties(font)"
   ]
  },
  {
   "attachments": {},
   "cell_type": "markdown",
   "id": "c71f40dc",
   "metadata": {},
   "source": [
    "Given the high overall similarity between score types, we see that Tensor-cell2cell's decomposition tends to capture consistent patterns across samples, smoothing over some of the inconsistencies in communication scores that we saw at the individual sample level in [Tutorial 02](./02-Infer-Communication-Scores.ipynb) "
   ]
  }
 ],
 "metadata": {
  "kernelspec": {
   "display_name": "Python [conda env:ccc_protocols]",
   "language": "python",
   "name": "conda-env-ccc_protocols-py"
  },
  "language_info": {
   "codemirror_mode": {
    "name": "ipython",
    "version": 3
   },
   "file_extension": ".py",
   "mimetype": "text/x-python",
   "name": "python",
   "nbconvert_exporter": "python",
   "pygments_lexer": "ipython3",
   "version": "3.11.6"
  },
  "vscode": {
   "interpreter": {
    "hash": "a89d9df9e41c144bbb86b791904f32fb0efeb7b488a88d676a8bce57017c9696"
   }
  }
 },
 "nbformat": 4,
 "nbformat_minor": 5
}
