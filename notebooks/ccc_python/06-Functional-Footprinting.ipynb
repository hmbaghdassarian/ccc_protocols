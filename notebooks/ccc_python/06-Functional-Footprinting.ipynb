{
 "cells": [
  {
   "cell_type": "markdown",
   "id": "3d54b332",
   "metadata": {},
   "source": [
    "# Pathway Enrichment of LR loadings\n",
    "\n",
    "Cell-cell communication inference from single-cell data provides unprecedented insights into the molecular mechanisms underlying cell-cell communication. In particular, it enables the capture of CCC interactions at a systems level, which is not possible with traditional approaches. However, as the number of inferred interactions increases, the interpretation of the inferred cell-cell communication networks becomes more challenging. To this end, as done in other omics studies, we can perform pathway enrichment analysis to identify the general biological processes that are enriched in the inferred interactions. Pathway enrichment thus serves two purposes; it reduces the dimensionality of the inferred interactions, and also provides a biological summary of the inferred interactions.\n",
    "\n",
    "In this tutorial, we will show how to use the `cell2cell` and `liana` packages to perform classical gene set enrichment analysis using `GSEA` with `KEGG Pathways`, and also we will use perform a footprint enrichment analysis using a `multi-variate linear model` with the PROGENy pathway resource. We will use the [`GSEAPY`](https://gseapy.readthedocs.io/en/latest/) and [`decoupler-py`](https://decoupler-py.readthedocs.io/en/latest) packages to perform these analyses."
   ]
  },
  {
   "cell_type": "code",
   "execution_count": 1,
   "id": "2ac22be8",
   "metadata": {},
   "outputs": [],
   "source": [
    "import cell2cell as c2c\n",
    "import liana as li\n",
    "\n",
    "import pandas as pd\n",
    "\n",
    "import decoupler as dc\n",
    "\n",
    "import matplotlib.pyplot as plt\n",
    "import plotnine as p9\n",
    "import seaborn as sns\n",
    "\n",
    "%matplotlib inline"
   ]
  },
  {
   "cell_type": "code",
   "execution_count": 2,
   "id": "907c4925",
   "metadata": {},
   "outputs": [],
   "source": [
    "import warnings\n",
    "warnings.filterwarnings('ignore')"
   ]
  },
  {
   "cell_type": "markdown",
   "id": "eded8fe1",
   "metadata": {},
   "source": [
    "## Directories"
   ]
  },
  {
   "cell_type": "code",
   "execution_count": 3,
   "id": "c0a73062",
   "metadata": {},
   "outputs": [
    {
     "name": "stdout",
     "output_type": "stream",
     "text": [
      "../../data/tc2c-outputs/ already exists.\n"
     ]
    }
   ],
   "source": [
    "output_folder = '../../data/tc2c-outputs/'\n",
    "c2c.io.directories.create_directory(output_folder)"
   ]
  },
  {
   "cell_type": "markdown",
   "id": "2f5d0d38",
   "metadata": {},
   "source": [
    "## Load Data"
   ]
  },
  {
   "cell_type": "markdown",
   "id": "973d1b0b",
   "metadata": {},
   "source": [
    "**Open the loadings obtained from the tensor factorization**"
   ]
  },
  {
   "cell_type": "code",
   "execution_count": 4,
   "id": "1657732b",
   "metadata": {},
   "outputs": [],
   "source": [
    "factors = c2c.io.load_tensor_factors(output_folder + 'Loadings.xlsx')"
   ]
  },
  {
   "cell_type": "markdown",
   "id": "24b18655",
   "metadata": {},
   "source": [
    "**Load list of ligand-receptor pairs used as reference to [run LIANA](./02-Infer-Communication-Scores.ipynb)**"
   ]
  },
  {
   "cell_type": "code",
   "execution_count": 5,
   "id": "e96e13f7",
   "metadata": {},
   "outputs": [
    {
     "data": {
      "text/html": [
       "<div>\n",
       "<style scoped>\n",
       "    .dataframe tbody tr th:only-of-type {\n",
       "        vertical-align: middle;\n",
       "    }\n",
       "\n",
       "    .dataframe tbody tr th {\n",
       "        vertical-align: top;\n",
       "    }\n",
       "\n",
       "    .dataframe thead th {\n",
       "        text-align: right;\n",
       "    }\n",
       "</style>\n",
       "<table border=\"1\" class=\"dataframe\">\n",
       "  <thead>\n",
       "    <tr style=\"text-align: right;\">\n",
       "      <th></th>\n",
       "      <th>ligand</th>\n",
       "      <th>receptor</th>\n",
       "    </tr>\n",
       "  </thead>\n",
       "  <tbody>\n",
       "    <tr>\n",
       "      <th>0</th>\n",
       "      <td>LGALS9</td>\n",
       "      <td>PTPRC</td>\n",
       "    </tr>\n",
       "    <tr>\n",
       "      <th>1</th>\n",
       "      <td>LGALS9</td>\n",
       "      <td>MET</td>\n",
       "    </tr>\n",
       "    <tr>\n",
       "      <th>2</th>\n",
       "      <td>LGALS9</td>\n",
       "      <td>CD44</td>\n",
       "    </tr>\n",
       "    <tr>\n",
       "      <th>3</th>\n",
       "      <td>LGALS9</td>\n",
       "      <td>LRP1</td>\n",
       "    </tr>\n",
       "    <tr>\n",
       "      <th>4</th>\n",
       "      <td>LGALS9</td>\n",
       "      <td>CD47</td>\n",
       "    </tr>\n",
       "  </tbody>\n",
       "</table>\n",
       "</div>"
      ],
      "text/plain": [
       "   ligand receptor\n",
       "0  LGALS9    PTPRC\n",
       "1  LGALS9      MET\n",
       "2  LGALS9     CD44\n",
       "3  LGALS9     LRP1\n",
       "4  LGALS9     CD47"
      ]
     },
     "execution_count": 5,
     "metadata": {},
     "output_type": "execute_result"
    }
   ],
   "source": [
    "lr_pairs = li.resource.select_resource('consensus')\n",
    "lr_pairs.head()"
   ]
  },
  {
   "cell_type": "markdown",
   "id": "43090ea6",
   "metadata": {},
   "source": [
    "**Generate a list with the LR pair names**\n",
    "\n",
    "KEGG was originally designed to work with list of genes. Here we are using ligand-receptor pairs, so instead of using Gene Sets we need to build our LR-gene sets. This list is a first step to build the LR-gene sets."
   ]
  },
  {
   "cell_type": "code",
   "execution_count": 6,
   "id": "0550bdd3",
   "metadata": {},
   "outputs": [],
   "source": [
    "lr_list = ['^'.join(row) for idx, row in lr_pairs.iterrows()] "
   ]
  },
  {
   "cell_type": "markdown",
   "id": "3572fb9d",
   "metadata": {},
   "source": [
    "## Gene Set Enrichment Analysis\n",
    "\n",
    "In this case, we will run the PreRank method of GSEA since our LR pairs are pre-ranked based on their loadings in each factor obtained by Tensor-cell2cell."
   ]
  },
  {
   "cell_type": "markdown",
   "id": "fa6385ac",
   "metadata": {},
   "source": [
    "### Generate LR-gene set for running GSEA\n",
    "\n",
    "`cell2cell` includes some resources associated with the Gene sets employed in GSEA. It includes annotations of GO Terms (BP), KEGG, and Reactome, for human and mouse."
   ]
  },
  {
   "cell_type": "markdown",
   "id": "97f8d4a6",
   "metadata": {},
   "source": [
    "**First, specify which organism and annotation DB to use**"
   ]
  },
  {
   "cell_type": "code",
   "execution_count": 7,
   "id": "c11ec2fd",
   "metadata": {},
   "outputs": [],
   "source": [
    "organism = 'human' # For the COVID-19 data analyzed with LIANA+Tensor-cell2cell\n",
    "pathwaydb = 'KEGG' # KEGG Pathways"
   ]
  },
  {
   "cell_type": "markdown",
   "id": "77835f05",
   "metadata": {},
   "source": [
    "**Generate the LR-gene set that will be used for running GSEA**"
   ]
  },
  {
   "cell_type": "code",
   "execution_count": 10,
   "id": "2b9e896f",
   "metadata": {},
   "outputs": [
    {
     "name": "stderr",
     "output_type": "stream",
     "text": [
      "100%|██████████| 97.7k/97.7k [00:00<00:00, 2.31MB/s]\n"
     ]
    }
   ],
   "source": [
    "lr_set = c2c.external.generate_lr_geneset(lr_list,\n",
    "                                          complex_sep = '_',\n",
    "                                          lr_sep = '^',\n",
    "                                          organism = organism,\n",
    "                                          pathwaydb = pathwaydb,\n",
    "                                          readable_name = True\n",
    "                                          )"
   ]
  },
  {
   "cell_type": "markdown",
   "id": "b6ab0812",
   "metadata": {},
   "source": [
    "### Extract LR loadings for each factor"
   ]
  },
  {
   "cell_type": "code",
   "execution_count": 11,
   "id": "f43cd70c",
   "metadata": {},
   "outputs": [],
   "source": [
    "lr_loadings = factors['Ligand-Receptor Pairs']"
   ]
  },
  {
   "cell_type": "markdown",
   "id": "0a8b4d7d",
   "metadata": {},
   "source": [
    "### Run GSEA\n",
    "\n",
    "This external function implemented in `cell2cell` builds upon the function `gseapy.prerank()`.\n",
    "\n",
    "All outputs will be saved in the `output_folder`. Make sure that this path exist before running this function."
   ]
  },
  {
   "cell_type": "code",
   "execution_count": 12,
   "id": "40220386",
   "metadata": {},
   "outputs": [
    {
     "name": "stderr",
     "output_type": "stream",
     "text": [
      "  0%|          | 0/12 [00:00<?, ?it/s]"
     ]
    },
    {
     "name": "stdout",
     "output_type": "stream",
     "text": [
      "../../data/tc2c-outputs/ already exists.\n"
     ]
    },
    {
     "name": "stderr",
     "output_type": "stream",
     "text": [
      "100%|██████████| 12/12 [00:16<00:00,  1.36s/it]"
     ]
    },
    {
     "name": "stdout",
     "output_type": "stream",
     "text": [
      "CPU times: user 17.3 s, sys: 243 ms, total: 17.5 s\n",
      "Wall time: 16.4 s\n"
     ]
    },
    {
     "name": "stderr",
     "output_type": "stream",
     "text": [
      "\n"
     ]
    }
   ],
   "source": [
    "%%time\n",
    "pvals, scores, gsea_df = c2c.external.run_gsea(loadings=lr_loadings, \n",
    "                                               lr_set=lr_set,\n",
    "                                               output_folder=output_folder,\n",
    "                                               weight=1,\n",
    "                                               min_size=15,\n",
    "                                               permutations=999,\n",
    "                                               processes=6,\n",
    "                                               random_state=6,\n",
    "                                               significance_threshold=0.05,\n",
    "                                              )"
   ]
  },
  {
   "cell_type": "markdown",
   "id": "c4654706",
   "metadata": {},
   "source": [
    "### Visualization\n",
    "\n",
    "We can use the `pvals` and `scores`outputs to visualize the results as a Dot Plot:"
   ]
  },
  {
   "cell_type": "code",
   "execution_count": 13,
   "id": "663ef97a",
   "metadata": {},
   "outputs": [],
   "source": [
    "import numpy as np\n",
    "\n",
    "significance = 0.05\n",
    "pval_df = pvals\n",
    "\n",
    "\n",
    "df = pval_df.lt(significance).astype(int)\n",
    "# Drop all zeros\n",
    "df = df.loc[(df != 0).any(axis=1)]\n",
    "df = df.T.loc[(df != 0).any(axis=0)].T"
   ]
  },
  {
   "cell_type": "code",
   "execution_count": 14,
   "id": "7b63ec3f",
   "metadata": {},
   "outputs": [
    {
     "data": {
      "text/html": [
       "<div>\n",
       "<style scoped>\n",
       "    .dataframe tbody tr th:only-of-type {\n",
       "        vertical-align: middle;\n",
       "    }\n",
       "\n",
       "    .dataframe tbody tr th {\n",
       "        vertical-align: top;\n",
       "    }\n",
       "\n",
       "    .dataframe thead th {\n",
       "        text-align: right;\n",
       "    }\n",
       "</style>\n",
       "<table border=\"1\" class=\"dataframe\">\n",
       "  <thead>\n",
       "    <tr style=\"text-align: right;\">\n",
       "      <th>Factor</th>\n",
       "      <th>Factor 2</th>\n",
       "      <th>Factor 4</th>\n",
       "      <th>Factor 6</th>\n",
       "      <th>Factor 7</th>\n",
       "      <th>Factor 8</th>\n",
       "      <th>Factor 9</th>\n",
       "      <th>Factor 10</th>\n",
       "      <th>Factor 11</th>\n",
       "    </tr>\n",
       "    <tr>\n",
       "      <th>Term</th>\n",
       "      <th></th>\n",
       "      <th></th>\n",
       "      <th></th>\n",
       "      <th></th>\n",
       "      <th></th>\n",
       "      <th></th>\n",
       "      <th></th>\n",
       "      <th></th>\n",
       "    </tr>\n",
       "  </thead>\n",
       "  <tbody>\n",
       "    <tr>\n",
       "      <th>ANTIGEN PROCESSING AND PRESENTATION</th>\n",
       "      <td>1.844229</td>\n",
       "      <td>1.844229</td>\n",
       "      <td>1.844229</td>\n",
       "      <td>1.844229</td>\n",
       "      <td>1.844229e+00</td>\n",
       "      <td>1.844229</td>\n",
       "      <td>1.844229e+00</td>\n",
       "      <td>1.844229e+00</td>\n",
       "    </tr>\n",
       "    <tr>\n",
       "      <th>CELL ADHESION MOLECULES CAMS</th>\n",
       "      <td>0.103867</td>\n",
       "      <td>1.844229</td>\n",
       "      <td>0.131211</td>\n",
       "      <td>0.537667</td>\n",
       "      <td>7.302861e-01</td>\n",
       "      <td>1.584592</td>\n",
       "      <td>8.970125e-02</td>\n",
       "      <td>-4.342945e-10</td>\n",
       "    </tr>\n",
       "    <tr>\n",
       "      <th>NATURAL KILLER CELL MEDIATED CYTOTOXICITY</th>\n",
       "      <td>0.842923</td>\n",
       "      <td>0.093991</td>\n",
       "      <td>0.203511</td>\n",
       "      <td>0.672547</td>\n",
       "      <td>-4.342945e-10</td>\n",
       "      <td>0.461369</td>\n",
       "      <td>-4.342945e-10</td>\n",
       "      <td>1.844229e+00</td>\n",
       "    </tr>\n",
       "  </tbody>\n",
       "</table>\n",
       "</div>"
      ],
      "text/plain": [
       "Factor                                     Factor 2  Factor 4  Factor 6  \\\n",
       "Term                                                                      \n",
       "ANTIGEN PROCESSING AND PRESENTATION        1.844229  1.844229  1.844229   \n",
       "CELL ADHESION MOLECULES CAMS               0.103867  1.844229  0.131211   \n",
       "NATURAL KILLER CELL MEDIATED CYTOTOXICITY  0.842923  0.093991  0.203511   \n",
       "\n",
       "Factor                                     Factor 7      Factor 8  Factor 9  \\\n",
       "Term                                                                          \n",
       "ANTIGEN PROCESSING AND PRESENTATION        1.844229  1.844229e+00  1.844229   \n",
       "CELL ADHESION MOLECULES CAMS               0.537667  7.302861e-01  1.584592   \n",
       "NATURAL KILLER CELL MEDIATED CYTOTOXICITY  0.672547 -4.342945e-10  0.461369   \n",
       "\n",
       "Factor                                        Factor 10     Factor 11  \n",
       "Term                                                                   \n",
       "ANTIGEN PROCESSING AND PRESENTATION        1.844229e+00  1.844229e+00  \n",
       "CELL ADHESION MOLECULES CAMS               8.970125e-02 -4.342945e-10  \n",
       "NATURAL KILLER CELL MEDIATED CYTOTOXICITY -4.342945e-10  1.844229e+00  "
      ]
     },
     "execution_count": 14,
     "metadata": {},
     "output_type": "execute_result"
    }
   ],
   "source": [
    "pval_df[df.columns].loc[df.index].applymap(lambda x: -1. * np.log10(x + 1e-9))"
   ]
  },
  {
   "cell_type": "code",
   "execution_count": 15,
   "id": "b6a1aadc",
   "metadata": {},
   "outputs": [
    {
     "data": {
      "text/html": [
       "<div>\n",
       "<style scoped>\n",
       "    .dataframe tbody tr th:only-of-type {\n",
       "        vertical-align: middle;\n",
       "    }\n",
       "\n",
       "    .dataframe tbody tr th {\n",
       "        vertical-align: top;\n",
       "    }\n",
       "\n",
       "    .dataframe thead th {\n",
       "        text-align: right;\n",
       "    }\n",
       "</style>\n",
       "<table border=\"1\" class=\"dataframe\">\n",
       "  <thead>\n",
       "    <tr style=\"text-align: right;\">\n",
       "      <th>Factor</th>\n",
       "      <th>Factor 2</th>\n",
       "      <th>Factor 3</th>\n",
       "      <th>Factor 4</th>\n",
       "      <th>Factor 5</th>\n",
       "      <th>Factor 6</th>\n",
       "      <th>Factor 7</th>\n",
       "      <th>Factor 8</th>\n",
       "      <th>Factor 9</th>\n",
       "      <th>Factor 10</th>\n",
       "      <th>Factor 11</th>\n",
       "      <th>Factor 12</th>\n",
       "    </tr>\n",
       "    <tr>\n",
       "      <th>Term</th>\n",
       "      <th></th>\n",
       "      <th></th>\n",
       "      <th></th>\n",
       "      <th></th>\n",
       "      <th></th>\n",
       "      <th></th>\n",
       "      <th></th>\n",
       "      <th></th>\n",
       "      <th></th>\n",
       "      <th></th>\n",
       "      <th></th>\n",
       "    </tr>\n",
       "  </thead>\n",
       "  <tbody>\n",
       "    <tr>\n",
       "      <th>ANTIGEN PROCESSING AND PRESENTATION</th>\n",
       "      <td>0.014314</td>\n",
       "      <td>0.650459</td>\n",
       "      <td>0.014314</td>\n",
       "      <td>0.148649</td>\n",
       "      <td>0.014314</td>\n",
       "      <td>0.014314</td>\n",
       "      <td>0.014314</td>\n",
       "      <td>0.014314</td>\n",
       "      <td>0.014314</td>\n",
       "      <td>0.014314</td>\n",
       "      <td>0.066066</td>\n",
       "    </tr>\n",
       "    <tr>\n",
       "      <th>APOPTOSIS</th>\n",
       "      <td>0.345646</td>\n",
       "      <td>0.458333</td>\n",
       "      <td>0.805396</td>\n",
       "      <td>1.000000</td>\n",
       "      <td>1.000000</td>\n",
       "      <td>1.000000</td>\n",
       "      <td>1.000000</td>\n",
       "      <td>0.962963</td>\n",
       "      <td>1.000000</td>\n",
       "      <td>1.000000</td>\n",
       "      <td>0.927618</td>\n",
       "    </tr>\n",
       "    <tr>\n",
       "      <th>AXON GUIDANCE</th>\n",
       "      <td>0.212546</td>\n",
       "      <td>1.000000</td>\n",
       "      <td>0.876354</td>\n",
       "      <td>0.628750</td>\n",
       "      <td>0.805396</td>\n",
       "      <td>0.651405</td>\n",
       "      <td>0.739246</td>\n",
       "      <td>0.806840</td>\n",
       "      <td>1.000000</td>\n",
       "      <td>0.148649</td>\n",
       "      <td>0.876354</td>\n",
       "    </tr>\n",
       "    <tr>\n",
       "      <th>CELL ADHESION MOLECULES CAMS</th>\n",
       "      <td>0.787287</td>\n",
       "      <td>1.000000</td>\n",
       "      <td>0.014314</td>\n",
       "      <td>0.820182</td>\n",
       "      <td>0.739246</td>\n",
       "      <td>0.289957</td>\n",
       "      <td>0.186086</td>\n",
       "      <td>0.026026</td>\n",
       "      <td>0.813390</td>\n",
       "      <td>1.000000</td>\n",
       "      <td>1.000000</td>\n",
       "    </tr>\n",
       "    <tr>\n",
       "      <th>CHEMOKINE SIGNALING PATHWAY</th>\n",
       "      <td>0.071572</td>\n",
       "      <td>0.591048</td>\n",
       "      <td>0.424980</td>\n",
       "      <td>0.805396</td>\n",
       "      <td>1.000000</td>\n",
       "      <td>1.000000</td>\n",
       "      <td>1.000000</td>\n",
       "      <td>1.000000</td>\n",
       "      <td>1.000000</td>\n",
       "      <td>0.590791</td>\n",
       "      <td>0.893465</td>\n",
       "    </tr>\n",
       "    <tr>\n",
       "      <th>CYTOKINE CYTOKINE RECEPTOR INTERACTION</th>\n",
       "      <td>0.059643</td>\n",
       "      <td>1.000000</td>\n",
       "      <td>1.000000</td>\n",
       "      <td>1.000000</td>\n",
       "      <td>1.000000</td>\n",
       "      <td>1.000000</td>\n",
       "      <td>1.000000</td>\n",
       "      <td>1.000000</td>\n",
       "      <td>1.000000</td>\n",
       "      <td>1.000000</td>\n",
       "      <td>1.000000</td>\n",
       "    </tr>\n",
       "    <tr>\n",
       "      <th>ECM RECEPTOR INTERACTION</th>\n",
       "      <td>0.739246</td>\n",
       "      <td>0.143574</td>\n",
       "      <td>0.805396</td>\n",
       "      <td>0.837713</td>\n",
       "      <td>0.300601</td>\n",
       "      <td>0.405065</td>\n",
       "      <td>0.803089</td>\n",
       "      <td>0.148649</td>\n",
       "      <td>0.153015</td>\n",
       "      <td>1.000000</td>\n",
       "      <td>0.961104</td>\n",
       "    </tr>\n",
       "    <tr>\n",
       "      <th>FOCAL ADHESION</th>\n",
       "      <td>0.782516</td>\n",
       "      <td>0.289957</td>\n",
       "      <td>0.625878</td>\n",
       "      <td>0.766009</td>\n",
       "      <td>0.148649</td>\n",
       "      <td>0.524858</td>\n",
       "      <td>0.912730</td>\n",
       "      <td>0.124057</td>\n",
       "      <td>0.143574</td>\n",
       "      <td>1.000000</td>\n",
       "      <td>0.367193</td>\n",
       "    </tr>\n",
       "    <tr>\n",
       "      <th>INTESTINAL IMMUNE NETWORK FOR IGA PRODUCTION</th>\n",
       "      <td>0.143719</td>\n",
       "      <td>0.424980</td>\n",
       "      <td>1.000000</td>\n",
       "      <td>0.805396</td>\n",
       "      <td>1.000000</td>\n",
       "      <td>1.000000</td>\n",
       "      <td>0.961104</td>\n",
       "      <td>1.000000</td>\n",
       "      <td>1.000000</td>\n",
       "      <td>1.000000</td>\n",
       "      <td>0.153015</td>\n",
       "    </tr>\n",
       "    <tr>\n",
       "      <th>NATURAL KILLER CELL MEDIATED CYTOTOXICITY</th>\n",
       "      <td>0.143574</td>\n",
       "      <td>1.000000</td>\n",
       "      <td>0.805396</td>\n",
       "      <td>0.591048</td>\n",
       "      <td>0.625878</td>\n",
       "      <td>0.212546</td>\n",
       "      <td>1.000000</td>\n",
       "      <td>0.345646</td>\n",
       "      <td>1.000000</td>\n",
       "      <td>0.014314</td>\n",
       "      <td>0.287149</td>\n",
       "    </tr>\n",
       "    <tr>\n",
       "      <th>PATHWAYS IN CANCER</th>\n",
       "      <td>0.367193</td>\n",
       "      <td>0.307234</td>\n",
       "      <td>0.596005</td>\n",
       "      <td>0.153015</td>\n",
       "      <td>0.461839</td>\n",
       "      <td>0.689132</td>\n",
       "      <td>1.000000</td>\n",
       "      <td>0.143574</td>\n",
       "      <td>0.203171</td>\n",
       "      <td>0.591048</td>\n",
       "      <td>0.282593</td>\n",
       "    </tr>\n",
       "    <tr>\n",
       "      <th>REGULATION OF ACTIN CYTOSKELETON</th>\n",
       "      <td>1.000000</td>\n",
       "      <td>0.406386</td>\n",
       "      <td>1.000000</td>\n",
       "      <td>0.591048</td>\n",
       "      <td>0.346231</td>\n",
       "      <td>0.596005</td>\n",
       "      <td>1.000000</td>\n",
       "      <td>0.921055</td>\n",
       "      <td>0.820182</td>\n",
       "      <td>1.000000</td>\n",
       "      <td>0.912730</td>\n",
       "    </tr>\n",
       "    <tr>\n",
       "      <th>SMALL CELL LUNG CANCER</th>\n",
       "      <td>0.591048</td>\n",
       "      <td>0.282593</td>\n",
       "      <td>0.596005</td>\n",
       "      <td>0.625878</td>\n",
       "      <td>0.143574</td>\n",
       "      <td>0.927618</td>\n",
       "      <td>1.000000</td>\n",
       "      <td>0.148649</td>\n",
       "      <td>0.282593</td>\n",
       "      <td>1.000000</td>\n",
       "      <td>0.449077</td>\n",
       "    </tr>\n",
       "  </tbody>\n",
       "</table>\n",
       "</div>"
      ],
      "text/plain": [
       "Factor                                        Factor 2  Factor 3  Factor 4  \\\n",
       "Term                                                                         \n",
       "ANTIGEN PROCESSING AND PRESENTATION           0.014314  0.650459  0.014314   \n",
       "APOPTOSIS                                     0.345646  0.458333  0.805396   \n",
       "AXON GUIDANCE                                 0.212546  1.000000  0.876354   \n",
       "CELL ADHESION MOLECULES CAMS                  0.787287  1.000000  0.014314   \n",
       "CHEMOKINE SIGNALING PATHWAY                   0.071572  0.591048  0.424980   \n",
       "CYTOKINE CYTOKINE RECEPTOR INTERACTION        0.059643  1.000000  1.000000   \n",
       "ECM RECEPTOR INTERACTION                      0.739246  0.143574  0.805396   \n",
       "FOCAL ADHESION                                0.782516  0.289957  0.625878   \n",
       "INTESTINAL IMMUNE NETWORK FOR IGA PRODUCTION  0.143719  0.424980  1.000000   \n",
       "NATURAL KILLER CELL MEDIATED CYTOTOXICITY     0.143574  1.000000  0.805396   \n",
       "PATHWAYS IN CANCER                            0.367193  0.307234  0.596005   \n",
       "REGULATION OF ACTIN CYTOSKELETON              1.000000  0.406386  1.000000   \n",
       "SMALL CELL LUNG CANCER                        0.591048  0.282593  0.596005   \n",
       "\n",
       "Factor                                        Factor 5  Factor 6  Factor 7  \\\n",
       "Term                                                                         \n",
       "ANTIGEN PROCESSING AND PRESENTATION           0.148649  0.014314  0.014314   \n",
       "APOPTOSIS                                     1.000000  1.000000  1.000000   \n",
       "AXON GUIDANCE                                 0.628750  0.805396  0.651405   \n",
       "CELL ADHESION MOLECULES CAMS                  0.820182  0.739246  0.289957   \n",
       "CHEMOKINE SIGNALING PATHWAY                   0.805396  1.000000  1.000000   \n",
       "CYTOKINE CYTOKINE RECEPTOR INTERACTION        1.000000  1.000000  1.000000   \n",
       "ECM RECEPTOR INTERACTION                      0.837713  0.300601  0.405065   \n",
       "FOCAL ADHESION                                0.766009  0.148649  0.524858   \n",
       "INTESTINAL IMMUNE NETWORK FOR IGA PRODUCTION  0.805396  1.000000  1.000000   \n",
       "NATURAL KILLER CELL MEDIATED CYTOTOXICITY     0.591048  0.625878  0.212546   \n",
       "PATHWAYS IN CANCER                            0.153015  0.461839  0.689132   \n",
       "REGULATION OF ACTIN CYTOSKELETON              0.591048  0.346231  0.596005   \n",
       "SMALL CELL LUNG CANCER                        0.625878  0.143574  0.927618   \n",
       "\n",
       "Factor                                        Factor 8  Factor 9  Factor 10  \\\n",
       "Term                                                                          \n",
       "ANTIGEN PROCESSING AND PRESENTATION           0.014314  0.014314   0.014314   \n",
       "APOPTOSIS                                     1.000000  0.962963   1.000000   \n",
       "AXON GUIDANCE                                 0.739246  0.806840   1.000000   \n",
       "CELL ADHESION MOLECULES CAMS                  0.186086  0.026026   0.813390   \n",
       "CHEMOKINE SIGNALING PATHWAY                   1.000000  1.000000   1.000000   \n",
       "CYTOKINE CYTOKINE RECEPTOR INTERACTION        1.000000  1.000000   1.000000   \n",
       "ECM RECEPTOR INTERACTION                      0.803089  0.148649   0.153015   \n",
       "FOCAL ADHESION                                0.912730  0.124057   0.143574   \n",
       "INTESTINAL IMMUNE NETWORK FOR IGA PRODUCTION  0.961104  1.000000   1.000000   \n",
       "NATURAL KILLER CELL MEDIATED CYTOTOXICITY     1.000000  0.345646   1.000000   \n",
       "PATHWAYS IN CANCER                            1.000000  0.143574   0.203171   \n",
       "REGULATION OF ACTIN CYTOSKELETON              1.000000  0.921055   0.820182   \n",
       "SMALL CELL LUNG CANCER                        1.000000  0.148649   0.282593   \n",
       "\n",
       "Factor                                        Factor 11  Factor 12  \n",
       "Term                                                                \n",
       "ANTIGEN PROCESSING AND PRESENTATION            0.014314   0.066066  \n",
       "APOPTOSIS                                      1.000000   0.927618  \n",
       "AXON GUIDANCE                                  0.148649   0.876354  \n",
       "CELL ADHESION MOLECULES CAMS                   1.000000   1.000000  \n",
       "CHEMOKINE SIGNALING PATHWAY                    0.590791   0.893465  \n",
       "CYTOKINE CYTOKINE RECEPTOR INTERACTION         1.000000   1.000000  \n",
       "ECM RECEPTOR INTERACTION                       1.000000   0.961104  \n",
       "FOCAL ADHESION                                 1.000000   0.367193  \n",
       "INTESTINAL IMMUNE NETWORK FOR IGA PRODUCTION   1.000000   0.153015  \n",
       "NATURAL KILLER CELL MEDIATED CYTOTOXICITY      0.014314   0.287149  \n",
       "PATHWAYS IN CANCER                             0.591048   0.282593  \n",
       "REGULATION OF ACTIN CYTOSKELETON               1.000000   0.912730  \n",
       "SMALL CELL LUNG CANCER                         1.000000   0.449077  "
      ]
     },
     "execution_count": 15,
     "metadata": {},
     "output_type": "execute_result"
    }
   ],
   "source": [
    "pval_df"
   ]
  },
  {
   "cell_type": "code",
   "execution_count": 16,
   "id": "587f2ede",
   "metadata": {},
   "outputs": [
    {
     "data": {
      "image/png": "[encoded data removed]",
      "text/plain": [
       "<Figure size 648x1296 with 3 Axes>"
      ]
     },
     "metadata": {},
     "output_type": "display_data"
    }
   ],
   "source": [
    "with sns.axes_style(\"darkgrid\"):\n",
    "    dotplot = c2c.plotting.pval_plot.generate_dot_plot(pval_df=pvals,\n",
    "                                                       score_df=scores,\n",
    "                                                       significance=0.05,\n",
    "                                                       xlabel='',\n",
    "                                                       ylabel='{} Annotations'.format(pathwaydb),\n",
    "                                                       cbar_title='NES',\n",
    "                                                       cmap='PuOr',\n",
    "                                                       figsize=(5, 10),\n",
    "                                                       label_size=20,\n",
    "                                                       title_size=20,\n",
    "                                                       tick_size=12,\n",
    "                                                       filename=output_folder + '/GSEA-Dotplot.pdf'\n",
    "                                                      )"
   ]
  },
  {
   "cell_type": "markdown",
   "id": "8eb5cea3",
   "metadata": {},
   "source": [
    "**Similarly, we can use gsea_df to easily see the Enriched Pathways**"
   ]
  },
  {
   "cell_type": "code",
   "execution_count": 17,
   "id": "136e6817",
   "metadata": {},
   "outputs": [
    {
     "data": {
      "text/html": [
       "<div>\n",
       "<style scoped>\n",
       "    .dataframe tbody tr th:only-of-type {\n",
       "        vertical-align: middle;\n",
       "    }\n",
       "\n",
       "    .dataframe tbody tr th {\n",
       "        vertical-align: top;\n",
       "    }\n",
       "\n",
       "    .dataframe thead th {\n",
       "        text-align: right;\n",
       "    }\n",
       "</style>\n",
       "<table border=\"1\" class=\"dataframe\">\n",
       "  <thead>\n",
       "    <tr style=\"text-align: right;\">\n",
       "      <th></th>\n",
       "      <th>Factor</th>\n",
       "      <th>Term</th>\n",
       "      <th>NES</th>\n",
       "      <th>P-value</th>\n",
       "      <th>Adj. P-value</th>\n",
       "    </tr>\n",
       "  </thead>\n",
       "  <tbody>\n",
       "    <tr>\n",
       "      <th>0</th>\n",
       "      <td>Factor 2</td>\n",
       "      <td>ANTIGEN PROCESSING AND PRESENTATION</td>\n",
       "      <td>1.554818</td>\n",
       "      <td>0.001000</td>\n",
       "      <td>0.014314</td>\n",
       "    </tr>\n",
       "    <tr>\n",
       "      <th>26</th>\n",
       "      <td>Factor 4</td>\n",
       "      <td>ANTIGEN PROCESSING AND PRESENTATION</td>\n",
       "      <td>1.770571</td>\n",
       "      <td>0.001000</td>\n",
       "      <td>0.014314</td>\n",
       "    </tr>\n",
       "    <tr>\n",
       "      <th>27</th>\n",
       "      <td>Factor 4</td>\n",
       "      <td>CELL ADHESION MOLECULES CAMS</td>\n",
       "      <td>1.694611</td>\n",
       "      <td>0.001000</td>\n",
       "      <td>0.014314</td>\n",
       "    </tr>\n",
       "    <tr>\n",
       "      <th>52</th>\n",
       "      <td>Factor 6</td>\n",
       "      <td>ANTIGEN PROCESSING AND PRESENTATION</td>\n",
       "      <td>1.571588</td>\n",
       "      <td>0.001000</td>\n",
       "      <td>0.014314</td>\n",
       "    </tr>\n",
       "    <tr>\n",
       "      <th>65</th>\n",
       "      <td>Factor 7</td>\n",
       "      <td>ANTIGEN PROCESSING AND PRESENTATION</td>\n",
       "      <td>1.632749</td>\n",
       "      <td>0.001000</td>\n",
       "      <td>0.014314</td>\n",
       "    </tr>\n",
       "    <tr>\n",
       "      <th>78</th>\n",
       "      <td>Factor 8</td>\n",
       "      <td>ANTIGEN PROCESSING AND PRESENTATION</td>\n",
       "      <td>1.566836</td>\n",
       "      <td>0.001000</td>\n",
       "      <td>0.014314</td>\n",
       "    </tr>\n",
       "    <tr>\n",
       "      <th>91</th>\n",
       "      <td>Factor 9</td>\n",
       "      <td>ANTIGEN PROCESSING AND PRESENTATION</td>\n",
       "      <td>1.624004</td>\n",
       "      <td>0.001000</td>\n",
       "      <td>0.014314</td>\n",
       "    </tr>\n",
       "    <tr>\n",
       "      <th>92</th>\n",
       "      <td>Factor 9</td>\n",
       "      <td>CELL ADHESION MOLECULES CAMS</td>\n",
       "      <td>1.348992</td>\n",
       "      <td>0.002002</td>\n",
       "      <td>0.026026</td>\n",
       "    </tr>\n",
       "    <tr>\n",
       "      <th>104</th>\n",
       "      <td>Factor 10</td>\n",
       "      <td>ANTIGEN PROCESSING AND PRESENTATION</td>\n",
       "      <td>1.552424</td>\n",
       "      <td>0.001000</td>\n",
       "      <td>0.014314</td>\n",
       "    </tr>\n",
       "    <tr>\n",
       "      <th>117</th>\n",
       "      <td>Factor 11</td>\n",
       "      <td>ANTIGEN PROCESSING AND PRESENTATION</td>\n",
       "      <td>1.471047</td>\n",
       "      <td>0.001000</td>\n",
       "      <td>0.014314</td>\n",
       "    </tr>\n",
       "    <tr>\n",
       "      <th>118</th>\n",
       "      <td>Factor 11</td>\n",
       "      <td>NATURAL KILLER CELL MEDIATED CYTOTOXICITY</td>\n",
       "      <td>1.466711</td>\n",
       "      <td>0.001001</td>\n",
       "      <td>0.014314</td>\n",
       "    </tr>\n",
       "  </tbody>\n",
       "</table>\n",
       "</div>"
      ],
      "text/plain": [
       "        Factor                                       Term       NES   P-value  \\\n",
       "0     Factor 2        ANTIGEN PROCESSING AND PRESENTATION  1.554818  0.001000   \n",
       "26    Factor 4        ANTIGEN PROCESSING AND PRESENTATION  1.770571  0.001000   \n",
       "27    Factor 4               CELL ADHESION MOLECULES CAMS  1.694611  0.001000   \n",
       "52    Factor 6        ANTIGEN PROCESSING AND PRESENTATION  1.571588  0.001000   \n",
       "65    Factor 7        ANTIGEN PROCESSING AND PRESENTATION  1.632749  0.001000   \n",
       "78    Factor 8        ANTIGEN PROCESSING AND PRESENTATION  1.566836  0.001000   \n",
       "91    Factor 9        ANTIGEN PROCESSING AND PRESENTATION  1.624004  0.001000   \n",
       "92    Factor 9               CELL ADHESION MOLECULES CAMS  1.348992  0.002002   \n",
       "104  Factor 10        ANTIGEN PROCESSING AND PRESENTATION  1.552424  0.001000   \n",
       "117  Factor 11        ANTIGEN PROCESSING AND PRESENTATION  1.471047  0.001000   \n",
       "118  Factor 11  NATURAL KILLER CELL MEDIATED CYTOTOXICITY  1.466711  0.001001   \n",
       "\n",
       "     Adj. P-value  \n",
       "0        0.014314  \n",
       "26       0.014314  \n",
       "27       0.014314  \n",
       "52       0.014314  \n",
       "65       0.014314  \n",
       "78       0.014314  \n",
       "91       0.014314  \n",
       "92       0.026026  \n",
       "104      0.014314  \n",
       "117      0.014314  \n",
       "118      0.014314  "
      ]
     },
     "execution_count": 17,
     "metadata": {},
     "output_type": "execute_result"
    }
   ],
   "source": [
    "gsea_df.loc[(gsea_df['Adj. P-value'] < 0.05) & (gsea_df['NES'] > 0.)]"
   ]
  },
  {
   "cell_type": "markdown",
   "id": "c0f19de0",
   "metadata": {},
   "source": [
    "**And Depleted Pathways**"
   ]
  },
  {
   "cell_type": "code",
   "execution_count": 19,
   "id": "94dc00a9",
   "metadata": {},
   "outputs": [
    {
     "data": {
      "text/html": [
       "<div>\n",
       "<style scoped>\n",
       "    .dataframe tbody tr th:only-of-type {\n",
       "        vertical-align: middle;\n",
       "    }\n",
       "\n",
       "    .dataframe tbody tr th {\n",
       "        vertical-align: top;\n",
       "    }\n",
       "\n",
       "    .dataframe thead th {\n",
       "        text-align: right;\n",
       "    }\n",
       "</style>\n",
       "<table border=\"1\" class=\"dataframe\">\n",
       "  <thead>\n",
       "    <tr style=\"text-align: right;\">\n",
       "      <th></th>\n",
       "      <th>Factor</th>\n",
       "      <th>Term</th>\n",
       "      <th>NES</th>\n",
       "      <th>P-value</th>\n",
       "      <th>Adj. P-value</th>\n",
       "    </tr>\n",
       "  </thead>\n",
       "  <tbody>\n",
       "  </tbody>\n",
       "</table>\n",
       "</div>"
      ],
      "text/plain": [
       "Empty DataFrame\n",
       "Columns: [Factor, Term, NES, P-value, Adj. P-value]\n",
       "Index: []"
      ]
     },
     "execution_count": 19,
     "metadata": {},
     "output_type": "execute_result"
    }
   ],
   "source": [
    "gsea_df.loc[(gsea_df['Adj. P-value'] < 0.05) & (gsea_df['NES'] < 0.)]"
   ]
  },
  {
   "cell_type": "markdown",
   "id": "56fd5694",
   "metadata": {},
   "source": [
    "## Footprint Enrichment"
   ]
  },
  {
   "cell_type": "markdown",
   "id": "ad5bb159",
   "metadata": {},
   "source": [
    "Footprint enrichment analysis build upon classic geneset enrichment analysis, as instead of considering the genes involved in a biological activity, they consider the genes affected by the activity, or in other words the genes that change downstream of said activity [(Dugourd and Saez-Rodriguez, 2019)](https://www.sciencedirect.com/science/article/pii/S2452310019300149). This is particularly useful when working with transcriptomics data, as it allows to identify the genes that are regulated by a biological process, instead of the genes that are part of the process. In this case, we will use the PROGENy pathway resource to perform footprint enrichment analysis. PROGENy was built in a data-driven manner using perturbation and cancer lineage data [(Schubert et al, 2019)](https://www.nature.com/articles/s41467-017-02391-6#Sec8), as a consequence it also assigns different importances or weights to each gene in its pathway genesets.\n",
    "\n",
    "To this end, we need an enrichment method that can take weights into account, and here we will use multi-variate linear models from the `decoupler-py` package to perform this analysis [(Badia-i-Mompel et al., 2022)](https://academic.oup.com/bioinformaticsadvances/article/2/1/vbac016/6544613)."
   ]
  },
  {
   "cell_type": "markdown",
   "id": "ca5209d4",
   "metadata": {},
   "source": [
    "###  load the PROGENy pathway resource:"
   ]
  },
  {
   "cell_type": "code",
   "execution_count": 20,
   "id": "68972dfc",
   "metadata": {},
   "outputs": [],
   "source": [
    "net = dc.get_progeny(organism='human', top=5000)"
   ]
  },
  {
   "cell_type": "markdown",
   "id": "bac3fcc0",
   "metadata": {},
   "source": [
    "Now we will use the PROGENy genesets to assign pathways and weights to the ligand-receptor pairs in liana's consensus resource. Specifically, we will use the weighted bipartite networks from PROGENy, where the weight represents the importance of the genes to a given geneset, and assign a weight to each ligand-receptor interaction, based on the mean of the weights of the proteins in that ligand-receptor interaction. We keep only ligand-receptor weights only if all the protein in the ligand-receptor interaction are present for a given pathway, and are sign-coherent."
   ]
  },
  {
   "cell_type": "code",
   "execution_count": 21,
   "id": "25731683",
   "metadata": {},
   "outputs": [
    {
     "data": {
      "text/html": [
       "<div>\n",
       "<style scoped>\n",
       "    .dataframe tbody tr th:only-of-type {\n",
       "        vertical-align: middle;\n",
       "    }\n",
       "\n",
       "    .dataframe tbody tr th {\n",
       "        vertical-align: top;\n",
       "    }\n",
       "\n",
       "    .dataframe thead th {\n",
       "        text-align: right;\n",
       "    }\n",
       "</style>\n",
       "<table border=\"1\" class=\"dataframe\">\n",
       "  <thead>\n",
       "    <tr style=\"text-align: right;\">\n",
       "      <th></th>\n",
       "      <th>source</th>\n",
       "      <th>interaction</th>\n",
       "      <th>weight</th>\n",
       "    </tr>\n",
       "  </thead>\n",
       "  <tbody>\n",
       "    <tr>\n",
       "      <th>1</th>\n",
       "      <td>JAK-STAT</td>\n",
       "      <td>LGALS9^PTPRC</td>\n",
       "      <td>1.307807</td>\n",
       "    </tr>\n",
       "    <tr>\n",
       "      <th>74</th>\n",
       "      <td>Androgen</td>\n",
       "      <td>SEMA4D^MET</td>\n",
       "      <td>-0.831693</td>\n",
       "    </tr>\n",
       "    <tr>\n",
       "      <th>90</th>\n",
       "      <td>Androgen</td>\n",
       "      <td>HGF^MET</td>\n",
       "      <td>-1.288956</td>\n",
       "    </tr>\n",
       "    <tr>\n",
       "      <th>106</th>\n",
       "      <td>Androgen</td>\n",
       "      <td>TIMP3^MET</td>\n",
       "      <td>-1.122612</td>\n",
       "    </tr>\n",
       "    <tr>\n",
       "      <th>151</th>\n",
       "      <td>NFkB</td>\n",
       "      <td>SELE^CD44</td>\n",
       "      <td>3.332552</td>\n",
       "    </tr>\n",
       "  </tbody>\n",
       "</table>\n",
       "</div>"
      ],
      "text/plain": [
       "       source   interaction    weight\n",
       "1    JAK-STAT  LGALS9^PTPRC  1.307807\n",
       "74   Androgen    SEMA4D^MET -0.831693\n",
       "90   Androgen       HGF^MET -1.288956\n",
       "106  Androgen     TIMP3^MET -1.122612\n",
       "151      NFkB     SELE^CD44  3.332552"
      ]
     },
     "execution_count": 21,
     "metadata": {},
     "output_type": "execute_result"
    }
   ],
   "source": [
    "lr_progeny = li.funcomics.generate_lr_geneset(lr_pairs, net, lr_separator=\"^\")\n",
    "lr_progeny.head()"
   ]
  },
  {
   "cell_type": "markdown",
   "id": "2d7909a0",
   "metadata": {},
   "source": [
    "### Run footprint enrichment analysis"
   ]
  },
  {
   "cell_type": "markdown",
   "id": "536c29e1",
   "metadata": {},
   "source": [
    "We will now use the `decoupler-py` package to perform the analysis."
   ]
  },
  {
   "cell_type": "code",
   "execution_count": 22,
   "id": "358b2ddb",
   "metadata": {},
   "outputs": [],
   "source": [
    "estimate, pvals =  dc.run_mlm(lr_loadings.transpose(), \n",
    "                              lr_progeny, \n",
    "                              source=\"source\", \n",
    "                              target=\"interaction\", \n",
    "                              use_raw=False)"
   ]
  },
  {
   "cell_type": "markdown",
   "id": "3ae118e0",
   "metadata": {},
   "source": [
    "### Visualize Results"
   ]
  },
  {
   "cell_type": "code",
   "execution_count": 23,
   "id": "88645855",
   "metadata": {},
   "outputs": [
    {
     "data": {
      "image/png": "[encoded data removed]",
      "text/plain": [
       "<Figure size 720x720 with 4 Axes>"
      ]
     },
     "metadata": {
      "needs_background": "light"
     },
     "output_type": "display_data"
    }
   ],
   "source": [
    "sns.clustermap(estimate, xticklabels=estimate.columns, cmap='coolwarm', z_score=4)\n",
    "plt.savefig(output_folder + '/PROGENy.pdf', dpi=300, bbox_inches='tight')"
   ]
  },
  {
   "cell_type": "markdown",
   "id": "69a55f24",
   "metadata": {},
   "source": [
    "Let's zoom in on Factor <span style='color:red'>**XXX**</span>, which is associated with COVID-19 cases. "
   ]
  },
  {
   "cell_type": "code",
   "execution_count": 25,
   "id": "c84985d0",
   "metadata": {},
   "outputs": [
    {
     "data": {
      "image/png": "[encoded data removed]",
      "text/plain": [
       "<Figure size 700x500 with 2 Axes>"
      ]
     },
     "metadata": {
      "needs_background": "light"
     },
     "output_type": "display_data"
    }
   ],
   "source": [
    "selected_factor = 'Factor 10'\n",
    "\n",
    "dc.plot_barplot(estimate,\n",
    "                selected_factor,\n",
    "                vertical=True, \n",
    "                cmap='coolwarm', \n",
    "                save=output_folder + '/PROGENy-{}.pdf'.format(selected_factor.replace(' ', '-'))"
   ]
  },
  {
   "cell_type": "markdown",
   "id": "d94507d7",
   "metadata": {},
   "source": [
    "From the plots above, we can see that the NFkB pathway is active and highly active in Factor 6. This is also concordant with the KEGG pathways associated with the chemokine and cytotoxic response from the analysis with GSEA above. Indeed, the tensor decomposition results indicate that NKs and T cells are the main sender cells in this factor. So, let's see which ligand-receptor pairs are enriched in this pathway."
   ]
  },
  {
   "cell_type": "code",
   "execution_count": 26,
   "id": "fce94e3b",
   "metadata": {},
   "outputs": [
    {
     "data": {
      "text/html": [
       "<div>\n",
       "<style scoped>\n",
       "    .dataframe tbody tr th:only-of-type {\n",
       "        vertical-align: middle;\n",
       "    }\n",
       "\n",
       "    .dataframe tbody tr th {\n",
       "        vertical-align: top;\n",
       "    }\n",
       "\n",
       "    .dataframe thead th {\n",
       "        text-align: right;\n",
       "    }\n",
       "</style>\n",
       "<table border=\"1\" class=\"dataframe\">\n",
       "  <thead>\n",
       "    <tr style=\"text-align: right;\">\n",
       "      <th></th>\n",
       "      <th>interaction</th>\n",
       "      <th>Factor</th>\n",
       "      <th>Loadings</th>\n",
       "      <th>source</th>\n",
       "      <th>weight</th>\n",
       "      <th>sign</th>\n",
       "      <th>relevant_interactions</th>\n",
       "    </tr>\n",
       "  </thead>\n",
       "  <tbody>\n",
       "    <tr>\n",
       "      <th>189</th>\n",
       "      <td>ADAM17^ITGA5</td>\n",
       "      <td>Factor 6</td>\n",
       "      <td>0.001847</td>\n",
       "      <td>NFkB</td>\n",
       "      <td>1.961245</td>\n",
       "      <td>positive</td>\n",
       "      <td>None</td>\n",
       "    </tr>\n",
       "    <tr>\n",
       "      <th>256</th>\n",
       "      <td>ADAM17^MUC1</td>\n",
       "      <td>Factor 6</td>\n",
       "      <td>0.011219</td>\n",
       "      <td>NFkB</td>\n",
       "      <td>1.680033</td>\n",
       "      <td>positive</td>\n",
       "      <td>None</td>\n",
       "    </tr>\n",
       "    <tr>\n",
       "      <th>298</th>\n",
       "      <td>ADAM17^RHBDF2</td>\n",
       "      <td>Factor 6</td>\n",
       "      <td>0.000007</td>\n",
       "      <td>NFkB</td>\n",
       "      <td>2.274298</td>\n",
       "      <td>positive</td>\n",
       "      <td>None</td>\n",
       "    </tr>\n",
       "    <tr>\n",
       "      <th>365</th>\n",
       "      <td>ADM^GPR84</td>\n",
       "      <td>Factor 6</td>\n",
       "      <td>0.027672</td>\n",
       "      <td>NFkB</td>\n",
       "      <td>5.392048</td>\n",
       "      <td>positive</td>\n",
       "      <td>ADM^GPR84</td>\n",
       "    </tr>\n",
       "    <tr>\n",
       "      <th>965</th>\n",
       "      <td>B2M^LILRB1</td>\n",
       "      <td>Factor 6</td>\n",
       "      <td>0.095267</td>\n",
       "      <td>NFkB</td>\n",
       "      <td>1.465579</td>\n",
       "      <td>positive</td>\n",
       "      <td>None</td>\n",
       "    </tr>\n",
       "  </tbody>\n",
       "</table>\n",
       "</div>"
      ],
      "text/plain": [
       "       interaction    Factor  Loadings source    weight      sign  \\\n",
       "189   ADAM17^ITGA5  Factor 6  0.001847   NFkB  1.961245  positive   \n",
       "256    ADAM17^MUC1  Factor 6  0.011219   NFkB  1.680033  positive   \n",
       "298  ADAM17^RHBDF2  Factor 6  0.000007   NFkB  2.274298  positive   \n",
       "365      ADM^GPR84  Factor 6  0.027672   NFkB  5.392048  positive   \n",
       "965     B2M^LILRB1  Factor 6  0.095267   NFkB  1.465579  positive   \n",
       "\n",
       "    relevant_interactions  \n",
       "189                  None  \n",
       "256                  None  \n",
       "298                  None  \n",
       "365             ADM^GPR84  \n",
       "965                  None  "
      ]
     },
     "execution_count": 26,
     "metadata": {},
     "output_type": "execute_result"
    }
   ],
   "source": [
    "# loadings to long format\n",
    "lr_loadings_long = lr_loadings.reset_index().melt(id_vars='index', var_name=\"Factor\", value_name=\"Loadings\").rename(columns={'index':'interaction'})\n",
    "# join progeny weights and keep only NFkB pathway\n",
    "lr_loadings_long = lr_loadings_long.merge(lr_progeny, on='interaction').query(\"source == 'NFkB' and Factor == '{}'\".format(selected_factor))\n",
    "# add sign to the weights\n",
    "lr_loadings_long['sign'] = lr_loadings_long['weight'].apply(lambda x: 'positive' if x > 0 else 'negative')\n",
    "# keep only relevant interactions for labels\n",
    "lr_loadings_long['relevant_interactions'] = lr_loadings_long.apply(lambda x: x['interaction'] if (x['Loadings'] > 0.025) and (x['weight'] > 2.5) else None, axis=1)\n",
    "lr_loadings_long.head()"
   ]
  },
  {
   "cell_type": "markdown",
   "id": "593583eb",
   "metadata": {},
   "source": [
    "#### plot the loadings for Factor 6 and weights of the NFkB pathway"
   ]
  },
  {
   "cell_type": "code",
   "execution_count": 27,
   "id": "c72b3e73",
   "metadata": {},
   "outputs": [
    {
     "data": {
      "image/png": "[encoded data removed]",
      "text/plain": [
       "<Figure size 640x480 with 1 Axes>"
      ]
     },
     "metadata": {},
     "output_type": "display_data"
    },
    {
     "data": {
      "text/plain": [
       "<ggplot: (8770697683725)>"
      ]
     },
     "execution_count": 27,
     "metadata": {},
     "output_type": "execute_result"
    }
   ],
   "source": [
    "(p9.ggplot(lr_loadings_long,\n",
    "           p9.aes(x='weight', y='Loadings')) +\n",
    " p9.geom_smooth(method='lm') + \n",
    " p9.geom_point(p9.aes(colour='sign')) +\n",
    " p9.theme_bw() +\n",
    " p9.theme(legend_position='none') +\n",
    " p9.labs(title=\"NFkB | {}\".format(selected_factor), x=\"PROGENy Weights\", y=\"Loadings\") +\n",
    " p9.scale_colour_manual(values=[\"royalblue\", \"red\"]) +\n",
    " p9.geom_label(p9.aes(label='relevant_interactions'), size=8, nudge_y=0.01, nudge_x=0.01) + \n",
    " p9.xlim(-1, 8.5)\n",
    " )"
   ]
  },
  {
   "cell_type": "markdown",
   "id": "acb3c5e7",
   "metadata": {},
   "source": [
    "Here, we can see that for example the `C3 -> IFITM1` and `VEGFA -> CD44` are interactions found with high importances in the NFkB pathway, and high loadings. Also IFITM1 is involved in restricting viral infection (https://doi.org/10.15252/embj.2020106501), which in this case could represent the immune response controling the SARS-CoV-2 infection."
   ]
  }
 ],
 "metadata": {
  "kernelspec": {
   "display_name": "Python 3 (ipykernel)",
   "language": "python",
   "name": "python3"
  },
  "language_info": {
   "codemirror_mode": {
    "name": "ipython",
    "version": 3
   },
   "file_extension": ".py",
   "mimetype": "text/x-python",
   "name": "python",
   "nbconvert_exporter": "python",
   "pygments_lexer": "ipython3",
   "version": "3.10.8"
  },
  "vscode": {
   "interpreter": {
    "hash": "a89d9df9e41c144bbb86b791904f32fb0efeb7b488a88d676a8bce57017c9696"
   }
  }
 },
 "nbformat": 4,
 "nbformat_minor": 5
}
