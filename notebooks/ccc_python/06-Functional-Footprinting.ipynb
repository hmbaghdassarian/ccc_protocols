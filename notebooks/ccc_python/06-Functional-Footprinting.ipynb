{
 "cells": [
  {
   "attachments": {},
   "cell_type": "markdown",
   "id": "3d54b332",
   "metadata": {},
   "source": [
    "# 6. Pathway Enrichment of LR loadings\n",
    "\n",
    "Cell-cell communication inference from single-cell data provides unprecedented insights into the molecular mechanisms underlying cell-cell communication. In particular, it enables the capture of CCC interactions at a systems level, which is not possible with traditional approaches. However, as the number of inferred interactions increases, the interpretation of the inferred cell-cell communication networks becomes more challenging. To this end, as done in other omics studies, we can perform pathway enrichment analysis to identify the general biological processes that are enriched in the inferred interactions. Pathway enrichment thus serves two purposes; it reduces the dimensionality of the inferred interactions, and also provides a biological summary of the inferred interactions.\n",
    "\n",
    "In this tutorial, we will show how to use the `cell2cell` and `liana` packages to perform classical gene set enrichment analysis using `GSEA` with `KEGG Pathways`, and also we will use perform a footprint enrichment analysis using a `multi-variate linear regression` with the PROGENy pathway resource. We will use the [`GSEAPY`](https://gseapy.readthedocs.io/en/latest/) and [`decoupler-py`](https://decoupler-py.readthedocs.io/en/latest) packages to perform these analyses."
   ]
  },
  {
   "cell_type": "code",
   "execution_count": 1,
   "id": "2ac22be8",
   "metadata": {},
   "outputs": [],
   "source": [
    "import cell2cell as c2c\n",
    "import liana as li\n",
    "\n",
    "import pandas as pd\n",
    "\n",
    "import decoupler as dc\n",
    "\n",
    "import matplotlib.pyplot as plt\n",
    "import plotnine as p9\n",
    "import seaborn as sns\n",
    "\n",
    "%matplotlib inline"
   ]
  },
  {
   "cell_type": "code",
   "execution_count": 2,
   "id": "907c4925",
   "metadata": {},
   "outputs": [],
   "source": [
    "import warnings\n",
    "warnings.filterwarnings('ignore')"
   ]
  },
  {
   "cell_type": "markdown",
   "id": "eded8fe1",
   "metadata": {},
   "source": [
    "## Directories"
   ]
  },
  {
   "cell_type": "code",
   "execution_count": 3,
   "id": "c0a73062",
   "metadata": {},
   "outputs": [
    {
     "name": "stdout",
     "output_type": "stream",
     "text": [
      "../../data/tc2c-outputs/ already exists.\n"
     ]
    }
   ],
   "source": [
    "output_folder = '../../data/tc2c-outputs/'\n",
    "c2c.io.directories.create_directory(output_folder)"
   ]
  },
  {
   "cell_type": "markdown",
   "id": "2f5d0d38",
   "metadata": {},
   "source": [
    "## Load Data"
   ]
  },
  {
   "cell_type": "markdown",
   "id": "973d1b0b",
   "metadata": {},
   "source": [
    "**Open the loadings obtained from the tensor factorization**"
   ]
  },
  {
   "cell_type": "code",
   "execution_count": 4,
   "id": "1657732b",
   "metadata": {},
   "outputs": [],
   "source": [
    "factors = c2c.io.load_tensor_factors(output_folder + 'Loadings.xlsx')"
   ]
  },
  {
   "cell_type": "markdown",
   "id": "24b18655",
   "metadata": {},
   "source": [
    "**Load list of ligand-receptor pairs used as reference to [run LIANA](./02-Infer-Communication-Scores.ipynb)**"
   ]
  },
  {
   "cell_type": "code",
   "execution_count": 5,
   "id": "e96e13f7",
   "metadata": {},
   "outputs": [
    {
     "data": {
      "text/html": [
       "<div>\n",
       "<style scoped>\n",
       "    .dataframe tbody tr th:only-of-type {\n",
       "        vertical-align: middle;\n",
       "    }\n",
       "\n",
       "    .dataframe tbody tr th {\n",
       "        vertical-align: top;\n",
       "    }\n",
       "\n",
       "    .dataframe thead th {\n",
       "        text-align: right;\n",
       "    }\n",
       "</style>\n",
       "<table border=\"1\" class=\"dataframe\">\n",
       "  <thead>\n",
       "    <tr style=\"text-align: right;\">\n",
       "      <th></th>\n",
       "      <th>ligand</th>\n",
       "      <th>receptor</th>\n",
       "    </tr>\n",
       "  </thead>\n",
       "  <tbody>\n",
       "    <tr>\n",
       "      <th>0</th>\n",
       "      <td>LGALS9</td>\n",
       "      <td>PTPRC</td>\n",
       "    </tr>\n",
       "    <tr>\n",
       "      <th>1</th>\n",
       "      <td>LGALS9</td>\n",
       "      <td>MET</td>\n",
       "    </tr>\n",
       "    <tr>\n",
       "      <th>2</th>\n",
       "      <td>LGALS9</td>\n",
       "      <td>CD44</td>\n",
       "    </tr>\n",
       "    <tr>\n",
       "      <th>3</th>\n",
       "      <td>LGALS9</td>\n",
       "      <td>LRP1</td>\n",
       "    </tr>\n",
       "    <tr>\n",
       "      <th>4</th>\n",
       "      <td>LGALS9</td>\n",
       "      <td>CD47</td>\n",
       "    </tr>\n",
       "  </tbody>\n",
       "</table>\n",
       "</div>"
      ],
      "text/plain": [
       "   ligand receptor\n",
       "0  LGALS9    PTPRC\n",
       "1  LGALS9      MET\n",
       "2  LGALS9     CD44\n",
       "3  LGALS9     LRP1\n",
       "4  LGALS9     CD47"
      ]
     },
     "execution_count": 5,
     "metadata": {},
     "output_type": "execute_result"
    }
   ],
   "source": [
    "lr_pairs = li.resource.select_resource('consensus')\n",
    "lr_pairs.head()"
   ]
  },
  {
   "cell_type": "markdown",
   "id": "43090ea6",
   "metadata": {},
   "source": [
    "**Generate a list with the LR pair names**\n",
    "\n",
    "KEGG was originally designed to work with list of genes. Here we are using ligand-receptor pairs, so instead of using Gene Sets we need to build our LR-gene sets. This list is a first step to build the LR-gene sets."
   ]
  },
  {
   "cell_type": "code",
   "execution_count": 6,
   "id": "0550bdd3",
   "metadata": {},
   "outputs": [],
   "source": [
    "lr_list = ['^'.join(row) for idx, row in lr_pairs.iterrows()] "
   ]
  },
  {
   "cell_type": "markdown",
   "id": "3572fb9d",
   "metadata": {},
   "source": [
    "## Gene Set Enrichment Analysis\n",
    "\n",
    "In this case, we will run the PreRank method of GSEA since our LR pairs are pre-ranked based on their loadings in each factor obtained by Tensor-cell2cell."
   ]
  },
  {
   "cell_type": "markdown",
   "id": "fa6385ac",
   "metadata": {},
   "source": [
    "### Generate LR-gene set for running GSEA\n",
    "\n",
    "`cell2cell` includes some resources associated with the Gene sets employed in GSEA. It includes annotations of GO Terms (BP), KEGG, and Reactome, for human and mouse."
   ]
  },
  {
   "cell_type": "markdown",
   "id": "97f8d4a6",
   "metadata": {},
   "source": [
    "**First, specify which organism and annotation DB to use**"
   ]
  },
  {
   "cell_type": "code",
   "execution_count": 7,
   "id": "c11ec2fd",
   "metadata": {},
   "outputs": [],
   "source": [
    "organism = 'human' # For the COVID-19 data analyzed with LIANA+Tensor-cell2cell\n",
    "pathwaydb = 'KEGG' # KEGG Pathways"
   ]
  },
  {
   "cell_type": "markdown",
   "id": "77835f05",
   "metadata": {},
   "source": [
    "**Generate the LR-gene set that will be used for running GSEA**"
   ]
  },
  {
   "cell_type": "code",
   "execution_count": 8,
   "id": "2b9e896f",
   "metadata": {},
   "outputs": [],
   "source": [
    "lr_set = c2c.external.generate_lr_geneset(lr_list,\n",
    "                                          complex_sep='_',\n",
    "                                          lr_sep='^',\n",
    "                                          organism=organism,\n",
    "                                          pathwaydb=pathwaydb,\n",
    "                                          readable_name=True,\n",
    "                                          output_folder=output_folder\n",
    "                                          )"
   ]
  },
  {
   "cell_type": "markdown",
   "id": "b6ab0812",
   "metadata": {},
   "source": [
    "### Extract LR loadings for each factor"
   ]
  },
  {
   "cell_type": "code",
   "execution_count": 9,
   "id": "f43cd70c",
   "metadata": {},
   "outputs": [],
   "source": [
    "lr_loadings = factors['Ligand-Receptor Pairs']"
   ]
  },
  {
   "cell_type": "markdown",
   "id": "0a8b4d7d",
   "metadata": {},
   "source": [
    "### Run GSEA\n",
    "\n",
    "This external function implemented in `cell2cell` builds upon the function `gseapy.prerank()`.\n",
    "\n",
    "All outputs will be saved in the `output_folder`. Make sure that this path exist before running this function."
   ]
  },
  {
   "cell_type": "code",
   "execution_count": 10,
   "id": "40220386",
   "metadata": {},
   "outputs": [
    {
     "name": "stderr",
     "output_type": "stream",
     "text": [
      "  0%|          | 0/11 [00:00<?, ?it/s]"
     ]
    },
    {
     "name": "stdout",
     "output_type": "stream",
     "text": [
      "../../data/tc2c-outputs/ already exists.\n"
     ]
    },
    {
     "name": "stderr",
     "output_type": "stream",
     "text": [
      " 18%|█▊        | 2/11 [00:01<00:05,  1.57it/s]2023-03-29 13:53:18,474 [WARNING] Duplicated values found in preranked stats: 0.28% of genes\n",
      "The order of those genes will be arbitrary, which may produce unexpected results.\n",
      " 27%|██▋       | 3/11 [00:02<00:08,  1.05s/it]2023-03-29 13:53:20,018 [WARNING] Duplicated values found in preranked stats: 0.09% of genes\n",
      "The order of those genes will be arbitrary, which may produce unexpected results.\n",
      " 36%|███▋      | 4/11 [00:03<00:06,  1.07it/s]2023-03-29 13:53:20,845 [WARNING] Duplicated values found in preranked stats: 0.09% of genes\n",
      "The order of those genes will be arbitrary, which may produce unexpected results.\n",
      " 73%|███████▎  | 8/11 [00:08<00:03,  1.22s/it]2023-03-29 13:53:25,763 [WARNING] Duplicated values found in preranked stats: 0.19% of genes\n",
      "The order of those genes will be arbitrary, which may produce unexpected results.\n",
      " 82%|████████▏ | 9/11 [00:09<00:02,  1.01s/it]2023-03-29 13:53:26,268 [WARNING] Duplicated values found in preranked stats: 0.19% of genes\n",
      "The order of those genes will be arbitrary, which may produce unexpected results.\n",
      "2023-03-29 13:53:26,328 [WARNING] Duplicated values found in preranked stats: 0.57% of genes\n",
      "The order of those genes will be arbitrary, which may produce unexpected results.\n",
      "100%|██████████| 11/11 [00:10<00:00,  1.06it/s]"
     ]
    },
    {
     "name": "stdout",
     "output_type": "stream",
     "text": [
      "CPU times: user 11.4 s, sys: 174 ms, total: 11.6 s\n",
      "Wall time: 10.5 s\n"
     ]
    },
    {
     "name": "stderr",
     "output_type": "stream",
     "text": [
      "\n"
     ]
    }
   ],
   "source": [
    "%%time\n",
    "pvals, scores, gsea_df = c2c.external.run_gsea(loadings=lr_loadings, \n",
    "                                               lr_set=lr_set,\n",
    "                                               output_folder=output_folder,\n",
    "                                               weight=1,\n",
    "                                               min_size=15,\n",
    "                                               permutations=999,\n",
    "                                               processes=6,\n",
    "                                               random_state=6,\n",
    "                                               significance_threshold=0.05,\n",
    "                                              )"
   ]
  },
  {
   "cell_type": "markdown",
   "id": "c4654706",
   "metadata": {},
   "source": [
    "### Visualization\n",
    "\n",
    "We can use the `pvals` and `scores`outputs to visualize the results as a Dot Plot:"
   ]
  },
  {
   "cell_type": "code",
   "execution_count": 11,
   "id": "587f2ede",
   "metadata": {},
   "outputs": [
    {
     "data": {
      "image/png": "[encoded data removed]",
      "text/plain": [
       "<Figure size 360x864 with 3 Axes>"
      ]
     },
     "metadata": {},
     "output_type": "display_data"
    }
   ],
   "source": [
    "with sns.axes_style(\"darkgrid\"):\n",
    "    dotplot = c2c.plotting.pval_plot.generate_dot_plot(pval_df=pvals,\n",
    "                                                       score_df=scores,\n",
    "                                                       significance=0.05,\n",
    "                                                       xlabel='',\n",
    "                                                       ylabel='{} Annotations'.format(pathwaydb),\n",
    "                                                       cbar_title='NES',\n",
    "                                                       cmap='PuOr',\n",
    "                                                       figsize=(5, 12),\n",
    "                                                       label_size=20,\n",
    "                                                       title_size=20,\n",
    "                                                       tick_size=12,\n",
    "                                                       filename=output_folder + '/GSEA-Dotplot.pdf'\n",
    "                                                      )"
   ]
  },
  {
   "cell_type": "markdown",
   "id": "8eb5cea3",
   "metadata": {},
   "source": [
    "**Similarly, we can use gsea_df to easily see the Enriched Pathways**"
   ]
  },
  {
   "cell_type": "code",
   "execution_count": 12,
   "id": "136e6817",
   "metadata": {},
   "outputs": [
    {
     "data": {
      "text/html": [
       "<div>\n",
       "<style scoped>\n",
       "    .dataframe tbody tr th:only-of-type {\n",
       "        vertical-align: middle;\n",
       "    }\n",
       "\n",
       "    .dataframe tbody tr th {\n",
       "        vertical-align: top;\n",
       "    }\n",
       "\n",
       "    .dataframe thead th {\n",
       "        text-align: right;\n",
       "    }\n",
       "</style>\n",
       "<table border=\"1\" class=\"dataframe\">\n",
       "  <thead>\n",
       "    <tr style=\"text-align: right;\">\n",
       "      <th></th>\n",
       "      <th>Factor</th>\n",
       "      <th>Term</th>\n",
       "      <th>NES</th>\n",
       "      <th>P-value</th>\n",
       "      <th>Adj. P-value</th>\n",
       "    </tr>\n",
       "  </thead>\n",
       "  <tbody>\n",
       "    <tr>\n",
       "      <th>13</th>\n",
       "      <td>Factor 3</td>\n",
       "      <td>ANTIGEN PROCESSING AND PRESENTATION</td>\n",
       "      <td>1.441494</td>\n",
       "      <td>0.001000</td>\n",
       "      <td>0.018590</td>\n",
       "    </tr>\n",
       "    <tr>\n",
       "      <th>52</th>\n",
       "      <td>Factor 6</td>\n",
       "      <td>ANTIGEN PROCESSING AND PRESENTATION</td>\n",
       "      <td>1.615916</td>\n",
       "      <td>0.001000</td>\n",
       "      <td>0.018590</td>\n",
       "    </tr>\n",
       "    <tr>\n",
       "      <th>53</th>\n",
       "      <td>Factor 6</td>\n",
       "      <td>CELL ADHESION MOLECULES CAMS</td>\n",
       "      <td>1.547076</td>\n",
       "      <td>0.001000</td>\n",
       "      <td>0.018590</td>\n",
       "    </tr>\n",
       "    <tr>\n",
       "      <th>65</th>\n",
       "      <td>Factor 7</td>\n",
       "      <td>ANTIGEN PROCESSING AND PRESENTATION</td>\n",
       "      <td>1.537889</td>\n",
       "      <td>0.001000</td>\n",
       "      <td>0.018590</td>\n",
       "    </tr>\n",
       "    <tr>\n",
       "      <th>78</th>\n",
       "      <td>Factor 8</td>\n",
       "      <td>INTESTINAL IMMUNE NETWORK FOR IGA PRODUCTION</td>\n",
       "      <td>1.368692</td>\n",
       "      <td>0.003006</td>\n",
       "      <td>0.048848</td>\n",
       "    </tr>\n",
       "    <tr>\n",
       "      <th>79</th>\n",
       "      <td>Factor 8</td>\n",
       "      <td>ANTIGEN PROCESSING AND PRESENTATION</td>\n",
       "      <td>1.299828</td>\n",
       "      <td>0.001001</td>\n",
       "      <td>0.018590</td>\n",
       "    </tr>\n",
       "  </tbody>\n",
       "</table>\n",
       "</div>"
      ],
      "text/plain": [
       "      Factor                                          Term       NES  \\\n",
       "13  Factor 3           ANTIGEN PROCESSING AND PRESENTATION  1.441494   \n",
       "52  Factor 6           ANTIGEN PROCESSING AND PRESENTATION  1.615916   \n",
       "53  Factor 6                  CELL ADHESION MOLECULES CAMS  1.547076   \n",
       "65  Factor 7           ANTIGEN PROCESSING AND PRESENTATION  1.537889   \n",
       "78  Factor 8  INTESTINAL IMMUNE NETWORK FOR IGA PRODUCTION  1.368692   \n",
       "79  Factor 8           ANTIGEN PROCESSING AND PRESENTATION  1.299828   \n",
       "\n",
       "     P-value  Adj. P-value  \n",
       "13  0.001000      0.018590  \n",
       "52  0.001000      0.018590  \n",
       "53  0.001000      0.018590  \n",
       "65  0.001000      0.018590  \n",
       "78  0.003006      0.048848  \n",
       "79  0.001001      0.018590  "
      ]
     },
     "execution_count": 12,
     "metadata": {},
     "output_type": "execute_result"
    }
   ],
   "source": [
    "gsea_df.loc[(gsea_df['Adj. P-value'] < 0.05) & (gsea_df['NES'] > 0.)]"
   ]
  },
  {
   "cell_type": "markdown",
   "id": "c0f19de0",
   "metadata": {},
   "source": [
    "**And Depleted Pathways**"
   ]
  },
  {
   "cell_type": "code",
   "execution_count": 13,
   "id": "94dc00a9",
   "metadata": {},
   "outputs": [
    {
     "data": {
      "text/html": [
       "<div>\n",
       "<style scoped>\n",
       "    .dataframe tbody tr th:only-of-type {\n",
       "        vertical-align: middle;\n",
       "    }\n",
       "\n",
       "    .dataframe tbody tr th {\n",
       "        vertical-align: top;\n",
       "    }\n",
       "\n",
       "    .dataframe thead th {\n",
       "        text-align: right;\n",
       "    }\n",
       "</style>\n",
       "<table border=\"1\" class=\"dataframe\">\n",
       "  <thead>\n",
       "    <tr style=\"text-align: right;\">\n",
       "      <th></th>\n",
       "      <th>Factor</th>\n",
       "      <th>Term</th>\n",
       "      <th>NES</th>\n",
       "      <th>P-value</th>\n",
       "      <th>Adj. P-value</th>\n",
       "    </tr>\n",
       "  </thead>\n",
       "  <tbody>\n",
       "    <tr>\n",
       "      <th>17</th>\n",
       "      <td>Factor 3</td>\n",
       "      <td>APOPTOSIS</td>\n",
       "      <td>-1.062030</td>\n",
       "      <td>0.001</td>\n",
       "      <td>0.01859</td>\n",
       "    </tr>\n",
       "    <tr>\n",
       "      <th>120</th>\n",
       "      <td>Factor 11</td>\n",
       "      <td>APOPTOSIS</td>\n",
       "      <td>-1.132762</td>\n",
       "      <td>0.001</td>\n",
       "      <td>0.01859</td>\n",
       "    </tr>\n",
       "  </tbody>\n",
       "</table>\n",
       "</div>"
      ],
      "text/plain": [
       "        Factor       Term       NES  P-value  Adj. P-value\n",
       "17    Factor 3  APOPTOSIS -1.062030    0.001       0.01859\n",
       "120  Factor 11  APOPTOSIS -1.132762    0.001       0.01859"
      ]
     },
     "execution_count": 13,
     "metadata": {},
     "output_type": "execute_result"
    }
   ],
   "source": [
    "gsea_df.loc[(gsea_df['Adj. P-value'] < 0.05) & (gsea_df['NES'] < 0.)]"
   ]
  },
  {
   "cell_type": "markdown",
   "id": "56fd5694",
   "metadata": {},
   "source": [
    "## Footprint Enrichment"
   ]
  },
  {
   "cell_type": "markdown",
   "id": "ad5bb159",
   "metadata": {},
   "source": [
    "Footprint enrichment analysis build upon classic geneset enrichment analysis, as instead of considering the genes involved in a biological activity, they consider the genes affected by the activity, or in other words the genes that change downstream of said activity [(Dugourd and Saez-Rodriguez, 2019)](https://www.sciencedirect.com/science/article/pii/S2452310019300149). This is particularly useful when working with transcriptomics data, as it allows to identify the genes that are regulated by a biological process, instead of the genes that are part of the process. In this case, we will use the PROGENy pathway resource to perform footprint enrichment analysis. PROGENy was built in a data-driven manner using perturbation and cancer lineage data [(Schubert et al, 2019)](https://www.nature.com/articles/s41467-017-02391-6#Sec8), as a consequence it also assigns different importances or weights to each gene in its pathway genesets.\n",
    "\n",
    "To this end, we need an enrichment method that can take weights into account, and here we will use multi-variate linear models from the `decoupler-py` package to perform this analysis [(Badia-i-Mompel et al., 2022)](https://academic.oup.com/bioinformaticsadvances/article/2/1/vbac016/6544613)."
   ]
  },
  {
   "cell_type": "markdown",
   "id": "ca5209d4",
   "metadata": {},
   "source": [
    "###  load the PROGENy pathway resource:"
   ]
  },
  {
   "cell_type": "code",
   "execution_count": 14,
   "id": "68972dfc",
   "metadata": {},
   "outputs": [],
   "source": [
    "net = dc.get_progeny(organism='human', top=5000)"
   ]
  },
  {
   "cell_type": "markdown",
   "id": "bac3fcc0",
   "metadata": {},
   "source": [
    "Now we will use the PROGENy genesets to assign pathways and weights to the ligand-receptor pairs in liana's consensus resource. Specifically, we will use the weighted bipartite networks from PROGENy, where the weight represents the importance of the genes to a given geneset, and assign a weight to each ligand-receptor interaction, based on the mean of the weights of the proteins in that ligand-receptor interaction. We keep only ligand-receptor weights only if all the protein in the ligand-receptor interaction are present for a given pathway, and are sign-coherent."
   ]
  },
  {
   "cell_type": "code",
   "execution_count": 15,
   "id": "25731683",
   "metadata": {},
   "outputs": [
    {
     "data": {
      "text/html": [
       "<div>\n",
       "<style scoped>\n",
       "    .dataframe tbody tr th:only-of-type {\n",
       "        vertical-align: middle;\n",
       "    }\n",
       "\n",
       "    .dataframe tbody tr th {\n",
       "        vertical-align: top;\n",
       "    }\n",
       "\n",
       "    .dataframe thead th {\n",
       "        text-align: right;\n",
       "    }\n",
       "</style>\n",
       "<table border=\"1\" class=\"dataframe\">\n",
       "  <thead>\n",
       "    <tr style=\"text-align: right;\">\n",
       "      <th></th>\n",
       "      <th>source</th>\n",
       "      <th>interaction</th>\n",
       "      <th>weight</th>\n",
       "    </tr>\n",
       "  </thead>\n",
       "  <tbody>\n",
       "    <tr>\n",
       "      <th>1</th>\n",
       "      <td>JAK-STAT</td>\n",
       "      <td>LGALS9^PTPRC</td>\n",
       "      <td>1.307807</td>\n",
       "    </tr>\n",
       "    <tr>\n",
       "      <th>74</th>\n",
       "      <td>Androgen</td>\n",
       "      <td>SEMA4D^MET</td>\n",
       "      <td>-0.831693</td>\n",
       "    </tr>\n",
       "    <tr>\n",
       "      <th>90</th>\n",
       "      <td>Androgen</td>\n",
       "      <td>HGF^MET</td>\n",
       "      <td>-1.288956</td>\n",
       "    </tr>\n",
       "    <tr>\n",
       "      <th>106</th>\n",
       "      <td>Androgen</td>\n",
       "      <td>TIMP3^MET</td>\n",
       "      <td>-1.122612</td>\n",
       "    </tr>\n",
       "    <tr>\n",
       "      <th>151</th>\n",
       "      <td>NFkB</td>\n",
       "      <td>SELE^CD44</td>\n",
       "      <td>3.332552</td>\n",
       "    </tr>\n",
       "  </tbody>\n",
       "</table>\n",
       "</div>"
      ],
      "text/plain": [
       "       source   interaction    weight\n",
       "1    JAK-STAT  LGALS9^PTPRC  1.307807\n",
       "74   Androgen    SEMA4D^MET -0.831693\n",
       "90   Androgen       HGF^MET -1.288956\n",
       "106  Androgen     TIMP3^MET -1.122612\n",
       "151      NFkB     SELE^CD44  3.332552"
      ]
     },
     "execution_count": 15,
     "metadata": {},
     "output_type": "execute_result"
    }
   ],
   "source": [
    "lr_progeny = li.funcomics.generate_lr_geneset(lr_pairs, net, lr_separator=\"^\")\n",
    "lr_progeny.head()"
   ]
  },
  {
   "cell_type": "markdown",
   "id": "2d7909a0",
   "metadata": {},
   "source": [
    "### Run footprint enrichment analysis"
   ]
  },
  {
   "cell_type": "markdown",
   "id": "536c29e1",
   "metadata": {},
   "source": [
    "We will now use the `decoupler-py` package to perform the analysis."
   ]
  },
  {
   "cell_type": "code",
   "execution_count": 16,
   "id": "358b2ddb",
   "metadata": {},
   "outputs": [],
   "source": [
    "estimate, pvals =  dc.run_mlm(lr_loadings.transpose(), \n",
    "                              lr_progeny, \n",
    "                              source=\"source\", \n",
    "                              target=\"interaction\")"
   ]
  },
  {
   "cell_type": "markdown",
   "id": "3ae118e0",
   "metadata": {},
   "source": [
    "### Visualize Results"
   ]
  },
  {
   "cell_type": "code",
   "execution_count": 17,
   "id": "abd819ce",
   "metadata": {},
   "outputs": [
    {
     "data": {
      "image/png": "[encoded data removed]",
      "text/plain": [
       "<Figure size 720x720 with 4 Axes>"
      ]
     },
     "metadata": {
      "needs_background": "light"
     },
     "output_type": "display_data"
    }
   ],
   "source": [
    "sns.clustermap(estimate, xticklabels=estimate.columns, cmap='coolwarm', z_score=4)\n",
    "plt.savefig(output_folder + '/PROGENy.pdf', dpi=300, bbox_inches='tight')"
   ]
  },
  {
   "attachments": {},
   "cell_type": "markdown",
   "id": "69a55f24",
   "metadata": {},
   "source": [
    "Let's zoom in on **Factor 4**, which is associated with COVID-19 cases. "
   ]
  },
  {
   "cell_type": "code",
   "execution_count": 18,
   "id": "c84985d0",
   "metadata": {},
   "outputs": [
    {
     "data": {
      "image/png": "[encoded data removed]",
      "text/plain": [
       "<Figure size 700x500 with 2 Axes>"
      ]
     },
     "metadata": {
      "needs_background": "light"
     },
     "output_type": "display_data"
    }
   ],
   "source": [
    "selected_factor = 'Factor 4'\n",
    "\n",
    "dc.plot_barplot(estimate,\n",
    "                selected_factor,\n",
    "                vertical=True, \n",
    "                cmap='coolwarm', \n",
    "                save=output_folder + '/PROGENy-{}.pdf'.format(selected_factor.replace(' ', '-')))"
   ]
  },
  {
   "attachments": {},
   "cell_type": "markdown",
   "id": "d94507d7",
   "metadata": {},
   "source": [
    "From the plots above, we can see that the **JAK-STAT** pathway is downregulated in **Factor 4**. Let's see which ligand-receptor pairs are enriched in this pathway."
   ]
  },
  {
   "cell_type": "code",
   "execution_count": 19,
   "id": "fce94e3b",
   "metadata": {},
   "outputs": [
    {
     "data": {
      "text/html": [
       "<div>\n",
       "<style scoped>\n",
       "    .dataframe tbody tr th:only-of-type {\n",
       "        vertical-align: middle;\n",
       "    }\n",
       "\n",
       "    .dataframe tbody tr th {\n",
       "        vertical-align: top;\n",
       "    }\n",
       "\n",
       "    .dataframe thead th {\n",
       "        text-align: right;\n",
       "    }\n",
       "</style>\n",
       "<table border=\"1\" class=\"dataframe\">\n",
       "  <thead>\n",
       "    <tr style=\"text-align: right;\">\n",
       "      <th></th>\n",
       "      <th>interaction</th>\n",
       "      <th>Factor</th>\n",
       "      <th>Loadings</th>\n",
       "      <th>source</th>\n",
       "      <th>weight</th>\n",
       "      <th>sign</th>\n",
       "      <th>relevant_interactions</th>\n",
       "    </tr>\n",
       "  </thead>\n",
       "  <tbody>\n",
       "    <tr>\n",
       "      <th>897</th>\n",
       "      <td>B2M^LILRB2</td>\n",
       "      <td>Factor 4</td>\n",
       "      <td>1.106445e-01</td>\n",
       "      <td>JAK-STAT</td>\n",
       "      <td>1.428233</td>\n",
       "      <td>positive</td>\n",
       "      <td>None</td>\n",
       "    </tr>\n",
       "    <tr>\n",
       "      <th>1125</th>\n",
       "      <td>CCL18^CCR1</td>\n",
       "      <td>Factor 4</td>\n",
       "      <td>3.732620e-03</td>\n",
       "      <td>JAK-STAT</td>\n",
       "      <td>1.096684</td>\n",
       "      <td>positive</td>\n",
       "      <td>None</td>\n",
       "    </tr>\n",
       "    <tr>\n",
       "      <th>1161</th>\n",
       "      <td>CCL2^CCR1</td>\n",
       "      <td>Factor 4</td>\n",
       "      <td>8.181328e-02</td>\n",
       "      <td>JAK-STAT</td>\n",
       "      <td>2.103921</td>\n",
       "      <td>positive</td>\n",
       "      <td>CCL2^CCR1</td>\n",
       "    </tr>\n",
       "    <tr>\n",
       "      <th>1249</th>\n",
       "      <td>CCL7^CCR1</td>\n",
       "      <td>Factor 4</td>\n",
       "      <td>3.631837e-02</td>\n",
       "      <td>JAK-STAT</td>\n",
       "      <td>1.145112</td>\n",
       "      <td>positive</td>\n",
       "      <td>None</td>\n",
       "    </tr>\n",
       "    <tr>\n",
       "      <th>1301</th>\n",
       "      <td>CCL7^CXCR3</td>\n",
       "      <td>Factor 4</td>\n",
       "      <td>2.646225e-10</td>\n",
       "      <td>JAK-STAT</td>\n",
       "      <td>0.682378</td>\n",
       "      <td>positive</td>\n",
       "      <td>None</td>\n",
       "    </tr>\n",
       "  </tbody>\n",
       "</table>\n",
       "</div>"
      ],
      "text/plain": [
       "     interaction    Factor      Loadings    source    weight      sign  \\\n",
       "897   B2M^LILRB2  Factor 4  1.106445e-01  JAK-STAT  1.428233  positive   \n",
       "1125  CCL18^CCR1  Factor 4  3.732620e-03  JAK-STAT  1.096684  positive   \n",
       "1161   CCL2^CCR1  Factor 4  8.181328e-02  JAK-STAT  2.103921  positive   \n",
       "1249   CCL7^CCR1  Factor 4  3.631837e-02  JAK-STAT  1.145112  positive   \n",
       "1301  CCL7^CXCR3  Factor 4  2.646225e-10  JAK-STAT  0.682378  positive   \n",
       "\n",
       "     relevant_interactions  \n",
       "897                   None  \n",
       "1125                  None  \n",
       "1161             CCL2^CCR1  \n",
       "1249                  None  \n",
       "1301                  None  "
      ]
     },
     "execution_count": 19,
     "metadata": {},
     "output_type": "execute_result"
    }
   ],
   "source": [
    "selected_pathway = 'JAK-STAT'\n",
    "\n",
    "# loadings to long format\n",
    "lr_loadings_long = lr_loadings.reset_index().melt(id_vars='index', var_name=\"Factor\", value_name=\"Loadings\").rename(columns={'index':'interaction'})\n",
    "# join progeny weights and keep only NFkB pathway\n",
    "lr_loadings_long = (lr_loadings_long.merge(lr_progeny, on='interaction').\n",
    "                    query(f\"source == '{selected_pathway}' and Factor == '{selected_factor}'\")\n",
    "                    )\n",
    "# add sign to the weights\n",
    "lr_loadings_long['sign'] = lr_loadings_long['weight'].apply(lambda x: 'positive' if x > 0 else 'negative')\n",
    "# keep only relevant interactions for labels\n",
    "lr_loadings_long['relevant_interactions'] = lr_loadings_long.apply(lambda x: x['interaction'] if (x['Loadings'] > 0.025) and (x['weight'] > 2) else None, axis=1)\n",
    "lr_loadings_long.head()"
   ]
  },
  {
   "attachments": {},
   "cell_type": "markdown",
   "id": "593583eb",
   "metadata": {},
   "source": [
    "##### plot the loadings for that Factor and the weights of the pathway"
   ]
  },
  {
   "cell_type": "code",
   "execution_count": 20,
   "id": "c72b3e73",
   "metadata": {},
   "outputs": [
    {
     "data": {
      "image/png": "[encoded data removed]",
      "text/plain": [
       "<Figure size 640x480 with 1 Axes>"
      ]
     },
     "metadata": {},
     "output_type": "display_data"
    },
    {
     "data": {
      "text/plain": [
       "<ggplot: (8780677920500)>"
      ]
     },
     "execution_count": 20,
     "metadata": {},
     "output_type": "execute_result"
    }
   ],
   "source": [
    "(p9.ggplot(lr_loadings_long,\n",
    "           p9.aes(x='weight', y='Loadings')) +\n",
    " p9.geom_smooth(method='lm') + \n",
    " p9.geom_point(p9.aes(colour='sign')) +\n",
    " p9.theme_bw() +\n",
    " p9.theme(legend_position='none') +\n",
    " p9.labs(title=\"{} | {}\".format(selected_pathway, selected_factor), x=\"PROGENy Weights\", y=\"Loadings\") +\n",
    " p9.scale_colour_manual(values=[\"royalblue\", \"red\"]) +\n",
    " p9.geom_label(p9.aes(label='relevant_interactions'), size=8, nudge_y=0.01, nudge_x=0.01) + \n",
    " p9.xlim(-1, 6)\n",
    " )"
   ]
  },
  {
   "cell_type": "code",
   "execution_count": null,
   "id": "90256aef",
   "metadata": {},
   "outputs": [],
   "source": []
  }
 ],
 "metadata": {
  "kernelspec": {
   "display_name": "cell2cell",
   "language": "python",
   "name": "python3"
  },
  "language_info": {
   "codemirror_mode": {
    "name": "ipython",
    "version": 3
   },
   "file_extension": ".py",
   "mimetype": "text/x-python",
   "name": "python",
   "nbconvert_exporter": "python",
   "pygments_lexer": "ipython3",
   "version": "3.8.8"
  },
  "vscode": {
   "interpreter": {
    "hash": "a89d9df9e41c144bbb86b791904f32fb0efeb7b488a88d676a8bce57017c9696"
   }
  }
 },
 "nbformat": 4,
 "nbformat_minor": 5
}
