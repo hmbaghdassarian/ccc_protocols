{
 "cells": [
  {
   "cell_type": "markdown",
   "id": "3d54b332",
   "metadata": {},
   "source": [
    "# Pathway Enrichment of LR loadings\n",
    "\n",
    "Cell-cell communication inference from single-cell data provides unprecedented insights into the molecular mechanisms underlying cell-cell communication. In particular, it enables the capture of CCC interactions at a systems level, which is not possible with traditional approaches. However, as the number of inferred interactions increases, the interpretation of the inferred cell-cell communication networks becomes more challenging. To this end, as done in other omics studies, we can perform pathway enrichment analysis to identify the general biological processes that are enriched in the inferred interactions. Pathway enrichment thus serves two purposes; it reduces the dimensionality of the inferred interactions, and also provides a biological summary of the inferred interactions.\n",
    "\n",
    "In this tutorial, we will show how to use the `cell2cell` and `liana` packages to perform classical gene set enrichment analysis using `GSEA` with `KEGG Pathways`, and also we will use perform a footprint enrichment analysis using a `multi-variate linear model` with the PROGENy pathway resource. We will use the [`GSEAPY`](https://gseapy.readthedocs.io/en/latest/) and [`decoupler-py`](https://decoupler-py.readthedocs.io/en/latest) packages to perform these analyses."
   ]
  },
  {
   "cell_type": "code",
   "execution_count": 3,
   "id": "2ac22be8",
   "metadata": {},
   "outputs": [],
   "source": [
    "import cell2cell as c2c\n",
    "import liana as li\n",
    "\n",
    "import pandas as pd\n",
    "\n",
    "import decoupler as dc\n",
    "\n",
    "import matplotlib.pyplot as plt\n",
    "import plotnine as p9\n",
    "import seaborn as sns\n",
    "%matplotlib inline"
   ]
  },
  {
   "cell_type": "code",
   "execution_count": 4,
   "id": "907c4925",
   "metadata": {},
   "outputs": [],
   "source": [
    "import warnings\n",
    "warnings.filterwarnings('ignore')"
   ]
  },
  {
   "cell_type": "markdown",
   "id": "eded8fe1",
   "metadata": {},
   "source": [
    "## Directories"
   ]
  },
  {
   "cell_type": "code",
   "execution_count": 5,
   "id": "c0a73062",
   "metadata": {},
   "outputs": [
    {
     "name": "stdout",
     "output_type": "stream",
     "text": [
      "../../data/tc2c-outputs/ already exists.\n"
     ]
    }
   ],
   "source": [
    "output_folder = '../../data/tc2c-outputs/'\n",
    "c2c.io.directories.create_directory(output_folder)"
   ]
  },
  {
   "cell_type": "markdown",
   "id": "2f5d0d38",
   "metadata": {},
   "source": [
    "## Load Data"
   ]
  },
  {
   "cell_type": "markdown",
   "id": "973d1b0b",
   "metadata": {},
   "source": [
    "**Open the loadings obtained from the tensor factorization**"
   ]
  },
  {
   "cell_type": "code",
   "execution_count": 6,
   "id": "1657732b",
   "metadata": {},
   "outputs": [],
   "source": [
    "factors = c2c.io.load_tensor_factors(output_folder + 'Loadings.xlsx')"
   ]
  },
  {
   "cell_type": "markdown",
   "id": "24b18655",
   "metadata": {},
   "source": [
    "**Load list of LR pairs used as reference to [run LIANA](./02-Infer-Communication-Scores.ipynb)**"
   ]
  },
  {
   "cell_type": "code",
   "execution_count": 20,
   "id": "e96e13f7",
   "metadata": {},
   "outputs": [
    {
     "data": {
      "text/html": [
       "<div>\n",
       "<style scoped>\n",
       "    .dataframe tbody tr th:only-of-type {\n",
       "        vertical-align: middle;\n",
       "    }\n",
       "\n",
       "    .dataframe tbody tr th {\n",
       "        vertical-align: top;\n",
       "    }\n",
       "\n",
       "    .dataframe thead th {\n",
       "        text-align: right;\n",
       "    }\n",
       "</style>\n",
       "<table border=\"1\" class=\"dataframe\">\n",
       "  <thead>\n",
       "    <tr style=\"text-align: right;\">\n",
       "      <th></th>\n",
       "      <th>ligand</th>\n",
       "      <th>receptor</th>\n",
       "    </tr>\n",
       "  </thead>\n",
       "  <tbody>\n",
       "    <tr>\n",
       "      <th>0</th>\n",
       "      <td>LGALS9</td>\n",
       "      <td>PTPRC</td>\n",
       "    </tr>\n",
       "    <tr>\n",
       "      <th>1</th>\n",
       "      <td>LGALS9</td>\n",
       "      <td>MET</td>\n",
       "    </tr>\n",
       "    <tr>\n",
       "      <th>2</th>\n",
       "      <td>LGALS9</td>\n",
       "      <td>CD44</td>\n",
       "    </tr>\n",
       "    <tr>\n",
       "      <th>3</th>\n",
       "      <td>LGALS9</td>\n",
       "      <td>LRP1</td>\n",
       "    </tr>\n",
       "    <tr>\n",
       "      <th>4</th>\n",
       "      <td>LGALS9</td>\n",
       "      <td>CD47</td>\n",
       "    </tr>\n",
       "  </tbody>\n",
       "</table>\n",
       "</div>"
      ],
      "text/plain": [
       "   ligand receptor\n",
       "0  LGALS9    PTPRC\n",
       "1  LGALS9      MET\n",
       "2  LGALS9     CD44\n",
       "3  LGALS9     LRP1\n",
       "4  LGALS9     CD47"
      ]
     },
     "execution_count": 20,
     "metadata": {},
     "output_type": "execute_result"
    }
   ],
   "source": [
    "lr_pairs = li.resource.select_resource('consensus')\n",
    "lr_pairs.head()"
   ]
  },
  {
   "cell_type": "markdown",
   "id": "43090ea6",
   "metadata": {},
   "source": [
    "**Generate a list with the LR pair names**\n",
    "\n",
    "GSEA was originally designed to work with list of genes. Here we are using ligand-receptor pairs, so instead of using Gene Sets we need to build our LR-gene sets. This list is a first step to build the LR-gene sets."
   ]
  },
  {
   "cell_type": "code",
   "execution_count": 9,
   "id": "0550bdd3",
   "metadata": {},
   "outputs": [],
   "source": [
    "lr_list = ['^'.join(row) for idx, row in lr_pairs.iterrows()] "
   ]
  },
  {
   "cell_type": "markdown",
   "id": "3572fb9d",
   "metadata": {},
   "source": [
    "## Gene Set Enrichment Analysis\n",
    "\n",
    "In this case, we will run the PreRank method of GSEA since our LR pairs are pre-ranked based on their loadings in each factor obtained by Tensor-cell2cell."
   ]
  },
  {
   "cell_type": "markdown",
   "id": "fa6385ac",
   "metadata": {},
   "source": [
    "### Generate LR-gene set for running GSEA\n",
    "\n",
    "`cell2cell` includes some resources associated with the Gene sets employed in GSEA. It includes annotations of GO Terms (BP), KEGG, and Reactome, for human and mouse."
   ]
  },
  {
   "cell_type": "markdown",
   "id": "97f8d4a6",
   "metadata": {},
   "source": [
    "**First, specify which organism and annotation DB to use**"
   ]
  },
  {
   "cell_type": "code",
   "execution_count": 11,
   "id": "c11ec2fd",
   "metadata": {},
   "outputs": [],
   "source": [
    "organism = 'human' # For the COVID-19 data analyzed with LIANA+Tensor-cell2cell\n",
    "pathwaydb = 'KEGG' # KEGG Pathways"
   ]
  },
  {
   "cell_type": "markdown",
   "id": "77835f05",
   "metadata": {},
   "source": [
    "**Generate the LR-gene set that will be used for running GSEA**"
   ]
  },
  {
   "cell_type": "markdown",
   "id": "b6ab0812",
   "metadata": {},
   "source": [
    "### Extract LR loadings for each factor"
   ]
  },
  {
   "cell_type": "code",
   "execution_count": 14,
   "id": "f43cd70c",
   "metadata": {},
   "outputs": [],
   "source": [
    "lr_loadings = factors['Ligand-Receptor Pairs']"
   ]
  },
  {
   "cell_type": "markdown",
   "id": "0a8b4d7d",
   "metadata": {},
   "source": [
    "### Run GSEA\n",
    "\n",
    "This external function implemented in `cell2cell` builds upon the function `gseapy.prerank()`.\n",
    "\n",
    "All outputs will be saved in the `output_folder`. Make sure that this path exist before running this function."
   ]
  },
  {
   "cell_type": "code",
   "execution_count": 16,
   "id": "40220386",
   "metadata": {},
   "outputs": [
    {
     "name": "stdout",
     "output_type": "stream",
     "text": [
      "../../data/tc2c-outputs/ already exists.\n"
     ]
    },
    {
     "data": {
      "application/vnd.jupyter.widget-view+json": {
       "model_id": "a95f2a105bfb424390254d1eb41938a1",
       "version_major": 2,
       "version_minor": 0
      },
      "text/plain": [
       "  0%|          | 0/12 [00:00<?, ?it/s]"
      ]
     },
     "metadata": {},
     "output_type": "display_data"
    },
    {
     "name": "stderr",
     "output_type": "stream",
     "text": [
      "2023-02-24 15:56:54,091 [WARNING] Duplicated values found in preranked stats: 0.07% of genes\n",
      "The order of those genes will be arbitrary, which may produce unexpected results.\n",
      "2023-02-24 15:56:54,217 [WARNING] Duplicated values found in preranked stats: 1.21% of genes\n",
      "The order of those genes will be arbitrary, which may produce unexpected results.\n",
      "2023-02-24 15:56:55,847 [WARNING] Duplicated values found in preranked stats: 0.99% of genes\n",
      "The order of those genes will be arbitrary, which may produce unexpected results.\n",
      "2023-02-24 15:56:57,210 [WARNING] Duplicated values found in preranked stats: 1.77% of genes\n",
      "The order of those genes will be arbitrary, which may produce unexpected results.\n",
      "2023-02-24 15:56:58,263 [WARNING] Duplicated values found in preranked stats: 0.64% of genes\n",
      "The order of those genes will be arbitrary, which may produce unexpected results.\n",
      "2023-02-24 15:56:58,356 [WARNING] Duplicated values found in preranked stats: 1.06% of genes\n",
      "The order of those genes will be arbitrary, which may produce unexpected results.\n",
      "2023-02-24 15:57:00,378 [WARNING] Duplicated values found in preranked stats: 2.70% of genes\n",
      "The order of those genes will be arbitrary, which may produce unexpected results.\n",
      "2023-02-24 15:57:01,118 [WARNING] Duplicated values found in preranked stats: 1.35% of genes\n",
      "The order of those genes will be arbitrary, which may produce unexpected results.\n",
      "2023-02-24 15:57:01,848 [WARNING] Duplicated values found in preranked stats: 1.21% of genes\n",
      "The order of those genes will be arbitrary, which may produce unexpected results.\n",
      "2023-02-24 15:57:02,260 [WARNING] Duplicated values found in preranked stats: 0.99% of genes\n",
      "The order of those genes will be arbitrary, which may produce unexpected results.\n",
      "2023-02-24 15:57:04,278 [WARNING] Duplicated values found in preranked stats: 0.64% of genes\n",
      "The order of those genes will be arbitrary, which may produce unexpected results.\n",
      "2023-02-24 15:57:04,366 [WARNING] Duplicated values found in preranked stats: 1.77% of genes\n",
      "The order of those genes will be arbitrary, which may produce unexpected results.\n"
     ]
    },
    {
     "name": "stdout",
     "output_type": "stream",
     "text": [
      "CPU times: user 15.7 s, sys: 9.5 s, total: 25.2 s\n",
      "Wall time: 12.4 s\n"
     ]
    }
   ],
   "source": [
    "%%time\n",
    "pvals, scores, gsea_df = c2c.external.run_gsea(loadings=lr_loadings, \n",
    "                                               lr_set=lr_set,\n",
    "                                               output_folder=output_folder,\n",
    "                                               weight=1,\n",
    "                                               min_size=15,\n",
    "                                               permutations=999,\n",
    "                                               processes=6,\n",
    "                                               random_state=6,\n",
    "                                               significance_threshold=0.05,\n",
    "                                              )"
   ]
  },
  {
   "cell_type": "markdown",
   "id": "c4654706",
   "metadata": {},
   "source": [
    "### Visualization\n",
    "\n",
    "We can use the `pvals` and `scores`outputs to visualize the results as a Dot Plot:"
   ]
  },
  {
   "cell_type": "code",
   "execution_count": 51,
   "id": "663ef97a",
   "metadata": {},
   "outputs": [],
   "source": [
    "import numpy as np\n",
    "\n",
    "significance = 0.05\n",
    "pval_df = pvals\n",
    "\n",
    "\n",
    "df = pval_df.lt(significance).astype(int)\n",
    "# Drop all zeros\n",
    "df = df.loc[(df != 0).any(axis=1)]\n",
    "df = df.T.loc[(df != 0).any(axis=0)].T"
   ]
  },
  {
   "cell_type": "code",
   "execution_count": 52,
   "id": "7b63ec3f",
   "metadata": {},
   "outputs": [
    {
     "data": {
      "text/html": [
       "<div>\n",
       "<style scoped>\n",
       "    .dataframe tbody tr th:only-of-type {\n",
       "        vertical-align: middle;\n",
       "    }\n",
       "\n",
       "    .dataframe tbody tr th {\n",
       "        vertical-align: top;\n",
       "    }\n",
       "\n",
       "    .dataframe thead th {\n",
       "        text-align: right;\n",
       "    }\n",
       "</style>\n",
       "<table border=\"1\" class=\"dataframe\">\n",
       "  <thead>\n",
       "    <tr style=\"text-align: right;\">\n",
       "      <th>Factor</th>\n",
       "      <th>Factor 10</th>\n",
       "      <th>Factor 2</th>\n",
       "      <th>Factor 3</th>\n",
       "      <th>Factor 4</th>\n",
       "      <th>Factor 6</th>\n",
       "      <th>Factor 7</th>\n",
       "      <th>Factor 9</th>\n",
       "    </tr>\n",
       "    <tr>\n",
       "      <th>Term</th>\n",
       "      <th></th>\n",
       "      <th></th>\n",
       "      <th></th>\n",
       "      <th></th>\n",
       "      <th></th>\n",
       "      <th></th>\n",
       "      <th></th>\n",
       "    </tr>\n",
       "  </thead>\n",
       "  <tbody>\n",
       "    <tr>\n",
       "      <th>ANTIGEN PROCESSING AND PRESENTATION</th>\n",
       "      <td>5.241984e-01</td>\n",
       "      <td>1.867996</td>\n",
       "      <td>1.867996</td>\n",
       "      <td>1.867996e+00</td>\n",
       "      <td>1.867996e+00</td>\n",
       "      <td>9.301441e-01</td>\n",
       "      <td>1.867996e+00</td>\n",
       "    </tr>\n",
       "    <tr>\n",
       "      <th>CELL ADHESION MOLECULES CAMS</th>\n",
       "      <td>1.878118e-01</td>\n",
       "      <td>0.347680</td>\n",
       "      <td>1.867996</td>\n",
       "      <td>-4.342945e-10</td>\n",
       "      <td>1.867996e+00</td>\n",
       "      <td>-4.342945e-10</td>\n",
       "      <td>-4.342945e-10</td>\n",
       "    </tr>\n",
       "    <tr>\n",
       "      <th>ECM RECEPTOR INTERACTION</th>\n",
       "      <td>1.867996e+00</td>\n",
       "      <td>0.416811</td>\n",
       "      <td>0.004288</td>\n",
       "      <td>-4.342945e-10</td>\n",
       "      <td>-4.342945e-10</td>\n",
       "      <td>6.834717e-01</td>\n",
       "      <td>1.266870e-01</td>\n",
       "    </tr>\n",
       "    <tr>\n",
       "      <th>FOCAL ADHESION</th>\n",
       "      <td>1.867996e+00</td>\n",
       "      <td>0.866027</td>\n",
       "      <td>0.057061</td>\n",
       "      <td>-4.342945e-10</td>\n",
       "      <td>-4.342945e-10</td>\n",
       "      <td>5.969294e-01</td>\n",
       "      <td>2.089345e-01</td>\n",
       "    </tr>\n",
       "    <tr>\n",
       "      <th>GRAFT VERSUS HOST DISEASE</th>\n",
       "      <td>-4.342945e-10</td>\n",
       "      <td>1.139404</td>\n",
       "      <td>1.032371</td>\n",
       "      <td>7.888149e-01</td>\n",
       "      <td>1.867996e+00</td>\n",
       "      <td>-4.342945e-10</td>\n",
       "      <td>9.316393e-02</td>\n",
       "    </tr>\n",
       "    <tr>\n",
       "      <th>NATURAL KILLER CELL MEDIATED CYTOTOXICITY</th>\n",
       "      <td>-4.342945e-10</td>\n",
       "      <td>1.867996</td>\n",
       "      <td>0.467746</td>\n",
       "      <td>1.151993e+00</td>\n",
       "      <td>1.867996e+00</td>\n",
       "      <td>-4.342945e-10</td>\n",
       "      <td>6.178331e-01</td>\n",
       "    </tr>\n",
       "    <tr>\n",
       "      <th>WNT SIGNALING PATHWAY</th>\n",
       "      <td>6.834717e-01</td>\n",
       "      <td>0.075188</td>\n",
       "      <td>0.127633</td>\n",
       "      <td>5.054109e-01</td>\n",
       "      <td>1.274172e-01</td>\n",
       "      <td>1.867996e+00</td>\n",
       "      <td>3.160172e-02</td>\n",
       "    </tr>\n",
       "  </tbody>\n",
       "</table>\n",
       "</div>"
      ],
      "text/plain": [
       "Factor                                        Factor 10  Factor 2  Factor 3  \\\n",
       "Term                                                                          \n",
       "ANTIGEN PROCESSING AND PRESENTATION        5.241984e-01  1.867996  1.867996   \n",
       "CELL ADHESION MOLECULES CAMS               1.878118e-01  0.347680  1.867996   \n",
       "ECM RECEPTOR INTERACTION                   1.867996e+00  0.416811  0.004288   \n",
       "FOCAL ADHESION                             1.867996e+00  0.866027  0.057061   \n",
       "GRAFT VERSUS HOST DISEASE                 -4.342945e-10  1.139404  1.032371   \n",
       "NATURAL KILLER CELL MEDIATED CYTOTOXICITY -4.342945e-10  1.867996  0.467746   \n",
       "WNT SIGNALING PATHWAY                      6.834717e-01  0.075188  0.127633   \n",
       "\n",
       "Factor                                         Factor 4      Factor 6  \\\n",
       "Term                                                                    \n",
       "ANTIGEN PROCESSING AND PRESENTATION        1.867996e+00  1.867996e+00   \n",
       "CELL ADHESION MOLECULES CAMS              -4.342945e-10  1.867996e+00   \n",
       "ECM RECEPTOR INTERACTION                  -4.342945e-10 -4.342945e-10   \n",
       "FOCAL ADHESION                            -4.342945e-10 -4.342945e-10   \n",
       "GRAFT VERSUS HOST DISEASE                  7.888149e-01  1.867996e+00   \n",
       "NATURAL KILLER CELL MEDIATED CYTOTOXICITY  1.151993e+00  1.867996e+00   \n",
       "WNT SIGNALING PATHWAY                      5.054109e-01  1.274172e-01   \n",
       "\n",
       "Factor                                         Factor 7      Factor 9  \n",
       "Term                                                                   \n",
       "ANTIGEN PROCESSING AND PRESENTATION        9.301441e-01  1.867996e+00  \n",
       "CELL ADHESION MOLECULES CAMS              -4.342945e-10 -4.342945e-10  \n",
       "ECM RECEPTOR INTERACTION                   6.834717e-01  1.266870e-01  \n",
       "FOCAL ADHESION                             5.969294e-01  2.089345e-01  \n",
       "GRAFT VERSUS HOST DISEASE                 -4.342945e-10  9.316393e-02  \n",
       "NATURAL KILLER CELL MEDIATED CYTOTOXICITY -4.342945e-10  6.178331e-01  \n",
       "WNT SIGNALING PATHWAY                      1.867996e+00  3.160172e-02  "
      ]
     },
     "execution_count": 52,
     "metadata": {},
     "output_type": "execute_result"
    }
   ],
   "source": [
    "pval_df[df.columns].loc[df.index].applymap(lambda x: -1. * np.log10(x + 1e-9))"
   ]
  },
  {
   "cell_type": "code",
   "execution_count": 53,
   "id": "b6a1aadc",
   "metadata": {},
   "outputs": [
    {
     "data": {
      "text/html": [
       "<div>\n",
       "<style scoped>\n",
       "    .dataframe tbody tr th:only-of-type {\n",
       "        vertical-align: middle;\n",
       "    }\n",
       "\n",
       "    .dataframe tbody tr th {\n",
       "        vertical-align: top;\n",
       "    }\n",
       "\n",
       "    .dataframe thead th {\n",
       "        text-align: right;\n",
       "    }\n",
       "</style>\n",
       "<table border=\"1\" class=\"dataframe\">\n",
       "  <thead>\n",
       "    <tr style=\"text-align: right;\">\n",
       "      <th>Factor</th>\n",
       "      <th>Factor 10</th>\n",
       "      <th>Factor 11</th>\n",
       "      <th>Factor 12</th>\n",
       "      <th>Factor 2</th>\n",
       "      <th>Factor 3</th>\n",
       "      <th>Factor 4</th>\n",
       "      <th>Factor 5</th>\n",
       "      <th>Factor 6</th>\n",
       "      <th>Factor 7</th>\n",
       "      <th>Factor 8</th>\n",
       "      <th>Factor 9</th>\n",
       "    </tr>\n",
       "    <tr>\n",
       "      <th>Term</th>\n",
       "      <th></th>\n",
       "      <th></th>\n",
       "      <th></th>\n",
       "      <th></th>\n",
       "      <th></th>\n",
       "      <th></th>\n",
       "      <th></th>\n",
       "      <th></th>\n",
       "      <th></th>\n",
       "      <th></th>\n",
       "      <th></th>\n",
       "    </tr>\n",
       "  </thead>\n",
       "  <tbody>\n",
       "    <tr>\n",
       "      <th>ANTIGEN PROCESSING AND PRESENTATION</th>\n",
       "      <td>0.299090</td>\n",
       "      <td>1.000000</td>\n",
       "      <td>0.207266</td>\n",
       "      <td>0.013552</td>\n",
       "      <td>0.013552</td>\n",
       "      <td>0.013552</td>\n",
       "      <td>0.443964</td>\n",
       "      <td>0.013552</td>\n",
       "      <td>0.117451</td>\n",
       "      <td>0.968969</td>\n",
       "      <td>0.013552</td>\n",
       "    </tr>\n",
       "    <tr>\n",
       "      <th>APOPTOSIS</th>\n",
       "      <td>0.990175</td>\n",
       "      <td>0.968969</td>\n",
       "      <td>0.072543</td>\n",
       "      <td>1.000000</td>\n",
       "      <td>1.000000</td>\n",
       "      <td>1.000000</td>\n",
       "      <td>1.000000</td>\n",
       "      <td>1.000000</td>\n",
       "      <td>0.480071</td>\n",
       "      <td>1.000000</td>\n",
       "      <td>0.743855</td>\n",
       "    </tr>\n",
       "    <tr>\n",
       "      <th>AXON GUIDANCE</th>\n",
       "      <td>0.745732</td>\n",
       "      <td>0.896717</td>\n",
       "      <td>0.733120</td>\n",
       "      <td>0.990175</td>\n",
       "      <td>1.000000</td>\n",
       "      <td>1.000000</td>\n",
       "      <td>0.968969</td>\n",
       "      <td>1.000000</td>\n",
       "      <td>0.234902</td>\n",
       "      <td>1.000000</td>\n",
       "      <td>1.000000</td>\n",
       "    </tr>\n",
       "    <tr>\n",
       "      <th>CELL ADHESION MOLECULES CAMS</th>\n",
       "      <td>0.648916</td>\n",
       "      <td>1.000000</td>\n",
       "      <td>0.205539</td>\n",
       "      <td>0.449077</td>\n",
       "      <td>0.013552</td>\n",
       "      <td>1.000000</td>\n",
       "      <td>1.000000</td>\n",
       "      <td>0.013552</td>\n",
       "      <td>1.000000</td>\n",
       "      <td>1.000000</td>\n",
       "      <td>1.000000</td>\n",
       "    </tr>\n",
       "    <tr>\n",
       "      <th>CHEMOKINE SIGNALING PATHWAY</th>\n",
       "      <td>0.207266</td>\n",
       "      <td>1.000000</td>\n",
       "      <td>1.000000</td>\n",
       "      <td>1.000000</td>\n",
       "      <td>1.000000</td>\n",
       "      <td>0.464156</td>\n",
       "      <td>0.990175</td>\n",
       "      <td>0.062920</td>\n",
       "      <td>0.990175</td>\n",
       "      <td>0.105706</td>\n",
       "      <td>0.990175</td>\n",
       "    </tr>\n",
       "    <tr>\n",
       "      <th>CYTOKINE CYTOKINE RECEPTOR INTERACTION</th>\n",
       "      <td>0.176176</td>\n",
       "      <td>0.876784</td>\n",
       "      <td>0.841032</td>\n",
       "      <td>1.000000</td>\n",
       "      <td>1.000000</td>\n",
       "      <td>1.000000</td>\n",
       "      <td>1.000000</td>\n",
       "      <td>0.299090</td>\n",
       "      <td>1.000000</td>\n",
       "      <td>0.137877</td>\n",
       "      <td>0.522237</td>\n",
       "    </tr>\n",
       "    <tr>\n",
       "      <th>ECM RECEPTOR INTERACTION</th>\n",
       "      <td>0.013552</td>\n",
       "      <td>0.176176</td>\n",
       "      <td>1.000000</td>\n",
       "      <td>0.382992</td>\n",
       "      <td>0.990175</td>\n",
       "      <td>1.000000</td>\n",
       "      <td>1.000000</td>\n",
       "      <td>1.000000</td>\n",
       "      <td>0.207266</td>\n",
       "      <td>0.234902</td>\n",
       "      <td>0.746987</td>\n",
       "    </tr>\n",
       "    <tr>\n",
       "      <th>FOCAL ADHESION</th>\n",
       "      <td>0.013552</td>\n",
       "      <td>0.139473</td>\n",
       "      <td>0.745732</td>\n",
       "      <td>0.136136</td>\n",
       "      <td>0.876877</td>\n",
       "      <td>1.000000</td>\n",
       "      <td>1.000000</td>\n",
       "      <td>1.000000</td>\n",
       "      <td>0.252971</td>\n",
       "      <td>0.299090</td>\n",
       "      <td>0.618110</td>\n",
       "    </tr>\n",
       "    <tr>\n",
       "      <th>GRAFT VERSUS HOST DISEASE</th>\n",
       "      <td>1.000000</td>\n",
       "      <td>1.000000</td>\n",
       "      <td>0.194401</td>\n",
       "      <td>0.072543</td>\n",
       "      <td>0.092817</td>\n",
       "      <td>0.162624</td>\n",
       "      <td>0.755703</td>\n",
       "      <td>0.013552</td>\n",
       "      <td>1.000000</td>\n",
       "      <td>0.401082</td>\n",
       "      <td>0.806930</td>\n",
       "    </tr>\n",
       "    <tr>\n",
       "      <th>INTESTINAL IMMUNE NETWORK FOR IGA PRODUCTION</th>\n",
       "      <td>0.564979</td>\n",
       "      <td>1.000000</td>\n",
       "      <td>0.092817</td>\n",
       "      <td>0.968022</td>\n",
       "      <td>1.000000</td>\n",
       "      <td>1.000000</td>\n",
       "      <td>1.000000</td>\n",
       "      <td>0.745732</td>\n",
       "      <td>1.000000</td>\n",
       "      <td>0.435920</td>\n",
       "      <td>0.759617</td>\n",
       "    </tr>\n",
       "    <tr>\n",
       "      <th>NATURAL KILLER CELL MEDIATED CYTOTOXICITY</th>\n",
       "      <td>1.000000</td>\n",
       "      <td>0.678711</td>\n",
       "      <td>0.746987</td>\n",
       "      <td>0.013552</td>\n",
       "      <td>0.340607</td>\n",
       "      <td>0.070470</td>\n",
       "      <td>0.255455</td>\n",
       "      <td>0.013552</td>\n",
       "      <td>1.000000</td>\n",
       "      <td>0.562527</td>\n",
       "      <td>0.241083</td>\n",
       "    </tr>\n",
       "    <tr>\n",
       "      <th>NOTCH SIGNALING PATHWAY</th>\n",
       "      <td>1.000000</td>\n",
       "      <td>1.000000</td>\n",
       "      <td>1.000000</td>\n",
       "      <td>1.000000</td>\n",
       "      <td>1.000000</td>\n",
       "      <td>0.745361</td>\n",
       "      <td>1.000000</td>\n",
       "      <td>1.000000</td>\n",
       "      <td>0.806930</td>\n",
       "      <td>1.000000</td>\n",
       "      <td>1.000000</td>\n",
       "    </tr>\n",
       "    <tr>\n",
       "      <th>PATHWAYS IN CANCER</th>\n",
       "      <td>0.486887</td>\n",
       "      <td>0.990175</td>\n",
       "      <td>1.000000</td>\n",
       "      <td>0.806930</td>\n",
       "      <td>1.000000</td>\n",
       "      <td>0.968022</td>\n",
       "      <td>1.000000</td>\n",
       "      <td>1.000000</td>\n",
       "      <td>0.480071</td>\n",
       "      <td>0.418418</td>\n",
       "      <td>0.745732</td>\n",
       "    </tr>\n",
       "    <tr>\n",
       "      <th>REGULATION OF ACTIN CYTOSKELETON</th>\n",
       "      <td>0.816426</td>\n",
       "      <td>1.000000</td>\n",
       "      <td>1.000000</td>\n",
       "      <td>0.761934</td>\n",
       "      <td>0.745732</td>\n",
       "      <td>1.000000</td>\n",
       "      <td>1.000000</td>\n",
       "      <td>0.745732</td>\n",
       "      <td>1.000000</td>\n",
       "      <td>0.745732</td>\n",
       "      <td>0.954449</td>\n",
       "    </tr>\n",
       "    <tr>\n",
       "      <th>SMALL CELL LUNG CANCER</th>\n",
       "      <td>0.238314</td>\n",
       "      <td>1.000000</td>\n",
       "      <td>1.000000</td>\n",
       "      <td>0.876877</td>\n",
       "      <td>1.000000</td>\n",
       "      <td>0.990110</td>\n",
       "      <td>1.000000</td>\n",
       "      <td>1.000000</td>\n",
       "      <td>0.968969</td>\n",
       "      <td>0.162082</td>\n",
       "      <td>0.968969</td>\n",
       "    </tr>\n",
       "    <tr>\n",
       "      <th>WNT SIGNALING PATHWAY</th>\n",
       "      <td>0.207266</td>\n",
       "      <td>0.990175</td>\n",
       "      <td>0.973418</td>\n",
       "      <td>0.841032</td>\n",
       "      <td>0.745361</td>\n",
       "      <td>0.312312</td>\n",
       "      <td>0.858082</td>\n",
       "      <td>0.745732</td>\n",
       "      <td>0.013552</td>\n",
       "      <td>0.990789</td>\n",
       "      <td>0.929819</td>\n",
       "    </tr>\n",
       "  </tbody>\n",
       "</table>\n",
       "</div>"
      ],
      "text/plain": [
       "Factor                                        Factor 10  Factor 11  Factor 12  \\\n",
       "Term                                                                            \n",
       "ANTIGEN PROCESSING AND PRESENTATION            0.299090   1.000000   0.207266   \n",
       "APOPTOSIS                                      0.990175   0.968969   0.072543   \n",
       "AXON GUIDANCE                                  0.745732   0.896717   0.733120   \n",
       "CELL ADHESION MOLECULES CAMS                   0.648916   1.000000   0.205539   \n",
       "CHEMOKINE SIGNALING PATHWAY                    0.207266   1.000000   1.000000   \n",
       "CYTOKINE CYTOKINE RECEPTOR INTERACTION         0.176176   0.876784   0.841032   \n",
       "ECM RECEPTOR INTERACTION                       0.013552   0.176176   1.000000   \n",
       "FOCAL ADHESION                                 0.013552   0.139473   0.745732   \n",
       "GRAFT VERSUS HOST DISEASE                      1.000000   1.000000   0.194401   \n",
       "INTESTINAL IMMUNE NETWORK FOR IGA PRODUCTION   0.564979   1.000000   0.092817   \n",
       "NATURAL KILLER CELL MEDIATED CYTOTOXICITY      1.000000   0.678711   0.746987   \n",
       "NOTCH SIGNALING PATHWAY                        1.000000   1.000000   1.000000   \n",
       "PATHWAYS IN CANCER                             0.486887   0.990175   1.000000   \n",
       "REGULATION OF ACTIN CYTOSKELETON               0.816426   1.000000   1.000000   \n",
       "SMALL CELL LUNG CANCER                         0.238314   1.000000   1.000000   \n",
       "WNT SIGNALING PATHWAY                          0.207266   0.990175   0.973418   \n",
       "\n",
       "Factor                                        Factor 2  Factor 3  Factor 4  \\\n",
       "Term                                                                         \n",
       "ANTIGEN PROCESSING AND PRESENTATION           0.013552  0.013552  0.013552   \n",
       "APOPTOSIS                                     1.000000  1.000000  1.000000   \n",
       "AXON GUIDANCE                                 0.990175  1.000000  1.000000   \n",
       "CELL ADHESION MOLECULES CAMS                  0.449077  0.013552  1.000000   \n",
       "CHEMOKINE SIGNALING PATHWAY                   1.000000  1.000000  0.464156   \n",
       "CYTOKINE CYTOKINE RECEPTOR INTERACTION        1.000000  1.000000  1.000000   \n",
       "ECM RECEPTOR INTERACTION                      0.382992  0.990175  1.000000   \n",
       "FOCAL ADHESION                                0.136136  0.876877  1.000000   \n",
       "GRAFT VERSUS HOST DISEASE                     0.072543  0.092817  0.162624   \n",
       "INTESTINAL IMMUNE NETWORK FOR IGA PRODUCTION  0.968022  1.000000  1.000000   \n",
       "NATURAL KILLER CELL MEDIATED CYTOTOXICITY     0.013552  0.340607  0.070470   \n",
       "NOTCH SIGNALING PATHWAY                       1.000000  1.000000  0.745361   \n",
       "PATHWAYS IN CANCER                            0.806930  1.000000  0.968022   \n",
       "REGULATION OF ACTIN CYTOSKELETON              0.761934  0.745732  1.000000   \n",
       "SMALL CELL LUNG CANCER                        0.876877  1.000000  0.990110   \n",
       "WNT SIGNALING PATHWAY                         0.841032  0.745361  0.312312   \n",
       "\n",
       "Factor                                        Factor 5  Factor 6  Factor 7  \\\n",
       "Term                                                                         \n",
       "ANTIGEN PROCESSING AND PRESENTATION           0.443964  0.013552  0.117451   \n",
       "APOPTOSIS                                     1.000000  1.000000  0.480071   \n",
       "AXON GUIDANCE                                 0.968969  1.000000  0.234902   \n",
       "CELL ADHESION MOLECULES CAMS                  1.000000  0.013552  1.000000   \n",
       "CHEMOKINE SIGNALING PATHWAY                   0.990175  0.062920  0.990175   \n",
       "CYTOKINE CYTOKINE RECEPTOR INTERACTION        1.000000  0.299090  1.000000   \n",
       "ECM RECEPTOR INTERACTION                      1.000000  1.000000  0.207266   \n",
       "FOCAL ADHESION                                1.000000  1.000000  0.252971   \n",
       "GRAFT VERSUS HOST DISEASE                     0.755703  0.013552  1.000000   \n",
       "INTESTINAL IMMUNE NETWORK FOR IGA PRODUCTION  1.000000  0.745732  1.000000   \n",
       "NATURAL KILLER CELL MEDIATED CYTOTOXICITY     0.255455  0.013552  1.000000   \n",
       "NOTCH SIGNALING PATHWAY                       1.000000  1.000000  0.806930   \n",
       "PATHWAYS IN CANCER                            1.000000  1.000000  0.480071   \n",
       "REGULATION OF ACTIN CYTOSKELETON              1.000000  0.745732  1.000000   \n",
       "SMALL CELL LUNG CANCER                        1.000000  1.000000  0.968969   \n",
       "WNT SIGNALING PATHWAY                         0.858082  0.745732  0.013552   \n",
       "\n",
       "Factor                                        Factor 8  Factor 9  \n",
       "Term                                                              \n",
       "ANTIGEN PROCESSING AND PRESENTATION           0.968969  0.013552  \n",
       "APOPTOSIS                                     1.000000  0.743855  \n",
       "AXON GUIDANCE                                 1.000000  1.000000  \n",
       "CELL ADHESION MOLECULES CAMS                  1.000000  1.000000  \n",
       "CHEMOKINE SIGNALING PATHWAY                   0.105706  0.990175  \n",
       "CYTOKINE CYTOKINE RECEPTOR INTERACTION        0.137877  0.522237  \n",
       "ECM RECEPTOR INTERACTION                      0.234902  0.746987  \n",
       "FOCAL ADHESION                                0.299090  0.618110  \n",
       "GRAFT VERSUS HOST DISEASE                     0.401082  0.806930  \n",
       "INTESTINAL IMMUNE NETWORK FOR IGA PRODUCTION  0.435920  0.759617  \n",
       "NATURAL KILLER CELL MEDIATED CYTOTOXICITY     0.562527  0.241083  \n",
       "NOTCH SIGNALING PATHWAY                       1.000000  1.000000  \n",
       "PATHWAYS IN CANCER                            0.418418  0.745732  \n",
       "REGULATION OF ACTIN CYTOSKELETON              0.745732  0.954449  \n",
       "SMALL CELL LUNG CANCER                        0.162082  0.968969  \n",
       "WNT SIGNALING PATHWAY                         0.990789  0.929819  "
      ]
     },
     "execution_count": 53,
     "metadata": {},
     "output_type": "execute_result"
    }
   ],
   "source": [
    "pval_df"
   ]
  },
  {
   "cell_type": "code",
   "execution_count": null,
   "id": "f610963b",
   "metadata": {},
   "outputs": [],
   "source": []
  },
  {
   "cell_type": "code",
   "execution_count": null,
   "id": "0dcffa06",
   "metadata": {},
   "outputs": [],
   "source": []
  },
  {
   "cell_type": "code",
   "execution_count": null,
   "id": "bfd42bab",
   "metadata": {},
   "outputs": [],
   "source": []
  },
  {
   "cell_type": "code",
   "execution_count": null,
   "id": "729a0976",
   "metadata": {},
   "outputs": [],
   "source": []
  },
  {
   "cell_type": "code",
   "execution_count": null,
   "id": "ca9b17bc",
   "metadata": {},
   "outputs": [],
   "source": []
  },
  {
   "cell_type": "code",
   "execution_count": null,
   "id": "85c22f1d",
   "metadata": {},
   "outputs": [],
   "source": []
  },
  {
   "cell_type": "code",
   "execution_count": 17,
   "id": "587f2ede",
   "metadata": {},
   "outputs": [
    {
     "data": {
      "image/png": "[encoded data removed]",
      "text/plain": [
       "<Figure size 900x1800 with 3 Axes>"
      ]
     },
     "metadata": {},
     "output_type": "display_data"
    }
   ],
   "source": [
    "with sns.axes_style(\"darkgrid\"):\n",
    "    dotplot = c2c.plotting.pval_plot.generate_dot_plot(pval_df=pvals,\n",
    "                                                       score_df=scores,\n",
    "                                                       significance=0.05,\n",
    "                                                       xlabel='',\n",
    "                                                       ylabel='{} Annotations'.format(pathwaydb),\n",
    "                                                       cbar_title='NES',\n",
    "                                                       cmap='PuOr',\n",
    "                                                       figsize=(9, 18),\n",
    "                                                       label_size=20,\n",
    "                                                       title_size=20,\n",
    "                                                       tick_size=12,\n",
    "                                                       filename=output_folder + '/GSEA-Dotplot.pdf'\n",
    "                                                      )"
   ]
  },
  {
   "cell_type": "markdown",
   "id": "8eb5cea3",
   "metadata": {},
   "source": [
    "**Similarly, we can use gsea_df to easily see the Enriched Pathways**"
   ]
  },
  {
   "cell_type": "code",
   "execution_count": 18,
   "id": "136e6817",
   "metadata": {},
   "outputs": [
    {
     "data": {
      "text/html": [
       "<div>\n",
       "<style scoped>\n",
       "    .dataframe tbody tr th:only-of-type {\n",
       "        vertical-align: middle;\n",
       "    }\n",
       "\n",
       "    .dataframe tbody tr th {\n",
       "        vertical-align: top;\n",
       "    }\n",
       "\n",
       "    .dataframe thead th {\n",
       "        text-align: right;\n",
       "    }\n",
       "</style>\n",
       "<table border=\"1\" class=\"dataframe\">\n",
       "  <thead>\n",
       "    <tr style=\"text-align: right;\">\n",
       "      <th></th>\n",
       "      <th>Factor</th>\n",
       "      <th>Term</th>\n",
       "      <th>NES</th>\n",
       "      <th>P-value</th>\n",
       "      <th>Adj. P-value</th>\n",
       "    </tr>\n",
       "  </thead>\n",
       "  <tbody>\n",
       "    <tr>\n",
       "      <th>0</th>\n",
       "      <td>Factor 2</td>\n",
       "      <td>NATURAL KILLER CELL MEDIATED CYTOTOXICITY</td>\n",
       "      <td>1.514610</td>\n",
       "      <td>0.001000</td>\n",
       "      <td>0.013552</td>\n",
       "    </tr>\n",
       "    <tr>\n",
       "      <th>1</th>\n",
       "      <td>Factor 2</td>\n",
       "      <td>ANTIGEN PROCESSING AND PRESENTATION</td>\n",
       "      <td>1.491320</td>\n",
       "      <td>0.001000</td>\n",
       "      <td>0.013552</td>\n",
       "    </tr>\n",
       "    <tr>\n",
       "      <th>16</th>\n",
       "      <td>Factor 3</td>\n",
       "      <td>ANTIGEN PROCESSING AND PRESENTATION</td>\n",
       "      <td>1.450021</td>\n",
       "      <td>0.001000</td>\n",
       "      <td>0.013552</td>\n",
       "    </tr>\n",
       "    <tr>\n",
       "      <th>17</th>\n",
       "      <td>Factor 3</td>\n",
       "      <td>CELL ADHESION MOLECULES CAMS</td>\n",
       "      <td>1.382788</td>\n",
       "      <td>0.001000</td>\n",
       "      <td>0.013552</td>\n",
       "    </tr>\n",
       "    <tr>\n",
       "      <th>32</th>\n",
       "      <td>Factor 4</td>\n",
       "      <td>ANTIGEN PROCESSING AND PRESENTATION</td>\n",
       "      <td>1.329518</td>\n",
       "      <td>0.001000</td>\n",
       "      <td>0.013552</td>\n",
       "    </tr>\n",
       "    <tr>\n",
       "      <th>64</th>\n",
       "      <td>Factor 6</td>\n",
       "      <td>GRAFT VERSUS HOST DISEASE</td>\n",
       "      <td>1.423642</td>\n",
       "      <td>0.001000</td>\n",
       "      <td>0.013552</td>\n",
       "    </tr>\n",
       "    <tr>\n",
       "      <th>65</th>\n",
       "      <td>Factor 6</td>\n",
       "      <td>ANTIGEN PROCESSING AND PRESENTATION</td>\n",
       "      <td>1.342063</td>\n",
       "      <td>0.001000</td>\n",
       "      <td>0.013552</td>\n",
       "    </tr>\n",
       "    <tr>\n",
       "      <th>66</th>\n",
       "      <td>Factor 6</td>\n",
       "      <td>NATURAL KILLER CELL MEDIATED CYTOTOXICITY</td>\n",
       "      <td>1.316821</td>\n",
       "      <td>0.001000</td>\n",
       "      <td>0.013552</td>\n",
       "    </tr>\n",
       "    <tr>\n",
       "      <th>68</th>\n",
       "      <td>Factor 6</td>\n",
       "      <td>CELL ADHESION MOLECULES CAMS</td>\n",
       "      <td>1.215529</td>\n",
       "      <td>0.001001</td>\n",
       "      <td>0.013552</td>\n",
       "    </tr>\n",
       "    <tr>\n",
       "      <th>80</th>\n",
       "      <td>Factor 7</td>\n",
       "      <td>WNT SIGNALING PATHWAY</td>\n",
       "      <td>1.273742</td>\n",
       "      <td>0.001001</td>\n",
       "      <td>0.013552</td>\n",
       "    </tr>\n",
       "    <tr>\n",
       "      <th>112</th>\n",
       "      <td>Factor 9</td>\n",
       "      <td>ANTIGEN PROCESSING AND PRESENTATION</td>\n",
       "      <td>1.258529</td>\n",
       "      <td>0.001001</td>\n",
       "      <td>0.013552</td>\n",
       "    </tr>\n",
       "    <tr>\n",
       "      <th>128</th>\n",
       "      <td>Factor 10</td>\n",
       "      <td>FOCAL ADHESION</td>\n",
       "      <td>1.254469</td>\n",
       "      <td>0.001000</td>\n",
       "      <td>0.013552</td>\n",
       "    </tr>\n",
       "    <tr>\n",
       "      <th>129</th>\n",
       "      <td>Factor 10</td>\n",
       "      <td>ECM RECEPTOR INTERACTION</td>\n",
       "      <td>1.244658</td>\n",
       "      <td>0.001000</td>\n",
       "      <td>0.013552</td>\n",
       "    </tr>\n",
       "  </tbody>\n",
       "</table>\n",
       "</div>"
      ],
      "text/plain": [
       "        Factor                                       Term       NES   P-value  \\\n",
       "0     Factor 2  NATURAL KILLER CELL MEDIATED CYTOTOXICITY  1.514610  0.001000   \n",
       "1     Factor 2        ANTIGEN PROCESSING AND PRESENTATION  1.491320  0.001000   \n",
       "16    Factor 3        ANTIGEN PROCESSING AND PRESENTATION  1.450021  0.001000   \n",
       "17    Factor 3               CELL ADHESION MOLECULES CAMS  1.382788  0.001000   \n",
       "32    Factor 4        ANTIGEN PROCESSING AND PRESENTATION  1.329518  0.001000   \n",
       "64    Factor 6                  GRAFT VERSUS HOST DISEASE  1.423642  0.001000   \n",
       "65    Factor 6        ANTIGEN PROCESSING AND PRESENTATION  1.342063  0.001000   \n",
       "66    Factor 6  NATURAL KILLER CELL MEDIATED CYTOTOXICITY  1.316821  0.001000   \n",
       "68    Factor 6               CELL ADHESION MOLECULES CAMS  1.215529  0.001001   \n",
       "80    Factor 7                      WNT SIGNALING PATHWAY  1.273742  0.001001   \n",
       "112   Factor 9        ANTIGEN PROCESSING AND PRESENTATION  1.258529  0.001001   \n",
       "128  Factor 10                             FOCAL ADHESION  1.254469  0.001000   \n",
       "129  Factor 10                   ECM RECEPTOR INTERACTION  1.244658  0.001000   \n",
       "\n",
       "     Adj. P-value  \n",
       "0        0.013552  \n",
       "1        0.013552  \n",
       "16       0.013552  \n",
       "17       0.013552  \n",
       "32       0.013552  \n",
       "64       0.013552  \n",
       "65       0.013552  \n",
       "66       0.013552  \n",
       "68       0.013552  \n",
       "80       0.013552  \n",
       "112      0.013552  \n",
       "128      0.013552  \n",
       "129      0.013552  "
      ]
     },
     "execution_count": 18,
     "metadata": {},
     "output_type": "execute_result"
    }
   ],
   "source": [
    "gsea_df.loc[(gsea_df['Adj. P-value'] < 0.05) & (gsea_df['NES'] > 0.)]"
   ]
  },
  {
   "cell_type": "markdown",
   "id": "c0f19de0",
   "metadata": {},
   "source": [
    "**And Depleted Pathways**"
   ]
  },
  {
   "cell_type": "code",
   "execution_count": 19,
   "id": "94dc00a9",
   "metadata": {},
   "outputs": [
    {
     "data": {
      "text/html": [
       "<div>\n",
       "<style scoped>\n",
       "    .dataframe tbody tr th:only-of-type {\n",
       "        vertical-align: middle;\n",
       "    }\n",
       "\n",
       "    .dataframe tbody tr th {\n",
       "        vertical-align: top;\n",
       "    }\n",
       "\n",
       "    .dataframe thead th {\n",
       "        text-align: right;\n",
       "    }\n",
       "</style>\n",
       "<table border=\"1\" class=\"dataframe\">\n",
       "  <thead>\n",
       "    <tr style=\"text-align: right;\">\n",
       "      <th></th>\n",
       "      <th>Factor</th>\n",
       "      <th>Term</th>\n",
       "      <th>NES</th>\n",
       "      <th>P-value</th>\n",
       "      <th>Adj. P-value</th>\n",
       "    </tr>\n",
       "  </thead>\n",
       "  <tbody>\n",
       "  </tbody>\n",
       "</table>\n",
       "</div>"
      ],
      "text/plain": [
       "Empty DataFrame\n",
       "Columns: [Factor, Term, NES, P-value, Adj. P-value]\n",
       "Index: []"
      ]
     },
     "execution_count": 19,
     "metadata": {},
     "output_type": "execute_result"
    }
   ],
   "source": [
    "gsea_df.loc[(gsea_df['Adj. P-value'] < 0.05) & (gsea_df['NES'] < 0.)]"
   ]
  },
  {
   "cell_type": "markdown",
   "id": "56fd5694",
   "metadata": {},
   "source": [
    "## Footprint Enrichment"
   ]
  },
  {
   "cell_type": "markdown",
   "id": "ad5bb159",
   "metadata": {},
   "source": [
    "Footprint enrichment analysis build upon classic geneset enrichment analysis, as instead of considering the genes involved in a biological activity, they consider the genes affected by the activity, or in other words the genes that change downstream of said activity [(Dugourd and Saez-Rodriguez, 2019)](https://www.sciencedirect.com/science/article/pii/S2452310019300149). This is particularly useful when working with transcriptomics data, as it allows to identify the genes that are regulated by a biological process, instead of the genes that are part of the process. In this case, we will use the PROGENy pathway resource to perform footprint enrichment analysis. PROGENy was built in a data-driven manner using perturbation and cancer lineage data [(Schubert et al, 2019)](https://www.nature.com/articles/s41467-017-02391-6#Sec8), as a consequence it also assigns different importances or weights to each gene in its pathway genesets.\n",
    "\n",
    "To this end, we need an enrichment method that can take weights into account, and here we will use multi-variate linear models from the `decoupler-py` package to perform this analysis [(Badia-i-Mompel et al., 2022)](https://academic.oup.com/bioinformaticsadvances/article/2/1/vbac016/6544613)."
   ]
  },
  {
   "cell_type": "markdown",
   "id": "ca5209d4",
   "metadata": {},
   "source": [
    "###  load the PROGENy pathway resource:"
   ]
  },
  {
   "cell_type": "code",
   "execution_count": 15,
   "id": "68972dfc",
   "metadata": {},
   "outputs": [],
   "source": [
    "net = dc.get_progeny(organism='human', top=5000)"
   ]
  },
  {
   "cell_type": "markdown",
   "id": "bac3fcc0",
   "metadata": {},
   "source": [
    "Now we will use the PROGENy genesets to assign pathways and weights to the ligand-receptor pairs in liana's consensus resource. Specifically, we will use the weighted bipartite networks from PROGENy, where the weight represents the importance of the genes to a given geneset, and assign a weight to each ligand-receptor interaction, based on the mean of the weights of the proteins in that ligand-receptor interaction. We keep only ligand-receptor weights only if all the protein in the ligand-receptor interaction are present for a given pathway, and are sign-coherent."
   ]
  },
  {
   "cell_type": "code",
   "execution_count": 16,
   "id": "25731683",
   "metadata": {},
   "outputs": [
    {
     "data": {
      "text/html": [
       "<div>\n",
       "<style scoped>\n",
       "    .dataframe tbody tr th:only-of-type {\n",
       "        vertical-align: middle;\n",
       "    }\n",
       "\n",
       "    .dataframe tbody tr th {\n",
       "        vertical-align: top;\n",
       "    }\n",
       "\n",
       "    .dataframe thead th {\n",
       "        text-align: right;\n",
       "    }\n",
       "</style>\n",
       "<table border=\"1\" class=\"dataframe\">\n",
       "  <thead>\n",
       "    <tr style=\"text-align: right;\">\n",
       "      <th></th>\n",
       "      <th>source</th>\n",
       "      <th>interaction</th>\n",
       "      <th>weight</th>\n",
       "    </tr>\n",
       "  </thead>\n",
       "  <tbody>\n",
       "    <tr>\n",
       "      <th>1</th>\n",
       "      <td>JAK-STAT</td>\n",
       "      <td>LGALS9^PTPRC</td>\n",
       "      <td>1.307807</td>\n",
       "    </tr>\n",
       "    <tr>\n",
       "      <th>74</th>\n",
       "      <td>Androgen</td>\n",
       "      <td>SEMA4D^MET</td>\n",
       "      <td>-0.831693</td>\n",
       "    </tr>\n",
       "    <tr>\n",
       "      <th>90</th>\n",
       "      <td>Androgen</td>\n",
       "      <td>HGF^MET</td>\n",
       "      <td>-1.288956</td>\n",
       "    </tr>\n",
       "    <tr>\n",
       "      <th>106</th>\n",
       "      <td>Androgen</td>\n",
       "      <td>TIMP3^MET</td>\n",
       "      <td>-1.122612</td>\n",
       "    </tr>\n",
       "    <tr>\n",
       "      <th>151</th>\n",
       "      <td>NFkB</td>\n",
       "      <td>SELE^CD44</td>\n",
       "      <td>3.332552</td>\n",
       "    </tr>\n",
       "  </tbody>\n",
       "</table>\n",
       "</div>"
      ],
      "text/plain": [
       "       source   interaction    weight\n",
       "1    JAK-STAT  LGALS9^PTPRC  1.307807\n",
       "74   Androgen    SEMA4D^MET -0.831693\n",
       "90   Androgen       HGF^MET -1.288956\n",
       "106  Androgen     TIMP3^MET -1.122612\n",
       "151      NFkB     SELE^CD44  3.332552"
      ]
     },
     "execution_count": 16,
     "metadata": {},
     "output_type": "execute_result"
    }
   ],
   "source": [
    "lr_progeny = li.funcomics.generate_lr_geneset(lr_pairs, net, lr_separator=\"^\")\n",
    "lr_progeny.head()"
   ]
  },
  {
   "cell_type": "markdown",
   "id": "2d7909a0",
   "metadata": {},
   "source": [
    "### Run footprint enrichment analysis"
   ]
  },
  {
   "cell_type": "markdown",
   "id": "536c29e1",
   "metadata": {},
   "source": [
    "We will now use the `decoupler-py` package to perform the analysis."
   ]
  },
  {
   "cell_type": "code",
   "execution_count": 17,
   "id": "358b2ddb",
   "metadata": {},
   "outputs": [],
   "source": [
    "estimate, pvals =  dc.run_mlm(lr_loadings.transpose(), lr_progeny, source=\"source\", target=\"interaction\", use_raw=False)"
   ]
  },
  {
   "cell_type": "markdown",
   "id": "3ae118e0",
   "metadata": {},
   "source": [
    "### Visualize Results"
   ]
  },
  {
   "cell_type": "code",
   "execution_count": 18,
   "id": "88645855",
   "metadata": {},
   "outputs": [
    {
     "data": {
      "image/png": "[encoded data removed]",
      "text/plain": [
       "<Figure size 720x720 with 4 Axes>"
      ]
     },
     "metadata": {
      "needs_background": "light"
     },
     "output_type": "display_data"
    }
   ],
   "source": [
    "sns.clustermap(estimate, xticklabels=estimate.columns, cmap='coolwarm', z_score=4)\n",
    "plt.savefig(output_folder + '/PROGENy.pdf', dpi=300, bbox_inches='tight')"
   ]
  },
  {
   "cell_type": "markdown",
   "id": "69a55f24",
   "metadata": {},
   "source": [
    "Let's zoom in on Factor 6, which is associated with COVID-19 cases. "
   ]
  },
  {
   "cell_type": "code",
   "execution_count": 19,
   "id": "bddfc7d3",
   "metadata": {},
   "outputs": [],
   "source": [
    "selected_factor = 'Factor 6'"
   ]
  },
  {
   "cell_type": "code",
   "execution_count": 20,
   "id": "c84985d0",
   "metadata": {},
   "outputs": [
    {
     "data": {
      "image/png": "[encoded data removed]",
      "text/plain": [
       "<Figure size 700x500 with 2 Axes>"
      ]
     },
     "metadata": {
      "needs_background": "light"
     },
     "output_type": "display_data"
    }
   ],
   "source": [
    "dc.plot_barplot(estimate, selected_factor, vertical=True, cmap='coolwarm',\n",
    "                save=output_folder + '/PROGENy-{}.pdf'.format(selected_factor.replace(' ', '-'))\n",
    "               )"
   ]
  },
  {
   "cell_type": "markdown",
   "id": "d94507d7",
   "metadata": {},
   "source": [
    "From the plots above, we can see that the NFkB pathway is active and highly active in Factor 6. This is also concordant with the KEGG pathways associated with the chemokine and cytotoxic response from the analysis with GSEA above. Indeed, the tensor decomposition results indicate that NKs and T cells are the main sender cells in this factor. So, let's see which ligand-receptor pairs are enriched in this pathway."
   ]
  },
  {
   "cell_type": "code",
   "execution_count": 21,
   "id": "fce94e3b",
   "metadata": {},
   "outputs": [
    {
     "data": {
      "text/html": [
       "<div>\n",
       "<style scoped>\n",
       "    .dataframe tbody tr th:only-of-type {\n",
       "        vertical-align: middle;\n",
       "    }\n",
       "\n",
       "    .dataframe tbody tr th {\n",
       "        vertical-align: top;\n",
       "    }\n",
       "\n",
       "    .dataframe thead th {\n",
       "        text-align: right;\n",
       "    }\n",
       "</style>\n",
       "<table border=\"1\" class=\"dataframe\">\n",
       "  <thead>\n",
       "    <tr style=\"text-align: right;\">\n",
       "      <th></th>\n",
       "      <th>interaction</th>\n",
       "      <th>Factor</th>\n",
       "      <th>Loadings</th>\n",
       "      <th>source</th>\n",
       "      <th>weight</th>\n",
       "      <th>sign</th>\n",
       "      <th>relevant_interactions</th>\n",
       "    </tr>\n",
       "  </thead>\n",
       "  <tbody>\n",
       "    <tr>\n",
       "      <th>171</th>\n",
       "      <td>ADAM17^ITGA5</td>\n",
       "      <td>Factor 6</td>\n",
       "      <td>1.756948e-39</td>\n",
       "      <td>NFkB</td>\n",
       "      <td>1.961245</td>\n",
       "      <td>positive</td>\n",
       "      <td>None</td>\n",
       "    </tr>\n",
       "    <tr>\n",
       "      <th>226</th>\n",
       "      <td>ADAM17^MUC1</td>\n",
       "      <td>Factor 6</td>\n",
       "      <td>8.227501e-05</td>\n",
       "      <td>NFkB</td>\n",
       "      <td>1.680033</td>\n",
       "      <td>positive</td>\n",
       "      <td>None</td>\n",
       "    </tr>\n",
       "    <tr>\n",
       "      <th>260</th>\n",
       "      <td>ADAM17^RHBDF2</td>\n",
       "      <td>Factor 6</td>\n",
       "      <td>0.000000e+00</td>\n",
       "      <td>NFkB</td>\n",
       "      <td>2.274298</td>\n",
       "      <td>positive</td>\n",
       "      <td>None</td>\n",
       "    </tr>\n",
       "    <tr>\n",
       "      <th>311</th>\n",
       "      <td>ADM^ACKR3</td>\n",
       "      <td>Factor 6</td>\n",
       "      <td>1.704504e-02</td>\n",
       "      <td>NFkB</td>\n",
       "      <td>3.507252</td>\n",
       "      <td>positive</td>\n",
       "      <td>None</td>\n",
       "    </tr>\n",
       "    <tr>\n",
       "      <th>335</th>\n",
       "      <td>ADM^GPR84</td>\n",
       "      <td>Factor 6</td>\n",
       "      <td>6.204670e-02</td>\n",
       "      <td>NFkB</td>\n",
       "      <td>5.392048</td>\n",
       "      <td>positive</td>\n",
       "      <td>ADM^GPR84</td>\n",
       "    </tr>\n",
       "  </tbody>\n",
       "</table>\n",
       "</div>"
      ],
      "text/plain": [
       "       interaction    Factor      Loadings source    weight      sign  \\\n",
       "171   ADAM17^ITGA5  Factor 6  1.756948e-39   NFkB  1.961245  positive   \n",
       "226    ADAM17^MUC1  Factor 6  8.227501e-05   NFkB  1.680033  positive   \n",
       "260  ADAM17^RHBDF2  Factor 6  0.000000e+00   NFkB  2.274298  positive   \n",
       "311      ADM^ACKR3  Factor 6  1.704504e-02   NFkB  3.507252  positive   \n",
       "335      ADM^GPR84  Factor 6  6.204670e-02   NFkB  5.392048  positive   \n",
       "\n",
       "    relevant_interactions  \n",
       "171                  None  \n",
       "226                  None  \n",
       "260                  None  \n",
       "311                  None  \n",
       "335             ADM^GPR84  "
      ]
     },
     "execution_count": 21,
     "metadata": {},
     "output_type": "execute_result"
    }
   ],
   "source": [
    "# loadings to long format\n",
    "lr_loadings_long = lr_loadings.reset_index().melt(id_vars='index', var_name=\"Factor\", value_name=\"Loadings\").rename(columns={'index':'interaction'})\n",
    "# join progeny weights and keep only NFkB pathway\n",
    "lr_loadings_long = lr_loadings_long.merge(lr_progeny, on='interaction').query(\"source == 'NFkB' and Factor == '{}'\".format(selected_factor))\n",
    "# add sign to the weights\n",
    "lr_loadings_long['sign'] = lr_loadings_long['weight'].apply(lambda x: 'positive' if x > 0 else 'negative')\n",
    "# keep only relevant interactions for labels\n",
    "lr_loadings_long['relevant_interactions'] = lr_loadings_long.apply(lambda x: x['interaction'] if (x['Loadings'] > 0.025) and (x['weight'] > 2.5) else None, axis=1)\n",
    "lr_loadings_long.head()"
   ]
  },
  {
   "cell_type": "markdown",
   "id": "593583eb",
   "metadata": {},
   "source": [
    "#### plot the loadings for Factor 6 and weights of the NFkB pathway"
   ]
  },
  {
   "cell_type": "code",
   "execution_count": 22,
   "id": "c72b3e73",
   "metadata": {},
   "outputs": [
    {
     "data": {
      "image/png": "[encoded data removed]",
      "text/plain": [
       "<Figure size 640x480 with 1 Axes>"
      ]
     },
     "metadata": {},
     "output_type": "display_data"
    },
    {
     "data": {
      "text/plain": [
       "<ggplot: (8761803524313)>"
      ]
     },
     "execution_count": 22,
     "metadata": {},
     "output_type": "execute_result"
    }
   ],
   "source": [
    "(p9.ggplot(lr_loadings_long,\n",
    "           p9.aes(x='weight', y='Loadings')) +\n",
    " p9.geom_smooth(method='lm') + \n",
    " p9.geom_point(p9.aes(colour='sign')) +\n",
    " p9.theme_bw() +\n",
    " p9.theme(legend_position='none') +\n",
    " p9.labs(title=\"NFkB | {}\".format(selected_factor), x=\"PROGENy Weights\", y=\"Loadings\") +\n",
    " p9.scale_colour_manual(values=[\"royalblue\", \"red\"]) +\n",
    " p9.geom_label(p9.aes(label='relevant_interactions'), size=8, nudge_y=0.01, nudge_x=0.01) + \n",
    " p9.xlim(-1, 8.5)\n",
    " )"
   ]
  },
  {
   "cell_type": "markdown",
   "id": "acb3c5e7",
   "metadata": {},
   "source": [
    "Here, we can see that for example the `C3 -> IFITM1` and `VEGFA -> CD44` are interactions found with high importances in the NFkB pathway, and high loadings. Also IFITM1 is involved in restricting viral infection (https://doi.org/10.15252/embj.2020106501), which in this case could represent the immune response controling the SARS-CoV-2 infection."
   ]
  },
  {
   "cell_type": "code",
   "execution_count": null,
   "id": "57f32df1",
   "metadata": {},
   "outputs": [],
   "source": []
  }
 ],
 "metadata": {
  "kernelspec": {
   "display_name": "Python [conda env:ccc_protocols]",
   "language": "python",
   "name": "conda-env-ccc_protocols-py"
  },
  "language_info": {
   "codemirror_mode": {
    "name": "ipython",
    "version": 3
   },
   "file_extension": ".py",
   "mimetype": "text/x-python",
   "name": "python",
   "nbconvert_exporter": "python",
   "pygments_lexer": "ipython3",
   "version": "3.10.9"
  },
  "vscode": {
   "interpreter": {
    "hash": "a89d9df9e41c144bbb86b791904f32fb0efeb7b488a88d676a8bce57017c9696"
   }
  }
 },
 "nbformat": 4,
 "nbformat_minor": 5
}
