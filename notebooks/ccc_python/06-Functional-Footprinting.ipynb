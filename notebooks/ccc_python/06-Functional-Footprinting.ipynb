{
 "cells": [
  {
   "cell_type": "markdown",
   "id": "3d54b332",
   "metadata": {},
   "source": [
    "# Pathway Enrichment of LR loadings\n",
    "\n",
    "Cell-cell communication inference from single-cell data provides unprecedented insights into the molecular mechanisms underlying cell-cell communication. In particular, it enables the capture of CCC interactions at a systems level, which is not possible with traditional approaches. However, as the number of inferred interactions increases, the interpretation of the inferred cell-cell communication networks becomes more challenging. To this end, as done in other omics studies, we can perform pathway enrichment analysis to identify the general biological processes that are enriched in the inferred interactions. Pathway enrichment thus serves two purposes; it reduces the dimensionality of the inferred interactions, and also provides a biological summary of the inferred interactions.\n",
    "\n",
    "In this tutorial, we will show how to use the `cell2cell` and `liana` packages to perform classical gene set enrichment analysis using `GSEA` with `KEGG Pathways`, and also we will use perform a footprint enrichment analysis using a `multi-variate linear model` with the PROGENy pathway resource. We will use the [`GSEAPY`](https://gseapy.readthedocs.io/en/latest/) and [`decoupler-py`](https://decoupler-py.readthedocs.io/en/latest) packages to perform these analyses."
   ]
  },
  {
   "cell_type": "code",
   "execution_count": 1,
   "id": "2ac22be8",
   "metadata": {},
   "outputs": [],
   "source": [
    "import cell2cell as c2c\n",
    "import liana as li\n",
    "\n",
    "import pandas as pd\n",
    "\n",
    "import decoupler as dc\n",
    "\n",
    "import matplotlib.pyplot as plt\n",
    "import plotnine as p9\n",
    "import seaborn as sns\n",
    "%matplotlib inline"
   ]
  },
  {
   "cell_type": "code",
   "execution_count": 2,
   "id": "907c4925",
   "metadata": {},
   "outputs": [],
   "source": [
    "import warnings\n",
    "warnings.filterwarnings('ignore')"
   ]
  },
  {
   "cell_type": "markdown",
   "id": "eded8fe1",
   "metadata": {},
   "source": [
    "## Directories"
   ]
  },
  {
   "cell_type": "code",
   "execution_count": 3,
   "id": "c0a73062",
   "metadata": {},
   "outputs": [
    {
     "name": "stdout",
     "output_type": "stream",
     "text": [
      "../../data/tc2c-outputs/ already exists.\n"
     ]
    }
   ],
   "source": [
    "output_folder = '../../data/tc2c-outputs/'\n",
    "c2c.io.directories.create_directory(output_folder)"
   ]
  },
  {
   "cell_type": "markdown",
   "id": "2f5d0d38",
   "metadata": {},
   "source": [
    "## Load Data"
   ]
  },
  {
   "cell_type": "markdown",
   "id": "973d1b0b",
   "metadata": {},
   "source": [
    "**Open the loadings obtained from the tensor factorization**"
   ]
  },
  {
   "cell_type": "code",
   "execution_count": 4,
   "id": "1657732b",
   "metadata": {},
   "outputs": [],
   "source": [
    "factors = c2c.io.load_tensor_factors(output_folder + 'Loadings.xlsx')"
   ]
  },
  {
   "cell_type": "markdown",
   "id": "24b18655",
   "metadata": {},
   "source": [
    "**Load list of LR pairs used as reference to [run LIANA](./02-Infer-Communication-Scores.ipynb)**"
   ]
  },
  {
   "cell_type": "code",
   "execution_count": 5,
   "id": "e96e13f7",
   "metadata": {},
   "outputs": [],
   "source": [
    "lr_pairs = li.resource.select_resource('consensus')"
   ]
  },
  {
   "cell_type": "markdown",
   "id": "43090ea6",
   "metadata": {},
   "source": [
    "**Generate a list with the LR pair names**\n",
    "\n",
    "GSEA was originally designed to work with list of genes. Here we are using ligand-receptor pairs, so instead of using Gene Sets we need to build our LR-gene sets. This list is a first step to build the LR-gene sets."
   ]
  },
  {
   "cell_type": "code",
   "execution_count": 6,
   "id": "0550bdd3",
   "metadata": {},
   "outputs": [],
   "source": [
    "lr_list = ['^'.join(row) for idx, row in lr_pairs.iterrows()] "
   ]
  },
  {
   "cell_type": "markdown",
   "id": "3572fb9d",
   "metadata": {},
   "source": [
    "## Gene Set Enrichment Analysis\n",
    "\n",
    "In this case, we will run the PreRank method of GSEA since our LR pairs are pre-ranked based on their loadings in each factor obtained by Tensor-cell2cell."
   ]
  },
  {
   "cell_type": "markdown",
   "id": "fa6385ac",
   "metadata": {},
   "source": [
    "### Generate LR-gene set for running GSEA\n",
    "\n",
    "`cell2cell` includes some resources associated with the Gene sets employed in GSEA. It includes annotations of GO Terms (BP), KEGG, and Reactome, for human and mouse."
   ]
  },
  {
   "cell_type": "markdown",
   "id": "97f8d4a6",
   "metadata": {},
   "source": [
    "**First, specify which organism and annotation DB to use**"
   ]
  },
  {
   "cell_type": "code",
   "execution_count": 7,
   "id": "c11ec2fd",
   "metadata": {},
   "outputs": [],
   "source": [
    "organism = 'human' # For the COVID-19 data analyzed with LIANA+Tensor-cell2cell\n",
    "pathwaydb = 'KEGG' # KEGG Pathways"
   ]
  },
  {
   "cell_type": "markdown",
   "id": "77835f05",
   "metadata": {},
   "source": [
    "**Generate the LR-gene set that will be used for running GSEA**"
   ]
  },
  {
   "cell_type": "code",
   "execution_count": 8,
   "id": "49b9a1ec",
   "metadata": {},
   "outputs": [],
   "source": [
    "lr_set = c2c.external.generate_lr_geneset(lr_list,\n",
    "                                          complex_sep='_', # Separation symbol of the genes in the protein complex\n",
    "                                          lr_sep='^', # Separation symbol between a ligand and a receptor complex\n",
    "                                          organism=organism,\n",
    "                                          pathwaydb=pathwaydb,\n",
    "                                          readable_name=True\n",
    "                                         )"
   ]
  },
  {
   "cell_type": "markdown",
   "id": "b6ab0812",
   "metadata": {},
   "source": [
    "### Extract LR loadings for each factor"
   ]
  },
  {
   "cell_type": "code",
   "execution_count": 9,
   "id": "f43cd70c",
   "metadata": {},
   "outputs": [],
   "source": [
    "lr_loadings = factors['Ligand-Receptor Pairs']"
   ]
  },
  {
   "cell_type": "markdown",
   "id": "0a8b4d7d",
   "metadata": {},
   "source": [
    "### Run GSEA\n",
    "\n",
    "This external function implemented in `cell2cell` builds upon the function `gseapy.prerank()`.\n",
    "\n",
    "All outputs will be saved in the `output_folder`. Make sure that this path exist before running this function."
   ]
  },
  {
   "cell_type": "code",
   "execution_count": 10,
   "id": "40220386",
   "metadata": {},
   "outputs": [
    {
     "name": "stdout",
     "output_type": "stream",
     "text": [
      "../../data/tc2c-outputs/ already exists.\n"
     ]
    },
    {
     "data": {
      "application/vnd.jupyter.widget-view+json": {
       "model_id": "6efc17d5412c4c5d85fb9e166af99837",
       "version_major": 2,
       "version_minor": 0
      },
      "text/plain": [
       "  0%|          | 0/10 [00:00<?, ?it/s]"
      ]
     },
     "metadata": {},
     "output_type": "display_data"
    },
    {
     "name": "stderr",
     "output_type": "stream",
     "text": [
      "2023-02-14 20:24:51,243 [WARNING] Duplicated values found in preranked stats: 0.57% of genes\n",
      "The order of those genes will be arbitrary, which may produce unexpected results.\n",
      "2023-02-14 20:24:52,147 [WARNING] Duplicated values found in preranked stats: 1.28% of genes\n",
      "The order of those genes will be arbitrary, which may produce unexpected results.\n",
      "2023-02-14 20:24:53,311 [WARNING] Duplicated values found in preranked stats: 0.71% of genes\n",
      "The order of those genes will be arbitrary, which may produce unexpected results.\n",
      "2023-02-14 20:24:53,399 [WARNING] Duplicated values found in preranked stats: 0.78% of genes\n",
      "The order of those genes will be arbitrary, which may produce unexpected results.\n",
      "2023-02-14 20:24:54,264 [WARNING] Duplicated values found in preranked stats: 1.56% of genes\n",
      "The order of those genes will be arbitrary, which may produce unexpected results.\n",
      "2023-02-14 20:24:54,936 [WARNING] Duplicated values found in preranked stats: 1.84% of genes\n",
      "The order of those genes will be arbitrary, which may produce unexpected results.\n",
      "2023-02-14 20:24:57,244 [WARNING] Duplicated values found in preranked stats: 0.07% of genes\n",
      "The order of those genes will be arbitrary, which may produce unexpected results.\n",
      "2023-02-14 20:24:59,921 [WARNING] Duplicated values found in preranked stats: 0.43% of genes\n",
      "The order of those genes will be arbitrary, which may produce unexpected results.\n",
      "2023-02-14 20:25:00,599 [WARNING] Duplicated values found in preranked stats: 0.64% of genes\n",
      "The order of those genes will be arbitrary, which may produce unexpected results.\n"
     ]
    },
    {
     "name": "stdout",
     "output_type": "stream",
     "text": [
      "CPU times: user 10.9 s, sys: 147 ms, total: 11.1 s\n",
      "Wall time: 9.54 s\n"
     ]
    }
   ],
   "source": [
    "%%time\n",
    "pvals, scores, gsea_df = c2c.external.run_gsea(loadings=lr_loadings, \n",
    "                                               lr_set=lr_set,\n",
    "                                               output_folder=output_folder,\n",
    "                                               weight=1,\n",
    "                                               min_size=15,\n",
    "                                               permutations=999,\n",
    "                                               processes=6,\n",
    "                                               random_state=6,\n",
    "                                               significance_threshold=0.05,\n",
    "                                              )"
   ]
  },
  {
   "cell_type": "markdown",
   "id": "c4654706",
   "metadata": {},
   "source": [
    "### Visualization\n",
    "\n",
    "We can use the `pvals` and `scores`outputs to visualize the results as a Dot Plot:"
   ]
  },
  {
   "cell_type": "code",
   "execution_count": 11,
   "id": "587f2ede",
   "metadata": {},
   "outputs": [
    {
     "data": {
      "image/png": "[encoded data removed]",
      "text/plain": [
       "<Figure size 648x1296 with 3 Axes>"
      ]
     },
     "metadata": {},
     "output_type": "display_data"
    }
   ],
   "source": [
    "with sns.axes_style(\"darkgrid\"):\n",
    "    dotplot = c2c.plotting.pval_plot.generate_dot_plot(pval_df=pvals,\n",
    "                                                       score_df=scores,\n",
    "                                                       significance=0.05,\n",
    "                                                       xlabel='',\n",
    "                                                       ylabel='{} Annotations'.format(pathwaydb),\n",
    "                                                       cbar_title='NES',\n",
    "                                                       cmap='PuOr',\n",
    "                                                       figsize=(9, 18),\n",
    "                                                       label_size=20,\n",
    "                                                       title_size=20,\n",
    "                                                       tick_size=12,\n",
    "                                                       filename=output_folder + '/GSEA-Dotplot.pdf'\n",
    "                                                      )"
   ]
  },
  {
   "cell_type": "markdown",
   "id": "8eb5cea3",
   "metadata": {},
   "source": [
    "**Similarly, we can use gsea_df to easily see the Enriched Pathways**"
   ]
  },
  {
   "cell_type": "code",
   "execution_count": 12,
   "id": "136e6817",
   "metadata": {},
   "outputs": [
    {
     "data": {
      "text/html": [
       "<div>\n",
       "<style scoped>\n",
       "    .dataframe tbody tr th:only-of-type {\n",
       "        vertical-align: middle;\n",
       "    }\n",
       "\n",
       "    .dataframe tbody tr th {\n",
       "        vertical-align: top;\n",
       "    }\n",
       "\n",
       "    .dataframe thead th {\n",
       "        text-align: right;\n",
       "    }\n",
       "</style>\n",
       "<table border=\"1\" class=\"dataframe\">\n",
       "  <thead>\n",
       "    <tr style=\"text-align: right;\">\n",
       "      <th></th>\n",
       "      <th>Factor</th>\n",
       "      <th>Term</th>\n",
       "      <th>NES</th>\n",
       "      <th>P-value</th>\n",
       "      <th>Adj. P-value</th>\n",
       "    </tr>\n",
       "  </thead>\n",
       "  <tbody>\n",
       "    <tr>\n",
       "      <th>0</th>\n",
       "      <td>Factor 2</td>\n",
       "      <td>ANTIGEN PROCESSING AND PRESENTATION</td>\n",
       "      <td>1.476460</td>\n",
       "      <td>0.001000</td>\n",
       "      <td>0.012012</td>\n",
       "    </tr>\n",
       "    <tr>\n",
       "      <th>32</th>\n",
       "      <td>Factor 4</td>\n",
       "      <td>ANTIGEN PROCESSING AND PRESENTATION</td>\n",
       "      <td>1.465111</td>\n",
       "      <td>0.001000</td>\n",
       "      <td>0.012012</td>\n",
       "    </tr>\n",
       "    <tr>\n",
       "      <th>33</th>\n",
       "      <td>Factor 4</td>\n",
       "      <td>CELL ADHESION MOLECULES CAMS</td>\n",
       "      <td>1.363516</td>\n",
       "      <td>0.001000</td>\n",
       "      <td>0.012012</td>\n",
       "    </tr>\n",
       "    <tr>\n",
       "      <th>48</th>\n",
       "      <td>Factor 5</td>\n",
       "      <td>ANTIGEN PROCESSING AND PRESENTATION</td>\n",
       "      <td>1.259732</td>\n",
       "      <td>0.001000</td>\n",
       "      <td>0.012012</td>\n",
       "    </tr>\n",
       "    <tr>\n",
       "      <th>64</th>\n",
       "      <td>Factor 6</td>\n",
       "      <td>GRAFT VERSUS HOST DISEASE</td>\n",
       "      <td>1.393795</td>\n",
       "      <td>0.001000</td>\n",
       "      <td>0.012012</td>\n",
       "    </tr>\n",
       "    <tr>\n",
       "      <th>65</th>\n",
       "      <td>Factor 6</td>\n",
       "      <td>NATURAL KILLER CELL MEDIATED CYTOTOXICITY</td>\n",
       "      <td>1.371320</td>\n",
       "      <td>0.001001</td>\n",
       "      <td>0.012012</td>\n",
       "    </tr>\n",
       "    <tr>\n",
       "      <th>66</th>\n",
       "      <td>Factor 6</td>\n",
       "      <td>ANTIGEN PROCESSING AND PRESENTATION</td>\n",
       "      <td>1.266823</td>\n",
       "      <td>0.001000</td>\n",
       "      <td>0.012012</td>\n",
       "    </tr>\n",
       "    <tr>\n",
       "      <th>67</th>\n",
       "      <td>Factor 6</td>\n",
       "      <td>CHEMOKINE SIGNALING PATHWAY</td>\n",
       "      <td>1.265518</td>\n",
       "      <td>0.001001</td>\n",
       "      <td>0.012012</td>\n",
       "    </tr>\n",
       "    <tr>\n",
       "      <th>80</th>\n",
       "      <td>Factor 7</td>\n",
       "      <td>CELL ADHESION MOLECULES CAMS</td>\n",
       "      <td>1.272371</td>\n",
       "      <td>0.001001</td>\n",
       "      <td>0.012012</td>\n",
       "    </tr>\n",
       "    <tr>\n",
       "      <th>81</th>\n",
       "      <td>Factor 7</td>\n",
       "      <td>ANTIGEN PROCESSING AND PRESENTATION</td>\n",
       "      <td>1.268648</td>\n",
       "      <td>0.001000</td>\n",
       "      <td>0.012012</td>\n",
       "    </tr>\n",
       "    <tr>\n",
       "      <th>96</th>\n",
       "      <td>Factor 8</td>\n",
       "      <td>CELL ADHESION MOLECULES CAMS</td>\n",
       "      <td>1.339328</td>\n",
       "      <td>0.001000</td>\n",
       "      <td>0.012012</td>\n",
       "    </tr>\n",
       "    <tr>\n",
       "      <th>97</th>\n",
       "      <td>Factor 8</td>\n",
       "      <td>ANTIGEN PROCESSING AND PRESENTATION</td>\n",
       "      <td>1.313651</td>\n",
       "      <td>0.001000</td>\n",
       "      <td>0.012012</td>\n",
       "    </tr>\n",
       "  </tbody>\n",
       "</table>\n",
       "</div>"
      ],
      "text/plain": [
       "      Factor                                       Term       NES   P-value  \\\n",
       "0   Factor 2        ANTIGEN PROCESSING AND PRESENTATION  1.476460  0.001000   \n",
       "32  Factor 4        ANTIGEN PROCESSING AND PRESENTATION  1.465111  0.001000   \n",
       "33  Factor 4               CELL ADHESION MOLECULES CAMS  1.363516  0.001000   \n",
       "48  Factor 5        ANTIGEN PROCESSING AND PRESENTATION  1.259732  0.001000   \n",
       "64  Factor 6                  GRAFT VERSUS HOST DISEASE  1.393795  0.001000   \n",
       "65  Factor 6  NATURAL KILLER CELL MEDIATED CYTOTOXICITY  1.371320  0.001001   \n",
       "66  Factor 6        ANTIGEN PROCESSING AND PRESENTATION  1.266823  0.001000   \n",
       "67  Factor 6                CHEMOKINE SIGNALING PATHWAY  1.265518  0.001001   \n",
       "80  Factor 7               CELL ADHESION MOLECULES CAMS  1.272371  0.001001   \n",
       "81  Factor 7        ANTIGEN PROCESSING AND PRESENTATION  1.268648  0.001000   \n",
       "96  Factor 8               CELL ADHESION MOLECULES CAMS  1.339328  0.001000   \n",
       "97  Factor 8        ANTIGEN PROCESSING AND PRESENTATION  1.313651  0.001000   \n",
       "\n",
       "    Adj. P-value  \n",
       "0       0.012012  \n",
       "32      0.012012  \n",
       "33      0.012012  \n",
       "48      0.012012  \n",
       "64      0.012012  \n",
       "65      0.012012  \n",
       "66      0.012012  \n",
       "67      0.012012  \n",
       "80      0.012012  \n",
       "81      0.012012  \n",
       "96      0.012012  \n",
       "97      0.012012  "
      ]
     },
     "execution_count": 12,
     "metadata": {},
     "output_type": "execute_result"
    }
   ],
   "source": [
    "gsea_df.loc[(gsea_df['Adj. P-value'] < 0.05) & (gsea_df['NES'] > 0.)]"
   ]
  },
  {
   "cell_type": "markdown",
   "id": "c0f19de0",
   "metadata": {},
   "source": [
    "**And Depleted Pathways**"
   ]
  },
  {
   "cell_type": "code",
   "execution_count": 13,
   "id": "94dc00a9",
   "metadata": {},
   "outputs": [
    {
     "data": {
      "text/html": [
       "<div>\n",
       "<style scoped>\n",
       "    .dataframe tbody tr th:only-of-type {\n",
       "        vertical-align: middle;\n",
       "    }\n",
       "\n",
       "    .dataframe tbody tr th {\n",
       "        vertical-align: top;\n",
       "    }\n",
       "\n",
       "    .dataframe thead th {\n",
       "        text-align: right;\n",
       "    }\n",
       "</style>\n",
       "<table border=\"1\" class=\"dataframe\">\n",
       "  <thead>\n",
       "    <tr style=\"text-align: right;\">\n",
       "      <th></th>\n",
       "      <th>Factor</th>\n",
       "      <th>Term</th>\n",
       "      <th>NES</th>\n",
       "      <th>P-value</th>\n",
       "      <th>Adj. P-value</th>\n",
       "    </tr>\n",
       "  </thead>\n",
       "  <tbody>\n",
       "  </tbody>\n",
       "</table>\n",
       "</div>"
      ],
      "text/plain": [
       "Empty DataFrame\n",
       "Columns: [Factor, Term, NES, P-value, Adj. P-value]\n",
       "Index: []"
      ]
     },
     "execution_count": 13,
     "metadata": {},
     "output_type": "execute_result"
    }
   ],
   "source": [
    "gsea_df.loc[(gsea_df['Adj. P-value'] < 0.05) & (gsea_df['NES'] < 0.)]"
   ]
  },
  {
   "cell_type": "markdown",
   "id": "56fd5694",
   "metadata": {},
   "source": [
    "## Footprint Enrichment"
   ]
  },
  {
   "cell_type": "markdown",
   "id": "ad5bb159",
   "metadata": {},
   "source": [
    "Footprint enrichment analysis build upon classic geneset enrichment analysis, as instead of considering the genes involved in a biological activity, they consider the genes affected by the activity, or in other words the genes that change downstream of said activity [(Dugourd and Saez-Rodriguez, 2019)](https://www.sciencedirect.com/science/article/pii/S2452310019300149). This is particularly useful when working with transcriptomics data, as it allows to identify the genes that are regulated by a biological process, instead of the genes that are part of the process. In this case, we will use the PROGENy pathway resource to perform footprint enrichment analysis. PROGENy was built in a data-driven manner using perturbation and cancer lineage data [(Schubert et al, 2019)](https://www.nature.com/articles/s41467-017-02391-6#Sec8), as a consequence it also assigns different importances or weights to each gene in its pathway genesets.\n",
    "\n",
    "To this end, we need an enrichment method that can take weights into account, and here we will use multi-variate linear models from the `decoupler-py` package to perform this analysis [(Badia-i-Mompel et al., 2022)](https://academic.oup.com/bioinformaticsadvances/article/2/1/vbac016/6544613)."
   ]
  },
  {
   "cell_type": "markdown",
   "id": "ca5209d4",
   "metadata": {},
   "source": [
    "###  load the PROGENy pathway resource:"
   ]
  },
  {
   "cell_type": "code",
   "execution_count": 15,
   "id": "68972dfc",
   "metadata": {},
   "outputs": [],
   "source": [
    "net = dc.get_progeny(organism='human', top=5000)"
   ]
  },
  {
   "cell_type": "markdown",
   "id": "bac3fcc0",
   "metadata": {},
   "source": [
    "Now we will use the PROGENy genesets to assign pathways and weights to the ligand-receptor pairs in liana's consensus resource. Specifically, we will use the weighted bipartite networks from PROGENy, where the weight represents the importance of the genes to a given geneset, and assign a weight to each ligand-receptor interaction, based on the mean of the weights of the proteins in that ligand-receptor interaction. We keep only ligand-receptor weights only if all the protein in the ligand-receptor interaction are present for a given pathway, and are sign-coherent."
   ]
  },
  {
   "cell_type": "code",
   "execution_count": 16,
   "id": "25731683",
   "metadata": {},
   "outputs": [
    {
     "data": {
      "text/html": [
       "<div>\n",
       "<style scoped>\n",
       "    .dataframe tbody tr th:only-of-type {\n",
       "        vertical-align: middle;\n",
       "    }\n",
       "\n",
       "    .dataframe tbody tr th {\n",
       "        vertical-align: top;\n",
       "    }\n",
       "\n",
       "    .dataframe thead th {\n",
       "        text-align: right;\n",
       "    }\n",
       "</style>\n",
       "<table border=\"1\" class=\"dataframe\">\n",
       "  <thead>\n",
       "    <tr style=\"text-align: right;\">\n",
       "      <th></th>\n",
       "      <th>source</th>\n",
       "      <th>interaction</th>\n",
       "      <th>weight</th>\n",
       "    </tr>\n",
       "  </thead>\n",
       "  <tbody>\n",
       "    <tr>\n",
       "      <th>1</th>\n",
       "      <td>JAK-STAT</td>\n",
       "      <td>LGALS9^PTPRC</td>\n",
       "      <td>1.307807</td>\n",
       "    </tr>\n",
       "    <tr>\n",
       "      <th>74</th>\n",
       "      <td>Androgen</td>\n",
       "      <td>SEMA4D^MET</td>\n",
       "      <td>-0.831693</td>\n",
       "    </tr>\n",
       "    <tr>\n",
       "      <th>90</th>\n",
       "      <td>Androgen</td>\n",
       "      <td>HGF^MET</td>\n",
       "      <td>-1.288956</td>\n",
       "    </tr>\n",
       "    <tr>\n",
       "      <th>106</th>\n",
       "      <td>Androgen</td>\n",
       "      <td>TIMP3^MET</td>\n",
       "      <td>-1.122612</td>\n",
       "    </tr>\n",
       "    <tr>\n",
       "      <th>151</th>\n",
       "      <td>NFkB</td>\n",
       "      <td>SELE^CD44</td>\n",
       "      <td>3.332552</td>\n",
       "    </tr>\n",
       "  </tbody>\n",
       "</table>\n",
       "</div>"
      ],
      "text/plain": [
       "       source   interaction    weight\n",
       "1    JAK-STAT  LGALS9^PTPRC  1.307807\n",
       "74   Androgen    SEMA4D^MET -0.831693\n",
       "90   Androgen       HGF^MET -1.288956\n",
       "106  Androgen     TIMP3^MET -1.122612\n",
       "151      NFkB     SELE^CD44  3.332552"
      ]
     },
     "execution_count": 16,
     "metadata": {},
     "output_type": "execute_result"
    }
   ],
   "source": [
    "lr_progeny = li.funcomics.generate_lr_geneset(lr_pairs, net, lr_separator=\"^\")\n",
    "lr_progeny.head()"
   ]
  },
  {
   "cell_type": "markdown",
   "id": "2d7909a0",
   "metadata": {},
   "source": [
    "### Run footprint enrichment analysis"
   ]
  },
  {
   "cell_type": "markdown",
   "id": "536c29e1",
   "metadata": {},
   "source": [
    "We will now use the `decoupler-py` package to perform the analysis."
   ]
  },
  {
   "cell_type": "code",
   "execution_count": 17,
   "id": "358b2ddb",
   "metadata": {},
   "outputs": [],
   "source": [
    "estimate, pvals =  dc.run_mlm(lr_loadings.transpose(), lr_progeny, source=\"source\", target=\"interaction\", use_raw=False)"
   ]
  },
  {
   "cell_type": "markdown",
   "id": "3ae118e0",
   "metadata": {},
   "source": [
    "### Visualize Results"
   ]
  },
  {
   "cell_type": "code",
   "execution_count": 18,
   "id": "88645855",
   "metadata": {},
   "outputs": [
    {
     "data": {
      "image/png": "[encoded data removed]",
      "text/plain": [
       "<Figure size 720x720 with 4 Axes>"
      ]
     },
     "metadata": {
      "needs_background": "light"
     },
     "output_type": "display_data"
    }
   ],
   "source": [
    "sns.clustermap(estimate, xticklabels=estimate.columns, cmap='coolwarm', z_score=4)\n",
    "plt.savefig(output_folder + '/PROGENy.pdf', dpi=300, bbox_inches='tight')"
   ]
  },
  {
   "cell_type": "markdown",
   "id": "69a55f24",
   "metadata": {},
   "source": [
    "Let's zoom in on Factor 6, which is associated with COVID-19 cases. "
   ]
  },
  {
   "cell_type": "code",
   "execution_count": 19,
   "id": "bddfc7d3",
   "metadata": {},
   "outputs": [],
   "source": [
    "selected_factor = 'Factor 6'"
   ]
  },
  {
   "cell_type": "code",
   "execution_count": 20,
   "id": "c84985d0",
   "metadata": {},
   "outputs": [
    {
     "data": {
      "image/png": "[encoded data removed]",
      "text/plain": [
       "<Figure size 700x500 with 2 Axes>"
      ]
     },
     "metadata": {
      "needs_background": "light"
     },
     "output_type": "display_data"
    }
   ],
   "source": [
    "dc.plot_barplot(estimate, selected_factor, vertical=True, cmap='coolwarm',\n",
    "                save=output_folder + '/PROGENy-{}.pdf'.format(selected_factor.replace(' ', '-'))\n",
    "               )"
   ]
  },
  {
   "cell_type": "markdown",
   "id": "d94507d7",
   "metadata": {},
   "source": [
    "From the plots above, we can see that the NFkB pathway is active and highly active in Factor 6. This is also concordant with the KEGG pathways associated with the chemokine and cytotoxic response from the analysis with GSEA above. Indeed, the tensor decomposition results indicate that NKs and T cells are the main sender cells in this factor. So, let's see which ligand-receptor pairs are enriched in this pathway."
   ]
  },
  {
   "cell_type": "code",
   "execution_count": 21,
   "id": "fce94e3b",
   "metadata": {},
   "outputs": [
    {
     "data": {
      "text/html": [
       "<div>\n",
       "<style scoped>\n",
       "    .dataframe tbody tr th:only-of-type {\n",
       "        vertical-align: middle;\n",
       "    }\n",
       "\n",
       "    .dataframe tbody tr th {\n",
       "        vertical-align: top;\n",
       "    }\n",
       "\n",
       "    .dataframe thead th {\n",
       "        text-align: right;\n",
       "    }\n",
       "</style>\n",
       "<table border=\"1\" class=\"dataframe\">\n",
       "  <thead>\n",
       "    <tr style=\"text-align: right;\">\n",
       "      <th></th>\n",
       "      <th>interaction</th>\n",
       "      <th>Factor</th>\n",
       "      <th>Loadings</th>\n",
       "      <th>source</th>\n",
       "      <th>weight</th>\n",
       "      <th>sign</th>\n",
       "      <th>relevant_interactions</th>\n",
       "    </tr>\n",
       "  </thead>\n",
       "  <tbody>\n",
       "    <tr>\n",
       "      <th>171</th>\n",
       "      <td>ADAM17^ITGA5</td>\n",
       "      <td>Factor 6</td>\n",
       "      <td>1.756948e-39</td>\n",
       "      <td>NFkB</td>\n",
       "      <td>1.961245</td>\n",
       "      <td>positive</td>\n",
       "      <td>None</td>\n",
       "    </tr>\n",
       "    <tr>\n",
       "      <th>226</th>\n",
       "      <td>ADAM17^MUC1</td>\n",
       "      <td>Factor 6</td>\n",
       "      <td>8.227501e-05</td>\n",
       "      <td>NFkB</td>\n",
       "      <td>1.680033</td>\n",
       "      <td>positive</td>\n",
       "      <td>None</td>\n",
       "    </tr>\n",
       "    <tr>\n",
       "      <th>260</th>\n",
       "      <td>ADAM17^RHBDF2</td>\n",
       "      <td>Factor 6</td>\n",
       "      <td>0.000000e+00</td>\n",
       "      <td>NFkB</td>\n",
       "      <td>2.274298</td>\n",
       "      <td>positive</td>\n",
       "      <td>None</td>\n",
       "    </tr>\n",
       "    <tr>\n",
       "      <th>311</th>\n",
       "      <td>ADM^ACKR3</td>\n",
       "      <td>Factor 6</td>\n",
       "      <td>1.704504e-02</td>\n",
       "      <td>NFkB</td>\n",
       "      <td>3.507252</td>\n",
       "      <td>positive</td>\n",
       "      <td>None</td>\n",
       "    </tr>\n",
       "    <tr>\n",
       "      <th>335</th>\n",
       "      <td>ADM^GPR84</td>\n",
       "      <td>Factor 6</td>\n",
       "      <td>6.204670e-02</td>\n",
       "      <td>NFkB</td>\n",
       "      <td>5.392048</td>\n",
       "      <td>positive</td>\n",
       "      <td>ADM^GPR84</td>\n",
       "    </tr>\n",
       "  </tbody>\n",
       "</table>\n",
       "</div>"
      ],
      "text/plain": [
       "       interaction    Factor      Loadings source    weight      sign  \\\n",
       "171   ADAM17^ITGA5  Factor 6  1.756948e-39   NFkB  1.961245  positive   \n",
       "226    ADAM17^MUC1  Factor 6  8.227501e-05   NFkB  1.680033  positive   \n",
       "260  ADAM17^RHBDF2  Factor 6  0.000000e+00   NFkB  2.274298  positive   \n",
       "311      ADM^ACKR3  Factor 6  1.704504e-02   NFkB  3.507252  positive   \n",
       "335      ADM^GPR84  Factor 6  6.204670e-02   NFkB  5.392048  positive   \n",
       "\n",
       "    relevant_interactions  \n",
       "171                  None  \n",
       "226                  None  \n",
       "260                  None  \n",
       "311                  None  \n",
       "335             ADM^GPR84  "
      ]
     },
     "execution_count": 21,
     "metadata": {},
     "output_type": "execute_result"
    }
   ],
   "source": [
    "# loadings to long format\n",
    "lr_loadings_long = lr_loadings.reset_index().melt(id_vars='index', var_name=\"Factor\", value_name=\"Loadings\").rename(columns={'index':'interaction'})\n",
    "# join progeny weights and keep only NFkB pathway\n",
    "lr_loadings_long = lr_loadings_long.merge(lr_progeny, on='interaction').query(\"source == 'NFkB' and Factor == '{}'\".format(selected_factor))\n",
    "# add sign to the weights\n",
    "lr_loadings_long['sign'] = lr_loadings_long['weight'].apply(lambda x: 'positive' if x > 0 else 'negative')\n",
    "# keep only relevant interactions for labels\n",
    "lr_loadings_long['relevant_interactions'] = lr_loadings_long.apply(lambda x: x['interaction'] if (x['Loadings'] > 0.025) and (x['weight'] > 2.5) else None, axis=1)\n",
    "lr_loadings_long.head()"
   ]
  },
  {
   "cell_type": "markdown",
   "id": "593583eb",
   "metadata": {},
   "source": [
    "#### plot the loadings for Factor 6 and weights of the NFkB pathway"
   ]
  },
  {
   "cell_type": "code",
   "execution_count": 22,
   "id": "c72b3e73",
   "metadata": {},
   "outputs": [
    {
     "data": {
      "image/png": "[encoded data removed]",
      "text/plain": [
       "<Figure size 640x480 with 1 Axes>"
      ]
     },
     "metadata": {},
     "output_type": "display_data"
    },
    {
     "data": {
      "text/plain": [
       "<ggplot: (8761803524313)>"
      ]
     },
     "execution_count": 22,
     "metadata": {},
     "output_type": "execute_result"
    }
   ],
   "source": [
    "(p9.ggplot(lr_loadings_long,\n",
    "           p9.aes(x='weight', y='Loadings')) +\n",
    " p9.geom_smooth(method='lm') + \n",
    " p9.geom_point(p9.aes(colour='sign')) +\n",
    " p9.theme_bw() +\n",
    " p9.theme(legend_position='none') +\n",
    " p9.labs(title=\"NFkB | {}\".format(selected_factor), x=\"PROGENy Weights\", y=\"Loadings\") +\n",
    " p9.scale_colour_manual(values=[\"royalblue\", \"red\"]) +\n",
    " p9.geom_label(p9.aes(label='relevant_interactions'), size=8, nudge_y=0.01, nudge_x=0.01) + \n",
    " p9.xlim(-1, 8.5)\n",
    " )"
   ]
  },
  {
   "cell_type": "markdown",
   "id": "acb3c5e7",
   "metadata": {},
   "source": [
    "Here, we can see that for example the `C3 -> IFITM1` and `VEGFA -> CD44` are interactions found with high importances in the NFkB pathway, and high loadings. Also IFITM1 is involved in restricting viral infection (https://doi.org/10.15252/embj.2020106501), which in this case could represent the immune response controling the SARS-CoV-2 infection."
   ]
  },
  {
   "cell_type": "code",
   "execution_count": null,
   "id": "57f32df1",
   "metadata": {},
   "outputs": [],
   "source": []
  }
 ],
 "metadata": {
  "kernelspec": {
   "display_name": "Python 3 (ipykernel)",
   "language": "python",
   "name": "python3"
  },
  "language_info": {
   "codemirror_mode": {
    "name": "ipython",
    "version": 3
   },
   "file_extension": ".py",
   "mimetype": "text/x-python",
   "name": "python",
   "nbconvert_exporter": "python",
   "pygments_lexer": "ipython3",
   "version": "3.8.8 (default, Apr 13 2021, 19:58:26) \n[GCC 7.3.0]"
  },
  "vscode": {
   "interpreter": {
    "hash": "a89d9df9e41c144bbb86b791904f32fb0efeb7b488a88d676a8bce57017c9696"
   }
  }
 },
 "nbformat": 4,
 "nbformat_minor": 5
}
